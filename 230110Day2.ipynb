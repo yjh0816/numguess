{
  "nbformat": 4,
  "nbformat_minor": 0,
  "metadata": {
    "colab": {
      "provenance": [],
      "authorship_tag": "ABX9TyN/vNXt6LIbQM9gPBIL7uZV",
      "include_colab_link": true
    },
    "kernelspec": {
      "name": "python3",
      "display_name": "Python 3"
    },
    "language_info": {
      "name": "python"
    }
  },
  "cells": [
    {
      "cell_type": "markdown",
      "metadata": {
        "id": "view-in-github",
        "colab_type": "text"
      },
      "source": [
        "<a href=\"https://colab.research.google.com/github/yjh0816/numguess/blob/main/230110Day2.ipynb\" target=\"_parent\"><img src=\"https://colab.research.google.com/assets/colab-badge.svg\" alt=\"Open In Colab\"/></a>"
      ]
    },
    {
      "cell_type": "markdown",
      "source": [
        "## List"
      ],
      "metadata": {
        "id": "51jFSgZ1yR78"
      }
    },
    {
      "cell_type": "code",
      "execution_count": 1,
      "metadata": {
        "id": "RV_rT_vwvaY_"
      },
      "outputs": [],
      "source": [
        "# List, Tuple 각 자리의 순서가 존재함\n",
        "# Dictionary, Set은 자리(index)라는 표현이 없음\n",
        "\n",
        "# python의 List는 다른 언어에서는 array로 표현되기도 함\n",
        "# List는 자료를 바꿀 수 있지만, Tuple은 한번 선언되면 자료가 고정됨\n",
        "\n",
        "animals = []\n"
      ]
    },
    {
      "cell_type": "code",
      "source": [
        "animals = ['cat','dog','hamster']\n",
        "animals"
      ],
      "metadata": {
        "colab": {
          "base_uri": "https://localhost:8080/"
        },
        "id": "MkB74QXvzQhH",
        "outputId": "bf8c0dfb-1195-49f9-82d9-542955edb664"
      },
      "execution_count": 10,
      "outputs": [
        {
          "output_type": "execute_result",
          "data": {
            "text/plain": [
              "['cat', 'dog', 'hamster']"
            ]
          },
          "metadata": {},
          "execution_count": 10
        }
      ]
    },
    {
      "cell_type": "code",
      "source": [
        "animals.append('lion')\n",
        "animals"
      ],
      "metadata": {
        "colab": {
          "base_uri": "https://localhost:8080/"
        },
        "id": "rOymXqAQzWsE",
        "outputId": "34ca7fb9-f61a-469b-edfc-ff67a4da1518"
      },
      "execution_count": 6,
      "outputs": [
        {
          "output_type": "execute_result",
          "data": {
            "text/plain": [
              "['cat', 'dog', 'hamster', 'lion', 'lion']"
            ]
          },
          "metadata": {},
          "execution_count": 6
        }
      ]
    },
    {
      "cell_type": "code",
      "source": [
        "# Last In First Out: LIFO\n",
        "# dequeue\n",
        "animals.pop()\n",
        "animals"
      ],
      "metadata": {
        "colab": {
          "base_uri": "https://localhost:8080/"
        },
        "id": "b7TfQbx1zwPG",
        "outputId": "23252266-3776-4f87-80b8-0d4cafa5d7c0"
      },
      "execution_count": 9,
      "outputs": [
        {
          "output_type": "execute_result",
          "data": {
            "text/plain": [
              "['cat', 'dog']"
            ]
          },
          "metadata": {},
          "execution_count": 9
        }
      ]
    },
    {
      "cell_type": "code",
      "source": [
        "animals.insert(1,\"tiger\")\n",
        "animals"
      ],
      "metadata": {
        "colab": {
          "base_uri": "https://localhost:8080/"
        },
        "id": "vkQ_cE_Kzz7N",
        "outputId": "e44017de-1ae6-4bf7-bd98-21e1dd4481ee"
      },
      "execution_count": 11,
      "outputs": [
        {
          "output_type": "execute_result",
          "data": {
            "text/plain": [
              "['cat', 'tiger', 'dog', 'hamster']"
            ]
          },
          "metadata": {},
          "execution_count": 11
        }
      ]
    },
    {
      "cell_type": "code",
      "source": [
        "# sort() and sorted()\n",
        "animals.sort()\n",
        "animals"
      ],
      "metadata": {
        "colab": {
          "base_uri": "https://localhost:8080/"
        },
        "id": "M7E-U0_q0LQi",
        "outputId": "2be043fe-60ef-4e34-934b-39581ffcde27"
      },
      "execution_count": 12,
      "outputs": [
        {
          "output_type": "execute_result",
          "data": {
            "text/plain": [
              "['cat', 'dog', 'hamster', 'tiger']"
            ]
          },
          "metadata": {},
          "execution_count": 12
        }
      ]
    },
    {
      "cell_type": "code",
      "source": [
        "numbers = [0.1, -2, 7, 21758, 0]\n",
        "print(numbers)\n",
        "numbers.sort(reverse=True)\n",
        "print(numbers)\n",
        "# js에서는 오름차순 정렬 규칙이 필요함 그냥하면 11과 100에서 첫 1이 같으므로 다음"
      ],
      "metadata": {
        "colab": {
          "base_uri": "https://localhost:8080/"
        },
        "id": "F-pjCSLh0gEM",
        "outputId": "8b6e6121-e83f-4596-9a17-8d0c72684d36"
      },
      "execution_count": 32,
      "outputs": [
        {
          "output_type": "stream",
          "name": "stdout",
          "text": [
            "[0.1, -2, 7, 21758, 0]\n",
            "[21758, 7, 0.1, 0, -2]\n"
          ]
        }
      ]
    },
    {
      "cell_type": "code",
      "source": [
        "numbers.reverse()\n",
        "numbers"
      ],
      "metadata": {
        "colab": {
          "base_uri": "https://localhost:8080/"
        },
        "id": "SAHts44J0wgW",
        "outputId": "53f042f5-cf5c-4381-8198-2f881e484ccc"
      },
      "execution_count": 28,
      "outputs": [
        {
          "output_type": "execute_result",
          "data": {
            "text/plain": [
              "[-2, 0, 0.1, 7, 21758]"
            ]
          },
          "metadata": {},
          "execution_count": 28
        }
      ]
    },
    {
      "cell_type": "code",
      "source": [
        "numbers.index(0)"
      ],
      "metadata": {
        "colab": {
          "base_uri": "https://localhost:8080/"
        },
        "id": "HseJxDu91EJJ",
        "outputId": "bf1cc4b2-94dd-497b-bee5-6c39eca9daff"
      },
      "execution_count": 33,
      "outputs": [
        {
          "output_type": "execute_result",
          "data": {
            "text/plain": [
              "3"
            ]
          },
          "metadata": {},
          "execution_count": 33
        }
      ]
    },
    {
      "cell_type": "code",
      "source": [
        "numbers[:numbers.index(0)]"
      ],
      "metadata": {
        "colab": {
          "base_uri": "https://localhost:8080/"
        },
        "id": "mTy3ZwZR3QYG",
        "outputId": "e4c85b6a-2b44-4e73-ef34-11b4cb21dec7"
      },
      "execution_count": 34,
      "outputs": [
        {
          "output_type": "execute_result",
          "data": {
            "text/plain": [
              "[21758, 7, 0.1]"
            ]
          },
          "metadata": {},
          "execution_count": 34
        }
      ]
    },
    {
      "cell_type": "code",
      "source": [
        "numbers[numbers.index(0)+1:]"
      ],
      "metadata": {
        "colab": {
          "base_uri": "https://localhost:8080/"
        },
        "id": "3couUJdz3dXW",
        "outputId": "598d0275-be17-4e44-df7b-57b0945c0766"
      },
      "execution_count": 35,
      "outputs": [
        {
          "output_type": "execute_result",
          "data": {
            "text/plain": [
              "[-2]"
            ]
          },
          "metadata": {},
          "execution_count": 35
        }
      ]
    },
    {
      "cell_type": "code",
      "source": [
        "animals + numbers"
      ],
      "metadata": {
        "colab": {
          "base_uri": "https://localhost:8080/"
        },
        "id": "GIcLdgUL3fux",
        "outputId": "cd9027b5-467c-4f20-e9b0-da75f64bdef8"
      },
      "execution_count": 36,
      "outputs": [
        {
          "output_type": "execute_result",
          "data": {
            "text/plain": [
              "['cat', 'dog', 'hamster', 'tiger', 21758, 7, 0.1, 0, -2]"
            ]
          },
          "metadata": {},
          "execution_count": 36
        }
      ]
    },
    {
      "cell_type": "code",
      "source": [
        "numbers.extend([2,3,4])\n",
        "numbers"
      ],
      "metadata": {
        "colab": {
          "base_uri": "https://localhost:8080/"
        },
        "id": "SdcDtIZK3zJ_",
        "outputId": "59dc5c92-b69e-4d56-ba62-048506de85e2"
      },
      "execution_count": 38,
      "outputs": [
        {
          "output_type": "execute_result",
          "data": {
            "text/plain": [
              "[21758, 7, 0.1, 0, -2, 2, 3, 4]"
            ]
          },
          "metadata": {},
          "execution_count": 38
        }
      ]
    },
    {
      "cell_type": "code",
      "source": [
        "0 in numbers"
      ],
      "metadata": {
        "colab": {
          "base_uri": "https://localhost:8080/"
        },
        "id": "k_9a4Cf733zx",
        "outputId": "c476be51-16ca-482c-f74f-535918ebdb87"
      },
      "execution_count": 40,
      "outputs": [
        {
          "output_type": "execute_result",
          "data": {
            "text/plain": [
              "True"
            ]
          },
          "metadata": {},
          "execution_count": 40
        }
      ]
    },
    {
      "cell_type": "code",
      "source": [
        "6 in numbers"
      ],
      "metadata": {
        "colab": {
          "base_uri": "https://localhost:8080/"
        },
        "id": "IbCSy-k64YcS",
        "outputId": "8a6e3c0a-3f1c-4e6c-cd54-db3582c51e8b"
      },
      "execution_count": 41,
      "outputs": [
        {
          "output_type": "execute_result",
          "data": {
            "text/plain": [
              "False"
            ]
          },
          "metadata": {},
          "execution_count": 41
        }
      ]
    },
    {
      "cell_type": "code",
      "source": [
        "0 not in numbers"
      ],
      "metadata": {
        "colab": {
          "base_uri": "https://localhost:8080/"
        },
        "id": "9ksXt54x4j92",
        "outputId": "4fee2321-6a95-4280-c90c-f940d7ce11fe"
      },
      "execution_count": 42,
      "outputs": [
        {
          "output_type": "execute_result",
          "data": {
            "text/plain": [
              "False"
            ]
          },
          "metadata": {},
          "execution_count": 42
        }
      ]
    },
    {
      "cell_type": "code",
      "source": [
        "6 not in numbers"
      ],
      "metadata": {
        "colab": {
          "base_uri": "https://localhost:8080/"
        },
        "id": "EbuXv2TX4nwJ",
        "outputId": "8a43da8c-1441-470d-d1ee-a2c02728b01b"
      },
      "execution_count": 43,
      "outputs": [
        {
          "output_type": "execute_result",
          "data": {
            "text/plain": [
              "True"
            ]
          },
          "metadata": {},
          "execution_count": 43
        }
      ]
    },
    {
      "cell_type": "code",
      "source": [
        "result = 1\n",
        "if 0 in numbers:\n",
        "  result *= 0\n",
        "else:\n",
        "  result *= numbers\n",
        "print(result)"
      ],
      "metadata": {
        "colab": {
          "base_uri": "https://localhost:8080/"
        },
        "id": "fPgTTdBZ4o2h",
        "outputId": "80ae5941-df68-4c20-db30-bdc7a62ab9a3"
      },
      "execution_count": 46,
      "outputs": [
        {
          "output_type": "stream",
          "name": "stdout",
          "text": [
            "0\n"
          ]
        }
      ]
    },
    {
      "cell_type": "code",
      "source": [
        "for num in numbers:\n",
        "  if num == 0:\n",
        "    print('0 is in numbers')\n",
        "\n",
        "if 0 in numbers:\n",
        "  print('0 is in numbers')\n",
        "else:\n",
        "  print('0 is not in numbers')"
      ],
      "metadata": {
        "colab": {
          "base_uri": "https://localhost:8080/"
        },
        "id": "7xdfwcz-5AIO",
        "outputId": "9137fc09-b2d9-47d3-e067-13df44912f00"
      },
      "execution_count": 50,
      "outputs": [
        {
          "output_type": "stream",
          "name": "stdout",
          "text": [
            "0 is in numbers\n",
            "0 is in numbers\n"
          ]
        }
      ]
    },
    {
      "cell_type": "markdown",
      "source": [
        "## Tuple"
      ],
      "metadata": {
        "id": "ymBcOrkb5mCB"
      }
    },
    {
      "cell_type": "code",
      "source": [
        "# meaningless tuple example\n",
        "nulls = () \n",
        "nulls.append('hamster')"
      ],
      "metadata": {
        "colab": {
          "base_uri": "https://localhost:8080/",
          "height": 209
        },
        "id": "hVao_5QM5ND2",
        "outputId": "1e816c9e-68c5-4d05-ec12-0eecbc880fde"
      },
      "execution_count": 54,
      "outputs": [
        {
          "output_type": "error",
          "ename": "AttributeError",
          "evalue": "ignored",
          "traceback": [
            "\u001b[0;31m---------------------------------------------------------------------------\u001b[0m",
            "\u001b[0;31mAttributeError\u001b[0m                            Traceback (most recent call last)",
            "\u001b[0;32m<ipython-input-54-2b5430db01d3>\u001b[0m in \u001b[0;36m<module>\u001b[0;34m\u001b[0m\n\u001b[1;32m      1\u001b[0m \u001b[0;31m# meaningless tuple example\u001b[0m\u001b[0;34m\u001b[0m\u001b[0;34m\u001b[0m\u001b[0;34m\u001b[0m\u001b[0m\n\u001b[1;32m      2\u001b[0m \u001b[0mnulls\u001b[0m \u001b[0;34m=\u001b[0m \u001b[0;34m(\u001b[0m\u001b[0;34m)\u001b[0m\u001b[0;34m\u001b[0m\u001b[0;34m\u001b[0m\u001b[0m\n\u001b[0;32m----> 3\u001b[0;31m \u001b[0mnulls\u001b[0m\u001b[0;34m.\u001b[0m\u001b[0mappend\u001b[0m\u001b[0;34m(\u001b[0m\u001b[0;34m'hamster'\u001b[0m\u001b[0;34m)\u001b[0m\u001b[0;34m\u001b[0m\u001b[0;34m\u001b[0m\u001b[0m\n\u001b[0m",
            "\u001b[0;31mAttributeError\u001b[0m: 'tuple' object has no attribute 'append'"
          ]
        }
      ]
    },
    {
      "cell_type": "code",
      "source": [
        "pet = ('cat','dog')\n",
        "del pet[1]"
      ],
      "metadata": {
        "colab": {
          "base_uri": "https://localhost:8080/",
          "height": 190
        },
        "id": "bAgVX2-G5t4A",
        "outputId": "e745e559-9e59-4e50-d1e6-f150d3c4ce27"
      },
      "execution_count": 55,
      "outputs": [
        {
          "output_type": "error",
          "ename": "TypeError",
          "evalue": "ignored",
          "traceback": [
            "\u001b[0;31m---------------------------------------------------------------------------\u001b[0m",
            "\u001b[0;31mTypeError\u001b[0m                                 Traceback (most recent call last)",
            "\u001b[0;32m<ipython-input-55-f1784f76cee7>\u001b[0m in \u001b[0;36m<module>\u001b[0;34m\u001b[0m\n\u001b[1;32m      1\u001b[0m \u001b[0mpet\u001b[0m \u001b[0;34m=\u001b[0m \u001b[0;34m(\u001b[0m\u001b[0;34m'cat'\u001b[0m\u001b[0;34m,\u001b[0m\u001b[0;34m'dog'\u001b[0m\u001b[0;34m)\u001b[0m\u001b[0;34m\u001b[0m\u001b[0;34m\u001b[0m\u001b[0m\n\u001b[0;32m----> 2\u001b[0;31m \u001b[0;32mdel\u001b[0m \u001b[0mpet\u001b[0m\u001b[0;34m[\u001b[0m\u001b[0;36m1\u001b[0m\u001b[0;34m]\u001b[0m\u001b[0;34m\u001b[0m\u001b[0;34m\u001b[0m\u001b[0m\n\u001b[0m",
            "\u001b[0;31mTypeError\u001b[0m: 'tuple' object doesn't support item deletion"
          ]
        }
      ]
    },
    {
      "cell_type": "code",
      "source": [
        "# 고정해놓고 참조만 하는 자료형, 주로 기능을 내놓을때 사용\n",
        "pet"
      ],
      "metadata": {
        "colab": {
          "base_uri": "https://localhost:8080/"
        },
        "id": "t0ZpPLly6Mne",
        "outputId": "bc9748ea-69d0-4852-d06c-56902c4b1b67"
      },
      "execution_count": 56,
      "outputs": [
        {
          "output_type": "execute_result",
          "data": {
            "text/plain": [
              "('cat', 'dog')"
            ]
          },
          "metadata": {},
          "execution_count": 56
        }
      ]
    },
    {
      "cell_type": "code",
      "source": [
        "animals = ('tiger','lion')\n",
        "pet + animals"
      ],
      "metadata": {
        "colab": {
          "base_uri": "https://localhost:8080/"
        },
        "id": "0EcPq_2y6dQc",
        "outputId": "f340f9ee-aaae-488d-a473-06f17900d8ea"
      },
      "execution_count": 58,
      "outputs": [
        {
          "output_type": "execute_result",
          "data": {
            "text/plain": [
              "('cat', 'dog', 'tiger', 'lion')"
            ]
          },
          "metadata": {},
          "execution_count": 58
        }
      ]
    },
    {
      "cell_type": "code",
      "source": [
        "pet*3"
      ],
      "metadata": {
        "colab": {
          "base_uri": "https://localhost:8080/"
        },
        "id": "pAu-I2We6mbH",
        "outputId": "edb3fe93-0521-479b-cebc-a0c91848e5fb"
      },
      "execution_count": 60,
      "outputs": [
        {
          "output_type": "execute_result",
          "data": {
            "text/plain": [
              "('cat', 'dog', 'cat', 'dog', 'cat', 'dog')"
            ]
          },
          "metadata": {},
          "execution_count": 60
        }
      ]
    },
    {
      "cell_type": "code",
      "source": [
        "x = 1\n",
        "y = -1\n",
        "print(x, y)\n",
        "\n",
        "temp = x\n",
        "x = y\n",
        "y = temp\n",
        "print(x, y)"
      ],
      "metadata": {
        "colab": {
          "base_uri": "https://localhost:8080/"
        },
        "id": "ahn7larI6rPk",
        "outputId": "2afd4579-2204-4e91-99fe-a2a88541b7eb"
      },
      "execution_count": 61,
      "outputs": [
        {
          "output_type": "stream",
          "name": "stdout",
          "text": [
            "1 -1\n",
            "-1 1\n"
          ]
        }
      ]
    },
    {
      "cell_type": "code",
      "source": [
        "x = 1\n",
        "y = -1\n",
        "print(x, y)\n",
        "\n",
        "# x,y자리를 바꿀 때 tuple을 사용\n",
        "(x,y) = (y,x)\n",
        "print(x, y) # print()일뿐 tuple이 아님 오해금지"
      ],
      "metadata": {
        "colab": {
          "base_uri": "https://localhost:8080/"
        },
        "id": "3C_dC5Fv6416",
        "outputId": "54aa85f6-8afa-490c-a216-54baafc065d9"
      },
      "execution_count": 65,
      "outputs": [
        {
          "output_type": "stream",
          "name": "stdout",
          "text": [
            "1 -1\n",
            "-1 1\n"
          ]
        }
      ]
    },
    {
      "cell_type": "code",
      "source": [
        "# 여러개의 값을 반환할때 tuple을 많이 사용"
      ],
      "metadata": {
        "id": "8378hqCT7LHm"
      },
      "execution_count": null,
      "outputs": []
    },
    {
      "cell_type": "code",
      "source": [
        "pet"
      ],
      "metadata": {
        "colab": {
          "base_uri": "https://localhost:8080/"
        },
        "id": "PbZDivZj79gO",
        "outputId": "e6a889c0-1752-42de-b902-056e95b564e5"
      },
      "execution_count": 66,
      "outputs": [
        {
          "output_type": "execute_result",
          "data": {
            "text/plain": [
              "('cat', 'dog')"
            ]
          },
          "metadata": {},
          "execution_count": 66
        }
      ]
    },
    {
      "cell_type": "code",
      "source": [
        "pet = list(pet)"
      ],
      "metadata": {
        "id": "nSM5u3_e7-wv"
      },
      "execution_count": 67,
      "outputs": []
    },
    {
      "cell_type": "code",
      "source": [
        "type(pet)"
      ],
      "metadata": {
        "colab": {
          "base_uri": "https://localhost:8080/"
        },
        "id": "TpaMqJN48Cly",
        "outputId": "0874fecd-8aec-4f99-a626-1428c774704b"
      },
      "execution_count": 68,
      "outputs": [
        {
          "output_type": "execute_result",
          "data": {
            "text/plain": [
              "list"
            ]
          },
          "metadata": {},
          "execution_count": 68
        }
      ]
    },
    {
      "cell_type": "code",
      "source": [
        "pet"
      ],
      "metadata": {
        "colab": {
          "base_uri": "https://localhost:8080/"
        },
        "id": "UeE7Sgbx8GXd",
        "outputId": "be2a603b-b105-4b2a-95d7-59ec7d8874fa"
      },
      "execution_count": 69,
      "outputs": [
        {
          "output_type": "execute_result",
          "data": {
            "text/plain": [
              "['cat', 'dog']"
            ]
          },
          "metadata": {},
          "execution_count": 69
        }
      ]
    },
    {
      "cell_type": "code",
      "source": [
        "pet.append('lion')\n",
        "pet.sort()\n",
        "pet"
      ],
      "metadata": {
        "colab": {
          "base_uri": "https://localhost:8080/"
        },
        "id": "XwiQfHUF8IaZ",
        "outputId": "58ce8816-d9e6-4c22-abcb-7fd561ff2c90"
      },
      "execution_count": 70,
      "outputs": [
        {
          "output_type": "execute_result",
          "data": {
            "text/plain": [
              "['cat', 'dog', 'lion']"
            ]
          },
          "metadata": {},
          "execution_count": 70
        }
      ]
    },
    {
      "cell_type": "code",
      "source": [
        "pet = tuple(pet)\n",
        "type(pet)"
      ],
      "metadata": {
        "colab": {
          "base_uri": "https://localhost:8080/"
        },
        "id": "aIlWNAU98Ni_",
        "outputId": "5866b165-a426-4b46-f2d2-281875af7886"
      },
      "execution_count": 71,
      "outputs": [
        {
          "output_type": "execute_result",
          "data": {
            "text/plain": [
              "tuple"
            ]
          },
          "metadata": {},
          "execution_count": 71
        }
      ]
    },
    {
      "cell_type": "code",
      "source": [
        "pet"
      ],
      "metadata": {
        "colab": {
          "base_uri": "https://localhost:8080/"
        },
        "id": "R1iDQNGd8RAG",
        "outputId": "31525a6f-a6d5-4736-cd1d-ca6dded76671"
      },
      "execution_count": 72,
      "outputs": [
        {
          "output_type": "execute_result",
          "data": {
            "text/plain": [
              "('cat', 'dog', 'lion')"
            ]
          },
          "metadata": {},
          "execution_count": 72
        }
      ]
    },
    {
      "cell_type": "code",
      "source": [
        "print(numbers)\n",
        "print(numbers[3])\n",
        "print(numbers[0:3])\n",
        "print(numbers[0:5:2])"
      ],
      "metadata": {
        "colab": {
          "base_uri": "https://localhost:8080/"
        },
        "id": "mU2nz3Nm8SGQ",
        "outputId": "b1350fec-7afe-4e9a-eeea-a47d80434f5f"
      },
      "execution_count": 77,
      "outputs": [
        {
          "output_type": "stream",
          "name": "stdout",
          "text": [
            "[21758, 7, 0.1, 0, -2, 2, 3, 4]\n",
            "0\n",
            "[21758, 7, 0.1]\n",
            "[21758, 0.1, -2]\n"
          ]
        }
      ]
    },
    {
      "cell_type": "markdown",
      "source": [
        "## Practice(1) - list"
      ],
      "metadata": {
        "id": "Saec3GU9ADgi"
      }
    },
    {
      "cell_type": "code",
      "source": [
        "animals = ['rabbit','cat','dog','aligator','tiger','lion']\n",
        "animals.extend(['hamster','cow','mouse'])\n",
        "# animals.append() is possible\n",
        "# list1 + list2 is possible"
      ],
      "metadata": {
        "id": "gpJ-_QQM_fbr"
      },
      "execution_count": 78,
      "outputs": []
    },
    {
      "cell_type": "code",
      "source": [
        "animals.sort(reverse=True)"
      ],
      "metadata": {
        "id": "Dki5ru1J_3S3"
      },
      "execution_count": 81,
      "outputs": []
    },
    {
      "cell_type": "code",
      "source": [
        "animals"
      ],
      "metadata": {
        "colab": {
          "base_uri": "https://localhost:8080/"
        },
        "id": "2y-yxEQ0_5Pj",
        "outputId": "11a19351-bb0b-423b-ad63-5e35823a0e0c"
      },
      "execution_count": 84,
      "outputs": [
        {
          "output_type": "execute_result",
          "data": {
            "text/plain": [
              "['tiger',\n",
              " 'rabbit',\n",
              " 'mouse',\n",
              " 'lion',\n",
              " 'hamster',\n",
              " 'dog',\n",
              " 'cow',\n",
              " 'cat',\n",
              " 'aligator']"
            ]
          },
          "metadata": {},
          "execution_count": 84
        }
      ]
    },
    {
      "cell_type": "code",
      "source": [
        "animals.index('aligator')"
      ],
      "metadata": {
        "colab": {
          "base_uri": "https://localhost:8080/"
        },
        "id": "ip0OSjs1AV_4",
        "outputId": "c31fbabf-c3c5-4d89-8170-39091a202cb6"
      },
      "execution_count": 92,
      "outputs": [
        {
          "output_type": "execute_result",
          "data": {
            "text/plain": [
              "8"
            ]
          },
          "metadata": {},
          "execution_count": 92
        }
      ]
    },
    {
      "cell_type": "code",
      "source": [
        "even_animals = animals[0:len(animals):2]\n",
        "# animals[::2] is possible\n",
        "# animals[0::2] is possible\n",
        "\n",
        "# if you want start odd number\n",
        "# animals[1::2]\n",
        "even_animals"
      ],
      "metadata": {
        "colab": {
          "base_uri": "https://localhost:8080/"
        },
        "id": "vWLA36uWABOj",
        "outputId": "15693604-94ca-4bb0-ae81-be3d0bd67265"
      },
      "execution_count": 93,
      "outputs": [
        {
          "output_type": "execute_result",
          "data": {
            "text/plain": [
              "['tiger', 'mouse', 'hamster', 'cow', 'aligator']"
            ]
          },
          "metadata": {},
          "execution_count": 93
        }
      ]
    },
    {
      "cell_type": "markdown",
      "source": [
        "##Practice(1) - tuple"
      ],
      "metadata": {
        "id": "R62ySUrLA-0Z"
      }
    },
    {
      "cell_type": "code",
      "source": [
        "animals = (\n",
        "    'rabbit',\n",
        "    'cat',\n",
        "    'dog',\n",
        "    'aligator',\n",
        "    'tiger',\n",
        "    'lion'\n",
        ")\n",
        "animals2 = ('hamster','cow','mouse')\n",
        "animals = animals + animals2\n",
        "animals"
      ],
      "metadata": {
        "colab": {
          "base_uri": "https://localhost:8080/"
        },
        "id": "jNIzcfmVA7lg",
        "outputId": "bfb99348-653c-4b40-d5c5-f4dfdbb08877"
      },
      "execution_count": 94,
      "outputs": [
        {
          "output_type": "execute_result",
          "data": {
            "text/plain": [
              "('rabbit',\n",
              " 'cat',\n",
              " 'dog',\n",
              " 'aligator',\n",
              " 'tiger',\n",
              " 'lion',\n",
              " 'hamster',\n",
              " 'cow',\n",
              " 'mouse')"
            ]
          },
          "metadata": {},
          "execution_count": 94
        }
      ]
    },
    {
      "cell_type": "code",
      "source": [
        "animals = list(animals)\n",
        "animals.sort(reverse=True)\n",
        "even_animals = []\n",
        "for idx in range(len(animals)):\n",
        "  if idx%2 == 0:\n",
        "    even_animals.append(animals[idx])\n",
        "# tuple also possible animals[::2]"
      ],
      "metadata": {
        "id": "6sKlbHHlBXo3"
      },
      "execution_count": 97,
      "outputs": []
    },
    {
      "cell_type": "code",
      "source": [
        "even_animals"
      ],
      "metadata": {
        "colab": {
          "base_uri": "https://localhost:8080/"
        },
        "id": "A_e2C-QoCIJZ",
        "outputId": "7f64d37b-a401-4a69-c67f-6676a42299d4"
      },
      "execution_count": 98,
      "outputs": [
        {
          "output_type": "execute_result",
          "data": {
            "text/plain": [
              "['tiger', 'mouse', 'hamster', 'cow', 'aligator']"
            ]
          },
          "metadata": {},
          "execution_count": 98
        }
      ]
    },
    {
      "cell_type": "code",
      "source": [
        "animals"
      ],
      "metadata": {
        "colab": {
          "base_uri": "https://localhost:8080/"
        },
        "id": "sxzjsZ-QCghS",
        "outputId": "200971b6-1354-4bd7-8f38-42dde8a6da9d"
      },
      "execution_count": 100,
      "outputs": [
        {
          "output_type": "execute_result",
          "data": {
            "text/plain": [
              "['tiger',\n",
              " 'rabbit',\n",
              " 'mouse',\n",
              " 'lion',\n",
              " 'hamster',\n",
              " 'dog',\n",
              " 'cow',\n",
              " 'cat',\n",
              " 'aligator']"
            ]
          },
          "metadata": {},
          "execution_count": 100
        }
      ]
    },
    {
      "cell_type": "markdown",
      "source": [
        "##Dictionaty"
      ],
      "metadata": {
        "id": "H6BoWioEPcBq"
      }
    },
    {
      "cell_type": "code",
      "source": [
        "# 순서가 필요하지 않은 데이터를 저장하는 것에 좋음\n",
        "# List에 비해 알아서 메모리 관리를 함\n",
        "# ram의 접근법과 비슷함 임의 메모리 접근\n",
        "# 순차 메모리 접근과 반대에 있음 - list[0] ~ list[100]이렇게 안하고 바로 100번지\n",
        "# 데이터가 유동적이고 활발하게 움직일때 dict가 좋음(index를 사용할 때를 제외)\n",
        "# hash table은 hash값 과 key value를 이용\n",
        "some_dict = {\n",
        "    'name':'John',\n",
        "    'surname':'Doe',\n",
        "}\n",
        "\n",
        "another_dict = dict([('name','John'),('surname','Doe')])"
      ],
      "metadata": {
        "id": "LBwWRle8Cr5j"
      },
      "execution_count": 103,
      "outputs": []
    },
    {
      "cell_type": "code",
      "source": [
        "some_dict['name']"
      ],
      "metadata": {
        "colab": {
          "base_uri": "https://localhost:8080/",
          "height": 35
        },
        "id": "nsJssqC8Qaq0",
        "outputId": "8ceb5301-a2ea-43df-b37b-50efb65e3156"
      },
      "execution_count": 102,
      "outputs": [
        {
          "output_type": "execute_result",
          "data": {
            "text/plain": [
              "'John'"
            ],
            "application/vnd.google.colaboratory.intrinsic+json": {
              "type": "string"
            }
          },
          "metadata": {},
          "execution_count": 102
        }
      ]
    },
    {
      "cell_type": "code",
      "source": [
        "another_dict['surname']"
      ],
      "metadata": {
        "colab": {
          "base_uri": "https://localhost:8080/",
          "height": 35
        },
        "id": "GR6lbJNNQreC",
        "outputId": "52fbfa0e-a6c8-4b9f-dc48-7fb53c4aae80"
      },
      "execution_count": 106,
      "outputs": [
        {
          "output_type": "execute_result",
          "data": {
            "text/plain": [
              "'Doe'"
            ],
            "application/vnd.google.colaboratory.intrinsic+json": {
              "type": "string"
            }
          },
          "metadata": {},
          "execution_count": 106
        }
      ]
    },
    {
      "cell_type": "code",
      "source": [
        "# 웹에서 dict type을 많이 사용함.\n",
        "# 웹에서는 xml, json을 많이 쓰는데 json과 dict이 호환이 됨"
      ],
      "metadata": {
        "id": "DQ6lVrsDRCa3"
      },
      "execution_count": null,
      "outputs": []
    },
    {
      "cell_type": "code",
      "source": [
        "some_dict['locale'] = 'Seoul, Korea'\n",
        "some_dict"
      ],
      "metadata": {
        "colab": {
          "base_uri": "https://localhost:8080/"
        },
        "id": "BJwQqqiGReHk",
        "outputId": "d9547454-239d-468e-9f8b-9e7e428915af"
      },
      "execution_count": 107,
      "outputs": [
        {
          "output_type": "execute_result",
          "data": {
            "text/plain": [
              "{'name': 'John', 'surname': 'Doe', 'locale': 'Seoul, Korea'}"
            ]
          },
          "metadata": {},
          "execution_count": 107
        }
      ]
    },
    {
      "cell_type": "code",
      "source": [
        "some_dict['email'] = 'johndoe1234@gmail.com'\n",
        "some_dict"
      ],
      "metadata": {
        "colab": {
          "base_uri": "https://localhost:8080/"
        },
        "id": "d_cKFK5KRqob",
        "outputId": "e310bd03-cbcc-4777-fa0f-3a6f68b5b767"
      },
      "execution_count": 108,
      "outputs": [
        {
          "output_type": "execute_result",
          "data": {
            "text/plain": [
              "{'name': 'John',\n",
              " 'surname': 'Doe',\n",
              " 'locale': 'Seoul, Korea',\n",
              " 'email': 'johndoe1234@gmail.com'}"
            ]
          },
          "metadata": {},
          "execution_count": 108
        }
      ]
    },
    {
      "cell_type": "code",
      "source": [
        "# dict이 순서대로 나오는데 index가 있는가?\n",
        "# 없다. jupeter notebook이 정제해서 보여주므로 그렇게 보이는 것뿐\n",
        "# 입력 순차대로 나오는 것이다"
      ],
      "metadata": {
        "id": "KCrOPn-sR5DX"
      },
      "execution_count": null,
      "outputs": []
    },
    {
      "cell_type": "code",
      "source": [
        "some_dict['mid-term'] = {}\n",
        "some_dict"
      ],
      "metadata": {
        "colab": {
          "base_uri": "https://localhost:8080/"
        },
        "id": "_pnK3kiMSSgn",
        "outputId": "4d709174-c977-4e72-dcdf-c52a1ad7a3d4"
      },
      "execution_count": 109,
      "outputs": [
        {
          "output_type": "execute_result",
          "data": {
            "text/plain": [
              "{'name': 'John',\n",
              " 'surname': 'Doe',\n",
              " 'locale': 'Seoul, Korea',\n",
              " 'email': 'johndoe1234@gmail.com',\n",
              " 'mid-term': {}}"
            ]
          },
          "metadata": {},
          "execution_count": 109
        }
      ]
    },
    {
      "cell_type": "code",
      "source": [
        "some_dict['mid-term']['Korea'] = 80\n",
        "some_dict"
      ],
      "metadata": {
        "colab": {
          "base_uri": "https://localhost:8080/"
        },
        "id": "MLLOVgZtSahD",
        "outputId": "7dcd3a3c-258d-405f-d3b1-ae2e22e89bc7"
      },
      "execution_count": 110,
      "outputs": [
        {
          "output_type": "execute_result",
          "data": {
            "text/plain": [
              "{'name': 'John',\n",
              " 'surname': 'Doe',\n",
              " 'locale': 'Seoul, Korea',\n",
              " 'email': 'johndoe1234@gmail.com',\n",
              " 'mid-term': {'Korea': 80}}"
            ]
          },
          "metadata": {},
          "execution_count": 110
        }
      ]
    },
    {
      "cell_type": "code",
      "source": [
        "some_dict['mid-term']['Math'] = 60\n",
        "some_dict['mid-term']['English'] = 50\n",
        "some_dict['mid-term']['Science'] = [10,40,30,50]\n",
        "some_dict"
      ],
      "metadata": {
        "colab": {
          "base_uri": "https://localhost:8080/"
        },
        "id": "c3AmhYOySuGU",
        "outputId": "df200deb-a1fa-4306-e067-d95d6775e660"
      },
      "execution_count": 111,
      "outputs": [
        {
          "output_type": "execute_result",
          "data": {
            "text/plain": [
              "{'name': 'John',\n",
              " 'surname': 'Doe',\n",
              " 'locale': 'Seoul, Korea',\n",
              " 'email': 'johndoe1234@gmail.com',\n",
              " 'mid-term': {'Korea': 80,\n",
              "  'Math': 60,\n",
              "  'English': 50,\n",
              "  'Science': [10, 40, 30, 50]}}"
            ]
          },
          "metadata": {},
          "execution_count": 111
        }
      ]
    },
    {
      "cell_type": "code",
      "source": [
        "# 수정할때 알아서 찾아서 바꿈\n",
        "# dict에서 key값의 중복이 불가능함\n",
        "some_dict['mid-term']['English'] = 70\n",
        "some_dict"
      ],
      "metadata": {
        "colab": {
          "base_uri": "https://localhost:8080/"
        },
        "id": "Rl0OOAazTGYT",
        "outputId": "bcd2998e-b29a-4737-d5dd-1f5fdcf0fc02"
      },
      "execution_count": 112,
      "outputs": [
        {
          "output_type": "execute_result",
          "data": {
            "text/plain": [
              "{'name': 'John',\n",
              " 'surname': 'Doe',\n",
              " 'locale': 'Seoul, Korea',\n",
              " 'email': 'johndoe1234@gmail.com',\n",
              " 'mid-term': {'Korea': 80,\n",
              "  'Math': 60,\n",
              "  'English': 70,\n",
              "  'Science': [10, 40, 30, 50]}}"
            ]
          },
          "metadata": {},
          "execution_count": 112
        }
      ]
    },
    {
      "cell_type": "code",
      "source": [
        "del some_dict['email']\n",
        "some_dict"
      ],
      "metadata": {
        "colab": {
          "base_uri": "https://localhost:8080/"
        },
        "id": "m9DeGmTiTaS8",
        "outputId": "f9e3a109-9e96-465a-c010-c94c41945754"
      },
      "execution_count": 113,
      "outputs": [
        {
          "output_type": "execute_result",
          "data": {
            "text/plain": [
              "{'name': 'John',\n",
              " 'surname': 'Doe',\n",
              " 'locale': 'Seoul, Korea',\n",
              " 'mid-term': {'Korea': 80,\n",
              "  'Math': 60,\n",
              "  'English': 70,\n",
              "  'Science': [10, 40, 30, 50]}}"
            ]
          },
          "metadata": {},
          "execution_count": 113
        }
      ]
    },
    {
      "cell_type": "code",
      "source": [
        "some_dict.keys()"
      ],
      "metadata": {
        "colab": {
          "base_uri": "https://localhost:8080/"
        },
        "id": "4zHJA7CHT3q-",
        "outputId": "1bbc1133-085c-41d3-d9f5-823505af5fa5"
      },
      "execution_count": 114,
      "outputs": [
        {
          "output_type": "execute_result",
          "data": {
            "text/plain": [
              "dict_keys(['name', 'surname', 'locale', 'mid-term'])"
            ]
          },
          "metadata": {},
          "execution_count": 114
        }
      ]
    },
    {
      "cell_type": "code",
      "source": [
        "some_dict.values()"
      ],
      "metadata": {
        "colab": {
          "base_uri": "https://localhost:8080/"
        },
        "id": "loRydw9FUG0b",
        "outputId": "108313d7-59ce-4191-8aad-307de88470cd"
      },
      "execution_count": 115,
      "outputs": [
        {
          "output_type": "execute_result",
          "data": {
            "text/plain": [
              "dict_values(['John', 'Doe', 'Seoul, Korea', {'Korea': 80, 'Math': 60, 'English': 70, 'Science': [10, 40, 30, 50]}])"
            ]
          },
          "metadata": {},
          "execution_count": 115
        }
      ]
    },
    {
      "cell_type": "code",
      "source": [
        "# keys 와 values를 합쳐서 다시 생성 불가능;;\n",
        "# items로 뽑아 써야함\n",
        "some_dict.items()"
      ],
      "metadata": {
        "colab": {
          "base_uri": "https://localhost:8080/"
        },
        "id": "s5sSJpyOUJvv",
        "outputId": "35d76c89-3292-4076-a7b8-40d2378f1354"
      },
      "execution_count": 116,
      "outputs": [
        {
          "output_type": "execute_result",
          "data": {
            "text/plain": [
              "dict_items([('name', 'John'), ('surname', 'Doe'), ('locale', 'Seoul, Korea'), ('mid-term', {'Korea': 80, 'Math': 60, 'English': 70, 'Science': [10, 40, 30, 50]})])"
            ]
          },
          "metadata": {},
          "execution_count": 116
        }
      ]
    },
    {
      "cell_type": "code",
      "source": [
        "some_dict.pop('surname')"
      ],
      "metadata": {
        "colab": {
          "base_uri": "https://localhost:8080/",
          "height": 35
        },
        "id": "t-JqRePlUYn-",
        "outputId": "6758f8e3-b6d5-4fec-81c2-fac727031871"
      },
      "execution_count": 117,
      "outputs": [
        {
          "output_type": "execute_result",
          "data": {
            "text/plain": [
              "'Doe'"
            ],
            "application/vnd.google.colaboratory.intrinsic+json": {
              "type": "string"
            }
          },
          "metadata": {},
          "execution_count": 117
        }
      ]
    },
    {
      "cell_type": "code",
      "source": [
        "some_dict"
      ],
      "metadata": {
        "colab": {
          "base_uri": "https://localhost:8080/"
        },
        "id": "V0B6xbMJUjGW",
        "outputId": "fa379060-19e5-46fb-cb34-a25d4b71b99d"
      },
      "execution_count": 118,
      "outputs": [
        {
          "output_type": "execute_result",
          "data": {
            "text/plain": [
              "{'name': 'John',\n",
              " 'locale': 'Seoul, Korea',\n",
              " 'mid-term': {'Korea': 80,\n",
              "  'Math': 60,\n",
              "  'English': 70,\n",
              "  'Science': [10, 40, 30, 50]}}"
            ]
          },
          "metadata": {},
          "execution_count": 118
        }
      ]
    },
    {
      "cell_type": "code",
      "source": [
        "# 조회와 추출을 잘 구분할 것\n",
        "# pop은 추출"
      ],
      "metadata": {
        "id": "x2794tguUkdR"
      },
      "execution_count": null,
      "outputs": []
    },
    {
      "cell_type": "code",
      "source": [
        "some_dict.popitem()\n",
        "# 가장 마지막 자료를 빼냄. 입력 순서 마지막에 있는 자료가 기준"
      ],
      "metadata": {
        "colab": {
          "base_uri": "https://localhost:8080/"
        },
        "id": "qeJrCB5OU0vN",
        "outputId": "9f51dba6-0fb2-43f9-d7f4-e922f024354e"
      },
      "execution_count": 120,
      "outputs": [
        {
          "output_type": "execute_result",
          "data": {
            "text/plain": [
              "('mid-term',\n",
              " {'Korea': 80, 'Math': 60, 'English': 70, 'Science': [10, 40, 30, 50]})"
            ]
          },
          "metadata": {},
          "execution_count": 120
        }
      ]
    },
    {
      "cell_type": "code",
      "source": [
        "# python3.7부터 dict은 LIFO가 보장됨"
      ],
      "metadata": {
        "id": "PcSmUB9tU6XN"
      },
      "execution_count": null,
      "outputs": []
    },
    {
      "cell_type": "code",
      "source": [
        "some_dict['English']"
      ],
      "metadata": {
        "colab": {
          "base_uri": "https://localhost:8080/",
          "height": 172
        },
        "id": "7q0BvQdXVsI9",
        "outputId": "2ee2c146-9246-4777-da14-8852c9290dbe"
      },
      "execution_count": 121,
      "outputs": [
        {
          "output_type": "error",
          "ename": "KeyError",
          "evalue": "ignored",
          "traceback": [
            "\u001b[0;31m---------------------------------------------------------------------------\u001b[0m",
            "\u001b[0;31mKeyError\u001b[0m                                  Traceback (most recent call last)",
            "\u001b[0;32m<ipython-input-121-bba1928145be>\u001b[0m in \u001b[0;36m<module>\u001b[0;34m\u001b[0m\n\u001b[0;32m----> 1\u001b[0;31m \u001b[0msome_dict\u001b[0m\u001b[0;34m[\u001b[0m\u001b[0;34m'English'\u001b[0m\u001b[0;34m]\u001b[0m\u001b[0;34m\u001b[0m\u001b[0;34m\u001b[0m\u001b[0m\n\u001b[0m",
            "\u001b[0;31mKeyError\u001b[0m: 'English'"
          ]
        }
      ]
    },
    {
      "cell_type": "code",
      "source": [
        "# some_dict.get(\"English\", 0)\n",
        "# some_dict.get(\"English\", None)\n",
        "some_dict.get(\"English\", \"No such result\")\n",
        "\n",
        "# 조회: enligsh가 있으면 가져오고 없으면 0을 가져와라\n",
        "# exception을 일으키기 보다는 error handling을 해주는 것이 좋음"
      ],
      "metadata": {
        "colab": {
          "base_uri": "https://localhost:8080/"
        },
        "id": "RQrj1ET5V9JN",
        "outputId": "262745e8-a344-487c-fefd-5897100c70de"
      },
      "execution_count": 122,
      "outputs": [
        {
          "output_type": "execute_result",
          "data": {
            "text/plain": [
              "0"
            ]
          },
          "metadata": {},
          "execution_count": 122
        }
      ]
    },
    {
      "cell_type": "code",
      "source": [
        "some_dict"
      ],
      "metadata": {
        "colab": {
          "base_uri": "https://localhost:8080/"
        },
        "id": "QI4jqArgWCj6",
        "outputId": "493f196c-119a-421d-edf2-89b5ef8760fc"
      },
      "execution_count": 123,
      "outputs": [
        {
          "output_type": "execute_result",
          "data": {
            "text/plain": [
              "{'name': 'John', 'locale': 'Seoul, Korea'}"
            ]
          },
          "metadata": {},
          "execution_count": 123
        }
      ]
    },
    {
      "cell_type": "code",
      "source": [
        "some_dict.setdefault(\"Spanish\",0)"
      ],
      "metadata": {
        "colab": {
          "base_uri": "https://localhost:8080/"
        },
        "id": "scP8iElOWDvc",
        "outputId": "f807d3fd-5b36-423a-81ee-d7472bc16314"
      },
      "execution_count": 128,
      "outputs": [
        {
          "output_type": "execute_result",
          "data": {
            "text/plain": [
              "0"
            ]
          },
          "metadata": {},
          "execution_count": 128
        }
      ]
    },
    {
      "cell_type": "code",
      "source": [
        "some_dict"
      ],
      "metadata": {
        "colab": {
          "base_uri": "https://localhost:8080/"
        },
        "id": "y1gpWEv5WMJO",
        "outputId": "79c75d89-2518-43f3-d1c7-63a07c874430"
      },
      "execution_count": 129,
      "outputs": [
        {
          "output_type": "execute_result",
          "data": {
            "text/plain": [
              "{'name': 'John', 'locale': 'Seoul, Korea', 'English': [], 'Spanish': 0}"
            ]
          },
          "metadata": {},
          "execution_count": 129
        }
      ]
    },
    {
      "cell_type": "code",
      "source": [
        "some_dict.setdefault(\"English\",0)"
      ],
      "metadata": {
        "colab": {
          "base_uri": "https://localhost:8080/"
        },
        "id": "4lhdtrUGWl9G",
        "outputId": "8bdf46ef-4cb5-40c1-f9ca-a6c13e4894b2"
      },
      "execution_count": 130,
      "outputs": [
        {
          "output_type": "execute_result",
          "data": {
            "text/plain": [
              "[]"
            ]
          },
          "metadata": {},
          "execution_count": 130
        }
      ]
    },
    {
      "cell_type": "code",
      "source": [
        "# key값이 존재하는 경우에는 value를 호출하고,\n",
        "# 없다면 default값을 출력"
      ],
      "metadata": {
        "id": "LXS-lAgLXtWe"
      },
      "execution_count": null,
      "outputs": []
    },
    {
      "cell_type": "code",
      "source": [
        "['doc','zebra','panda','acorn','dragon']\n",
        "{\n",
        "    'd':1,\n",
        "    'z':1,\n",
        "}\n",
        "# 앞 글자를 따서 setdefault, \n",
        "# 없다면 0으로 만들고\n",
        "# 이미 있다면 count + 1을 하면 됨"
      ],
      "metadata": {
        "id": "TmH7ddXOYA99"
      },
      "execution_count": null,
      "outputs": []
    },
    {
      "cell_type": "code",
      "source": [
        "len(some_dict)"
      ],
      "metadata": {
        "colab": {
          "base_uri": "https://localhost:8080/"
        },
        "id": "mlEMNkdrY3NA",
        "outputId": "d91a2d32-ae4d-4843-c06f-384d96b92e27"
      },
      "execution_count": 131,
      "outputs": [
        {
          "output_type": "execute_result",
          "data": {
            "text/plain": [
              "4"
            ]
          },
          "metadata": {},
          "execution_count": 131
        }
      ]
    },
    {
      "cell_type": "code",
      "source": [
        "some_dict.update({'name':'Jane','locale':'NY, USA'})"
      ],
      "metadata": {
        "id": "LYevGoCKY5IJ"
      },
      "execution_count": 132,
      "outputs": []
    },
    {
      "cell_type": "code",
      "source": [
        "some_dict"
      ],
      "metadata": {
        "colab": {
          "base_uri": "https://localhost:8080/"
        },
        "id": "_tKpbTPfZJ1C",
        "outputId": "cf13c481-35c9-4b14-feea-20c949805752"
      },
      "execution_count": 133,
      "outputs": [
        {
          "output_type": "execute_result",
          "data": {
            "text/plain": [
              "{'name': 'Jane', 'locale': 'NY, USA', 'English': [], 'Spanish': 0}"
            ]
          },
          "metadata": {},
          "execution_count": 133
        }
      ]
    },
    {
      "cell_type": "code",
      "source": [
        "# starbucks.co.kr -> 매장조회\n",
        "# network -> XHR -> Response -> JSON type -> 'open_dt'"
      ],
      "metadata": {
        "id": "mgJK9JvJZLK2"
      },
      "execution_count": null,
      "outputs": []
    },
    {
      "cell_type": "code",
      "source": [
        "contact={\n",
        "    'name':'John Doe',\n",
        "    'locale':'CA, USA',\n",
        "}\n",
        "\n",
        "print(f\"Hello, {contact['name']}. You are from {contact['locale']}\")\n",
        "# ** is dict unpacking\n",
        "# ** is only working in function\n",
        "print(\"Hello, {name}. You are from {locale}\".format(**contact))"
      ],
      "metadata": {
        "colab": {
          "base_uri": "https://localhost:8080/"
        },
        "id": "Tvnp1FuOdTvQ",
        "outputId": "9a415b7e-7c4f-4341-b404-07c529717d0c"
      },
      "execution_count": 134,
      "outputs": [
        {
          "output_type": "stream",
          "name": "stdout",
          "text": [
            "Hello, John Doe. You are from CA, USA\n",
            "Hello, John Doe. You are from CA, USA\n"
          ]
        }
      ]
    },
    {
      "cell_type": "markdown",
      "source": [
        "##Set"
      ],
      "metadata": {
        "id": "sAPE2wPsgPnf"
      }
    },
    {
      "cell_type": "code",
      "source": [
        "strA = 'fastcampus'\n",
        "strB = 'python'\n",
        "\n",
        "#1 f, a, s, t, c, m, p, u, y, h, o, n\n",
        "#2 p, t\n",
        "#3 f, a, s, c, m, u\n",
        "#4 ?"
      ],
      "metadata": {
        "id": "-AmYIQASeBau"
      },
      "execution_count": 138,
      "outputs": []
    },
    {
      "cell_type": "code",
      "source": [
        "# Set is no order and unique\n",
        "# Set으로 type casting시 중복 값을 제거함\n",
        "# 코딩테스트에서 유용함"
      ],
      "metadata": {
        "id": "48aSRSc7ft4s"
      },
      "execution_count": null,
      "outputs": []
    },
    {
      "cell_type": "code",
      "source": [
        "faang = {'facebook','apple','amazon','netflix','google','google'}"
      ],
      "metadata": {
        "id": "JcDLHw7JgRfu"
      },
      "execution_count": 143,
      "outputs": []
    },
    {
      "cell_type": "code",
      "source": [
        "faang"
      ],
      "metadata": {
        "colab": {
          "base_uri": "https://localhost:8080/"
        },
        "id": "BrS1KAU4gd1W",
        "outputId": "c09e8746-fb7e-4ce2-c766-3b1a1755f9c7"
      },
      "execution_count": 144,
      "outputs": [
        {
          "output_type": "execute_result",
          "data": {
            "text/plain": [
              "{'amazon', 'apple', 'facebook', 'google', 'netflix'}"
            ]
          },
          "metadata": {},
          "execution_count": 144
        }
      ]
    },
    {
      "cell_type": "code",
      "source": [
        "# string을 split해서 set으로 만들어줌\n",
        "split_str = set('facebook')"
      ],
      "metadata": {
        "id": "89H1zxDpge2S"
      },
      "execution_count": 145,
      "outputs": []
    },
    {
      "cell_type": "code",
      "source": [
        "split_str"
      ],
      "metadata": {
        "colab": {
          "base_uri": "https://localhost:8080/"
        },
        "id": "wvClGVcjguwz",
        "outputId": "2502d0ca-bf7b-4fa3-e56a-fd1dfb5827a0"
      },
      "execution_count": 146,
      "outputs": [
        {
          "output_type": "execute_result",
          "data": {
            "text/plain": [
              "{'a', 'b', 'c', 'e', 'f', 'k', 'o'}"
            ]
          },
          "metadata": {},
          "execution_count": 146
        }
      ]
    },
    {
      "cell_type": "code",
      "source": [
        "'apple' in faang"
      ],
      "metadata": {
        "colab": {
          "base_uri": "https://localhost:8080/"
        },
        "id": "R0UWGyJMgvtp",
        "outputId": "dbb1a843-bf88-4a75-83cb-aded80f2a45e"
      },
      "execution_count": 147,
      "outputs": [
        {
          "output_type": "execute_result",
          "data": {
            "text/plain": [
              "True"
            ]
          },
          "metadata": {},
          "execution_count": 147
        }
      ]
    },
    {
      "cell_type": "code",
      "source": [
        "'danggen' not in faang"
      ],
      "metadata": {
        "colab": {
          "base_uri": "https://localhost:8080/"
        },
        "id": "M4oG6vs2hGaG",
        "outputId": "a941788a-519a-4396-adcd-b28f53cdc5c9"
      },
      "execution_count": 148,
      "outputs": [
        {
          "output_type": "execute_result",
          "data": {
            "text/plain": [
              "True"
            ]
          },
          "metadata": {},
          "execution_count": 148
        }
      ]
    },
    {
      "cell_type": "code",
      "source": [
        "set_a = set('fastcampus')\n",
        "set_b = set('shinhan')\n",
        "\n",
        "print(set_a | set_b)\n",
        "print(set_a & set_b)\n",
        "print(set_a - set_b)\n",
        "print(set_a ^ set_b) # 합집합에서 교집합을 제외한 것 = delta operator\n",
        "\n",
        "print(set_b - set_a)"
      ],
      "metadata": {
        "colab": {
          "base_uri": "https://localhost:8080/"
        },
        "id": "jy6HpBHBhL0b",
        "outputId": "e9218d26-7af5-4e62-f138-b50a7311594d"
      },
      "execution_count": 155,
      "outputs": [
        {
          "output_type": "stream",
          "name": "stdout",
          "text": [
            "{'t', 'u', 'a', 's', 'c', 'p', 'i', 'h', 'm', 'n', 'f'}\n",
            "{'s', 'a'}\n",
            "{'t', 'u', 'c', 'p', 'm', 'f'}\n",
            "{'t', 'u', 'c', 'i', 'p', 'h', 'm', 'n', 'f'}\n",
            "{'n', 'i', 'h'}\n"
          ]
        }
      ]
    },
    {
      "cell_type": "markdown",
      "source": [
        "##Practice(2)"
      ],
      "metadata": {
        "id": "k1ReCD9Qi0q7"
      }
    },
    {
      "cell_type": "markdown",
      "source": [
        "dictionary와 set을 이용하여 다음 문제를 해결하세요.\n",
        "\n",
        "1. 다음 인적사항을 입력하세요.\n",
        "(list에 각 정보가 dict로 존재)\n",
        "Name Locale Age Username\n",
        "Johnny Silverhand Night City 120 Johnny\n",
        "John Doe CA, USA 40 Doh\n",
        "Jane Doe Seoul, Korea 24 jane-doe\n",
        "Foo Bar Busan, Korea 31 foo-bar\n",
        "2. Jane Doe의 Locale을 London, UK 로 수정하세요.\n",
        "3. list의 모든 아이템에 대해 key와 value를 모두 출력하세요.(반복문 쓰지 말 것)\n",
        "4. 다음 list의 중복 아이템을 제거한 뒤, 내림차순으로 정렬하여 출력하세요."
      ],
      "metadata": {
        "id": "711OcKun40TD"
      }
    },
    {
      "cell_type": "code",
      "source": [
        "# 1\n",
        "\n",
        "user = []\n",
        "\n",
        "user.append({\n",
        "    'Name':'Jonny Silverhand',\n",
        "    'Locale':'Night City',\n",
        "    'Age':120,\n",
        "    'Username':'Johnny',\n",
        "})\n",
        "user.append({\n",
        "    'Name':'John Doe',\n",
        "    'Locale':'CA, USA',\n",
        "    'Age':40,\n",
        "    'Username':'Doh',\n",
        "})\n",
        "user.append({\n",
        "    'Name':'Jane Doe',\n",
        "    'Locale':'Seoul, Korea',\n",
        "    'Age':24,\n",
        "    'Username':'jane-doe',\n",
        "})\n",
        "user.append({\n",
        "    'Name':'Foo bar',\n",
        "    'Locale':'Busan, Korea',\n",
        "    'Age':31,\n",
        "    'Username':'foo-bar',\n",
        "})\n",
        "\n",
        "user"
      ],
      "metadata": {
        "colab": {
          "base_uri": "https://localhost:8080/"
        },
        "id": "oge7goaChaBl",
        "outputId": "42347d35-b805-4bf8-9bbc-c896d1e071b8"
      },
      "execution_count": 156,
      "outputs": [
        {
          "output_type": "execute_result",
          "data": {
            "text/plain": [
              "[{'Name': 'Jonny Silverhand',\n",
              "  'Locale': 'Night City',\n",
              "  'Age': 120,\n",
              "  'Username': 'Johnny'},\n",
              " {'Name': 'John Doe', 'Locale': 'CA, USA', 'Age': 40, 'Username': 'Doh'},\n",
              " {'Name': 'Jane Doe',\n",
              "  'Locale': 'Seoul, Korea',\n",
              "  'Age': 24,\n",
              "  'Username': 'jane-doe'},\n",
              " {'Name': 'Foo bar',\n",
              "  'Locale': 'Busan, Korea',\n",
              "  'Age': 31,\n",
              "  'Username': 'foo-bar'}]"
            ]
          },
          "metadata": {},
          "execution_count": 156
        }
      ]
    },
    {
      "cell_type": "code",
      "source": [
        "# 2\n",
        "\n",
        "# user[2]['Locale] = 'London, UK'\n",
        "# user[2].update({'Locale':'London, UK'})\n",
        "\n",
        "for i in range(len(user)):\n",
        "  if 'Jane Doe' in user[i]['Name']:\n",
        "    user[i]['Locale'] = 'London, UK'"
      ],
      "metadata": {
        "id": "jeYdWQlijqea"
      },
      "execution_count": 158,
      "outputs": []
    },
    {
      "cell_type": "code",
      "source": [
        "user"
      ],
      "metadata": {
        "colab": {
          "base_uri": "https://localhost:8080/"
        },
        "id": "7clkNlmFk5Uh",
        "outputId": "4b89c823-9a4a-43fd-cd07-43f58171529b"
      },
      "execution_count": 159,
      "outputs": [
        {
          "output_type": "execute_result",
          "data": {
            "text/plain": [
              "[{'Name': 'Jonny Silverhand',\n",
              "  'Locale': 'Night City',\n",
              "  'Age': 120,\n",
              "  'Username': 'Johnny'},\n",
              " {'Name': 'John Doe', 'Locale': 'CA, USA', 'Age': 40, 'Username': 'Doh'},\n",
              " {'Name': 'Jane Doe',\n",
              "  'Locale': 'London, UK',\n",
              "  'Age': 24,\n",
              "  'Username': 'jane-doe'},\n",
              " {'Name': 'Foo bar',\n",
              "  'Locale': 'Busan, Korea',\n",
              "  'Age': 31,\n",
              "  'Username': 'foo-bar'}]"
            ]
          },
          "metadata": {},
          "execution_count": 159
        }
      ]
    },
    {
      "cell_type": "code",
      "source": [
        "# 3\n",
        "\n",
        "print(user[0].keys(), user[0].values())\n",
        "print(user[1].keys(), user[1].values())\n",
        "print(user[2].keys(), user[2].values())\n",
        "print(user[3].keys(), user[3].values())\n",
        "\n",
        "###########################################\n",
        "\n",
        "print(user[0].items())\n",
        "print(user[1].items())\n",
        "print(user[2].items())\n",
        "print(user[3].items())"
      ],
      "metadata": {
        "colab": {
          "base_uri": "https://localhost:8080/"
        },
        "id": "iNeEV1lIk6y_",
        "outputId": "568087dd-5f5d-4cea-ce7b-ea5122939e61"
      },
      "execution_count": 172,
      "outputs": [
        {
          "output_type": "stream",
          "name": "stdout",
          "text": [
            "dict_keys(['Name', 'Locale', 'Age', 'Username']) dict_values(['Jonny Silverhand', 'Night City', 120, 'Johnny'])\n",
            "dict_keys(['Name', 'Locale', 'Age', 'Username']) dict_values(['John Doe', 'CA, USA', 40, 'Doh'])\n",
            "dict_keys(['Name', 'Locale', 'Age', 'Username']) dict_values(['Jane Doe', 'London, UK', 24, 'jane-doe'])\n",
            "dict_keys(['Name', 'Locale', 'Age', 'Username']) dict_values(['Foo bar', 'Busan, Korea', 31, 'foo-bar'])\n",
            "dict_items([('Name', 'Jonny Silverhand'), ('Locale', 'Night City'), ('Age', 120), ('Username', 'Johnny')])\n",
            "dict_items([('Name', 'John Doe'), ('Locale', 'CA, USA'), ('Age', 40), ('Username', 'Doh')])\n",
            "dict_items([('Name', 'Jane Doe'), ('Locale', 'London, UK'), ('Age', 24), ('Username', 'jane-doe')])\n",
            "dict_items([('Name', 'Foo bar'), ('Locale', 'Busan, Korea'), ('Age', 31), ('Username', 'foo-bar')])\n"
          ]
        }
      ]
    },
    {
      "cell_type": "code",
      "source": [
        "# 4\n",
        "\n",
        "cities = [\n",
        "  'Daejeon', 'Ulsan', 'Seoul', 'Jeju',\n",
        "  'Busan', 'Ulsan', 'Daegu', 'Daejeon',\n",
        "  'Seoul', 'Seoul', 'Daejeon', 'Gwangju',\n",
        "  'Busan', 'Daegu', 'Gwangju', 'Daejeon',\n",
        "  'Ulsan', 'Jeju', 'Gwangju', 'Seoul',\n",
        "]"
      ],
      "metadata": {
        "id": "DsKixhlc3Qx9"
      },
      "execution_count": 168,
      "outputs": []
    },
    {
      "cell_type": "code",
      "source": [
        "cities = set(cities)\n",
        "cities = list(cities)\n",
        "cities.sort(reverse=True)\n",
        "cities"
      ],
      "metadata": {
        "colab": {
          "base_uri": "https://localhost:8080/"
        },
        "id": "PiXASoSa3bUB",
        "outputId": "e8504610-0068-4566-8794-af87fa3fdcba"
      },
      "execution_count": 170,
      "outputs": [
        {
          "output_type": "execute_result",
          "data": {
            "text/plain": [
              "['Ulsan', 'Seoul', 'Jeju', 'Gwangju', 'Daejeon', 'Daegu', 'Busan']"
            ]
          },
          "metadata": {},
          "execution_count": 170
        }
      ]
    },
    {
      "cell_type": "code",
      "source": [
        "'''\n",
        "1. 사용자는 제품 가격을 입력한다\n",
        "  1-1. 입력이 숫자라면 제품 가격을 저장한다\n",
        "  1-2. 1-1을 만족하지 못한다면 '입력 오류'를 출력하고 프로그램을 종료한다\n",
        "2. 사용자는 나라를 입력한다\n",
        "  2-1. 나라가 USA라면 '주마다 다름'을 출력하고 프로그램을 종료한다\n",
        "  2-2. 나라가 Korea라면 1번 과정의 값에 0.1을 곱하여 결과값에 저장한다\n",
        "  2-3. 나라가 Japan이라면 1번 과정의 값에 0.08을 곱하여 결과값에 저장한다\n",
        "  2-4. 나라가 UK라면 1번 과정의 값에 0.2를 곱하여 결과값에 저장한다\n",
        "  2-5. 2-1,2,3,4를 만족하지 못한다면 '입력 오류'를 출력하고 프로그램을 종료한다\n",
        "3. 결과값에 제품 가격을 더해 출력한다\n",
        "'''"
      ],
      "metadata": {
        "id": "RHyeuuFL5cyF"
      },
      "execution_count": null,
      "outputs": []
    },
    {
      "cell_type": "markdown",
      "source": [
        "##Conditonal Statement"
      ],
      "metadata": {
        "id": "YO5TF5h2KJYa"
      }
    },
    {
      "cell_type": "code",
      "source": [
        "# if condition:\n",
        "#   statement\n",
        "wallet = 3000\n",
        "if wallet > 4000:\n",
        "  print('Have some Samkim')\n",
        "else:\n",
        "  print('Have some water')"
      ],
      "metadata": {
        "colab": {
          "base_uri": "https://localhost:8080/"
        },
        "id": "7dWUxQqXKIYA",
        "outputId": "4e21719c-774f-4648-dca0-5b1b8557f754"
      },
      "execution_count": 176,
      "outputs": [
        {
          "output_type": "stream",
          "name": "stdout",
          "text": [
            "Have some water\n"
          ]
        }
      ]
    },
    {
      "cell_type": "code",
      "source": [
        "wallet = 10000\n",
        "if wallet > 8000:\n",
        "  print('Have some Ramen')\n",
        "else:\n",
        "  if wallet > 5000:\n",
        "    print('Have some ttekboki')\n",
        "  else:\n",
        "    print('Have some water')"
      ],
      "metadata": {
        "colab": {
          "base_uri": "https://localhost:8080/"
        },
        "id": "rQmeYTNDKwdU",
        "outputId": "5fb4a200-2a06-4b65-be0f-d5fd9f97d4e6"
      },
      "execution_count": 181,
      "outputs": [
        {
          "output_type": "stream",
          "name": "stdout",
          "text": [
            "Have some Ramen\n"
          ]
        }
      ]
    },
    {
      "cell_type": "code",
      "source": [
        "# wallet = 10000\n",
        "wallet = 5000\n",
        "# weather = 'rainy'\n",
        "weather = 'cold'\n",
        "\n",
        "if wallet > 8000 and weather == 'rainy':\n",
        "  print('Have some pajeon')\n",
        "elif wallet > 8000 or weather == 'cold':\n",
        "  print('Have some Ramen')\n",
        "elif wallet > 5000:\n",
        "  print('Have some ttekboki')\n",
        "else:\n",
        "  print('Have some water')"
      ],
      "metadata": {
        "colab": {
          "base_uri": "https://localhost:8080/"
        },
        "id": "iER0EixqLN8B",
        "outputId": "639f3a55-19cf-48ea-9a6c-8b55815e9ab6"
      },
      "execution_count": 183,
      "outputs": [
        {
          "output_type": "stream",
          "name": "stdout",
          "text": [
            "Have some Ramen\n"
          ]
        }
      ]
    },
    {
      "cell_type": "markdown",
      "source": [
        "#Conditional Expressions\n",
        "##Termary Operator"
      ],
      "metadata": {
        "id": "5VkKTTBqUdfz"
      }
    },
    {
      "cell_type": "code",
      "source": [
        "\"a\" if True else \"b\""
      ],
      "metadata": {
        "colab": {
          "base_uri": "https://localhost:8080/",
          "height": 35
        },
        "id": "LOfCIuJAMGtX",
        "outputId": "7618a395-3a01-4269-d057-e0fea4db3e01"
      },
      "execution_count": 184,
      "outputs": [
        {
          "output_type": "execute_result",
          "data": {
            "text/plain": [
              "'a'"
            ],
            "application/vnd.google.colaboratory.intrinsic+json": {
              "type": "string"
            }
          },
          "metadata": {},
          "execution_count": 184
        }
      ]
    },
    {
      "cell_type": "code",
      "source": [
        "\"a\" if False else \"b\""
      ],
      "metadata": {
        "colab": {
          "base_uri": "https://localhost:8080/",
          "height": 35
        },
        "id": "imCsKvvfUwuf",
        "outputId": "298119b3-2a03-473a-9d19-94316e17e3d5"
      },
      "execution_count": 185,
      "outputs": [
        {
          "output_type": "execute_result",
          "data": {
            "text/plain": [
              "'b'"
            ],
            "application/vnd.google.colaboratory.intrinsic+json": {
              "type": "string"
            }
          },
          "metadata": {},
          "execution_count": 185
        }
      ]
    },
    {
      "cell_type": "code",
      "source": [
        "numbers = [1,3,5,7,9]\n",
        "num = 0\n",
        "\"odd\" if num in numbers else \"even\""
      ],
      "metadata": {
        "colab": {
          "base_uri": "https://localhost:8080/",
          "height": 35
        },
        "id": "rmJQpLdHUzl0",
        "outputId": "1ba705e1-533d-4358-8a10-956007d2672d"
      },
      "execution_count": 188,
      "outputs": [
        {
          "output_type": "execute_result",
          "data": {
            "text/plain": [
              "'even'"
            ],
            "application/vnd.google.colaboratory.intrinsic+json": {
              "type": "string"
            }
          },
          "metadata": {},
          "execution_count": 188
        }
      ]
    },
    {
      "cell_type": "code",
      "source": [
        "num = 1\n",
        "\"odd\" if num in numbers else \"even\""
      ],
      "metadata": {
        "colab": {
          "base_uri": "https://localhost:8080/",
          "height": 35
        },
        "id": "V__rpNa0VWLK",
        "outputId": "d3d4c8f2-ed14-41ab-92e5-e703276d4300"
      },
      "execution_count": 189,
      "outputs": [
        {
          "output_type": "execute_result",
          "data": {
            "text/plain": [
              "'odd'"
            ],
            "application/vnd.google.colaboratory.intrinsic+json": {
              "type": "string"
            }
          },
          "metadata": {},
          "execution_count": 189
        }
      ]
    },
    {
      "cell_type": "code",
      "source": [
        "weekdays = [\n",
        "  't',\n",
        "  'w',\n",
        "  't',\n",
        "  'f',\n",
        "]\n",
        "user_input = 'm'\n",
        "print(\"weekday\" if user_input in weekdays else \n",
        "      \"Good day\" if user_input == \"m\" else \n",
        "      \"weekend\")"
      ],
      "metadata": {
        "colab": {
          "base_uri": "https://localhost:8080/"
        },
        "id": "Qc3hSe25Vd2b",
        "outputId": "a54ab8ad-231c-49de-d176-34f69da4348c"
      },
      "execution_count": 199,
      "outputs": [
        {
          "output_type": "stream",
          "name": "stdout",
          "text": [
            "Good day\n"
          ]
        }
      ]
    },
    {
      "cell_type": "markdown",
      "source": [
        "##Practice(1) - Leap year"
      ],
      "metadata": {
        "id": "vwVWZsWhYEl_"
      }
    },
    {
      "cell_type": "code",
      "source": [
        "# user_input = int(input(\"Input the year:\"))\n",
        "user_input = 2400\n",
        "if user_input%4 == 0:\n",
        "  if user_input%400 == 0:\n",
        "    if user_input%100 == 0:\n",
        "      print(\"Leap year\")\n",
        "    else:\n",
        "      print(\"Common year1\")\n",
        "  else:\n",
        "      print(\"Common year2\")\n",
        "else:\n",
        "  print(\"Common year3\")\n"
      ],
      "metadata": {
        "colab": {
          "base_uri": "https://localhost:8080/"
        },
        "id": "l-bSwY6jW3yp",
        "outputId": "08750240-0126-4763-9c59-8055b7ac9724"
      },
      "execution_count": 209,
      "outputs": [
        {
          "output_type": "stream",
          "name": "stdout",
          "text": [
            "Leap year\n"
          ]
        }
      ]
    },
    {
      "cell_type": "code",
      "source": [
        "# 공배수 문제는 가장 큰 것부터(위에서 아래로, 왼쪽에서 오른쪽으로)\n",
        "user_input = int(input(\"Input the year:\"))\n",
        "# user_input = 2024\n",
        "\n",
        "if user_input%400 == 0:\n",
        "  print(f\"{user_input} is leap year\")\n",
        "elif user_input%100 == 0:\n",
        "  print(f\"{user_input} is common year\")\n",
        "elif user_input%4 == 0:\n",
        "  print(f\"{user_input} is leap year\")\n",
        "else:\n",
        "  print(f\"{user_input} is common year\")"
      ],
      "metadata": {
        "colab": {
          "base_uri": "https://localhost:8080/"
        },
        "id": "FCco5vc2aMNl",
        "outputId": "f58915dd-4c29-4222-f385-2dd13301823e"
      },
      "execution_count": 219,
      "outputs": [
        {
          "output_type": "stream",
          "name": "stdout",
          "text": [
            "Input the year:2024\n",
            "2024 is leap year\n"
          ]
        }
      ]
    },
    {
      "cell_type": "code",
      "source": [
        "# 조건문 하나로 한번에 따져볼 수 있음. 집에 가서 고민해보길"
      ],
      "metadata": {
        "id": "RS5EPgTLbm34"
      },
      "execution_count": 220,
      "outputs": []
    },
    {
      "cell_type": "markdown",
      "source": [
        "#Loop\n",
        "##For,while Statement"
      ],
      "metadata": {
        "id": "rcgWGf3sfGuj"
      }
    },
    {
      "cell_type": "code",
      "source": [
        "print(list(range(1,10+1)))\n",
        "for i in range(1,10+1):\n",
        "  print(i)"
      ],
      "metadata": {
        "colab": {
          "base_uri": "https://localhost:8080/"
        },
        "id": "z_xRHngcbv0N",
        "outputId": "dd185a0d-2193-45c1-a128-c221b531f46c"
      },
      "execution_count": 223,
      "outputs": [
        {
          "output_type": "stream",
          "name": "stdout",
          "text": [
            "[1, 2, 3, 4, 5, 6, 7, 8, 9, 10]\n",
            "1\n",
            "2\n",
            "3\n",
            "4\n",
            "5\n",
            "6\n",
            "7\n",
            "8\n",
            "9\n",
            "10\n"
          ]
        }
      ]
    },
    {
      "cell_type": "code",
      "source": [
        "for c in \"ShinhanProDigitalAcademy\":\n",
        "  print(c, end=' ')"
      ],
      "metadata": {
        "colab": {
          "base_uri": "https://localhost:8080/"
        },
        "id": "lAhiq8M1fQLW",
        "outputId": "651c27b3-bfc2-4e7c-d2dd-08dcb9f505a4"
      },
      "execution_count": 224,
      "outputs": [
        {
          "output_type": "stream",
          "name": "stdout",
          "text": [
            "S h i n h a n P r o D i g i t a l A c a d e m y "
          ]
        }
      ]
    },
    {
      "cell_type": "code",
      "source": [
        "for item in ['cat','dog','hamster']:\n",
        "  print(f\"{item} is so cute\")"
      ],
      "metadata": {
        "colab": {
          "base_uri": "https://localhost:8080/"
        },
        "id": "C_z19OjRgxdw",
        "outputId": "6f61c50f-f253-49b3-8f52-75d39747d458"
      },
      "execution_count": 226,
      "outputs": [
        {
          "output_type": "stream",
          "name": "stdout",
          "text": [
            "cat is so cute\n",
            "dog is so cute\n",
            "hamster is so cute\n"
          ]
        }
      ]
    },
    {
      "cell_type": "code",
      "source": [
        "for i in range(1,100+1):\n",
        "  if i%2==0 or i%3==0:\n",
        "    continue\n",
        "  elif i%17==0:\n",
        "    break\n",
        "  else:\n",
        "    print(f\"{i} is survived\")"
      ],
      "metadata": {
        "colab": {
          "base_uri": "https://localhost:8080/"
        },
        "id": "aIg5MXULg9ht",
        "outputId": "1cfd26a3-e8ca-4992-fe5b-ea94d42c5896"
      },
      "execution_count": 233,
      "outputs": [
        {
          "output_type": "stream",
          "name": "stdout",
          "text": [
            "1 is survived\n",
            "5 is survived\n",
            "7 is survived\n",
            "11 is survived\n",
            "13 is survived\n"
          ]
        }
      ]
    },
    {
      "cell_type": "code",
      "source": [
        "i = 0\n",
        "while i<10:\n",
        "  print(i)\n",
        "  i += 1"
      ],
      "metadata": {
        "colab": {
          "base_uri": "https://localhost:8080/"
        },
        "id": "oCO4HTcwhk1v",
        "outputId": "defa9eab-6011-42d0-aa29-62b7e28de936"
      },
      "execution_count": 254,
      "outputs": [
        {
          "output_type": "stream",
          "name": "stdout",
          "text": [
            "0\n",
            "1\n",
            "2\n",
            "3\n",
            "4\n",
            "5\n",
            "6\n",
            "7\n",
            "8\n",
            "9\n"
          ]
        }
      ]
    },
    {
      "cell_type": "code",
      "source": [
        "user_input = \"\"\n",
        "\n",
        "while user_input != \"taco\":\n",
        "  user_input = input(\"What do you want to have for dinner?\")\n",
        "  if user_input != \"taco\":\n",
        "    print(\"Not like that!!\")\n",
        "  else:\n",
        "    print(\"That is what I wanted!\")\n",
        "    break"
      ],
      "metadata": {
        "colab": {
          "base_uri": "https://localhost:8080/"
        },
        "id": "3UocRRjBi25C",
        "outputId": "520f1769-741d-45c2-bd82-8a03a3b4ce80"
      },
      "execution_count": 269,
      "outputs": [
        {
          "output_type": "stream",
          "name": "stdout",
          "text": [
            "What do you want to have for dinner?df\n",
            "Not like that!!\n",
            "What do you want to have for dinner?gds\n",
            "Not like that!!\n",
            "What do you want to have for dinner?taco\n",
            "That is what I wanted!\n"
          ]
        }
      ]
    },
    {
      "cell_type": "markdown",
      "source": [
        "##Fizzbuzz"
      ],
      "metadata": {
        "id": "URy3c0NBkU2z"
      }
    },
    {
      "cell_type": "code",
      "source": [
        "# dest = int(input(\"Enter the number: \"))\n",
        "dest = 30 # for debugging\n",
        "\n",
        "for i in range(1,dest+1):\n",
        "  if i%15==0:\n",
        "    print(\"fizzbuzz\") # 2\n",
        "  elif i%3==0:\n",
        "    print(\"fizz\") # 10\n",
        "  elif i%5==0:\n",
        "    print(\"buzz\") # 6\n",
        "  else:\n",
        "    print(i) # 12\n",
        "\n",
        "# 흐름을 깨지 않는 선에서 경우의 수가 많은것대로 거르는 것이 성능에 맞음\n",
        "# %5을 먼저하고 %3을 하면 성능 손해"
      ],
      "metadata": {
        "colab": {
          "base_uri": "https://localhost:8080/"
        },
        "id": "QUVDooqljviW",
        "outputId": "57386564-dbb0-4314-8ce3-a0a178f08e81"
      },
      "execution_count": 284,
      "outputs": [
        {
          "output_type": "stream",
          "name": "stdout",
          "text": [
            "1\n",
            "2\n",
            "fizz\n",
            "4\n",
            "buzz\n",
            "fizz\n",
            "7\n",
            "8\n",
            "fizz\n",
            "buzz\n",
            "11\n",
            "fizz\n",
            "13\n",
            "14\n",
            "fizzbuzz\n",
            "16\n",
            "17\n",
            "fizz\n",
            "19\n",
            "buzz\n",
            "fizz\n",
            "22\n",
            "23\n",
            "fizz\n",
            "buzz\n",
            "26\n",
            "fizz\n",
            "28\n",
            "29\n",
            "fizzbuzz\n"
          ]
        }
      ]
    },
    {
      "cell_type": "code",
      "source": [
        "# 1 if statement or no if statement\n",
        "\n",
        "# dest = int(input(\"Enter the number: \"))\n",
        "dest = 30 # for debugging\n",
        "\n",
        "for i in range(1,dest+1):\n",
        "  print(\"fizz\" if i%3==0 else \"buzz\" if i%5==0 else i)\n",
        "\n",
        "\n",
        "# dict를 사용하는 방법도 있네ㅋㅋㅋ"
      ],
      "metadata": {
        "colab": {
          "base_uri": "https://localhost:8080/"
        },
        "id": "OmksB4fsk7DD",
        "outputId": "fc0cdb0b-31d2-4b11-c05f-396645b1fd20"
      },
      "execution_count": 286,
      "outputs": [
        {
          "output_type": "stream",
          "name": "stdout",
          "text": [
            "1\n",
            "2\n",
            "fizz\n",
            "4\n",
            "buzz\n",
            "fizz\n",
            "7\n",
            "8\n",
            "fizz\n",
            "buzz\n",
            "11\n",
            "fizz\n",
            "13\n",
            "14\n",
            "fizz\n",
            "16\n",
            "17\n",
            "fizz\n",
            "19\n",
            "buzz\n",
            "fizz\n",
            "22\n",
            "23\n",
            "fizz\n",
            "buzz\n",
            "26\n",
            "fizz\n",
            "28\n",
            "29\n",
            "fizz\n"
          ]
        }
      ]
    },
    {
      "cell_type": "code",
      "source": [
        "# dest = int(input(\"Enter the number: \"))\n",
        "dest = 30 # for debugging\n",
        "\n",
        "for i in range(1,dest+1):\n",
        "  if i%3==0 or i%5==0:\n",
        "    print(\"fizz\"*(i%3==0)+\"buzz\"*(i%5==0))\n",
        "  else:\n",
        "    print(i)"
      ],
      "metadata": {
        "colab": {
          "base_uri": "https://localhost:8080/"
        },
        "id": "W8DOaGeZosKG",
        "outputId": "861d9d48-41e4-40e9-891f-1752ae0731b6"
      },
      "execution_count": 290,
      "outputs": [
        {
          "output_type": "stream",
          "name": "stdout",
          "text": [
            "1\n",
            "2\n",
            "fizz\n",
            "4\n",
            "buzz\n",
            "fizz\n",
            "7\n",
            "8\n",
            "fizz\n",
            "buzz\n",
            "11\n",
            "fizz\n",
            "13\n",
            "14\n",
            "fizzbuzz\n",
            "16\n",
            "17\n",
            "fizz\n",
            "19\n",
            "buzz\n",
            "fizz\n",
            "22\n",
            "23\n",
            "fizz\n",
            "buzz\n",
            "26\n",
            "fizz\n",
            "28\n",
            "29\n",
            "fizzbuzz\n"
          ]
        }
      ]
    },
    {
      "cell_type": "code",
      "source": [
        "# dest = int(input(\"Enter the number: \"))\n",
        "dest = 30 # for debugging\n",
        "\n",
        "for i in range(1,dest+1):\n",
        "    print(\n",
        "      \"fizzbuzz\" if i%15==0 else \n",
        "      \"fizz\" if i%3==0 else \n",
        "      \"buzz\" if i%5==0 else \n",
        "      i)"
      ],
      "metadata": {
        "colab": {
          "base_uri": "https://localhost:8080/"
        },
        "id": "esKYJW5fpT9R",
        "outputId": "07b335f0-9575-47d2-9360-8cd15498785f"
      },
      "execution_count": 294,
      "outputs": [
        {
          "output_type": "stream",
          "name": "stdout",
          "text": [
            "1\n",
            "2\n",
            "fizz\n",
            "4\n",
            "buzz\n",
            "fizz\n",
            "7\n",
            "8\n",
            "fizz\n",
            "buzz\n",
            "11\n",
            "fizz\n",
            "13\n",
            "14\n",
            "fizzbuzz\n",
            "16\n",
            "17\n",
            "fizz\n",
            "19\n",
            "buzz\n",
            "fizz\n",
            "22\n",
            "23\n",
            "fizz\n",
            "buzz\n",
            "26\n",
            "fizz\n",
            "28\n",
            "29\n",
            "fizzbuzz\n"
          ]
        }
      ]
    },
    {
      "cell_type": "markdown",
      "source": [
        "## N-dimention array"
      ],
      "metadata": {
        "id": "DMPe44Yhihpf"
      }
    },
    {
      "cell_type": "code",
      "source": [
        "n = []\n",
        "n = [0 for _ in range(6)]\n",
        "print(n)"
      ],
      "metadata": {
        "colab": {
          "base_uri": "https://localhost:8080/"
        },
        "id": "xjgYtB18gXJl",
        "outputId": "9da526ee-713e-4978-cd87-ed983eec80ae"
      },
      "execution_count": 241,
      "outputs": [
        {
          "output_type": "stream",
          "name": "stdout",
          "text": [
            "[0, 0, 0, 0, 0, 0]\n"
          ]
        }
      ]
    },
    {
      "cell_type": "code",
      "source": [
        "n = []\n",
        "n = [n for n in range(6)]\n",
        "print(n)"
      ],
      "metadata": {
        "colab": {
          "base_uri": "https://localhost:8080/"
        },
        "id": "MRet-vTfhWTZ",
        "outputId": "95d85677-3bc0-4f50-9a2e-572c16ceedc2"
      },
      "execution_count": 250,
      "outputs": [
        {
          "output_type": "stream",
          "name": "stdout",
          "text": [
            "[0, 1, 2, 3, 4, 5]\n"
          ]
        }
      ]
    },
    {
      "cell_type": "code",
      "source": [
        "n = []\n",
        "n = [[n for _ in range(3)] for n in range(3)]\n",
        "print(n)"
      ],
      "metadata": {
        "colab": {
          "base_uri": "https://localhost:8080/"
        },
        "id": "6CrARWVjhttW",
        "outputId": "f1135a14-921d-49b0-da81-e1528dd6db0f"
      },
      "execution_count": 265,
      "outputs": [
        {
          "output_type": "stream",
          "name": "stdout",
          "text": [
            "[[0, 0, 0], [1, 1, 1], [2, 2, 2]]\n"
          ]
        }
      ]
    },
    {
      "cell_type": "code",
      "source": [
        "n = []\n",
        "n = [[n for n in range(3)] for _ in range(3)]\n",
        "print(n)"
      ],
      "metadata": {
        "colab": {
          "base_uri": "https://localhost:8080/"
        },
        "id": "2sOKPXEgjOLp",
        "outputId": "cd6947c4-c94a-42f8-cf6e-dfb845cf40ee"
      },
      "execution_count": 266,
      "outputs": [
        {
          "output_type": "stream",
          "name": "stdout",
          "text": [
            "[[0, 1, 2], [0, 1, 2], [0, 1, 2]]\n"
          ]
        }
      ]
    },
    {
      "cell_type": "code",
      "source": [
        "n = []\n",
        "n = [[n for n in range(3)] for n in range(3)]\n",
        "print(n)"
      ],
      "metadata": {
        "colab": {
          "base_uri": "https://localhost:8080/"
        },
        "id": "CN-ws2gLiK7A",
        "outputId": "545cd458-7917-47b1-c1da-566e41c0c34e"
      },
      "execution_count": 259,
      "outputs": [
        {
          "output_type": "stream",
          "name": "stdout",
          "text": [
            "[[0, 1, 2], [0, 1, 2], [0, 1, 2]]\n"
          ]
        }
      ]
    }
  ]
}