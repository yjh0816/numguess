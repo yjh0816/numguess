{
  "nbformat": 4,
  "nbformat_minor": 0,
  "metadata": {
    "colab": {
      "provenance": [],
      "authorship_tag": "ABX9TyNZnp1+LpiS8jwn4gcKoZ2U",
      "include_colab_link": true
    },
    "kernelspec": {
      "name": "python3",
      "display_name": "Python 3"
    },
    "language_info": {
      "name": "python"
    }
  },
  "cells": [
    {
      "cell_type": "markdown",
      "metadata": {
        "id": "view-in-github",
        "colab_type": "text"
      },
      "source": [
        "<a href=\"https://colab.research.google.com/github/yjh0816/numguess/blob/main/230111Day3.ipynb\" target=\"_parent\"><img src=\"https://colab.research.google.com/assets/colab-badge.svg\" alt=\"Open In Colab\"/></a>"
      ]
    },
    {
      "cell_type": "markdown",
      "source": [
        "##Practice(2)"
      ],
      "metadata": {
        "id": "_b2VKmxF9uMs"
      }
    },
    {
      "cell_type": "code",
      "source": [
        "user_input = 10\n",
        "\n",
        "i = user_input\n",
        "result = 0\n",
        "for i in range(1,user_input+1):\n",
        "  result += i\n",
        "print(result)"
      ],
      "metadata": {
        "colab": {
          "base_uri": "https://localhost:8080/"
        },
        "id": "wxo3abyw9tlN",
        "outputId": "a240642c-8503-44b2-ddcd-3bde4079848f"
      },
      "execution_count": 173,
      "outputs": [
        {
          "output_type": "stream",
          "name": "stdout",
          "text": [
            "55\n"
          ]
        }
      ]
    },
    {
      "cell_type": "code",
      "source": [
        "sample = [\n",
        "  [1, 0, 7, 0],\n",
        "  [0, 2, 0, 9],\n",
        "  [0, 6, 3, 7],\n",
        "  [4, 0, 5, 1],\n",
        "]\n",
        "\n",
        "result = 0\n",
        "for i in sample:\n",
        "  result += sum(i)\n",
        "print(result)"
      ],
      "metadata": {
        "colab": {
          "base_uri": "https://localhost:8080/"
        },
        "id": "ukQq8cNa-Mcu",
        "outputId": "851710b7-57d6-439b-8daa-d730ae3e8016"
      },
      "execution_count": 175,
      "outputs": [
        {
          "output_type": "stream",
          "name": "stdout",
          "text": [
            "45\n"
          ]
        }
      ]
    },
    {
      "cell_type": "markdown",
      "source": [
        "## get word list"
      ],
      "metadata": {
        "id": "H6Nruplaj3G7"
      }
    },
    {
      "cell_type": "code",
      "source": [
        "a_words = []\n",
        "with open('./a_word_list.txt') as f:\n",
        "  textlines = f.readlines()\n",
        "  for item in textlines:\n",
        "    a_words.append(item.replace('\\n',''))"
      ],
      "metadata": {
        "id": "tPCBbvJVj2E2"
      },
      "execution_count": 31,
      "outputs": []
    },
    {
      "cell_type": "code",
      "source": [
        "a_words"
      ],
      "metadata": {
        "colab": {
          "base_uri": "https://localhost:8080/"
        },
        "id": "zIdu1lTmj15r",
        "outputId": "39e43736-200a-4339-b6cd-08d622e17a23"
      },
      "execution_count": 32,
      "outputs": [
        {
          "output_type": "execute_result",
          "data": {
            "text/plain": [
              "['aback',\n",
              " 'abacus',\n",
              " 'abandon',\n",
              " 'abandoned',\n",
              " 'abandonment',\n",
              " 'abashed',\n",
              " 'abate',\n",
              " 'abbey',\n",
              " 'abbr.',\n",
              " 'abbreviate',\n",
              " 'abbreviation',\n",
              " 'ABC',\n",
              " \"ABC's\",\n",
              " 'abdicate',\n",
              " 'abdication',\n",
              " 'abdomen',\n",
              " 'abdominal',\n",
              " 'abduct',\n",
              " 'abduction',\n",
              " 'aberration',\n",
              " 'abet',\n",
              " 'abhor',\n",
              " 'abhorrence',\n",
              " 'abhorrent',\n",
              " 'abide',\n",
              " 'abiding',\n",
              " 'ability',\n",
              " 'abject',\n",
              " 'ablaze',\n",
              " 'able',\n",
              " 'able-bodied',\n",
              " 'ably',\n",
              " 'abnormal',\n",
              " 'abnormality',\n",
              " 'abnormally',\n",
              " 'aboard',\n",
              " 'abolish',\n",
              " 'abolition',\n",
              " 'abolitionist',\n",
              " 'abominable',\n",
              " 'aboriginal',\n",
              " 'aborigine',\n",
              " 'abort',\n",
              " 'abortion',\n",
              " 'abortive',\n",
              " 'abound',\n",
              " 'about',\n",
              " 'about-face',\n",
              " 'above',\n",
              " 'aboveboard',\n",
              " 'abrasive',\n",
              " 'abrasively',\n",
              " 'abreast',\n",
              " 'abridge',\n",
              " 'abridgment',\n",
              " 'abroad',\n",
              " 'abrupt',\n",
              " 'abruptly',\n",
              " 'abruptness',\n",
              " 'abscess',\n",
              " 'abscond',\n",
              " 'absence',\n",
              " 'absent',\n",
              " 'absentee',\n",
              " 'absenteeism',\n",
              " 'absently',\n",
              " 'absent-minded',\n",
              " 'absent-mindedly',\n",
              " 'absent-mindedness',\n",
              " 'absolute',\n",
              " 'absolutely',\n",
              " 'absolve',\n",
              " 'absorb',\n",
              " 'absorbed',\n",
              " 'absorbent',\n",
              " 'absorbing',\n",
              " 'absorption',\n",
              " 'abstain',\n",
              " 'abstention',\n",
              " 'abstinence',\n",
              " 'abstinent',\n",
              " 'abstract',\n",
              " 'abstraction',\n",
              " 'absurd',\n",
              " 'absurdity',\n",
              " 'absurdly',\n",
              " 'abundance',\n",
              " 'abundant',\n",
              " 'abundantly',\n",
              " 'abuse',\n",
              " 'abusive',\n",
              " 'abysmal',\n",
              " 'abysmally',\n",
              " 'abyss',\n",
              " 'AC',\n",
              " 'academic',\n",
              " 'academically',\n",
              " 'academy',\n",
              " 'accelerate',\n",
              " 'acceleration',\n",
              " 'accelerator',\n",
              " 'accent',\n",
              " 'accented',\n",
              " 'accentuate',\n",
              " 'accept',\n",
              " 'acceptability',\n",
              " 'acceptable',\n",
              " 'acceptably',\n",
              " 'acceptance',\n",
              " 'accepted',\n",
              " 'access',\n",
              " 'accessibility',\n",
              " 'accessible',\n",
              " 'accessory',\n",
              " 'accident',\n",
              " 'accidental',\n",
              " 'accidentally',\n",
              " 'accident-prone',\n",
              " 'acclaim',\n",
              " 'acclaimed',\n",
              " 'acclimate',\n",
              " 'acclimation',\n",
              " 'accolade',\n",
              " 'accommodate',\n",
              " 'accommodating',\n",
              " 'accommodation',\n",
              " 'accommodations',\n",
              " 'accompaniment',\n",
              " 'accompanist',\n",
              " 'accompany',\n",
              " 'accomplice',\n",
              " 'accomplish',\n",
              " 'accomplished',\n",
              " 'accomplishment',\n",
              " 'accord',\n",
              " 'accordance',\n",
              " 'accordingly',\n",
              " 'according to',\n",
              " 'accordion',\n",
              " 'accost',\n",
              " 'account',\n",
              " 'accountability',\n",
              " 'accountable',\n",
              " 'accountant',\n",
              " 'accounting',\n",
              " 'accreditation',\n",
              " 'accredited',\n",
              " 'accrue',\n",
              " 'accumulate',\n",
              " 'accumulation',\n",
              " 'accuracy',\n",
              " 'accurate',\n",
              " 'accurately',\n",
              " 'accusation',\n",
              " 'accuse',\n",
              " 'accused',\n",
              " 'accuser',\n",
              " 'accusing',\n",
              " 'accusingly',\n",
              " 'accustom',\n",
              " 'accustomed',\n",
              " 'ace',\n",
              " 'acerbic',\n",
              " 'ache',\n",
              " 'achieve',\n",
              " 'achievement',\n",
              " 'achiever',\n",
              " \"Achilles' heel\",\n",
              " 'achy',\n",
              " 'acid',\n",
              " 'acidic',\n",
              " 'acidity',\n",
              " 'acid rain',\n",
              " 'acknowledge',\n",
              " 'acknowledged',\n",
              " 'acknowledgment',\n",
              " 'acne',\n",
              " 'acorn',\n",
              " 'acoustic',\n",
              " 'acoustics',\n",
              " 'acquaint',\n",
              " 'acquaintance',\n",
              " 'acquainted',\n",
              " 'acquiesce',\n",
              " 'acquiescence',\n",
              " 'acquire',\n",
              " 'acquisition',\n",
              " 'acquit',\n",
              " 'acquittal',\n",
              " 'acre',\n",
              " 'acrid',\n",
              " 'acrimonious',\n",
              " 'acrimony',\n",
              " 'acrobat',\n",
              " 'acrobatic',\n",
              " 'acrobatics',\n",
              " 'acronym',\n",
              " 'across',\n",
              " 'across from',\n",
              " 'across-the-board',\n",
              " 'acrylic',\n",
              " 'ACT',\n",
              " 'act',\n",
              " 'acting',\n",
              " 'action',\n",
              " 'activate',\n",
              " 'activation',\n",
              " 'active',\n",
              " 'activism',\n",
              " 'activist',\n",
              " 'activity',\n",
              " 'actor',\n",
              " 'actress',\n",
              " 'actual',\n",
              " 'actuality',\n",
              " 'actualization',\n",
              " 'actually',\n",
              " 'acumen',\n",
              " 'acupuncture',\n",
              " 'acute',\n",
              " 'acute angle',\n",
              " 'acutely',\n",
              " 'ad',\n",
              " 'A.D.',\n",
              " 'adage',\n",
              " 'adamant',\n",
              " 'adamantly',\n",
              " \"Adam's apple\",\n",
              " 'adapt',\n",
              " 'adaptable',\n",
              " 'adaptation',\n",
              " 'adapter',\n",
              " 'add',\n",
              " 'addict',\n",
              " 'addicted',\n",
              " 'addiction',\n",
              " 'addictive',\n",
              " 'addition',\n",
              " 'additional',\n",
              " 'additionally',\n",
              " 'additive',\n",
              " 'address',\n",
              " 'adept',\n",
              " 'adeptly',\n",
              " 'adequacy',\n",
              " 'adequate',\n",
              " 'adequately',\n",
              " 'adhere',\n",
              " 'adherence',\n",
              " 'adherent',\n",
              " 'adhesion',\n",
              " 'adhesive',\n",
              " 'ad hoc',\n",
              " 'adjacent',\n",
              " 'adjectival',\n",
              " 'adjective',\n",
              " 'adjoin',\n",
              " 'adjoining',\n",
              " 'adjourn',\n",
              " 'adjournment',\n",
              " 'adjudicate',\n",
              " 'adjudicator',\n",
              " 'adjunct',\n",
              " 'adjust',\n",
              " 'adjustable',\n",
              " 'adjustment',\n",
              " 'ad lib',\n",
              " 'ad-lib',\n",
              " 'administer',\n",
              " 'administration',\n",
              " 'administrative',\n",
              " 'administrator',\n",
              " 'admirable',\n",
              " 'admirably',\n",
              " 'admiral',\n",
              " 'admiration',\n",
              " 'admire',\n",
              " 'admirer',\n",
              " 'admiring',\n",
              " 'admiringly',\n",
              " 'admissible',\n",
              " 'admission',\n",
              " 'admit',\n",
              " 'admittance',\n",
              " 'admittedly',\n",
              " 'admonish',\n",
              " 'admonition',\n",
              " 'adobe',\n",
              " 'adolescence',\n",
              " 'adolescent',\n",
              " 'adopt',\n",
              " 'adopted',\n",
              " 'adoption',\n",
              " 'adoptive',\n",
              " 'adorable',\n",
              " 'adoration',\n",
              " 'adore',\n",
              " 'adorn',\n",
              " 'adornment',\n",
              " 'adrenaline',\n",
              " 'adrift',\n",
              " 'adroit',\n",
              " 'adroitly',\n",
              " 'adulation',\n",
              " 'adult',\n",
              " 'adulterate',\n",
              " 'adulteration',\n",
              " 'adultery',\n",
              " 'advance',\n",
              " 'advanced',\n",
              " 'advancement',\n",
              " 'advantage',\n",
              " 'advantageous',\n",
              " 'Advent',\n",
              " 'advent',\n",
              " 'adventure',\n",
              " 'adventurer',\n",
              " 'adventurous',\n",
              " 'adverb',\n",
              " 'adverbial',\n",
              " 'adversary',\n",
              " 'adverse',\n",
              " 'adversely',\n",
              " 'adversity',\n",
              " 'advertise',\n",
              " 'advertisement',\n",
              " 'advertiser',\n",
              " 'advertising',\n",
              " 'advice',\n",
              " 'advisable',\n",
              " 'advise',\n",
              " 'adviser',\n",
              " 'advisory',\n",
              " 'advocacy',\n",
              " 'advocate',\n",
              " 'aerial',\n",
              " 'aerobic',\n",
              " 'aerobics',\n",
              " 'aerodynamic',\n",
              " 'aerodynamics',\n",
              " 'aerosol',\n",
              " 'aerospace',\n",
              " 'aesthetic',\n",
              " 'aesthetically',\n",
              " 'aesthetics',\n",
              " 'afar',\n",
              " 'affable',\n",
              " 'affably',\n",
              " 'affair',\n",
              " 'affairs',\n",
              " 'affect',\n",
              " 'affectation',\n",
              " 'affected',\n",
              " 'affection',\n",
              " 'affectionate',\n",
              " 'affectionately',\n",
              " 'affidavit',\n",
              " 'affiliate',\n",
              " 'affiliated',\n",
              " 'affiliation',\n",
              " 'affinity',\n",
              " 'affirm',\n",
              " 'affirmation',\n",
              " 'affirmative',\n",
              " 'affirmative action',\n",
              " 'affirmatively',\n",
              " 'affix',\n",
              " 'afflict',\n",
              " 'affliction',\n",
              " 'affluence',\n",
              " 'affluent',\n",
              " 'afford',\n",
              " 'affordable',\n",
              " 'affront',\n",
              " 'afloat',\n",
              " 'afraid',\n",
              " 'afresh',\n",
              " 'Africa',\n",
              " 'African',\n",
              " 'African-American',\n",
              " 'after',\n",
              " 'aftereffect',\n",
              " 'afterlife',\n",
              " 'aftermath',\n",
              " 'afternoon',\n",
              " 'aftershave',\n",
              " 'aftershock',\n",
              " 'afterthought',\n",
              " 'afterward',\n",
              " 'afterwards',\n",
              " 'again',\n",
              " 'against',\n",
              " 'age',\n",
              " 'aged',\n",
              " 'agency',\n",
              " 'agenda',\n",
              " 'agent',\n",
              " 'ages',\n",
              " 'aggravate',\n",
              " 'aggravating',\n",
              " 'aggravation',\n",
              " 'aggression',\n",
              " 'aggressive',\n",
              " 'aggressively',\n",
              " 'aggressiveness',\n",
              " 'aggressor',\n",
              " 'aggrieved',\n",
              " 'aghast',\n",
              " 'agile',\n",
              " 'agility',\n",
              " 'aging',\n",
              " 'agitate',\n",
              " 'agitated',\n",
              " 'agitation',\n",
              " 'agitator',\n",
              " 'agnostic',\n",
              " 'agnosticism',\n",
              " 'ago',\n",
              " 'agonize',\n",
              " 'agonized',\n",
              " 'agonizing',\n",
              " 'agonizingly',\n",
              " 'agony',\n",
              " 'agree',\n",
              " 'agreeable',\n",
              " 'agreeably',\n",
              " 'agreed',\n",
              " 'agreement',\n",
              " 'agricultural',\n",
              " 'agriculture',\n",
              " 'ah',\n",
              " 'aha',\n",
              " 'ahead',\n",
              " 'aid',\n",
              " 'aide',\n",
              " 'AIDS',\n",
              " 'ailing',\n",
              " 'ailment',\n",
              " 'aim',\n",
              " 'aimless',\n",
              " 'aimlessly',\n",
              " \"ain't\",\n",
              " 'air',\n",
              " 'air bag',\n",
              " 'air base',\n",
              " 'airborne',\n",
              " 'air-conditioned',\n",
              " 'air conditioner',\n",
              " 'air conditioning',\n",
              " 'aircraft',\n",
              " 'aircraft carrier',\n",
              " 'airfare',\n",
              " 'airfield',\n",
              " 'air force',\n",
              " 'airily',\n",
              " 'airing',\n",
              " 'airless',\n",
              " 'airline',\n",
              " 'airliner',\n",
              " 'airmail',\n",
              " 'airplane',\n",
              " 'airport',\n",
              " 'air raid',\n",
              " 'airs',\n",
              " 'airspace',\n",
              " 'airstrip',\n",
              " 'airtight',\n",
              " 'air time',\n",
              " 'air traffic controller',\n",
              " 'airwaves',\n",
              " 'airy',\n",
              " 'aisle',\n",
              " 'ajar',\n",
              " 'akin',\n",
              " 'a la carte',\n",
              " 'a la mode',\n",
              " 'alarm',\n",
              " 'alarm clock',\n",
              " 'alarmed',\n",
              " 'alarming',\n",
              " 'alarmingly',\n",
              " 'alarmist',\n",
              " 'alas',\n",
              " 'albeit',\n",
              " 'albino',\n",
              " 'album',\n",
              " 'alcohol',\n",
              " 'alcoholic',\n",
              " 'alcoholism',\n",
              " 'alcove',\n",
              " 'alderman',\n",
              " 'alderwoman',\n",
              " 'ale',\n",
              " 'alert',\n",
              " 'alfalfa',\n",
              " 'algae',\n",
              " 'algebra',\n",
              " 'algebraic',\n",
              " 'algorithm',\n",
              " 'alias',\n",
              " 'alibi',\n",
              " 'alien',\n",
              " 'alienate',\n",
              " 'alienation',\n",
              " 'alight',\n",
              " 'align',\n",
              " 'alignment',\n",
              " 'alike',\n",
              " 'alimony',\n",
              " 'alive',\n",
              " 'alkali',\n",
              " 'alkaline',\n",
              " 'all',\n",
              " 'Allah',\n",
              " 'all-American',\n",
              " 'all-around',\n",
              " 'allay',\n",
              " 'all-clear',\n",
              " 'allegation',\n",
              " 'allege',\n",
              " 'alleged',\n",
              " 'allegedly',\n",
              " 'allegiance',\n",
              " 'allegorical',\n",
              " 'allegory',\n",
              " 'allergic',\n",
              " 'allergy',\n",
              " 'alleviate',\n",
              " 'alleviation',\n",
              " 'alley',\n",
              " 'alliance',\n",
              " 'allied',\n",
              " 'alligator',\n",
              " 'all-inclusive',\n",
              " 'allocate',\n",
              " 'allocation',\n",
              " 'allot',\n",
              " 'allotment',\n",
              " 'all-out',\n",
              " 'allow',\n",
              " 'allowable',\n",
              " 'allowance',\n",
              " 'alloy',\n",
              " 'all right',\n",
              " 'all-star',\n",
              " 'allude',\n",
              " 'allure',\n",
              " 'alluring',\n",
              " 'allusion',\n",
              " 'ally',\n",
              " 'alma mater',\n",
              " 'almanac',\n",
              " 'almighty',\n",
              " 'almond',\n",
              " 'almost',\n",
              " 'alms',\n",
              " 'aloft',\n",
              " 'aloha',\n",
              " 'alone',\n",
              " 'along',\n",
              " 'alongside',\n",
              " 'aloof',\n",
              " 'aloud',\n",
              " 'alphabet',\n",
              " 'alphabetical',\n",
              " 'alphabetically',\n",
              " 'alpine',\n",
              " 'already',\n",
              " 'alright',\n",
              " 'also',\n",
              " 'altar',\n",
              " 'alter',\n",
              " 'alteration',\n",
              " 'altercation',\n",
              " 'alternate',\n",
              " 'alternately',\n",
              " 'alternation',\n",
              " 'alternative',\n",
              " 'alternatively',\n",
              " 'although',\n",
              " 'altitude',\n",
              " 'alto',\n",
              " 'altogether',\n",
              " 'altruism',\n",
              " 'altruistic',\n",
              " 'aluminum',\n",
              " 'alumna',\n",
              " 'alumnae',\n",
              " 'alumni',\n",
              " 'alumnus',\n",
              " 'always',\n",
              " 'AM',\n",
              " 'am',\n",
              " 'A.M.',\n",
              " 'amalgamate',\n",
              " 'amalgamation',\n",
              " 'amass',\n",
              " 'amateur',\n",
              " 'amateurish',\n",
              " 'amaze',\n",
              " 'amazed',\n",
              " 'amazement',\n",
              " 'amazing',\n",
              " 'amazingly',\n",
              " 'ambassador',\n",
              " 'ambassadorial',\n",
              " 'amber',\n",
              " 'ambiance',\n",
              " 'ambidextrous',\n",
              " 'ambiguity',\n",
              " 'ambiguous',\n",
              " 'ambiguously',\n",
              " 'ambition',\n",
              " 'ambitious',\n",
              " 'ambitiously',\n",
              " 'ambivalence',\n",
              " 'ambivalent',\n",
              " 'amble',\n",
              " 'ambulance',\n",
              " 'ambush',\n",
              " 'ameliorate',\n",
              " 'amelioration',\n",
              " 'amen',\n",
              " 'amenable',\n",
              " 'amend',\n",
              " 'amendment',\n",
              " 'amends',\n",
              " 'amenity',\n",
              " 'America',\n",
              " 'American',\n",
              " 'Americana',\n",
              " 'American dream',\n",
              " 'American Indian',\n",
              " 'Americanism',\n",
              " 'amiable',\n",
              " 'amiably',\n",
              " 'amicable',\n",
              " 'amicably',\n",
              " 'amid',\n",
              " 'amidst',\n",
              " 'amiss',\n",
              " 'ammo',\n",
              " 'ammonia',\n",
              " 'ammunition',\n",
              " 'amnesia',\n",
              " 'amnesiac',\n",
              " 'amnesty',\n",
              " 'amoeba',\n",
              " 'amok',\n",
              " 'among',\n",
              " 'amongst',\n",
              " 'amoral',\n",
              " 'amorous',\n",
              " 'amorphous',\n",
              " 'amount',\n",
              " 'amp',\n",
              " 'ampere',\n",
              " 'amphetamine',\n",
              " 'amphibian',\n",
              " 'amphibious']"
            ]
          },
          "metadata": {},
          "execution_count": 32
        }
      ]
    },
    {
      "cell_type": "code",
      "source": [
        "## remind\n",
        "\n",
        "len_count = {}\n",
        "for i in map(len, a_words):\n",
        "  if i in len_count:\n",
        "    len_count[i] += 1\n",
        "  else:\n",
        "    len_count[i] = 1\n",
        "len_count"
      ],
      "metadata": {
        "colab": {
          "base_uri": "https://localhost:8080/"
        },
        "id": "OEcgp-wI-zuM",
        "outputId": "805755cd-80d5-4eb6-d131-a41f175e2d45"
      },
      "execution_count": 177,
      "outputs": [
        {
          "output_type": "execute_result",
          "data": {
            "text/plain": [
              "{5: 67,\n",
              " 6: 80,\n",
              " 7: 85,\n",
              " 9: 89,\n",
              " 11: 47,\n",
              " 10: 86,\n",
              " 12: 25,\n",
              " 3: 14,\n",
              " 8: 96,\n",
              " 4: 28,\n",
              " 13: 15,\n",
              " 15: 4,\n",
              " 17: 1,\n",
              " 2: 5,\n",
              " 14: 12,\n",
              " 16: 4,\n",
              " 18: 1,\n",
              " 22: 1}"
            ]
          },
          "metadata": {},
          "execution_count": 177
        }
      ]
    },
    {
      "cell_type": "code",
      "source": [],
      "metadata": {
        "id": "zcPXQlcY-6Yy"
      },
      "execution_count": null,
      "outputs": []
    },
    {
      "cell_type": "markdown",
      "source": [
        "# Monty Hall Problem and Github project\n",
        "## Late"
      ],
      "metadata": {
        "id": "H4iRNwtXJasO"
      }
    },
    {
      "cell_type": "code",
      "source": [
        "# gant chart vs can-ban board\n",
        "# git project : table 요구명세서 / board/ backlog : task"
      ],
      "metadata": {
        "id": "fjlmbw9_JZpt"
      },
      "execution_count": null,
      "outputs": []
    },
    {
      "cell_type": "code",
      "source": [
        "# 몬티홀.py 만들기\n",
        "# 몬티홀 문제를 해결하는 단계를 쪼개서 이슈작성\n",
        "# 프로젝트\n",
        "# 3개의 doors을 list로 구현\n",
        "# goat = 0 sport_car = 1\n",
        "# list shuffle\n",
        "# 시뮬레이션 횟수는 짝궁과 협의\n",
        "# 시뮬레이션 결과를 보여주면됨\n",
        "# 고수했을때 바꿨을때 몇 퍼센트 이겼다 확률을 보여주면 됨\n",
        "# 문을 바꿨을때 이길 확률과 안바꿨을때 이길 확률"
      ],
      "metadata": {
        "id": "m03aEIvgLmXS"
      },
      "execution_count": null,
      "outputs": []
    },
    {
      "cell_type": "code",
      "source": [
        "from random import shuffle, choice\n",
        "\n",
        "doors = [\n",
        "    0, \n",
        "    0, \n",
        "    1,\n",
        "]\n",
        "shuffle(doors)\n",
        "doors\n",
        "choice(doors)"
      ],
      "metadata": {
        "colab": {
          "base_uri": "https://localhost:8080/"
        },
        "id": "YSiS9uo0LmTx",
        "outputId": "00074941-2d6a-4c9a-a419-e5441ec786db"
      },
      "execution_count": 13,
      "outputs": [
        {
          "output_type": "execute_result",
          "data": {
            "text/plain": [
              "0"
            ]
          },
          "metadata": {},
          "execution_count": 13
        }
      ]
    },
    {
      "cell_type": "code",
      "source": [
        "# 루프를 100번씩 돌자\n",
        "# 3개의 doors을 list로 구현\n",
        "# goat = 0 sport_car = 1\n",
        "# list shuffle\n",
        "# stay, change case로\n",
        "\n",
        "\n",
        "#1. 문제세팅\n",
        "#  1-1. 바꾸는 케이스와 바꾸지 않는 케이스를 구분하기 위한 flag를 만들고 초기화한다\n",
        "#  1-2. 정답 카운트를 저장하기 위한 변수를 만들고 0으로 초기화한다\n",
        "#  1-3. 염소 2마리와 스포츠카 1대를 배치한다\n",
        "#  1-4. #1-5부터 #4-2의 과정을 반복하기 위해 200회 반복을 세팅한다\n",
        "#  1-5. #1-3에서 배치된 3가지를 섞는다\n",
        "#  1-6. 사용자는 문 하나를 선택한다\n",
        "#2. 전반부:염소제거 \n",
        "#  2-1. 사용자가 선택한 문을 제외한 두 문을 확인한다\n",
        "#  2-2. 두 문중 염소가 들어있는 문이 하나라면 그 문을 공개한다\n",
        "#  2-3. 두 문다 염소가 들어있다면 랜덤하게 문을 공개한다\n",
        "#3. 종반부:바꿀지확인 \n",
        "#  3-1. flag를 확인하여 다음과 같은 분기로 나눈다\n",
        "#    3-1-1. 바꾸는 케이스 : 기존에 사용자가 선택한 문,공개된 문을 제외한 다른 문을 선택으로 변경한다\n",
        "#    3-1-2. 바꾸지 않는 케이스 : 선택을 변경하지 않는다\n",
        "#4. 후반부:결과확인\n",
        "#  4-1. 사용자가 선택한 문과 스포츠카가 있는 문을 비교하여 정답일때 정답 카운트를 올린다\n",
        "#  4-2. 상기 과정의 반복이 100번 반복되면 flag를 변경하여 케이스를 변경한다\n",
        "#  4-2. 상기 과정의 반복이 종료되면 정답 카운트를 출력한다"
      ],
      "metadata": {
        "id": "80Ms6JTzMBXP"
      },
      "execution_count": null,
      "outputs": []
    },
    {
      "cell_type": "code",
      "source": [
        "from random import shuffle, choice\n",
        "\n",
        "flag = False\n",
        "s_count = 0\n",
        "c_count = 0\n",
        "# goat = 0, car = 1\n",
        "doors = [\n",
        "    0, \n",
        "    0, \n",
        "    1,\n",
        "]\n",
        "\n",
        "# Loop 200 cycle for calculating win rate each stay, change case\n",
        "for i in range(1,200+1):\n",
        "  shuffle(doors)\n",
        "  print(doors) \n",
        "  user_choice = choice(doors)\n",
        "  print(user_choice)"
      ],
      "metadata": {
        "colab": {
          "base_uri": "https://localhost:8080/"
        },
        "id": "y9UdCae8bWgx",
        "outputId": "fdf59281-0ff1-4522-9c9b-88bd975920cd"
      },
      "execution_count": 14,
      "outputs": [
        {
          "output_type": "stream",
          "name": "stdout",
          "text": [
            "[0, 0, 1]\n",
            "1\n",
            "[0, 0, 1]\n",
            "0\n",
            "[0, 1, 0]\n",
            "0\n",
            "[0, 1, 0]\n",
            "0\n",
            "[1, 0, 0]\n",
            "0\n",
            "[0, 0, 1]\n",
            "0\n",
            "[1, 0, 0]\n",
            "1\n",
            "[1, 0, 0]\n",
            "0\n",
            "[0, 1, 0]\n",
            "0\n",
            "[0, 1, 0]\n",
            "0\n",
            "[1, 0, 0]\n",
            "0\n",
            "[1, 0, 0]\n",
            "0\n",
            "[0, 0, 1]\n",
            "1\n",
            "[0, 1, 0]\n",
            "0\n",
            "[0, 1, 0]\n",
            "1\n",
            "[0, 0, 1]\n",
            "0\n",
            "[0, 0, 1]\n",
            "0\n",
            "[0, 1, 0]\n",
            "0\n",
            "[0, 0, 1]\n",
            "1\n",
            "[0, 0, 1]\n",
            "1\n",
            "[1, 0, 0]\n",
            "0\n",
            "[0, 0, 1]\n",
            "1\n",
            "[1, 0, 0]\n",
            "1\n",
            "[1, 0, 0]\n",
            "1\n",
            "[1, 0, 0]\n",
            "0\n",
            "[0, 0, 1]\n",
            "1\n",
            "[1, 0, 0]\n",
            "0\n",
            "[0, 1, 0]\n",
            "0\n",
            "[0, 1, 0]\n",
            "0\n",
            "[1, 0, 0]\n",
            "0\n",
            "[0, 0, 1]\n",
            "0\n",
            "[1, 0, 0]\n",
            "0\n",
            "[1, 0, 0]\n",
            "0\n",
            "[0, 0, 1]\n",
            "0\n",
            "[0, 0, 1]\n",
            "0\n",
            "[0, 0, 1]\n",
            "0\n",
            "[1, 0, 0]\n",
            "0\n",
            "[1, 0, 0]\n",
            "0\n",
            "[1, 0, 0]\n",
            "1\n",
            "[0, 1, 0]\n",
            "0\n",
            "[0, 1, 0]\n",
            "0\n",
            "[0, 1, 0]\n",
            "1\n",
            "[0, 0, 1]\n",
            "0\n",
            "[0, 1, 0]\n",
            "0\n",
            "[0, 1, 0]\n",
            "1\n",
            "[0, 1, 0]\n",
            "0\n",
            "[1, 0, 0]\n",
            "1\n",
            "[0, 0, 1]\n",
            "1\n",
            "[0, 1, 0]\n",
            "0\n",
            "[0, 1, 0]\n",
            "1\n",
            "[0, 1, 0]\n",
            "1\n",
            "[0, 0, 1]\n",
            "0\n",
            "[0, 0, 1]\n",
            "0\n",
            "[1, 0, 0]\n",
            "0\n",
            "[0, 1, 0]\n",
            "0\n",
            "[0, 1, 0]\n",
            "0\n",
            "[1, 0, 0]\n",
            "1\n",
            "[1, 0, 0]\n",
            "0\n",
            "[0, 0, 1]\n",
            "1\n",
            "[0, 1, 0]\n",
            "0\n",
            "[1, 0, 0]\n",
            "0\n",
            "[0, 1, 0]\n",
            "0\n",
            "[0, 1, 0]\n",
            "1\n",
            "[0, 0, 1]\n",
            "0\n",
            "[0, 0, 1]\n",
            "0\n",
            "[0, 0, 1]\n",
            "0\n",
            "[0, 1, 0]\n",
            "1\n",
            "[0, 0, 1]\n",
            "0\n",
            "[0, 1, 0]\n",
            "1\n",
            "[0, 1, 0]\n",
            "1\n",
            "[0, 1, 0]\n",
            "1\n",
            "[1, 0, 0]\n",
            "1\n",
            "[0, 1, 0]\n",
            "1\n",
            "[1, 0, 0]\n",
            "1\n",
            "[0, 1, 0]\n",
            "0\n",
            "[1, 0, 0]\n",
            "0\n",
            "[0, 0, 1]\n",
            "1\n",
            "[1, 0, 0]\n",
            "0\n",
            "[0, 1, 0]\n",
            "0\n",
            "[0, 0, 1]\n",
            "0\n",
            "[0, 1, 0]\n",
            "0\n",
            "[0, 1, 0]\n",
            "0\n",
            "[0, 0, 1]\n",
            "1\n",
            "[0, 1, 0]\n",
            "0\n",
            "[1, 0, 0]\n",
            "0\n",
            "[0, 0, 1]\n",
            "0\n",
            "[0, 0, 1]\n",
            "0\n",
            "[0, 1, 0]\n",
            "1\n",
            "[0, 1, 0]\n",
            "0\n",
            "[1, 0, 0]\n",
            "1\n",
            "[0, 0, 1]\n",
            "0\n",
            "[0, 1, 0]\n",
            "0\n",
            "[1, 0, 0]\n",
            "1\n",
            "[0, 0, 1]\n",
            "0\n",
            "[0, 0, 1]\n",
            "1\n",
            "[0, 0, 1]\n",
            "0\n",
            "[1, 0, 0]\n",
            "0\n",
            "[0, 1, 0]\n",
            "0\n",
            "[1, 0, 0]\n",
            "0\n",
            "[1, 0, 0]\n",
            "0\n",
            "[0, 1, 0]\n",
            "0\n",
            "[0, 0, 1]\n",
            "0\n",
            "[1, 0, 0]\n",
            "0\n",
            "[1, 0, 0]\n",
            "0\n",
            "[1, 0, 0]\n",
            "0\n",
            "[0, 0, 1]\n",
            "0\n",
            "[0, 0, 1]\n",
            "1\n",
            "[1, 0, 0]\n",
            "0\n",
            "[0, 0, 1]\n",
            "1\n",
            "[1, 0, 0]\n",
            "0\n",
            "[1, 0, 0]\n",
            "0\n",
            "[0, 0, 1]\n",
            "0\n",
            "[1, 0, 0]\n",
            "0\n",
            "[1, 0, 0]\n",
            "0\n",
            "[0, 1, 0]\n",
            "0\n",
            "[0, 1, 0]\n",
            "0\n",
            "[1, 0, 0]\n",
            "0\n",
            "[1, 0, 0]\n",
            "1\n",
            "[0, 0, 1]\n",
            "1\n",
            "[0, 0, 1]\n",
            "1\n",
            "[0, 1, 0]\n",
            "0\n",
            "[1, 0, 0]\n",
            "0\n",
            "[0, 0, 1]\n",
            "0\n",
            "[0, 0, 1]\n",
            "0\n",
            "[1, 0, 0]\n",
            "0\n",
            "[0, 1, 0]\n",
            "1\n",
            "[0, 0, 1]\n",
            "1\n",
            "[0, 0, 1]\n",
            "0\n",
            "[0, 1, 0]\n",
            "1\n",
            "[1, 0, 0]\n",
            "1\n",
            "[1, 0, 0]\n",
            "0\n",
            "[0, 0, 1]\n",
            "0\n",
            "[1, 0, 0]\n",
            "0\n",
            "[1, 0, 0]\n",
            "0\n",
            "[0, 0, 1]\n",
            "1\n",
            "[1, 0, 0]\n",
            "0\n",
            "[0, 0, 1]\n",
            "0\n",
            "[1, 0, 0]\n",
            "0\n",
            "[0, 0, 1]\n",
            "0\n",
            "[0, 0, 1]\n",
            "1\n",
            "[0, 0, 1]\n",
            "1\n",
            "[0, 0, 1]\n",
            "1\n",
            "[0, 1, 0]\n",
            "0\n",
            "[0, 1, 0]\n",
            "0\n",
            "[0, 0, 1]\n",
            "1\n",
            "[0, 0, 1]\n",
            "0\n",
            "[1, 0, 0]\n",
            "1\n",
            "[0, 1, 0]\n",
            "0\n",
            "[1, 0, 0]\n",
            "0\n",
            "[0, 1, 0]\n",
            "0\n",
            "[0, 1, 0]\n",
            "1\n",
            "[0, 0, 1]\n",
            "1\n",
            "[0, 1, 0]\n",
            "0\n",
            "[1, 0, 0]\n",
            "0\n",
            "[1, 0, 0]\n",
            "0\n",
            "[1, 0, 0]\n",
            "0\n",
            "[0, 0, 1]\n",
            "0\n",
            "[0, 0, 1]\n",
            "0\n",
            "[0, 1, 0]\n",
            "1\n",
            "[1, 0, 0]\n",
            "0\n",
            "[1, 0, 0]\n",
            "0\n",
            "[0, 1, 0]\n",
            "0\n",
            "[1, 0, 0]\n",
            "1\n",
            "[0, 1, 0]\n",
            "0\n",
            "[0, 0, 1]\n",
            "0\n",
            "[0, 1, 0]\n",
            "0\n",
            "[0, 0, 1]\n",
            "0\n",
            "[0, 0, 1]\n",
            "0\n",
            "[0, 0, 1]\n",
            "0\n",
            "[0, 1, 0]\n",
            "0\n",
            "[0, 1, 0]\n",
            "0\n",
            "[0, 1, 0]\n",
            "0\n",
            "[0, 0, 1]\n",
            "0\n",
            "[0, 0, 1]\n",
            "1\n",
            "[0, 1, 0]\n",
            "1\n",
            "[0, 1, 0]\n",
            "0\n",
            "[0, 1, 0]\n",
            "0\n",
            "[1, 0, 0]\n",
            "0\n",
            "[1, 0, 0]\n",
            "1\n",
            "[0, 1, 0]\n",
            "0\n",
            "[0, 0, 1]\n",
            "0\n",
            "[0, 1, 0]\n",
            "1\n",
            "[0, 0, 1]\n",
            "1\n",
            "[1, 0, 0]\n",
            "0\n",
            "[0, 0, 1]\n",
            "0\n",
            "[0, 0, 1]\n",
            "1\n",
            "[0, 0, 1]\n",
            "0\n",
            "[0, 0, 1]\n",
            "1\n",
            "[1, 0, 0]\n",
            "1\n",
            "[0, 0, 1]\n",
            "1\n",
            "[0, 0, 1]\n",
            "0\n",
            "[1, 0, 0]\n",
            "1\n",
            "[1, 0, 0]\n",
            "1\n",
            "[0, 0, 1]\n",
            "1\n",
            "[1, 0, 0]\n",
            "1\n",
            "[1, 0, 0]\n",
            "0\n",
            "[0, 0, 1]\n",
            "0\n",
            "[1, 0, 0]\n",
            "0\n",
            "[0, 1, 0]\n",
            "1\n",
            "[1, 0, 0]\n",
            "1\n"
          ]
        }
      ]
    },
    {
      "cell_type": "markdown",
      "source": [
        "# Function"
      ],
      "metadata": {
        "id": "HOxvl2o5lbYR"
      }
    },
    {
      "cell_type": "code",
      "source": [
        "def say_hello():\n",
        "  print(\"Hello, world!\")"
      ],
      "metadata": {
        "id": "xbXL3Giaj0Y5"
      },
      "execution_count": 33,
      "outputs": []
    },
    {
      "cell_type": "code",
      "source": [
        "say_hello() "
      ],
      "metadata": {
        "colab": {
          "base_uri": "https://localhost:8080/"
        },
        "id": "NQ0-Q1gZdtmy",
        "outputId": "15272d18-6456-4fff-fd49-7c2dd02dfd14"
      },
      "execution_count": 36,
      "outputs": [
        {
          "output_type": "stream",
          "name": "stdout",
          "text": [
            "Hello, world!\n"
          ]
        }
      ]
    },
    {
      "cell_type": "code",
      "source": [
        "def say_hello(user_name):\n",
        "  print(f\"Hello, {user_name}!\")"
      ],
      "metadata": {
        "id": "9Yzdq_dtlyDP"
      },
      "execution_count": 37,
      "outputs": []
    },
    {
      "cell_type": "code",
      "source": [
        "say_hello(\"Mr.Lee\")"
      ],
      "metadata": {
        "colab": {
          "base_uri": "https://localhost:8080/"
        },
        "id": "GB3WIyCRl4b6",
        "outputId": "208034e2-601d-4753-c49e-9e39916885d1"
      },
      "execution_count": 41,
      "outputs": [
        {
          "output_type": "stream",
          "name": "stdout",
          "text": [
            "Hello, Mr.Lee!\n"
          ]
        }
      ]
    },
    {
      "cell_type": "code",
      "source": [
        "result = say_hello(\"Mr.Lee\")\n",
        "result"
      ],
      "metadata": {
        "colab": {
          "base_uri": "https://localhost:8080/"
        },
        "id": "nc6YVS4vl7xu",
        "outputId": "85c1f2e3-bc60-4182-df97-d77f28258522"
      },
      "execution_count": 42,
      "outputs": [
        {
          "output_type": "stream",
          "name": "stdout",
          "text": [
            "Hello, Mr.Lee!\n"
          ]
        }
      ]
    },
    {
      "cell_type": "code",
      "source": [
        "type(result) # Nonetype은 Null이라고 보면 된다"
      ],
      "metadata": {
        "colab": {
          "base_uri": "https://localhost:8080/"
        },
        "id": "hOuTgHhzmbXd",
        "outputId": "f4629674-88d2-4269-8eac-e37682d74d1e"
      },
      "execution_count": 44,
      "outputs": [
        {
          "output_type": "execute_result",
          "data": {
            "text/plain": [
              "NoneType"
            ]
          },
          "metadata": {},
          "execution_count": 44
        }
      ]
    },
    {
      "cell_type": "code",
      "source": [
        "def say_hello(user_name):\n",
        "  return f\"Hello, {user_name}!\""
      ],
      "metadata": {
        "id": "WzUURbS2mciB"
      },
      "execution_count": 45,
      "outputs": []
    },
    {
      "cell_type": "code",
      "source": [
        "result = say_hello(\"Mr.Lee\")\n",
        "result"
      ],
      "metadata": {
        "colab": {
          "base_uri": "https://localhost:8080/",
          "height": 35
        },
        "id": "iVpcy7YdmwcU",
        "outputId": "b0705fef-84c4-4fa8-a64b-bfedce54edda"
      },
      "execution_count": 46,
      "outputs": [
        {
          "output_type": "execute_result",
          "data": {
            "text/plain": [
              "'Hello, Mr.Lee!'"
            ],
            "application/vnd.google.colaboratory.intrinsic+json": {
              "type": "string"
            }
          },
          "metadata": {},
          "execution_count": 46
        }
      ]
    },
    {
      "cell_type": "code",
      "source": [
        "type(result)"
      ],
      "metadata": {
        "colab": {
          "base_uri": "https://localhost:8080/"
        },
        "id": "7n8m2Lfbmx3u",
        "outputId": "11a4b3ef-0743-4c5f-d8fc-235cdd930134"
      },
      "execution_count": 47,
      "outputs": [
        {
          "output_type": "execute_result",
          "data": {
            "text/plain": [
              "str"
            ]
          },
          "metadata": {},
          "execution_count": 47
        }
      ]
    },
    {
      "cell_type": "code",
      "source": [
        "def awesum(num1, num2):\n",
        "  result = num1 + num2 + 3\n",
        "  return result"
      ],
      "metadata": {
        "id": "f5mSfIZHm9t-"
      },
      "execution_count": 48,
      "outputs": []
    },
    {
      "cell_type": "code",
      "source": [
        "awesum(1,2)"
      ],
      "metadata": {
        "colab": {
          "base_uri": "https://localhost:8080/"
        },
        "id": "AxLCQiugnquM",
        "outputId": "24c0bfc1-8a77-48b2-e3f5-8b8e6b2f1f90"
      },
      "execution_count": 50,
      "outputs": [
        {
          "output_type": "execute_result",
          "data": {
            "text/plain": [
              "6"
            ]
          },
          "metadata": {},
          "execution_count": 50
        }
      ]
    },
    {
      "cell_type": "code",
      "source": [
        "awesum(1,awesum(1,2))"
      ],
      "metadata": {
        "colab": {
          "base_uri": "https://localhost:8080/"
        },
        "id": "QTE1kcxBnwnn",
        "outputId": "f54acb99-9ef9-48f9-d6d3-a84b4dfb2f09"
      },
      "execution_count": 52,
      "outputs": [
        {
          "output_type": "execute_result",
          "data": {
            "text/plain": [
              "10"
            ]
          },
          "metadata": {},
          "execution_count": 52
        }
      ]
    },
    {
      "cell_type": "code",
      "source": [
        "from random import choice\n",
        "def awesum():\n",
        "  # result = choice([0,1])\n",
        "  result = choice([n for n in range(6)])\n",
        "  return result"
      ],
      "metadata": {
        "id": "aOoyLaXSoMzr"
      },
      "execution_count": 83,
      "outputs": []
    },
    {
      "cell_type": "code",
      "source": [
        "is_return = awesum()\n",
        "is_return"
      ],
      "metadata": {
        "colab": {
          "base_uri": "https://localhost:8080/"
        },
        "id": "Hlmb_WaUoxjQ",
        "outputId": "cfb25ca5-85ca-4dbf-c85e-b9ac478d09d5"
      },
      "execution_count": 85,
      "outputs": [
        {
          "output_type": "execute_result",
          "data": {
            "text/plain": [
              "3"
            ]
          },
          "metadata": {},
          "execution_count": 85
        }
      ]
    },
    {
      "cell_type": "code",
      "source": [
        "def mul_return(num):\n",
        "  noks = num // 3\n",
        "  namuji = num % 3\n",
        "  return noks, namuji"
      ],
      "metadata": {
        "id": "ezKkxjUiozBO"
      },
      "execution_count": 87,
      "outputs": []
    },
    {
      "cell_type": "code",
      "source": [
        "mul_return(100)"
      ],
      "metadata": {
        "colab": {
          "base_uri": "https://localhost:8080/"
        },
        "id": "vRsA5MRDpwbP",
        "outputId": "5d713ce8-8e85-478b-9251-cdf41ac3dc9a"
      },
      "execution_count": 92,
      "outputs": [
        {
          "output_type": "execute_result",
          "data": {
            "text/plain": [
              "(33, 1)"
            ]
          },
          "metadata": {},
          "execution_count": 92
        }
      ]
    },
    {
      "cell_type": "code",
      "source": [
        "def id_validation(username):\n",
        "  if 'admin' in username:\n",
        "    print(\"invalid id\")\n",
        "    return\n",
        "  else:\n",
        "    print(f\"Hello, {username}\")\n",
        "    return username"
      ],
      "metadata": {
        "id": "bmFdgHD4pyKM"
      },
      "execution_count": 102,
      "outputs": []
    },
    {
      "cell_type": "code",
      "source": [
        "id_validation(\"admi3n\")"
      ],
      "metadata": {
        "colab": {
          "base_uri": "https://localhost:8080/",
          "height": 54
        },
        "id": "BGqiU3lWqPK2",
        "outputId": "7644c309-4ce4-49ae-eb39-8a1bd4e4a7a4"
      },
      "execution_count": 103,
      "outputs": [
        {
          "output_type": "stream",
          "name": "stdout",
          "text": [
            "Hello, admi3n\n"
          ]
        },
        {
          "output_type": "execute_result",
          "data": {
            "text/plain": [
              "'admi3n'"
            ],
            "application/vnd.google.colaboratory.intrinsic+json": {
              "type": "string"
            }
          },
          "metadata": {},
          "execution_count": 103
        }
      ]
    },
    {
      "cell_type": "code",
      "source": [
        "def say_hello(username:str=\"babo\", nick:bool=True) -> str:\n",
        "  print(f\"Hello, {username}!\")\n",
        "  if nick == True:\n",
        "    print(\"but, you are fool\")\n",
        "    return \"fool\"\n",
        "  else:\n",
        "    print(\"Now, you are not fool\")\n",
        "    return \"smart\""
      ],
      "metadata": {
        "id": "myZPkEaUqTig"
      },
      "execution_count": 125,
      "outputs": []
    },
    {
      "cell_type": "code",
      "source": [
        "say_hello(\"Mr.Lee\",False)"
      ],
      "metadata": {
        "colab": {
          "base_uri": "https://localhost:8080/",
          "height": 72
        },
        "id": "70bcDWLyqSH5",
        "outputId": "cbeef95e-4050-41ca-e7d7-2d3bbb870e28"
      },
      "execution_count": 126,
      "outputs": [
        {
          "output_type": "stream",
          "name": "stdout",
          "text": [
            "Hello, Mr.Lee!\n",
            "Now, you are not fool\n"
          ]
        },
        {
          "output_type": "execute_result",
          "data": {
            "text/plain": [
              "'smart'"
            ],
            "application/vnd.google.colaboratory.intrinsic+json": {
              "type": "string"
            }
          },
          "metadata": {},
          "execution_count": 126
        }
      ]
    },
    {
      "cell_type": "code",
      "source": [
        "def mul_sum(*arg):\n",
        "  result = 0\n",
        "  for i in arg:\n",
        "    result += i\n",
        "  return result"
      ],
      "metadata": {
        "id": "c30CLf6mtDRZ"
      },
      "execution_count": 138,
      "outputs": []
    },
    {
      "cell_type": "code",
      "source": [
        "mul_sum(1,5,6)"
      ],
      "metadata": {
        "colab": {
          "base_uri": "https://localhost:8080/"
        },
        "id": "lbtHoaB8tMeK",
        "outputId": "ec7e8e18-0e36-45f5-96b6-d213cb781c28"
      },
      "execution_count": 144,
      "outputs": [
        {
          "output_type": "execute_result",
          "data": {
            "text/plain": [
              "12"
            ]
          },
          "metadata": {},
          "execution_count": 144
        }
      ]
    },
    {
      "cell_type": "code",
      "source": [
        "mul_sum([1,2,3,4])"
      ],
      "metadata": {
        "colab": {
          "base_uri": "https://localhost:8080/",
          "height": 281
        },
        "id": "_drdyw9ntYxm",
        "outputId": "e07c4014-70f5-4c66-b657-ff202813eabd"
      },
      "execution_count": 145,
      "outputs": [
        {
          "output_type": "error",
          "ename": "TypeError",
          "evalue": "ignored",
          "traceback": [
            "\u001b[0;31m---------------------------------------------------------------------------\u001b[0m",
            "\u001b[0;31mTypeError\u001b[0m                                 Traceback (most recent call last)",
            "\u001b[0;32m<ipython-input-145-bf21458a5469>\u001b[0m in \u001b[0;36m<module>\u001b[0;34m\u001b[0m\n\u001b[0;32m----> 1\u001b[0;31m \u001b[0mmul_sum\u001b[0m\u001b[0;34m(\u001b[0m\u001b[0;34m[\u001b[0m\u001b[0;36m1\u001b[0m\u001b[0;34m,\u001b[0m\u001b[0;36m2\u001b[0m\u001b[0;34m,\u001b[0m\u001b[0;36m3\u001b[0m\u001b[0;34m,\u001b[0m\u001b[0;36m4\u001b[0m\u001b[0;34m]\u001b[0m\u001b[0;34m)\u001b[0m\u001b[0;34m\u001b[0m\u001b[0;34m\u001b[0m\u001b[0m\n\u001b[0m",
            "\u001b[0;32m<ipython-input-138-dcbaf183a0b3>\u001b[0m in \u001b[0;36mmul_sum\u001b[0;34m(*arg)\u001b[0m\n\u001b[1;32m      2\u001b[0m   \u001b[0mresult\u001b[0m \u001b[0;34m=\u001b[0m \u001b[0;36m0\u001b[0m\u001b[0;34m\u001b[0m\u001b[0;34m\u001b[0m\u001b[0m\n\u001b[1;32m      3\u001b[0m   \u001b[0;32mfor\u001b[0m \u001b[0mi\u001b[0m \u001b[0;32min\u001b[0m \u001b[0marg\u001b[0m\u001b[0;34m:\u001b[0m\u001b[0;34m\u001b[0m\u001b[0;34m\u001b[0m\u001b[0m\n\u001b[0;32m----> 4\u001b[0;31m     \u001b[0mresult\u001b[0m \u001b[0;34m+=\u001b[0m \u001b[0mi\u001b[0m\u001b[0;34m\u001b[0m\u001b[0;34m\u001b[0m\u001b[0m\n\u001b[0m\u001b[1;32m      5\u001b[0m   \u001b[0;32mreturn\u001b[0m \u001b[0mresult\u001b[0m\u001b[0;34m\u001b[0m\u001b[0;34m\u001b[0m\u001b[0m\n",
            "\u001b[0;31mTypeError\u001b[0m: unsupported operand type(s) for +=: 'int' and 'list'"
          ]
        }
      ]
    },
    {
      "cell_type": "code",
      "source": [
        "dict(name=\"JohnDoe\",locale=\"CA\",phone=\"01000000000\")"
      ],
      "metadata": {
        "colab": {
          "base_uri": "https://localhost:8080/"
        },
        "id": "rEhiM1kFuDx8",
        "outputId": "d728a622-93c9-46b9-b10a-bc780385a901"
      },
      "execution_count": 156,
      "outputs": [
        {
          "output_type": "execute_result",
          "data": {
            "text/plain": [
              "{'name': 'JohnDoe', 'locale': 'CA', 'phone': '01000000000'}"
            ]
          },
          "metadata": {},
          "execution_count": 156
        }
      ]
    },
    {
      "cell_type": "code",
      "source": [
        "# keyword argument : dictionary type을 인자로 받을때 유용하게 사용\n",
        "def show_kwarg(**kwargs):\n",
        "  print(kwargs, type(kwargs))"
      ],
      "metadata": {
        "id": "hD5-IX2quPDK"
      },
      "execution_count": 158,
      "outputs": []
    },
    {
      "cell_type": "code",
      "source": [
        "show_kwarg(a=1,b=2,c=3)"
      ],
      "metadata": {
        "colab": {
          "base_uri": "https://localhost:8080/"
        },
        "id": "8LDdH8NbuYeI",
        "outputId": "2fc3600a-4ea8-449d-c04f-da7f1c442757"
      },
      "execution_count": 159,
      "outputs": [
        {
          "output_type": "stream",
          "name": "stdout",
          "text": [
            "{'a': 1, 'b': 2, 'c': 3} <class 'dict'>\n"
          ]
        }
      ]
    },
    {
      "cell_type": "code",
      "source": [
        "show_kwarg(a=10, b=\"google\")"
      ],
      "metadata": {
        "colab": {
          "base_uri": "https://localhost:8080/"
        },
        "id": "th8-HCPzudmC",
        "outputId": "87f984da-7334-48cd-d318-f53b2f34306e"
      },
      "execution_count": 161,
      "outputs": [
        {
          "output_type": "stream",
          "name": "stdout",
          "text": [
            "{'a': 10, 'b': 'google'} <class 'dict'>\n"
          ]
        }
      ]
    },
    {
      "cell_type": "code",
      "source": [
        "def set_url(hostname, port, **query):\n",
        "  real_url = f\"http://{hostname}:{port}?\"\n",
        "  for key in query.keys():\n",
        "    real_url += f\"{key}={query[key]}&\"\n",
        "  return real_url"
      ],
      "metadata": {
        "id": "8d-hzwehuhGr"
      },
      "execution_count": 165,
      "outputs": []
    },
    {
      "cell_type": "code",
      "source": [
        "set_url(\"localhost\",\"8080\")"
      ],
      "metadata": {
        "colab": {
          "base_uri": "https://localhost:8080/",
          "height": 35
        },
        "id": "3t0JQB_LvSSX",
        "outputId": "56389085-0c77-4ae6-b85c-a156f073840c"
      },
      "execution_count": 167,
      "outputs": [
        {
          "output_type": "execute_result",
          "data": {
            "text/plain": [
              "'http://localhost:8080?'"
            ],
            "application/vnd.google.colaboratory.intrinsic+json": {
              "type": "string"
            }
          },
          "metadata": {},
          "execution_count": 167
        }
      ]
    },
    {
      "cell_type": "code",
      "source": [
        "set_url(\"localhost\",\"8080\",utm_source='facebook')"
      ],
      "metadata": {
        "colab": {
          "base_uri": "https://localhost:8080/",
          "height": 35
        },
        "id": "UwYISbtyvgpF",
        "outputId": "2b62433d-7b97-48c3-e5d3-037672e7cb07"
      },
      "execution_count": 169,
      "outputs": [
        {
          "output_type": "execute_result",
          "data": {
            "text/plain": [
              "'http://localhost:8080?utm_source=facebook&'"
            ],
            "application/vnd.google.colaboratory.intrinsic+json": {
              "type": "string"
            }
          },
          "metadata": {},
          "execution_count": 169
        }
      ]
    },
    {
      "cell_type": "code",
      "source": [
        "set_url(\"localhost\",\"8080\",utm_source='facebook',query='protein')"
      ],
      "metadata": {
        "colab": {
          "base_uri": "https://localhost:8080/",
          "height": 35
        },
        "id": "n9u6fkeRvqZ5",
        "outputId": "9ad68371-edc6-48df-d885-f7eb314f1f58"
      },
      "execution_count": 178,
      "outputs": [
        {
          "output_type": "execute_result",
          "data": {
            "text/plain": [
              "'http://localhost:8080?utm_source=facebook&query=protein&'"
            ],
            "application/vnd.google.colaboratory.intrinsic+json": {
              "type": "string"
            }
          },
          "metadata": {},
          "execution_count": 178
        }
      ]
    },
    {
      "cell_type": "code",
      "source": [
        "안녕 = 'hello'\n",
        "안녕"
      ],
      "metadata": {
        "colab": {
          "base_uri": "https://localhost:8080/",
          "height": 35
        },
        "id": "6Ef12vpdC286",
        "outputId": "ba563d15-eee4-4133-8a34-6a814e22ccac"
      },
      "execution_count": 179,
      "outputs": [
        {
          "output_type": "execute_result",
          "data": {
            "text/plain": [
              "'hello'"
            ],
            "application/vnd.google.colaboratory.intrinsic+json": {
              "type": "string"
            }
          },
          "metadata": {},
          "execution_count": 179
        }
      ]
    },
    {
      "cell_type": "code",
      "source": [
        "a = 'hello' # glob variable\n",
        "def glob_test(a):\n",
        "  a += 'world'\n",
        "  return a\n",
        "glob_test(a)\n",
        "\n",
        "print(glob_test(a))\n",
        "print(a)"
      ],
      "metadata": {
        "colab": {
          "base_uri": "https://localhost:8080/"
        },
        "id": "grkIe_6nC-Qt",
        "outputId": "ffd02f07-1211-4897-c65b-848e405710eb"
      },
      "execution_count": 183,
      "outputs": [
        {
          "output_type": "stream",
          "name": "stdout",
          "text": [
            "helloworld\n",
            "hello\n"
          ]
        }
      ]
    },
    {
      "cell_type": "code",
      "source": [
        "a = 'hello' # glob variable\n",
        "def glob_test(x): # local variable\n",
        "  x += 'world'\n",
        "  return x\n",
        "glob_test(a)\n",
        "\n",
        "print(glob_test(a))\n",
        "print(a)"
      ],
      "metadata": {
        "colab": {
          "base_uri": "https://localhost:8080/"
        },
        "id": "etvGgPn0DhzG",
        "outputId": "67996754-d28b-4532-c86a-ec417cd8f380"
      },
      "execution_count": 184,
      "outputs": [
        {
          "output_type": "stream",
          "name": "stdout",
          "text": [
            "helloworld\n",
            "hello\n"
          ]
        }
      ]
    },
    {
      "cell_type": "code",
      "source": [
        "def glob_test2(d):\n",
        "  a += 'world'\n",
        "  d += 1\n",
        "  return a, d"
      ],
      "metadata": {
        "id": "pBt1YaBvDM8O"
      },
      "execution_count": 185,
      "outputs": []
    },
    {
      "cell_type": "code",
      "source": [
        "glob_test2(1)"
      ],
      "metadata": {
        "colab": {
          "base_uri": "https://localhost:8080/",
          "height": 281
        },
        "id": "14q8WVLtEmJ8",
        "outputId": "9349e730-18d1-4272-9c6b-b0463e046594"
      },
      "execution_count": 186,
      "outputs": [
        {
          "output_type": "error",
          "ename": "UnboundLocalError",
          "evalue": "ignored",
          "traceback": [
            "\u001b[0;31m---------------------------------------------------------------------------\u001b[0m",
            "\u001b[0;31mUnboundLocalError\u001b[0m                         Traceback (most recent call last)",
            "\u001b[0;32m<ipython-input-186-f38131897212>\u001b[0m in \u001b[0;36m<module>\u001b[0;34m\u001b[0m\n\u001b[0;32m----> 1\u001b[0;31m \u001b[0mglob_test2\u001b[0m\u001b[0;34m(\u001b[0m\u001b[0;36m1\u001b[0m\u001b[0;34m)\u001b[0m\u001b[0;34m\u001b[0m\u001b[0;34m\u001b[0m\u001b[0m\n\u001b[0m",
            "\u001b[0;32m<ipython-input-185-f5ac03ab4b19>\u001b[0m in \u001b[0;36mglob_test2\u001b[0;34m(d)\u001b[0m\n\u001b[1;32m      1\u001b[0m \u001b[0;32mdef\u001b[0m \u001b[0mglob_test2\u001b[0m\u001b[0;34m(\u001b[0m\u001b[0md\u001b[0m\u001b[0;34m)\u001b[0m\u001b[0;34m:\u001b[0m\u001b[0;34m\u001b[0m\u001b[0;34m\u001b[0m\u001b[0m\n\u001b[0;32m----> 2\u001b[0;31m   \u001b[0ma\u001b[0m \u001b[0;34m+=\u001b[0m \u001b[0;34m'world'\u001b[0m\u001b[0;34m\u001b[0m\u001b[0;34m\u001b[0m\u001b[0m\n\u001b[0m\u001b[1;32m      3\u001b[0m   \u001b[0md\u001b[0m \u001b[0;34m+=\u001b[0m \u001b[0;36m1\u001b[0m\u001b[0;34m\u001b[0m\u001b[0;34m\u001b[0m\u001b[0m\n\u001b[1;32m      4\u001b[0m   \u001b[0;32mreturn\u001b[0m \u001b[0ma\u001b[0m\u001b[0;34m,\u001b[0m \u001b[0md\u001b[0m\u001b[0;34m\u001b[0m\u001b[0;34m\u001b[0m\u001b[0m\n",
            "\u001b[0;31mUnboundLocalError\u001b[0m: local variable 'a' referenced before assignment"
          ]
        }
      ]
    },
    {
      "cell_type": "code",
      "source": [
        "# 1: return and initialize -> this is best!\n",
        "a = 'hello'\n",
        "def glob_test(a):\n",
        "  a += 'world'\n",
        "  return a\n",
        "\n",
        "a = glob_test(a)\n",
        "\n",
        "print(a)"
      ],
      "metadata": {
        "colab": {
          "base_uri": "https://localhost:8080/"
        },
        "id": "NzMCA5N_Eo3t",
        "outputId": "c22953ea-0803-4b0c-ea93-74056735bec4"
      },
      "execution_count": 189,
      "outputs": [
        {
          "output_type": "stream",
          "name": "stdout",
          "text": [
            "helloworld\n"
          ]
        }
      ]
    },
    {
      "cell_type": "code",
      "source": [
        "# 2: use global -> not good choice\n",
        "b = 'hello'\n",
        "def glob_test():\n",
        "  global b\n",
        "  b += 'world'\n",
        "  return b\n",
        "\n",
        "print(glob_test())\n",
        "print(b)"
      ],
      "metadata": {
        "colab": {
          "base_uri": "https://localhost:8080/"
        },
        "id": "Zk5JYN9nFNQj",
        "outputId": "dd5f81a2-24f5-44a4-931b-43a425c884fc"
      },
      "execution_count": 193,
      "outputs": [
        {
          "output_type": "stream",
          "name": "stdout",
          "text": [
            "helloworld\n",
            "helloworld\n"
          ]
        }
      ]
    },
    {
      "cell_type": "code",
      "source": [
        "b = 'hello'\n",
        "del b\n",
        "def glob_test():\n",
        "  global b\n",
        "  b += 'world'\n",
        "  return b\n",
        "\n",
        "print(glob_test())\n",
        "print(b)\n",
        "\n",
        "# 기능은 종속되지 않고 독립적으로 수행될 수 있어야 한다"
      ],
      "metadata": {
        "colab": {
          "base_uri": "https://localhost:8080/",
          "height": 354
        },
        "id": "xpJwO6gPF5y5",
        "outputId": "f824ea66-cc46-4e16-9a3a-fc1b1b1bcb9f"
      },
      "execution_count": 194,
      "outputs": [
        {
          "output_type": "error",
          "ename": "NameError",
          "evalue": "ignored",
          "traceback": [
            "\u001b[0;31m---------------------------------------------------------------------------\u001b[0m",
            "\u001b[0;31mNameError\u001b[0m                                 Traceback (most recent call last)",
            "\u001b[0;32m<ipython-input-194-d508e6777d67>\u001b[0m in \u001b[0;36m<module>\u001b[0;34m\u001b[0m\n\u001b[1;32m      6\u001b[0m   \u001b[0;32mreturn\u001b[0m \u001b[0mb\u001b[0m\u001b[0;34m\u001b[0m\u001b[0;34m\u001b[0m\u001b[0m\n\u001b[1;32m      7\u001b[0m \u001b[0;34m\u001b[0m\u001b[0m\n\u001b[0;32m----> 8\u001b[0;31m \u001b[0mprint\u001b[0m\u001b[0;34m(\u001b[0m\u001b[0mglob_test\u001b[0m\u001b[0;34m(\u001b[0m\u001b[0;34m)\u001b[0m\u001b[0;34m)\u001b[0m\u001b[0;34m\u001b[0m\u001b[0;34m\u001b[0m\u001b[0m\n\u001b[0m\u001b[1;32m      9\u001b[0m \u001b[0mprint\u001b[0m\u001b[0;34m(\u001b[0m\u001b[0mb\u001b[0m\u001b[0;34m)\u001b[0m\u001b[0;34m\u001b[0m\u001b[0;34m\u001b[0m\u001b[0m\n",
            "\u001b[0;32m<ipython-input-194-d508e6777d67>\u001b[0m in \u001b[0;36mglob_test\u001b[0;34m()\u001b[0m\n\u001b[1;32m      3\u001b[0m \u001b[0;32mdef\u001b[0m \u001b[0mglob_test\u001b[0m\u001b[0;34m(\u001b[0m\u001b[0;34m)\u001b[0m\u001b[0;34m:\u001b[0m\u001b[0;34m\u001b[0m\u001b[0;34m\u001b[0m\u001b[0m\n\u001b[1;32m      4\u001b[0m   \u001b[0;32mglobal\u001b[0m \u001b[0mb\u001b[0m\u001b[0;34m\u001b[0m\u001b[0;34m\u001b[0m\u001b[0m\n\u001b[0;32m----> 5\u001b[0;31m   \u001b[0mb\u001b[0m \u001b[0;34m+=\u001b[0m \u001b[0;34m'world'\u001b[0m\u001b[0;34m\u001b[0m\u001b[0;34m\u001b[0m\u001b[0m\n\u001b[0m\u001b[1;32m      6\u001b[0m   \u001b[0;32mreturn\u001b[0m \u001b[0mb\u001b[0m\u001b[0;34m\u001b[0m\u001b[0;34m\u001b[0m\u001b[0m\n\u001b[1;32m      7\u001b[0m \u001b[0;34m\u001b[0m\u001b[0m\n",
            "\u001b[0;31mNameError\u001b[0m: name 'b' is not defined"
          ]
        }
      ]
    },
    {
      "cell_type": "code",
      "source": [
        "def cal_leap_year(user_input):\n",
        "  if user_input%400 == 0:\n",
        "    return True\n",
        "  elif user_input%100 == 0: # True일 조건으로 정리 / 즉 조건을 뒤집으면 됨\n",
        "    return False\n",
        "  elif user_input%4 == 0:\n",
        "    return True\n",
        "  else:\n",
        "    return False\n",
        "\n",
        "for year in [2000,2100,2001,2023,2024,2400,4000]:\n",
        "  print(cal_leap_year(year))"
      ],
      "metadata": {
        "colab": {
          "base_uri": "https://localhost:8080/"
        },
        "id": "3w_J141MGI8Q",
        "outputId": "7bf438f5-93ea-428a-bf4f-18b749613b4c"
      },
      "execution_count": 229,
      "outputs": [
        {
          "output_type": "stream",
          "name": "stdout",
          "text": [
            "True\n",
            "False\n",
            "False\n",
            "False\n",
            "True\n",
            "True\n",
            "True\n"
          ]
        }
      ]
    },
    {
      "cell_type": "code",
      "source": [
        "# 4 o\n",
        "# 100 x\n",
        "# 400 o\n",
        "\n",
        "def cal_leap_year2(user_input):\n",
        "  return True if user_input%400==0 else False if user_input%100==0 else True if user_input%4==0 else False \n",
        "\n",
        "for year in [2000,2100,2001,2023,2024,2400,4000]:\n",
        "  print(cal_leap_year2(year))"
      ],
      "metadata": {
        "colab": {
          "base_uri": "https://localhost:8080/"
        },
        "id": "5itUJHl4Hd6P",
        "outputId": "065221c7-cb77-4e3f-965b-74fa7c81e79a"
      },
      "execution_count": 227,
      "outputs": [
        {
          "output_type": "stream",
          "name": "stdout",
          "text": [
            "True\n",
            "False\n",
            "False\n",
            "False\n",
            "True\n",
            "True\n",
            "True\n"
          ]
        }
      ]
    },
    {
      "cell_type": "code",
      "source": [
        "# refactoring\n",
        "\n",
        "def find_leap(year):\n",
        "  if year%4==0 and (year%400==0 or year%100!=0):\n",
        "    return True\n",
        "  else:\n",
        "    return False\n",
        "\n",
        "for year in [2000,2100,2001,2023,2024,2400,4000]:\n",
        "  print(find_leap(year))"
      ],
      "metadata": {
        "colab": {
          "base_uri": "https://localhost:8080/"
        },
        "id": "CtvrnqnZKFsX",
        "outputId": "232c304a-f790-4fae-b16d-67c9049f88fe"
      },
      "execution_count": 226,
      "outputs": [
        {
          "output_type": "stream",
          "name": "stdout",
          "text": [
            "True\n",
            "False\n",
            "False\n",
            "False\n",
            "True\n",
            "True\n",
            "True\n"
          ]
        }
      ]
    },
    {
      "cell_type": "code",
      "source": [
        "# str = \"\"\n",
        "# 설마 str같은 키워드를 바로 쓰겠어"
      ],
      "metadata": {
        "id": "NfIrvee9Oif1"
      },
      "execution_count": null,
      "outputs": []
    },
    {
      "cell_type": "code",
      "source": [
        "# Type annotation\n",
        "# convention보다는 약한 개념\n",
        "# IDE를 쓰면 되는 환경도 있음. Pycharm같은\n",
        "# 개발단계에서는 의미가 있지만 프로덕션에서는 의미가 없어짐\n",
        "\n",
        "def greeting(username: str, age: int)-> str:\n",
        "  '''\n",
        "  greeting은 1931년 영국에서 시작되어 전세계를 돌아 당신에게 도착한 기능입니다.\n",
        "  이름:str과 나이:int를 입력하면 친절하게 인사를 건낼 것입니다.\n",
        "  '''\n",
        "  return f\"Hello, {username}. Your are {age} years old.\"\n",
        "\n",
        "# ''' ''' -> mulit-line string : 1. 기능설명 2. sql query 날릴때"
      ],
      "metadata": {
        "id": "xj0EpFXBLlkD"
      },
      "execution_count": 244,
      "outputs": []
    },
    {
      "cell_type": "code",
      "source": [
        "greeting?"
      ],
      "metadata": {
        "id": "9d-MjKKSQFfL"
      },
      "execution_count": 253,
      "outputs": []
    },
    {
      "cell_type": "code",
      "source": [
        "# Do\n",
        "query = '''\n",
        "select *\n",
        "from users;\n",
        "'''"
      ],
      "metadata": {
        "id": "BEe_L0mTQWbF"
      },
      "execution_count": 251,
      "outputs": []
    },
    {
      "cell_type": "code",
      "source": [
        "query"
      ],
      "metadata": {
        "colab": {
          "base_uri": "https://localhost:8080/",
          "height": 35
        },
        "id": "AOOIDu3EQlm0",
        "outputId": "6d52c7ff-a4cc-4542-fbe8-f810c3e877d5"
      },
      "execution_count": 252,
      "outputs": [
        {
          "output_type": "execute_result",
          "data": {
            "text/plain": [
              "'\\nselect *\\nfrom users;\\n'"
            ],
            "application/vnd.google.colaboratory.intrinsic+json": {
              "type": "string"
            }
          },
          "metadata": {},
          "execution_count": 252
        }
      ]
    },
    {
      "cell_type": "code",
      "source": [
        "# Don't do\n",
        "query = '\n",
        "안녕\n",
        "'"
      ],
      "metadata": {
        "colab": {
          "base_uri": "https://localhost:8080/",
          "height": 136
        },
        "id": "m-rTo9KHQcsD",
        "outputId": "a64ea03e-65e4-4fab-fee8-654cb191cd87"
      },
      "execution_count": 254,
      "outputs": [
        {
          "output_type": "error",
          "ename": "SyntaxError",
          "evalue": "ignored",
          "traceback": [
            "\u001b[0;36m  File \u001b[0;32m\"<ipython-input-254-52fbefc50fc0>\"\u001b[0;36m, line \u001b[0;32m2\u001b[0m\n\u001b[0;31m    query = '\u001b[0m\n\u001b[0m             ^\u001b[0m\n\u001b[0;31mSyntaxError\u001b[0m\u001b[0;31m:\u001b[0m EOL while scanning string literal\n"
          ]
        }
      ]
    },
    {
      "cell_type": "code",
      "source": [
        "greeting(\"Mr.Lee\",20)"
      ],
      "metadata": {
        "colab": {
          "base_uri": "https://localhost:8080/",
          "height": 35
        },
        "id": "6yaTLWnzOuPU",
        "outputId": "b40c4602-073b-4cac-de25-f5e69c87f63b"
      },
      "execution_count": 237,
      "outputs": [
        {
          "output_type": "execute_result",
          "data": {
            "text/plain": [
              "'Hello, Mr.Lee. Your are 20 years old.'"
            ],
            "application/vnd.google.colaboratory.intrinsic+json": {
              "type": "string"
            }
          },
          "metadata": {},
          "execution_count": 237
        }
      ]
    },
    {
      "cell_type": "code",
      "source": [
        "# 아래와 같이 쓰면 막을 방법은 없음\n",
        "# 막고 싶다면, 예외처리를 해야함\n",
        "greeting(20, \"Mr.Lee\")"
      ],
      "metadata": {
        "colab": {
          "base_uri": "https://localhost:8080/",
          "height": 35
        },
        "id": "lczUWTLJO3RJ",
        "outputId": "e349bf42-aca9-4449-89ba-e4eeaadbbbb2"
      },
      "execution_count": 238,
      "outputs": [
        {
          "output_type": "execute_result",
          "data": {
            "text/plain": [
              "'Hello, 20. Your are Mr.Lee years old.'"
            ],
            "application/vnd.google.colaboratory.intrinsic+json": {
              "type": "string"
            }
          },
          "metadata": {},
          "execution_count": 238
        }
      ]
    },
    {
      "cell_type": "markdown",
      "source": [
        "#Recursive"
      ],
      "metadata": {
        "id": "uQBRWU8sRO3d"
      }
    },
    {
      "cell_type": "code",
      "source": [
        "t = int(input(\"Input the magic time: \"))\n",
        "\n",
        "def magic(time: int)->int:\n",
        "  if time==0:\n",
        "    print(\"Magic Complete\")\n",
        "  else:\n",
        "    print(f\"Magic time is {time}second left.\")\n",
        "    magic(time - 1)\n",
        "\n",
        "magic(t)\n",
        "\n",
        "# python interpreter에서는 recursive depth를 1000회로 막아놓았음. \n",
        "# 너무 깊게 가지 않도록 주의"
      ],
      "metadata": {
        "colab": {
          "base_uri": "https://localhost:8080/"
        },
        "id": "NuocsQe8Rb2U",
        "outputId": "61bda526-10a8-4d56-877f-7c8f965dd0e6"
      },
      "execution_count": 258,
      "outputs": [
        {
          "output_type": "stream",
          "name": "stdout",
          "text": [
            "Input the magic time: 5\n",
            "Magic time is 5second left.\n",
            "Magic time is 4second left.\n",
            "Magic time is 3second left.\n",
            "Magic time is 2second left.\n",
            "Magic time is 1second left.\n",
            "Magic Complete\n"
          ]
        }
      ]
    },
    {
      "cell_type": "markdown",
      "source": [
        "## Fibonacco Sequence"
      ],
      "metadata": {
        "id": "X6-pu0mJaFU3"
      }
    },
    {
      "cell_type": "code",
      "source": [
        "# 전과 전전 수를 합한 것이 본인\n",
        "# 1 1 2 3 5 8 13 21 34 55\n",
        "# n번째 시퀀스를 구하려면 n-1 n-2번째 시퀀스를 확인\n",
        "\n",
        "def fibonacci(num: int) -> int:\n",
        "  if num == 0:\n",
        "    return 0\n",
        "  elif num == 1:\n",
        "    return 1\n",
        "  elif num > 1:\n",
        "    return fibonacci(num-1) + fibonacci(num-2)\n",
        "  else:\n",
        "    return\n",
        "\n",
        "for num in [1,2,3,4,5,6,7,8,9,10]:\n",
        "  print(fibonacci(num))"
      ],
      "metadata": {
        "colab": {
          "base_uri": "https://localhost:8080/"
        },
        "id": "xfeLwMwwSC15",
        "outputId": "df95b71e-533b-48eb-a387-0e42f25711f0"
      },
      "execution_count": 275,
      "outputs": [
        {
          "output_type": "stream",
          "name": "stdout",
          "text": [
            "1\n",
            "1\n",
            "2\n",
            "3\n",
            "5\n",
            "8\n",
            "13\n",
            "21\n",
            "34\n",
            "55\n"
          ]
        }
      ]
    },
    {
      "cell_type": "code",
      "source": [
        "def fibonacci2(num: int) -> int:\n",
        "  if num < 2:\n",
        "    return num\n",
        "  else:\n",
        "    return fibonacci2(num-1) + fibonacci2(num-2)\n",
        "\n",
        "for num in range(1,32):\n",
        "  print(fibonacci2(num))\n",
        "\n",
        "# 1. 수행이 많아지면 이를 기록해놓는 방법이 있음 cache memory\n",
        "# 2. 수식을 이용(시간복잡도 개념) O(n^2)"
      ],
      "metadata": {
        "colab": {
          "base_uri": "https://localhost:8080/"
        },
        "id": "JtErbBgcVZxH",
        "outputId": "fee6fd70-10d0-4cc3-94e1-9baf53d8d460"
      },
      "execution_count": 301,
      "outputs": [
        {
          "output_type": "stream",
          "name": "stdout",
          "text": [
            "1\n",
            "1\n",
            "2\n",
            "3\n",
            "5\n",
            "8\n",
            "13\n",
            "21\n",
            "34\n",
            "55\n",
            "89\n",
            "144\n",
            "233\n",
            "377\n",
            "610\n",
            "987\n",
            "1597\n",
            "2584\n",
            "4181\n",
            "6765\n",
            "10946\n",
            "17711\n",
            "28657\n",
            "46368\n",
            "75025\n",
            "121393\n",
            "196418\n",
            "317811\n",
            "514229\n",
            "832040\n",
            "1346269\n"
          ]
        }
      ]
    },
    {
      "cell_type": "markdown",
      "source": [
        "## Binet's Formula"
      ],
      "metadata": {
        "id": "hqKXDWqGZ_SN"
      }
    },
    {
      "cell_type": "markdown",
      "source": [
        "$$\n",
        "F_n = \\frac{(1+\\sqrt{5})^n - (1-\\sqrt{5})^n}{2^n\\sqrt{5}}\n",
        "$$"
      ],
      "metadata": {
        "id": "OjW-JCZvbGsP"
      }
    },
    {
      "cell_type": "code",
      "source": [
        "from math import sqrt\n",
        "\n",
        "def fibo_binet(n: int) -> int:\n",
        "  # pass\n",
        "  # function을 사용할때 불안정한 상태일때 pass를 넣으면 continue, break같은 기능\n",
        "  # 특히 class function 같은것에 유용\n",
        "  up = pow((1+sqrt(5)),n)-pow((1-sqrt(5)),n)\n",
        "  down = pow(2,n)*sqrt(5)\n",
        "  return int(up / down)\n",
        "\n",
        "for num in range(1,10):\n",
        "  print(fibo_binet(num))"
      ],
      "metadata": {
        "colab": {
          "base_uri": "https://localhost:8080/"
        },
        "id": "eCVPd175WUDX",
        "outputId": "a5c75fa0-729d-4b26-9d14-57b38d4993ac"
      },
      "execution_count": 324,
      "outputs": [
        {
          "output_type": "stream",
          "name": "stdout",
          "text": [
            "1\n",
            "1\n",
            "2\n",
            "3\n",
            "5\n",
            "8\n",
            "13\n",
            "21\n",
            "34\n"
          ]
        }
      ]
    },
    {
      "cell_type": "code",
      "source": [
        "sqrt?"
      ],
      "metadata": {
        "id": "VDdgPzG9W-7w"
      },
      "execution_count": 305,
      "outputs": []
    },
    {
      "cell_type": "code",
      "source": [
        "from time import time"
      ],
      "metadata": {
        "id": "6niP5vS5c7YP"
      },
      "execution_count": 309,
      "outputs": []
    },
    {
      "cell_type": "code",
      "source": [
        "s_time = time()\n",
        "fibonacci2(35)\n",
        "e_time = time()\n",
        "fibo_time = e_time - s_time\n",
        "print(fibo_time)"
      ],
      "metadata": {
        "colab": {
          "base_uri": "https://localhost:8080/"
        },
        "id": "4gyrGZkmcoYt",
        "outputId": "73a009f5-91ff-442d-8514-c45db9b642d5"
      },
      "execution_count": 314,
      "outputs": [
        {
          "output_type": "stream",
          "name": "stdout",
          "text": [
            "3.8032567501068115\n"
          ]
        }
      ]
    },
    {
      "cell_type": "code",
      "source": [
        "s_time = time()\n",
        "fibo_binet(35)\n",
        "e_time = time()\n",
        "fibo_time = e_time - s_time\n",
        "print(fibo_time)"
      ],
      "metadata": {
        "colab": {
          "base_uri": "https://localhost:8080/"
        },
        "id": "s5nCkaYndFMW",
        "outputId": "aeb1700c-0455-415a-e646-b05fa81bdc7d"
      },
      "execution_count": 313,
      "outputs": [
        {
          "output_type": "stream",
          "name": "stdout",
          "text": [
            "0.00010347366333007812\n"
          ]
        }
      ]
    },
    {
      "cell_type": "markdown",
      "source": [
        "#Comprehension"
      ],
      "metadata": {
        "id": "JGWBkO4bdXxT"
      }
    },
    {
      "cell_type": "code",
      "source": [
        "# case 1\n",
        "old_list = [1, 2, 3, 4, 5,]\n",
        "\n",
        "doubled_list = []\n",
        "\n",
        "for i in old_list:\n",
        "  doubled_list.append(i * 2)\n",
        "\n",
        "doubled_list"
      ],
      "metadata": {
        "colab": {
          "base_uri": "https://localhost:8080/"
        },
        "id": "PS9RBnzodadx",
        "outputId": "a7826f4d-4857-42fd-c369-eeeec95149ec"
      },
      "execution_count": 325,
      "outputs": [
        {
          "output_type": "execute_result",
          "data": {
            "text/plain": [
              "[2, 4, 6, 8, 10]"
            ]
          },
          "metadata": {},
          "execution_count": 325
        }
      ]
    },
    {
      "cell_type": "code",
      "source": [
        "doubled_list = [i * 2 for i in old_list]\n",
        "doubled_list"
      ],
      "metadata": {
        "colab": {
          "base_uri": "https://localhost:8080/"
        },
        "id": "EVTTcG5Le9Ry",
        "outputId": "6957edf9-a175-49df-f0bd-0d1d4a417824"
      },
      "execution_count": 326,
      "outputs": [
        {
          "output_type": "execute_result",
          "data": {
            "text/plain": [
              "[2, 4, 6, 8, 10]"
            ]
          },
          "metadata": {},
          "execution_count": 326
        }
      ]
    },
    {
      "cell_type": "code",
      "source": [
        "old_list = [1, 2, 3, 4, 5,]\n",
        "\n",
        "doubled_list = []\n",
        "\n",
        "for i in old_list:\n",
        "  if i%2 == 0:\n",
        "    doubled_list.append(i * 2)\n",
        "\n",
        "doubled_list"
      ],
      "metadata": {
        "colab": {
          "base_uri": "https://localhost:8080/"
        },
        "id": "4Li224PKfJ0P",
        "outputId": "6faba55d-9554-423d-832f-0e4dc72eb5c7"
      },
      "execution_count": 327,
      "outputs": [
        {
          "output_type": "execute_result",
          "data": {
            "text/plain": [
              "[4, 8]"
            ]
          },
          "metadata": {},
          "execution_count": 327
        }
      ]
    },
    {
      "cell_type": "code",
      "source": [
        "old_list = [1, 2, 3, 4, 5,]\n",
        "\n",
        "doubled_list = [i * 2 for i in old_list if i%2==0]\n",
        "\n",
        "doubled_list"
      ],
      "metadata": {
        "colab": {
          "base_uri": "https://localhost:8080/"
        },
        "id": "V5cAplkkfU90",
        "outputId": "b449c712-47b7-4a8f-a639-503faea77ddf"
      },
      "execution_count": 329,
      "outputs": [
        {
          "output_type": "execute_result",
          "data": {
            "text/plain": [
              "[4, 8]"
            ]
          },
          "metadata": {},
          "execution_count": 329
        }
      ]
    },
    {
      "cell_type": "code",
      "source": [
        "# case 2\n",
        "old_list = [1, 2, 3, 4, 5,]\n",
        "\n",
        "doubled_list = []\n",
        "\n",
        "for i in old_list:\n",
        "  if i%2 == 0:\n",
        "    doubled_list.append(i * 2)\n",
        "  else:\n",
        "    doubled_list.append(i)\n",
        "\n",
        "doubled_list"
      ],
      "metadata": {
        "colab": {
          "base_uri": "https://localhost:8080/"
        },
        "id": "ltp1RJtFfxco",
        "outputId": "13a6b3fe-0924-4dae-966b-0e399a53df4a"
      },
      "execution_count": 330,
      "outputs": [
        {
          "output_type": "execute_result",
          "data": {
            "text/plain": [
              "[1, 4, 3, 8, 5]"
            ]
          },
          "metadata": {},
          "execution_count": 330
        }
      ]
    },
    {
      "cell_type": "code",
      "source": [
        "old_list = [1, 2, 3, 4, 5,]\n",
        "\n",
        "# doubled_list = [i * 2 for i in old_list if i%2==0 else i]\n",
        "doubled_list = [i * 2 if i%2==0 else i for i in old_list ]\n",
        "\n",
        "doubled_list"
      ],
      "metadata": {
        "colab": {
          "base_uri": "https://localhost:8080/"
        },
        "id": "rLBz2rZdfvYO",
        "outputId": "66547a9f-704b-46cd-b06e-c59adc8e2a62"
      },
      "execution_count": 332,
      "outputs": [
        {
          "output_type": "execute_result",
          "data": {
            "text/plain": [
              "[1, 4, 3, 8, 5]"
            ]
          },
          "metadata": {},
          "execution_count": 332
        }
      ]
    },
    {
      "cell_type": "code",
      "source": [
        "# case 3\n",
        "old_list = [1, 2, 3, 4, 5,]\n",
        "\n",
        "doubled_list = []\n",
        "\n",
        "for i in old_list:\n",
        "  if i%2 == 0:\n",
        "    doubled_list.append(i * 2)\n",
        "  elif i%3 == 0:\n",
        "    doubled_list.append(i ** 2)\n",
        "  else:\n",
        "    doubled_list.append(i)\n",
        "\n",
        "doubled_list"
      ],
      "metadata": {
        "colab": {
          "base_uri": "https://localhost:8080/"
        },
        "id": "YEPUsmBlgRYy",
        "outputId": "5931d218-93a5-42c5-bae2-b2ed8dca0d88"
      },
      "execution_count": 335,
      "outputs": [
        {
          "output_type": "execute_result",
          "data": {
            "text/plain": [
              "[1, 4, 9, 8, 5]"
            ]
          },
          "metadata": {},
          "execution_count": 335
        }
      ]
    },
    {
      "cell_type": "code",
      "source": [
        "doubled_list = [i * 2  if i%2==0 else i**2 if i%3==0 else i for i in old_list]\n",
        "\n",
        "doubled_list"
      ],
      "metadata": {
        "colab": {
          "base_uri": "https://localhost:8080/"
        },
        "id": "CFTweJu-gbYo",
        "outputId": "b4a1bdcb-dbfe-4c98-858b-385dab871dcd"
      },
      "execution_count": 342,
      "outputs": [
        {
          "output_type": "execute_result",
          "data": {
            "text/plain": [
              "[1, 4, 9, 8, 5]"
            ]
          },
          "metadata": {},
          "execution_count": 342
        }
      ]
    },
    {
      "cell_type": "code",
      "source": [
        "## fizzbuzz list\n",
        "num_range = [n for n in range(1,30)]\n",
        "fb_list = []\n",
        "\n",
        "for i in range(1,30+1):\n",
        "  if i%15==0:\n",
        "    fb_list.append('fizzubuzz')\n",
        "  elif i%3==0:\n",
        "    fb_list.append('fizz')\n",
        "  elif i%5==0:\n",
        "    fb_list.append('buzz')\n",
        "  else:\n",
        "    fb_list.append(i)\n",
        "\n",
        "fb_list"
      ],
      "metadata": {
        "id": "MdAWEmOBhA0L"
      },
      "execution_count": null,
      "outputs": []
    },
    {
      "cell_type": "code",
      "source": [
        "## list comprehension\n",
        "fb_list = [\n",
        "    'fizzbuzz' if i%15==0 else \n",
        "    'fizz' if i%3==0 else \n",
        "    'buzz'  if i%5==0 else \n",
        "    i for i in range(1,30+1)\n",
        "]\n",
        "\n",
        "fb_list"
      ],
      "metadata": {
        "colab": {
          "base_uri": "https://localhost:8080/"
        },
        "id": "yaf4JjkihlkF",
        "outputId": "245c8106-34f3-4216-f8ea-bb8b430560e2"
      },
      "execution_count": 349,
      "outputs": [
        {
          "output_type": "execute_result",
          "data": {
            "text/plain": [
              "[1,\n",
              " 2,\n",
              " 'fizz',\n",
              " 4,\n",
              " 'buzz',\n",
              " 'fizz',\n",
              " 7,\n",
              " 8,\n",
              " 'fizz',\n",
              " 'buzz',\n",
              " 11,\n",
              " 'fizz',\n",
              " 13,\n",
              " 14,\n",
              " 'fizzbuzz',\n",
              " 16,\n",
              " 17,\n",
              " 'fizz',\n",
              " 19,\n",
              " 'buzz',\n",
              " 'fizz',\n",
              " 22,\n",
              " 23,\n",
              " 'fizz',\n",
              " 'buzz',\n",
              " 26,\n",
              " 'fizz',\n",
              " 28,\n",
              " 29,\n",
              " 'fizzbuzz']"
            ]
          },
          "metadata": {},
          "execution_count": 349
        }
      ]
    },
    {
      "cell_type": "code",
      "source": [
        "## Dictionary Comprehensions"
      ],
      "metadata": {
        "id": "56vRsoh-jEW5"
      },
      "execution_count": 354,
      "outputs": []
    },
    {
      "cell_type": "code",
      "source": [
        "old_dict = {1:1,2:2,3:3,4:4}\n",
        "new_dict = {}\n",
        "for k,v in old_dict.items():\n",
        "  new_dict[k] = v*2\n",
        "\n",
        "new_dict"
      ],
      "metadata": {
        "colab": {
          "base_uri": "https://localhost:8080/"
        },
        "id": "TlKDtcmOjIBS",
        "outputId": "b7564a0e-c8f5-4955-89ba-eabeff915165"
      },
      "execution_count": 356,
      "outputs": [
        {
          "output_type": "execute_result",
          "data": {
            "text/plain": [
              "{1: 2, 2: 4, 3: 6, 4: 8}"
            ]
          },
          "metadata": {},
          "execution_count": 356
        }
      ]
    },
    {
      "cell_type": "code",
      "source": [
        "old_dict = {1:1,2:2,3:3,4:4}\n",
        "\n",
        "new_dict = {k:v*2 for k,v in old_dict.items()}\n",
        "\n",
        "new_dict"
      ],
      "metadata": {
        "colab": {
          "base_uri": "https://localhost:8080/"
        },
        "id": "BxAGL5QPjYAC",
        "outputId": "e9bbb3b7-e640-4329-c891-61af5925ef94"
      },
      "execution_count": 357,
      "outputs": [
        {
          "output_type": "execute_result",
          "data": {
            "text/plain": [
              "{1: 2, 2: 4, 3: 6, 4: 8}"
            ]
          },
          "metadata": {},
          "execution_count": 357
        }
      ]
    },
    {
      "cell_type": "code",
      "source": [
        "old_dict = {1:1,2:2,3:3,4:4}\n",
        "new_dict = {}\n",
        "for k,v in old_dict.items():\n",
        "  if k%2==0:\n",
        "    new_dict[k] = v*2\n",
        "\n",
        "new_dict"
      ],
      "metadata": {
        "colab": {
          "base_uri": "https://localhost:8080/"
        },
        "id": "cf-ZuIsNjvrB",
        "outputId": "b95c7024-992d-4fd3-ffa2-e72ca5a56d6a"
      },
      "execution_count": 359,
      "outputs": [
        {
          "output_type": "execute_result",
          "data": {
            "text/plain": [
              "{2: 4, 4: 8}"
            ]
          },
          "metadata": {},
          "execution_count": 359
        }
      ]
    },
    {
      "cell_type": "code",
      "source": [
        "new_dict = {k:v*2 for k,v in old_dict.items() if k%2==0}\n",
        "new_dict"
      ],
      "metadata": {
        "colab": {
          "base_uri": "https://localhost:8080/"
        },
        "id": "9egKywpej0ps",
        "outputId": "e79d3d99-e215-4b31-eab5-8ac6e10f9747"
      },
      "execution_count": 362,
      "outputs": [
        {
          "output_type": "execute_result",
          "data": {
            "text/plain": [
              "{2: 4, 4: 8}"
            ]
          },
          "metadata": {},
          "execution_count": 362
        }
      ]
    },
    {
      "cell_type": "code",
      "source": [
        "# 익명함수 lambda를 이용하여 list comprehensions이 만들어짐"
      ],
      "metadata": {
        "id": "NrlEnCUqj59O"
      },
      "execution_count": 363,
      "outputs": []
    },
    {
      "cell_type": "code",
      "source": [
        "# 반복문과 함수를 사용하여 numguess 수정(comp도 들어가면 좋지뭐)\n",
        "# github issue를 작성할 것\n",
        "# 몇번 반복할지 어디서 반복할지는 pair programming"
      ],
      "metadata": {
        "id": "ugWBIsSelBKD"
      },
      "execution_count": null,
      "outputs": []
    },
    {
      "cell_type": "markdown",
      "source": [
        "게임 : 5번\n",
        "힌트 : 5번\n",
        "한번 맞추면 + 20점\n",
        "\n",
        "0점이면 놀리는거\n",
        "80점이면 축하메시지\n",
        "100점이면 많은 축하"
      ],
      "metadata": {
        "id": "L-HU9ueJqBYx"
      }
    },
    {
      "cell_type": "code",
      "source": [
        "def a():\n",
        "  return username\n",
        "\n",
        "def b(username=\"JohnDoe\"):\n",
        "  pass\n",
        "\n",
        "if __name__=='__main__':\n",
        "  username = a()\n",
        "  b(username)"
      ],
      "metadata": {
        "id": "6xL4P-vjy0O2"
      },
      "execution_count": null,
      "outputs": []
    },
    {
      "cell_type": "code",
      "source": [
        "n = [n for n in range(6)]\n",
        "n"
      ],
      "metadata": {
        "colab": {
          "base_uri": "https://localhost:8080/"
        },
        "id": "nwuLwrOBeXwM",
        "outputId": "60d9b83e-6e58-47fd-8347-1d15cbef1bba"
      },
      "execution_count": 321,
      "outputs": [
        {
          "output_type": "execute_result",
          "data": {
            "text/plain": [
              "[0, 1, 2, 3, 4, 5]"
            ]
          },
          "metadata": {},
          "execution_count": 321
        }
      ]
    },
    {
      "cell_type": "code",
      "source": [
        "n = [0 for n in range(6)]\n",
        "n"
      ],
      "metadata": {
        "colab": {
          "base_uri": "https://localhost:8080/"
        },
        "id": "zq2C6Vr9eo4U",
        "outputId": "2c4c2fea-2bd8-4848-a40f-32f00da9d443"
      },
      "execution_count": 322,
      "outputs": [
        {
          "output_type": "execute_result",
          "data": {
            "text/plain": [
              "[0, 0, 0, 0, 0, 0]"
            ]
          },
          "metadata": {},
          "execution_count": 322
        }
      ]
    },
    {
      "cell_type": "code",
      "source": [
        "n = [[0 for n in range(6)] for n in range(6)]\n",
        "n"
      ],
      "metadata": {
        "colab": {
          "base_uri": "https://localhost:8080/"
        },
        "id": "Jb-A_V5vetZM",
        "outputId": "15082b7c-db18-4e70-83d1-a0fc9537255f"
      },
      "execution_count": 350,
      "outputs": [
        {
          "output_type": "execute_result",
          "data": {
            "text/plain": [
              "[[0, 0, 0, 0, 0, 0],\n",
              " [0, 0, 0, 0, 0, 0],\n",
              " [0, 0, 0, 0, 0, 0],\n",
              " [0, 0, 0, 0, 0, 0],\n",
              " [0, 0, 0, 0, 0, 0],\n",
              " [0, 0, 0, 0, 0, 0]]"
            ]
          },
          "metadata": {},
          "execution_count": 350
        }
      ]
    },
    {
      "cell_type": "code",
      "source": [
        "n = [[n for n in range(6)] for n in range(6)]\n",
        "n"
      ],
      "metadata": {
        "colab": {
          "base_uri": "https://localhost:8080/"
        },
        "id": "l-BmCQgpizms",
        "outputId": "d23cf455-fb98-4df4-8a62-b734c886d8fd"
      },
      "execution_count": 353,
      "outputs": [
        {
          "output_type": "execute_result",
          "data": {
            "text/plain": [
              "[[0, 1, 2, 3, 4, 5],\n",
              " [0, 1, 2, 3, 4, 5],\n",
              " [0, 1, 2, 3, 4, 5],\n",
              " [0, 1, 2, 3, 4, 5],\n",
              " [0, 1, 2, 3, 4, 5],\n",
              " [0, 1, 2, 3, 4, 5]]"
            ]
          },
          "metadata": {},
          "execution_count": 353
        }
      ]
    },
    {
      "cell_type": "markdown",
      "source": [
        "## self-study"
      ],
      "metadata": {
        "id": "ZC48MlMwaTPA"
      }
    },
    {
      "cell_type": "code",
      "source": [
        "def factorial(arg):\n",
        "  result = 0\n",
        "  if arg < 0:\n",
        "    return\n",
        "  elif arg == 0:\n",
        "    return 0\n",
        "  elif arg == 1:\n",
        "    return 1\n",
        "  else:\n",
        "    result = arg + factorial(arg-1)\n",
        "  return result"
      ],
      "metadata": {
        "id": "WWf7uqSKsITu"
      },
      "execution_count": 149,
      "outputs": []
    },
    {
      "cell_type": "code",
      "source": [
        "def factorial(arg):\n",
        "  result = 0\n",
        "  if arg < 2:\n",
        "    return arg\n",
        "  else:\n",
        "    result = arg + factorial(arg-1)\n",
        "  return result"
      ],
      "metadata": {
        "id": "uTKeJgQadq7j"
      },
      "execution_count": 315,
      "outputs": []
    },
    {
      "cell_type": "code",
      "source": [
        "factorial(10)"
      ],
      "metadata": {
        "colab": {
          "base_uri": "https://localhost:8080/"
        },
        "id": "uhFZatfJs0yW",
        "outputId": "2b7329fd-5e81-4bb3-9297-4625cb074a2a"
      },
      "execution_count": 317,
      "outputs": [
        {
          "output_type": "execute_result",
          "data": {
            "text/plain": [
              "55"
            ]
          },
          "metadata": {},
          "execution_count": 317
        }
      ]
    }
  ]
}