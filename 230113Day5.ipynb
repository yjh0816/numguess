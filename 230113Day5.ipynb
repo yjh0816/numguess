{
  "nbformat": 4,
  "nbformat_minor": 0,
  "metadata": {
    "colab": {
      "provenance": [],
      "authorship_tag": "ABX9TyPAH8ZTq2sRhuwyBPLxuo65",
      "include_colab_link": true
    },
    "kernelspec": {
      "name": "python3",
      "display_name": "Python 3"
    },
    "language_info": {
      "name": "python"
    }
  },
  "cells": [
    {
      "cell_type": "markdown",
      "metadata": {
        "id": "view-in-github",
        "colab_type": "text"
      },
      "source": [
        "<a href=\"https://colab.research.google.com/github/yjh0816/numguess/blob/main/230113Day5.ipynb\" target=\"_parent\"><img src=\"https://colab.research.google.com/assets/colab-badge.svg\" alt=\"Open In Colab\"/></a>"
      ]
    },
    {
      "cell_type": "markdown",
      "source": [
        "#File I/O, Error Handling"
      ],
      "metadata": {
        "id": "twKUiLoFNpwp"
      }
    },
    {
      "cell_type": "markdown",
      "source": [
        "##File I/O"
      ],
      "metadata": {
        "id": "L9qZOIkGNuL2"
      }
    },
    {
      "cell_type": "code",
      "source": [
        "import pandas as pd\n",
        "import json\n",
        "import requests\n",
        "import lxml # html.parser\n",
        "from bs4 import BeautifulSoup"
      ],
      "metadata": {
        "id": "KVWctKwmYmX-"
      },
      "execution_count": null,
      "outputs": []
    },
    {
      "cell_type": "code",
      "source": [
        "from random import randint"
      ],
      "metadata": {
        "id": "KVkVLHagATLC"
      },
      "execution_count": null,
      "outputs": []
    },
    {
      "cell_type": "code",
      "source": [
        "!pip install beautifulsoup4"
      ],
      "metadata": {
        "colab": {
          "base_uri": "https://localhost:8080/"
        },
        "id": "K40GOdgbglYw",
        "outputId": "87ef1b18-1f09-4f72-9406-2a091865f21a"
      },
      "execution_count": null,
      "outputs": [
        {
          "output_type": "stream",
          "name": "stdout",
          "text": [
            "Looking in indexes: https://pypi.org/simple, https://us-python.pkg.dev/colab-wheels/public/simple/\n",
            "Requirement already satisfied: beautifulsoup4 in /usr/local/lib/python3.8/dist-packages (4.6.3)\n"
          ]
        }
      ]
    },
    {
      "cell_type": "code",
      "source": [
        "f = open('./sample_data/users.txt',\"r\")\n",
        "print(type(f))\n",
        "print(f.readline())\n",
        "#for line in f.readlines():\n",
        "#  print(line)\n",
        "f.close"
      ],
      "metadata": {
        "colab": {
          "base_uri": "https://localhost:8080/"
        },
        "id": "MrK5qX-BNpgX",
        "outputId": "6eec3b6a-7046-4526-a293-a3ecf822e808"
      },
      "execution_count": null,
      "outputs": [
        {
          "output_type": "stream",
          "name": "stdout",
          "text": [
            "<class '_io.TextIOWrapper'>\n",
            "user123\n"
          ]
        },
        {
          "output_type": "execute_result",
          "data": {
            "text/plain": [
              "<function TextIOWrapper.close()>"
            ]
          },
          "metadata": {},
          "execution_count": 32
        }
      ]
    },
    {
      "cell_type": "code",
      "source": [
        "f = open('./sample_data/README.md',\"r\")\n",
        "print(type(f.readline()))\n",
        "print(f.readline())\n",
        "f.close"
      ],
      "metadata": {
        "colab": {
          "base_uri": "https://localhost:8080/"
        },
        "id": "sVhWbetxQQNN",
        "outputId": "51d36612-2ff7-4f8c-f2fd-e6abab197585"
      },
      "execution_count": null,
      "outputs": [
        {
          "output_type": "stream",
          "name": "stdout",
          "text": [
            "<class 'str'>\n",
            "\n",
            "\n"
          ]
        },
        {
          "output_type": "execute_result",
          "data": {
            "text/plain": [
              "<function TextIOWrapper.close()>"
            ]
          },
          "metadata": {},
          "execution_count": 38
        }
      ]
    },
    {
      "cell_type": "code",
      "source": [
        "f = open('./sample_data/README.md',\"r\")\n",
        "# iterator\n",
        "print(type(f.readlines()))\n",
        "print(f.readlines())\n",
        "f.close"
      ],
      "metadata": {
        "colab": {
          "base_uri": "https://localhost:8080/"
        },
        "id": "8a5XqliyQWvf",
        "outputId": "a5734755-ccc0-4ec7-e235-301bc7d5083b"
      },
      "execution_count": null,
      "outputs": [
        {
          "output_type": "stream",
          "name": "stdout",
          "text": [
            "<class 'list'>\n",
            "[]\n"
          ]
        },
        {
          "output_type": "execute_result",
          "data": {
            "text/plain": [
              "<function TextIOWrapper.close()>"
            ]
          },
          "metadata": {},
          "execution_count": 37
        }
      ]
    },
    {
      "cell_type": "code",
      "source": [
        "# write() 함수는 \\n를 기준으로 저장함\n",
        "f = open('./hello.txt','w')\n",
        "f.write('This file is wrote with python File I/O. \\n')"
      ],
      "metadata": {
        "colab": {
          "base_uri": "https://localhost:8080/"
        },
        "id": "RkqDw_JtQeQo",
        "outputId": "c65980e0-25e7-41d2-8376-2c3713ba52f3"
      },
      "execution_count": null,
      "outputs": [
        {
          "output_type": "execute_result",
          "data": {
            "text/plain": [
              "42"
            ]
          },
          "metadata": {},
          "execution_count": 39
        }
      ]
    },
    {
      "cell_type": "code",
      "source": [
        "f.write('Contents')\n",
        "f.write('- How to start')\n",
        "f.write('- Installation')\n",
        "f.write('- Features')\n",
        "f.close()"
      ],
      "metadata": {
        "id": "7at8m-GVRJzK"
      },
      "execution_count": null,
      "outputs": []
    },
    {
      "cell_type": "code",
      "source": [
        "f = open('./hello.txt','r')\n",
        "print(f.readlines())\n",
        "f.close()"
      ],
      "metadata": {
        "colab": {
          "base_uri": "https://localhost:8080/"
        },
        "id": "7Z-xfttHRa4l",
        "outputId": "25d63eb7-36c1-4230-e11e-e89db9c6b00e"
      },
      "execution_count": null,
      "outputs": [
        {
          "output_type": "stream",
          "name": "stdout",
          "text": [
            "['This file is wrote with python File I/O. \\n', 'Contents- How to start- Installation- Features']\n"
          ]
        }
      ]
    },
    {
      "cell_type": "code",
      "source": [
        "# Caution: Always append '\\n' on text\n",
        "users = \"\"\"\n",
        "name,age,locale,job\n",
        "JohnDoe,20,CA,Student\n",
        "JaneDoe,21,45,Developer\n",
        "\"\"\""
      ],
      "metadata": {
        "id": "QtMJF35RRfhv"
      },
      "execution_count": null,
      "outputs": []
    },
    {
      "cell_type": "code",
      "source": [
        "f = open('./hello.txt','a')\n",
        "for i in range(1,10+1):\n",
        "  f.write(f'{i}')\n",
        "f.close()"
      ],
      "metadata": {
        "id": "e-66tBmcSLZX"
      },
      "execution_count": null,
      "outputs": []
    },
    {
      "cell_type": "code",
      "source": [
        "f = open('./hello.txt','a')\n",
        "for i in range(11,20+1):\n",
        "  f.write(f'{i}\\n')\n",
        "f.close()"
      ],
      "metadata": {
        "id": "HXIzVQ5gTFHN"
      },
      "execution_count": null,
      "outputs": []
    },
    {
      "cell_type": "code",
      "source": [
        "f = open('./hello.txt','r')\n",
        "print(f.readlines())\n",
        "f.close()"
      ],
      "metadata": {
        "colab": {
          "base_uri": "https://localhost:8080/"
        },
        "id": "dqrTm9kOS9Rg",
        "outputId": "27df6ce6-a8ea-4450-d5cf-083f983f8467"
      },
      "execution_count": null,
      "outputs": [
        {
          "output_type": "stream",
          "name": "stdout",
          "text": [
            "['This file is wrote with python File I/O. \\n', 'Contents- How to start- Installation- Features1234567891011\\n', '12\\n', '13\\n', '14\\n', '15\\n', '16\\n', '17\\n', '18\\n', '19\\n', '20\\n']\n"
          ]
        }
      ]
    },
    {
      "cell_type": "code",
      "source": [
        "# 위에서 마지막에 개행문자를 붙였으므로 21에서도 잘 붙음\n",
        "f = open('./hello.txt','a')\n",
        "for i in range(21,30+1):\n",
        "  f.write(f'{i}\\n')\n",
        "f.close()"
      ],
      "metadata": {
        "id": "_7pF4e21TwWV"
      },
      "execution_count": null,
      "outputs": []
    },
    {
      "cell_type": "code",
      "source": [
        "f = open('./hello.txt','r')\n",
        "text_lines = f.readlines()\n",
        "for line in text_lines:\n",
        "  print(line)\n",
        "f.close()"
      ],
      "metadata": {
        "colab": {
          "base_uri": "https://localhost:8080/"
        },
        "id": "CrsjZlCET1FN",
        "outputId": "6fc2bac8-a7dc-406c-e30f-3a8949c84250"
      },
      "execution_count": null,
      "outputs": [
        {
          "output_type": "stream",
          "name": "stdout",
          "text": [
            "This file is wrote with python File I/O. \n",
            "\n",
            "Contents- How to start- Installation- Features1234567891011\n",
            "\n",
            "12\n",
            "\n",
            "13\n",
            "\n",
            "14\n",
            "\n",
            "15\n",
            "\n",
            "16\n",
            "\n",
            "17\n",
            "\n",
            "18\n",
            "\n",
            "19\n",
            "\n",
            "20\n",
            "\n",
            "21\n",
            "\n",
            "22\n",
            "\n",
            "23\n",
            "\n",
            "24\n",
            "\n",
            "25\n",
            "\n",
            "26\n",
            "\n",
            "27\n",
            "\n",
            "28\n",
            "\n",
            "29\n",
            "\n",
            "30\n",
            "\n"
          ]
        }
      ]
    },
    {
      "cell_type": "code",
      "source": [
        "# f = open()\n",
        "# with : 자동으로 open의 반대함수를 실행해줌, 여기선 close\n",
        "with open('./hello.txt','r') as f: \n",
        "  result = f.readlines()\n",
        "\n",
        "print(result)"
      ],
      "metadata": {
        "colab": {
          "base_uri": "https://localhost:8080/"
        },
        "id": "NhFXEbPUT-ce",
        "outputId": "8d4902f5-3ca2-4d6e-c1b8-256358b8f150"
      },
      "execution_count": null,
      "outputs": [
        {
          "output_type": "stream",
          "name": "stdout",
          "text": [
            "['This file is wrote with python File I/O. \\n', 'Contents- How to start- Installation- Features1234567891011\\n', '12\\n', '13\\n', '14\\n', '15\\n', '16\\n', '17\\n', '18\\n', '19\\n', '20\\n', '21\\n', '22\\n', '23\\n', '24\\n', '25\\n', '26\\n', '27\\n', '28\\n', '29\\n', '30\\n']\n"
          ]
        }
      ]
    },
    {
      "cell_type": "code",
      "source": [
        "with open('./hello.txt','r') as f: \n",
        "  result = []\n",
        "  while True:\n",
        "    line = f.readline()\n",
        "    if not line: break\n",
        "    result.append(line)\n",
        "print(result)"
      ],
      "metadata": {
        "colab": {
          "base_uri": "https://localhost:8080/"
        },
        "id": "jIijcStpU2kM",
        "outputId": "9ea0a778-26b7-4be8-d220-3217ba0f280f"
      },
      "execution_count": null,
      "outputs": [
        {
          "output_type": "stream",
          "name": "stdout",
          "text": [
            "['This file is wrote with python File I/O. \\n', 'Contents- How to start- Installation- Features1234567891011\\n', '12\\n', '13\\n', '14\\n', '15\\n', '16\\n', '17\\n', '18\\n', '19\\n', '20\\n', '21\\n', '22\\n', '23\\n', '24\\n', '25\\n', '26\\n', '27\\n', '28\\n', '29\\n', '30\\n']\n"
          ]
        }
      ]
    },
    {
      "cell_type": "code",
      "source": [
        "open?"
      ],
      "metadata": {
        "id": "mCkk5ksDWARO"
      },
      "execution_count": null,
      "outputs": []
    },
    {
      "cell_type": "code",
      "source": [
        "with open('./learn-korean.txt','w') as f: \n",
        "  f.write('한글은 위대하다. \\n')"
      ],
      "metadata": {
        "id": "yTxQyEIvXKxB"
      },
      "execution_count": null,
      "outputs": []
    },
    {
      "cell_type": "code",
      "source": [
        "with open('./learn-korean.txt','r') as f: \n",
        "   result = f.readlines()\n",
        "print(result)"
      ],
      "metadata": {
        "colab": {
          "base_uri": "https://localhost:8080/"
        },
        "id": "PECbT--RWUjQ",
        "outputId": "c03b7b14-e5a0-4105-ee2b-d72f3ca0935e"
      },
      "execution_count": null,
      "outputs": [
        {
          "output_type": "stream",
          "name": "stdout",
          "text": [
            "['한글은 위대하다. \\n']\n"
          ]
        }
      ]
    },
    {
      "cell_type": "code",
      "source": [
        "comma_spread = 'John Doe,26,CA,Student'"
      ],
      "metadata": {
        "id": "01dhgxCNX7aV"
      },
      "execution_count": null,
      "outputs": []
    },
    {
      "cell_type": "code",
      "source": [
        "comma_spread"
      ],
      "metadata": {
        "colab": {
          "base_uri": "https://localhost:8080/",
          "height": 35
        },
        "id": "iH7MvH42YFbT",
        "outputId": "0ec65060-ce4b-4158-99ab-6a2839842e88"
      },
      "execution_count": null,
      "outputs": [
        {
          "output_type": "execute_result",
          "data": {
            "text/plain": [
              "'John Doe,26,CA,Student'"
            ],
            "application/vnd.google.colaboratory.intrinsic+json": {
              "type": "string"
            }
          },
          "metadata": {},
          "execution_count": 58
        }
      ]
    },
    {
      "cell_type": "code",
      "source": [
        "print(comma_spread.split(','))"
      ],
      "metadata": {
        "colab": {
          "base_uri": "https://localhost:8080/"
        },
        "id": "9SxqPTcWYI10",
        "outputId": "136fd1d1-fc0a-4908-dc7a-e41f8086ad91"
      },
      "execution_count": null,
      "outputs": [
        {
          "output_type": "stream",
          "name": "stdout",
          "text": [
            "['John Doe', '26', 'CA', 'Student']\n"
          ]
        }
      ]
    },
    {
      "cell_type": "code",
      "source": [
        "df = pd.read_csv('./sample_data/california_housing_test.csv')\n",
        "df"
      ],
      "metadata": {
        "colab": {
          "base_uri": "https://localhost:8080/",
          "height": 488
        },
        "id": "M_ZZ49-LYZ3D",
        "outputId": "e4a8c71b-d3b3-4993-807d-dcc394728db6"
      },
      "execution_count": null,
      "outputs": [
        {
          "output_type": "execute_result",
          "data": {
            "text/plain": [
              "      longitude  latitude  housing_median_age  total_rooms  total_bedrooms  \\\n",
              "0       -122.05     37.37                27.0       3885.0           661.0   \n",
              "1       -118.30     34.26                43.0       1510.0           310.0   \n",
              "2       -117.81     33.78                27.0       3589.0           507.0   \n",
              "3       -118.36     33.82                28.0         67.0            15.0   \n",
              "4       -119.67     36.33                19.0       1241.0           244.0   \n",
              "...         ...       ...                 ...          ...             ...   \n",
              "2995    -119.86     34.42                23.0       1450.0           642.0   \n",
              "2996    -118.14     34.06                27.0       5257.0          1082.0   \n",
              "2997    -119.70     36.30                10.0        956.0           201.0   \n",
              "2998    -117.12     34.10                40.0         96.0            14.0   \n",
              "2999    -119.63     34.42                42.0       1765.0           263.0   \n",
              "\n",
              "      population  households  median_income  median_house_value  \n",
              "0         1537.0       606.0         6.6085            344700.0  \n",
              "1          809.0       277.0         3.5990            176500.0  \n",
              "2         1484.0       495.0         5.7934            270500.0  \n",
              "3           49.0        11.0         6.1359            330000.0  \n",
              "4          850.0       237.0         2.9375             81700.0  \n",
              "...          ...         ...            ...                 ...  \n",
              "2995      1258.0       607.0         1.1790            225000.0  \n",
              "2996      3496.0      1036.0         3.3906            237200.0  \n",
              "2997       693.0       220.0         2.2895             62000.0  \n",
              "2998        46.0        14.0         3.2708            162500.0  \n",
              "2999       753.0       260.0         8.5608            500001.0  \n",
              "\n",
              "[3000 rows x 9 columns]"
            ],
            "text/html": [
              "\n",
              "  <div id=\"df-683249d8-8c3a-4606-97e3-e7ab00e708fd\">\n",
              "    <div class=\"colab-df-container\">\n",
              "      <div>\n",
              "<style scoped>\n",
              "    .dataframe tbody tr th:only-of-type {\n",
              "        vertical-align: middle;\n",
              "    }\n",
              "\n",
              "    .dataframe tbody tr th {\n",
              "        vertical-align: top;\n",
              "    }\n",
              "\n",
              "    .dataframe thead th {\n",
              "        text-align: right;\n",
              "    }\n",
              "</style>\n",
              "<table border=\"1\" class=\"dataframe\">\n",
              "  <thead>\n",
              "    <tr style=\"text-align: right;\">\n",
              "      <th></th>\n",
              "      <th>longitude</th>\n",
              "      <th>latitude</th>\n",
              "      <th>housing_median_age</th>\n",
              "      <th>total_rooms</th>\n",
              "      <th>total_bedrooms</th>\n",
              "      <th>population</th>\n",
              "      <th>households</th>\n",
              "      <th>median_income</th>\n",
              "      <th>median_house_value</th>\n",
              "    </tr>\n",
              "  </thead>\n",
              "  <tbody>\n",
              "    <tr>\n",
              "      <th>0</th>\n",
              "      <td>-122.05</td>\n",
              "      <td>37.37</td>\n",
              "      <td>27.0</td>\n",
              "      <td>3885.0</td>\n",
              "      <td>661.0</td>\n",
              "      <td>1537.0</td>\n",
              "      <td>606.0</td>\n",
              "      <td>6.6085</td>\n",
              "      <td>344700.0</td>\n",
              "    </tr>\n",
              "    <tr>\n",
              "      <th>1</th>\n",
              "      <td>-118.30</td>\n",
              "      <td>34.26</td>\n",
              "      <td>43.0</td>\n",
              "      <td>1510.0</td>\n",
              "      <td>310.0</td>\n",
              "      <td>809.0</td>\n",
              "      <td>277.0</td>\n",
              "      <td>3.5990</td>\n",
              "      <td>176500.0</td>\n",
              "    </tr>\n",
              "    <tr>\n",
              "      <th>2</th>\n",
              "      <td>-117.81</td>\n",
              "      <td>33.78</td>\n",
              "      <td>27.0</td>\n",
              "      <td>3589.0</td>\n",
              "      <td>507.0</td>\n",
              "      <td>1484.0</td>\n",
              "      <td>495.0</td>\n",
              "      <td>5.7934</td>\n",
              "      <td>270500.0</td>\n",
              "    </tr>\n",
              "    <tr>\n",
              "      <th>3</th>\n",
              "      <td>-118.36</td>\n",
              "      <td>33.82</td>\n",
              "      <td>28.0</td>\n",
              "      <td>67.0</td>\n",
              "      <td>15.0</td>\n",
              "      <td>49.0</td>\n",
              "      <td>11.0</td>\n",
              "      <td>6.1359</td>\n",
              "      <td>330000.0</td>\n",
              "    </tr>\n",
              "    <tr>\n",
              "      <th>4</th>\n",
              "      <td>-119.67</td>\n",
              "      <td>36.33</td>\n",
              "      <td>19.0</td>\n",
              "      <td>1241.0</td>\n",
              "      <td>244.0</td>\n",
              "      <td>850.0</td>\n",
              "      <td>237.0</td>\n",
              "      <td>2.9375</td>\n",
              "      <td>81700.0</td>\n",
              "    </tr>\n",
              "    <tr>\n",
              "      <th>...</th>\n",
              "      <td>...</td>\n",
              "      <td>...</td>\n",
              "      <td>...</td>\n",
              "      <td>...</td>\n",
              "      <td>...</td>\n",
              "      <td>...</td>\n",
              "      <td>...</td>\n",
              "      <td>...</td>\n",
              "      <td>...</td>\n",
              "    </tr>\n",
              "    <tr>\n",
              "      <th>2995</th>\n",
              "      <td>-119.86</td>\n",
              "      <td>34.42</td>\n",
              "      <td>23.0</td>\n",
              "      <td>1450.0</td>\n",
              "      <td>642.0</td>\n",
              "      <td>1258.0</td>\n",
              "      <td>607.0</td>\n",
              "      <td>1.1790</td>\n",
              "      <td>225000.0</td>\n",
              "    </tr>\n",
              "    <tr>\n",
              "      <th>2996</th>\n",
              "      <td>-118.14</td>\n",
              "      <td>34.06</td>\n",
              "      <td>27.0</td>\n",
              "      <td>5257.0</td>\n",
              "      <td>1082.0</td>\n",
              "      <td>3496.0</td>\n",
              "      <td>1036.0</td>\n",
              "      <td>3.3906</td>\n",
              "      <td>237200.0</td>\n",
              "    </tr>\n",
              "    <tr>\n",
              "      <th>2997</th>\n",
              "      <td>-119.70</td>\n",
              "      <td>36.30</td>\n",
              "      <td>10.0</td>\n",
              "      <td>956.0</td>\n",
              "      <td>201.0</td>\n",
              "      <td>693.0</td>\n",
              "      <td>220.0</td>\n",
              "      <td>2.2895</td>\n",
              "      <td>62000.0</td>\n",
              "    </tr>\n",
              "    <tr>\n",
              "      <th>2998</th>\n",
              "      <td>-117.12</td>\n",
              "      <td>34.10</td>\n",
              "      <td>40.0</td>\n",
              "      <td>96.0</td>\n",
              "      <td>14.0</td>\n",
              "      <td>46.0</td>\n",
              "      <td>14.0</td>\n",
              "      <td>3.2708</td>\n",
              "      <td>162500.0</td>\n",
              "    </tr>\n",
              "    <tr>\n",
              "      <th>2999</th>\n",
              "      <td>-119.63</td>\n",
              "      <td>34.42</td>\n",
              "      <td>42.0</td>\n",
              "      <td>1765.0</td>\n",
              "      <td>263.0</td>\n",
              "      <td>753.0</td>\n",
              "      <td>260.0</td>\n",
              "      <td>8.5608</td>\n",
              "      <td>500001.0</td>\n",
              "    </tr>\n",
              "  </tbody>\n",
              "</table>\n",
              "<p>3000 rows × 9 columns</p>\n",
              "</div>\n",
              "      <button class=\"colab-df-convert\" onclick=\"convertToInteractive('df-683249d8-8c3a-4606-97e3-e7ab00e708fd')\"\n",
              "              title=\"Convert this dataframe to an interactive table.\"\n",
              "              style=\"display:none;\">\n",
              "        \n",
              "  <svg xmlns=\"http://www.w3.org/2000/svg\" height=\"24px\"viewBox=\"0 0 24 24\"\n",
              "       width=\"24px\">\n",
              "    <path d=\"M0 0h24v24H0V0z\" fill=\"none\"/>\n",
              "    <path d=\"M18.56 5.44l.94 2.06.94-2.06 2.06-.94-2.06-.94-.94-2.06-.94 2.06-2.06.94zm-11 1L8.5 8.5l.94-2.06 2.06-.94-2.06-.94L8.5 2.5l-.94 2.06-2.06.94zm10 10l.94 2.06.94-2.06 2.06-.94-2.06-.94-.94-2.06-.94 2.06-2.06.94z\"/><path d=\"M17.41 7.96l-1.37-1.37c-.4-.4-.92-.59-1.43-.59-.52 0-1.04.2-1.43.59L10.3 9.45l-7.72 7.72c-.78.78-.78 2.05 0 2.83L4 21.41c.39.39.9.59 1.41.59.51 0 1.02-.2 1.41-.59l7.78-7.78 2.81-2.81c.8-.78.8-2.07 0-2.86zM5.41 20L4 18.59l7.72-7.72 1.47 1.35L5.41 20z\"/>\n",
              "  </svg>\n",
              "      </button>\n",
              "      \n",
              "  <style>\n",
              "    .colab-df-container {\n",
              "      display:flex;\n",
              "      flex-wrap:wrap;\n",
              "      gap: 12px;\n",
              "    }\n",
              "\n",
              "    .colab-df-convert {\n",
              "      background-color: #E8F0FE;\n",
              "      border: none;\n",
              "      border-radius: 50%;\n",
              "      cursor: pointer;\n",
              "      display: none;\n",
              "      fill: #1967D2;\n",
              "      height: 32px;\n",
              "      padding: 0 0 0 0;\n",
              "      width: 32px;\n",
              "    }\n",
              "\n",
              "    .colab-df-convert:hover {\n",
              "      background-color: #E2EBFA;\n",
              "      box-shadow: 0px 1px 2px rgba(60, 64, 67, 0.3), 0px 1px 3px 1px rgba(60, 64, 67, 0.15);\n",
              "      fill: #174EA6;\n",
              "    }\n",
              "\n",
              "    [theme=dark] .colab-df-convert {\n",
              "      background-color: #3B4455;\n",
              "      fill: #D2E3FC;\n",
              "    }\n",
              "\n",
              "    [theme=dark] .colab-df-convert:hover {\n",
              "      background-color: #434B5C;\n",
              "      box-shadow: 0px 1px 3px 1px rgba(0, 0, 0, 0.15);\n",
              "      filter: drop-shadow(0px 1px 2px rgba(0, 0, 0, 0.3));\n",
              "      fill: #FFFFFF;\n",
              "    }\n",
              "  </style>\n",
              "\n",
              "      <script>\n",
              "        const buttonEl =\n",
              "          document.querySelector('#df-683249d8-8c3a-4606-97e3-e7ab00e708fd button.colab-df-convert');\n",
              "        buttonEl.style.display =\n",
              "          google.colab.kernel.accessAllowed ? 'block' : 'none';\n",
              "\n",
              "        async function convertToInteractive(key) {\n",
              "          const element = document.querySelector('#df-683249d8-8c3a-4606-97e3-e7ab00e708fd');\n",
              "          const dataTable =\n",
              "            await google.colab.kernel.invokeFunction('convertToInteractive',\n",
              "                                                     [key], {});\n",
              "          if (!dataTable) return;\n",
              "\n",
              "          const docLinkHtml = 'Like what you see? Visit the ' +\n",
              "            '<a target=\"_blank\" href=https://colab.research.google.com/notebooks/data_table.ipynb>data table notebook</a>'\n",
              "            + ' to learn more about interactive tables.';\n",
              "          element.innerHTML = '';\n",
              "          dataTable['output_type'] = 'display_data';\n",
              "          await google.colab.output.renderOutput(dataTable, element);\n",
              "          const docLink = document.createElement('div');\n",
              "          docLink.innerHTML = docLinkHtml;\n",
              "          element.appendChild(docLink);\n",
              "        }\n",
              "      </script>\n",
              "    </div>\n",
              "  </div>\n",
              "  "
            ]
          },
          "metadata": {},
          "execution_count": 62
        }
      ]
    },
    {
      "cell_type": "code",
      "source": [
        "df = pd.read_csv('./sample_data/california_housing_test.csv')\n",
        "df[:10]"
      ],
      "metadata": {
        "colab": {
          "base_uri": "https://localhost:8080/",
          "height": 427
        },
        "id": "41BW5lbTY7m1",
        "outputId": "46bd938b-607c-4140-8986-50d68c75237c"
      },
      "execution_count": null,
      "outputs": [
        {
          "output_type": "execute_result",
          "data": {
            "text/plain": [
              "   longitude  latitude  housing_median_age  total_rooms  total_bedrooms  \\\n",
              "0    -122.05     37.37                27.0       3885.0           661.0   \n",
              "1    -118.30     34.26                43.0       1510.0           310.0   \n",
              "2    -117.81     33.78                27.0       3589.0           507.0   \n",
              "3    -118.36     33.82                28.0         67.0            15.0   \n",
              "4    -119.67     36.33                19.0       1241.0           244.0   \n",
              "5    -119.56     36.51                37.0       1018.0           213.0   \n",
              "6    -121.43     38.63                43.0       1009.0           225.0   \n",
              "7    -120.65     35.48                19.0       2310.0           471.0   \n",
              "8    -122.84     38.40                15.0       3080.0           617.0   \n",
              "9    -118.02     34.08                31.0       2402.0           632.0   \n",
              "\n",
              "   population  households  median_income  median_house_value  \n",
              "0      1537.0       606.0         6.6085            344700.0  \n",
              "1       809.0       277.0         3.5990            176500.0  \n",
              "2      1484.0       495.0         5.7934            270500.0  \n",
              "3        49.0        11.0         6.1359            330000.0  \n",
              "4       850.0       237.0         2.9375             81700.0  \n",
              "5       663.0       204.0         1.6635             67000.0  \n",
              "6       604.0       218.0         1.6641             67000.0  \n",
              "7      1341.0       441.0         3.2250            166900.0  \n",
              "8      1446.0       599.0         3.6696            194400.0  \n",
              "9      2830.0       603.0         2.3333            164200.0  "
            ],
            "text/html": [
              "\n",
              "  <div id=\"df-7e5b42bf-1723-46c1-adcd-c5761477288d\">\n",
              "    <div class=\"colab-df-container\">\n",
              "      <div>\n",
              "<style scoped>\n",
              "    .dataframe tbody tr th:only-of-type {\n",
              "        vertical-align: middle;\n",
              "    }\n",
              "\n",
              "    .dataframe tbody tr th {\n",
              "        vertical-align: top;\n",
              "    }\n",
              "\n",
              "    .dataframe thead th {\n",
              "        text-align: right;\n",
              "    }\n",
              "</style>\n",
              "<table border=\"1\" class=\"dataframe\">\n",
              "  <thead>\n",
              "    <tr style=\"text-align: right;\">\n",
              "      <th></th>\n",
              "      <th>longitude</th>\n",
              "      <th>latitude</th>\n",
              "      <th>housing_median_age</th>\n",
              "      <th>total_rooms</th>\n",
              "      <th>total_bedrooms</th>\n",
              "      <th>population</th>\n",
              "      <th>households</th>\n",
              "      <th>median_income</th>\n",
              "      <th>median_house_value</th>\n",
              "    </tr>\n",
              "  </thead>\n",
              "  <tbody>\n",
              "    <tr>\n",
              "      <th>0</th>\n",
              "      <td>-122.05</td>\n",
              "      <td>37.37</td>\n",
              "      <td>27.0</td>\n",
              "      <td>3885.0</td>\n",
              "      <td>661.0</td>\n",
              "      <td>1537.0</td>\n",
              "      <td>606.0</td>\n",
              "      <td>6.6085</td>\n",
              "      <td>344700.0</td>\n",
              "    </tr>\n",
              "    <tr>\n",
              "      <th>1</th>\n",
              "      <td>-118.30</td>\n",
              "      <td>34.26</td>\n",
              "      <td>43.0</td>\n",
              "      <td>1510.0</td>\n",
              "      <td>310.0</td>\n",
              "      <td>809.0</td>\n",
              "      <td>277.0</td>\n",
              "      <td>3.5990</td>\n",
              "      <td>176500.0</td>\n",
              "    </tr>\n",
              "    <tr>\n",
              "      <th>2</th>\n",
              "      <td>-117.81</td>\n",
              "      <td>33.78</td>\n",
              "      <td>27.0</td>\n",
              "      <td>3589.0</td>\n",
              "      <td>507.0</td>\n",
              "      <td>1484.0</td>\n",
              "      <td>495.0</td>\n",
              "      <td>5.7934</td>\n",
              "      <td>270500.0</td>\n",
              "    </tr>\n",
              "    <tr>\n",
              "      <th>3</th>\n",
              "      <td>-118.36</td>\n",
              "      <td>33.82</td>\n",
              "      <td>28.0</td>\n",
              "      <td>67.0</td>\n",
              "      <td>15.0</td>\n",
              "      <td>49.0</td>\n",
              "      <td>11.0</td>\n",
              "      <td>6.1359</td>\n",
              "      <td>330000.0</td>\n",
              "    </tr>\n",
              "    <tr>\n",
              "      <th>4</th>\n",
              "      <td>-119.67</td>\n",
              "      <td>36.33</td>\n",
              "      <td>19.0</td>\n",
              "      <td>1241.0</td>\n",
              "      <td>244.0</td>\n",
              "      <td>850.0</td>\n",
              "      <td>237.0</td>\n",
              "      <td>2.9375</td>\n",
              "      <td>81700.0</td>\n",
              "    </tr>\n",
              "    <tr>\n",
              "      <th>5</th>\n",
              "      <td>-119.56</td>\n",
              "      <td>36.51</td>\n",
              "      <td>37.0</td>\n",
              "      <td>1018.0</td>\n",
              "      <td>213.0</td>\n",
              "      <td>663.0</td>\n",
              "      <td>204.0</td>\n",
              "      <td>1.6635</td>\n",
              "      <td>67000.0</td>\n",
              "    </tr>\n",
              "    <tr>\n",
              "      <th>6</th>\n",
              "      <td>-121.43</td>\n",
              "      <td>38.63</td>\n",
              "      <td>43.0</td>\n",
              "      <td>1009.0</td>\n",
              "      <td>225.0</td>\n",
              "      <td>604.0</td>\n",
              "      <td>218.0</td>\n",
              "      <td>1.6641</td>\n",
              "      <td>67000.0</td>\n",
              "    </tr>\n",
              "    <tr>\n",
              "      <th>7</th>\n",
              "      <td>-120.65</td>\n",
              "      <td>35.48</td>\n",
              "      <td>19.0</td>\n",
              "      <td>2310.0</td>\n",
              "      <td>471.0</td>\n",
              "      <td>1341.0</td>\n",
              "      <td>441.0</td>\n",
              "      <td>3.2250</td>\n",
              "      <td>166900.0</td>\n",
              "    </tr>\n",
              "    <tr>\n",
              "      <th>8</th>\n",
              "      <td>-122.84</td>\n",
              "      <td>38.40</td>\n",
              "      <td>15.0</td>\n",
              "      <td>3080.0</td>\n",
              "      <td>617.0</td>\n",
              "      <td>1446.0</td>\n",
              "      <td>599.0</td>\n",
              "      <td>3.6696</td>\n",
              "      <td>194400.0</td>\n",
              "    </tr>\n",
              "    <tr>\n",
              "      <th>9</th>\n",
              "      <td>-118.02</td>\n",
              "      <td>34.08</td>\n",
              "      <td>31.0</td>\n",
              "      <td>2402.0</td>\n",
              "      <td>632.0</td>\n",
              "      <td>2830.0</td>\n",
              "      <td>603.0</td>\n",
              "      <td>2.3333</td>\n",
              "      <td>164200.0</td>\n",
              "    </tr>\n",
              "  </tbody>\n",
              "</table>\n",
              "</div>\n",
              "      <button class=\"colab-df-convert\" onclick=\"convertToInteractive('df-7e5b42bf-1723-46c1-adcd-c5761477288d')\"\n",
              "              title=\"Convert this dataframe to an interactive table.\"\n",
              "              style=\"display:none;\">\n",
              "        \n",
              "  <svg xmlns=\"http://www.w3.org/2000/svg\" height=\"24px\"viewBox=\"0 0 24 24\"\n",
              "       width=\"24px\">\n",
              "    <path d=\"M0 0h24v24H0V0z\" fill=\"none\"/>\n",
              "    <path d=\"M18.56 5.44l.94 2.06.94-2.06 2.06-.94-2.06-.94-.94-2.06-.94 2.06-2.06.94zm-11 1L8.5 8.5l.94-2.06 2.06-.94-2.06-.94L8.5 2.5l-.94 2.06-2.06.94zm10 10l.94 2.06.94-2.06 2.06-.94-2.06-.94-.94-2.06-.94 2.06-2.06.94z\"/><path d=\"M17.41 7.96l-1.37-1.37c-.4-.4-.92-.59-1.43-.59-.52 0-1.04.2-1.43.59L10.3 9.45l-7.72 7.72c-.78.78-.78 2.05 0 2.83L4 21.41c.39.39.9.59 1.41.59.51 0 1.02-.2 1.41-.59l7.78-7.78 2.81-2.81c.8-.78.8-2.07 0-2.86zM5.41 20L4 18.59l7.72-7.72 1.47 1.35L5.41 20z\"/>\n",
              "  </svg>\n",
              "      </button>\n",
              "      \n",
              "  <style>\n",
              "    .colab-df-container {\n",
              "      display:flex;\n",
              "      flex-wrap:wrap;\n",
              "      gap: 12px;\n",
              "    }\n",
              "\n",
              "    .colab-df-convert {\n",
              "      background-color: #E8F0FE;\n",
              "      border: none;\n",
              "      border-radius: 50%;\n",
              "      cursor: pointer;\n",
              "      display: none;\n",
              "      fill: #1967D2;\n",
              "      height: 32px;\n",
              "      padding: 0 0 0 0;\n",
              "      width: 32px;\n",
              "    }\n",
              "\n",
              "    .colab-df-convert:hover {\n",
              "      background-color: #E2EBFA;\n",
              "      box-shadow: 0px 1px 2px rgba(60, 64, 67, 0.3), 0px 1px 3px 1px rgba(60, 64, 67, 0.15);\n",
              "      fill: #174EA6;\n",
              "    }\n",
              "\n",
              "    [theme=dark] .colab-df-convert {\n",
              "      background-color: #3B4455;\n",
              "      fill: #D2E3FC;\n",
              "    }\n",
              "\n",
              "    [theme=dark] .colab-df-convert:hover {\n",
              "      background-color: #434B5C;\n",
              "      box-shadow: 0px 1px 3px 1px rgba(0, 0, 0, 0.15);\n",
              "      filter: drop-shadow(0px 1px 2px rgba(0, 0, 0, 0.3));\n",
              "      fill: #FFFFFF;\n",
              "    }\n",
              "  </style>\n",
              "\n",
              "      <script>\n",
              "        const buttonEl =\n",
              "          document.querySelector('#df-7e5b42bf-1723-46c1-adcd-c5761477288d button.colab-df-convert');\n",
              "        buttonEl.style.display =\n",
              "          google.colab.kernel.accessAllowed ? 'block' : 'none';\n",
              "\n",
              "        async function convertToInteractive(key) {\n",
              "          const element = document.querySelector('#df-7e5b42bf-1723-46c1-adcd-c5761477288d');\n",
              "          const dataTable =\n",
              "            await google.colab.kernel.invokeFunction('convertToInteractive',\n",
              "                                                     [key], {});\n",
              "          if (!dataTable) return;\n",
              "\n",
              "          const docLinkHtml = 'Like what you see? Visit the ' +\n",
              "            '<a target=\"_blank\" href=https://colab.research.google.com/notebooks/data_table.ipynb>data table notebook</a>'\n",
              "            + ' to learn more about interactive tables.';\n",
              "          element.innerHTML = '';\n",
              "          dataTable['output_type'] = 'display_data';\n",
              "          await google.colab.output.renderOutput(dataTable, element);\n",
              "          const docLink = document.createElement('div');\n",
              "          docLink.innerHTML = docLinkHtml;\n",
              "          element.appendChild(docLink);\n",
              "        }\n",
              "      </script>\n",
              "    </div>\n",
              "  </div>\n",
              "  "
            ]
          },
          "metadata": {},
          "execution_count": 69
        }
      ]
    },
    {
      "cell_type": "code",
      "source": [
        "df = pd.read_csv('./sample_data/california_housing_test.csv')\n",
        "df['longitude']"
      ],
      "metadata": {
        "colab": {
          "base_uri": "https://localhost:8080/"
        },
        "id": "RLeMI7U0bprx",
        "outputId": "eb201b33-8055-4dcc-ee86-6ea4eb1eaa80"
      },
      "execution_count": null,
      "outputs": [
        {
          "output_type": "execute_result",
          "data": {
            "text/plain": [
              "0      -122.05\n",
              "1      -118.30\n",
              "2      -117.81\n",
              "3      -118.36\n",
              "4      -119.67\n",
              "         ...  \n",
              "2995   -119.86\n",
              "2996   -118.14\n",
              "2997   -119.70\n",
              "2998   -117.12\n",
              "2999   -119.63\n",
              "Name: longitude, Length: 3000, dtype: float64"
            ]
          },
          "metadata": {},
          "execution_count": 90
        }
      ]
    },
    {
      "cell_type": "code",
      "source": [
        "# dict -> DataFrame -> csv\n",
        "\n",
        "users = [{\n",
        "        'name':'John Doe',\n",
        "        'age':26,\n",
        "        'locale':'CA, USA',\n",
        "    },\n",
        "    {\n",
        "        'name':'Jane Doe',\n",
        "        'age':45,\n",
        "        'locale':'CA, USA',\n",
        "    },\n",
        "    {\n",
        "        'name':'Mr.Lee',\n",
        "        'age':20,\n",
        "        'locale':'KOR',\n",
        "    },\n",
        "]"
      ],
      "metadata": {
        "id": "k9ORAknpb57q"
      },
      "execution_count": null,
      "outputs": []
    },
    {
      "cell_type": "code",
      "source": [
        "users = df.from_dict(users)"
      ],
      "metadata": {
        "id": "ppGKMNV7dB5K"
      },
      "execution_count": null,
      "outputs": []
    },
    {
      "cell_type": "code",
      "source": [
        "users.to_csv('./users.csv')"
      ],
      "metadata": {
        "id": "G-txmbu2dGZD"
      },
      "execution_count": null,
      "outputs": []
    },
    {
      "cell_type": "code",
      "source": [
        "with open('./users.csv') as f:\n",
        "  for line in f.readlines():\n",
        "    print(line)\n",
        "## ????"
      ],
      "metadata": {
        "colab": {
          "base_uri": "https://localhost:8080/"
        },
        "id": "83hJBAALdji2",
        "outputId": "58a47cca-e927-43c8-b398-664b9821cd26"
      },
      "execution_count": null,
      "outputs": [
        {
          "output_type": "stream",
          "name": "stdout",
          "text": [
            ",name,age,locale\n",
            "\n",
            "0,John Doe,26,\"CA, USA\"\n",
            "\n",
            "1,Jane Doe,45,\"CA, USA\"\n",
            "\n",
            "2,Mr.Lee,20,KOR\n",
            "\n"
          ]
        }
      ]
    },
    {
      "cell_type": "code",
      "source": [
        "# python: rule -> left no space, rigth 1 space\n",
        "with open('users.json','w') as f:\n",
        "  user_dict = {}\n",
        "  user_dict.setdefault('users',[]).append({\n",
        "      'name': 'John Doe',\n",
        "      'age': 40,\n",
        "      'locale': 'CA, USA',\n",
        "  })\n",
        "  json.dump(user_dict, f) # dict -> dump 외부로 나갈 데이터"
      ],
      "metadata": {
        "id": "GmNJC5I2duG5"
      },
      "execution_count": null,
      "outputs": []
    },
    {
      "cell_type": "code",
      "source": [
        "with open('users.json') as f:\n",
        "  result = f.readlines()\n",
        "  print(result)"
      ],
      "metadata": {
        "colab": {
          "base_uri": "https://localhost:8080/"
        },
        "id": "JkCZ6CwjfWXC",
        "outputId": "fdacf190-3446-4120-cd25-389a8312aec0"
      },
      "execution_count": null,
      "outputs": [
        {
          "output_type": "stream",
          "name": "stdout",
          "text": [
            "['{\"users\": [{\"name\": \"John Doe\", \"age\": 40, \"locale\": \"CA, USA\"}]}']\n"
          ]
        }
      ]
    },
    {
      "cell_type": "code",
      "source": [
        "result[0]"
      ],
      "metadata": {
        "colab": {
          "base_uri": "https://localhost:8080/",
          "height": 35
        },
        "id": "6qRJcIHKffsb",
        "outputId": "42ef8fce-1a06-432b-e34f-8815f3337d9f"
      },
      "execution_count": null,
      "outputs": [
        {
          "output_type": "execute_result",
          "data": {
            "text/plain": [
              "'{\"users\": [{\"name\": \"John Doe\", \"age\": 40, \"locale\": \"CA, USA\"}]}'"
            ],
            "application/vnd.google.colaboratory.intrinsic+json": {
              "type": "string"
            }
          },
          "metadata": {},
          "execution_count": 120
        }
      ]
    },
    {
      "cell_type": "code",
      "source": [
        "result[0]['users']"
      ],
      "metadata": {
        "colab": {
          "base_uri": "https://localhost:8080/",
          "height": 172
        },
        "id": "k6A1GjRTfmn2",
        "outputId": "cd371f92-3464-4c63-845e-c0b33456ec54"
      },
      "execution_count": null,
      "outputs": [
        {
          "output_type": "error",
          "ename": "TypeError",
          "evalue": "ignored",
          "traceback": [
            "\u001b[0;31m---------------------------------------------------------------------------\u001b[0m",
            "\u001b[0;31mTypeError\u001b[0m                                 Traceback (most recent call last)",
            "\u001b[0;32m<ipython-input-121-fc08b5cc4626>\u001b[0m in \u001b[0;36m<module>\u001b[0;34m\u001b[0m\n\u001b[0;32m----> 1\u001b[0;31m \u001b[0mresult\u001b[0m\u001b[0;34m[\u001b[0m\u001b[0;36m0\u001b[0m\u001b[0;34m]\u001b[0m\u001b[0;34m[\u001b[0m\u001b[0;34m'users'\u001b[0m\u001b[0;34m]\u001b[0m\u001b[0;34m\u001b[0m\u001b[0;34m\u001b[0m\u001b[0m\n\u001b[0m",
            "\u001b[0;31mTypeError\u001b[0m: string indices must be integers"
          ]
        }
      ]
    },
    {
      "cell_type": "code",
      "source": [
        "with open('users.json') as f:\n",
        "  from_json = json.load(f) # dict -> load 내부로 쓸 데이터\n",
        "  print(from_json)"
      ],
      "metadata": {
        "colab": {
          "base_uri": "https://localhost:8080/"
        },
        "id": "XWJY3z37fq3D",
        "outputId": "f80a18af-c5d6-43b8-b3c5-e78e5c725b8e"
      },
      "execution_count": null,
      "outputs": [
        {
          "output_type": "stream",
          "name": "stdout",
          "text": [
            "{'users': [{'name': 'John Doe', 'age': 40, 'locale': 'CA, USA'}]}\n"
          ]
        }
      ]
    },
    {
      "cell_type": "code",
      "source": [
        "from_json['users'][0]['name']"
      ],
      "metadata": {
        "colab": {
          "base_uri": "https://localhost:8080/",
          "height": 35
        },
        "id": "6gtjnonDf-6a",
        "outputId": "96ed6522-099c-46b4-a835-6af0524e15b5"
      },
      "execution_count": null,
      "outputs": [
        {
          "output_type": "execute_result",
          "data": {
            "text/plain": [
              "'John Doe'"
            ],
            "application/vnd.google.colaboratory.intrinsic+json": {
              "type": "string"
            }
          },
          "metadata": {},
          "execution_count": 126
        }
      ]
    },
    {
      "cell_type": "code",
      "source": [
        "#User-agent: * -> 운영사 모두\n",
        "#Disallow: /search -> search를 하지마라, 나머지는 ok\n",
        "#Sitemap: https://www.rottentomatoes.com/sitemaps/sitemap.xml"
      ],
      "metadata": {
        "id": "E3ucTAIOgGeP"
      },
      "execution_count": null,
      "outputs": []
    },
    {
      "cell_type": "code",
      "source": [
        "response = requests.get('https://www.rottentomatoes.com/')\n",
        "response.status_code"
      ],
      "metadata": {
        "colab": {
          "base_uri": "https://localhost:8080/"
        },
        "id": "9SnZMN6uhfBB",
        "outputId": "f3ab4f17-b0e7-45df-ec09-74bd9c4b748f"
      },
      "execution_count": null,
      "outputs": [
        {
          "output_type": "execute_result",
          "data": {
            "text/plain": [
              "200"
            ]
          },
          "metadata": {},
          "execution_count": 136
        }
      ]
    },
    {
      "cell_type": "code",
      "source": [
        "response.text"
      ],
      "metadata": {
        "colab": {
          "base_uri": "https://localhost:8080/",
          "height": 236
        },
        "id": "ht0EcRy5i_On",
        "outputId": "92beabee-044e-4564-9bd1-093b426c8cf3"
      },
      "execution_count": null,
      "outputs": [
        {
          "output_type": "execute_result",
          "data": {
            "text/plain": [
              "'<!DOCTYPE html>\\n<html lang=\"en\" dir=\"ltr\" xmlns=\"http://www.w3.org/1999/xhtml\" prefix=\"fb: http://www.facebook.com/2008/fbml og: http://opengraphprotocol.org/schema/\">\\n    <head prefix=\"og: http://ogp.me/ns# flixstertomatoes: http://ogp.me/ns/apps/flixstertomatoes#\">\\n        \\n        <script src=\"https://cdn.cookielaw.org/consent/7e979733-6841-4fce-9182-515fac69187f/otSDKStub.js\"\\n            type=\"text/javascript\"\\n            charset=\"UTF-8\"\\n            data-domain-script=\"7e979733-6841-4fce-9182-515fac69187f\"\\n            integrity=\"sha384-WEHwEli88wqOiQd913F1utFZiwisa8XhCkbjLnbKEpFa/WbFcPKeGg7h4fdsv0Z/\"\\n            crossorigin=\"anonymous\">\\n        </script>\\n        <script type=\"text/javascript\">\\n        function OptanonWrapper() { }\\n        </script>\\n        \\n        \\n        <script src=\"https://cdn.cookielaw.org/opt-out/otCCPAiab.js\"\\n            type=\"text/javascript\"\\n            charset=\"UTF-8\"\\n            ccpa-opt-out-ids=\"dummy\"\\n            ccpa-opt-out-geo=\"US\"\\n            ccpa-opt-out-lspa=\"false\">\\n        </script>\\n        \\n\\n        \\n            <script src=\"/assets/pizza-pie/javascripts/bundles/roma/rt-common.js?single\"></script>\\n        \\n        <meta http-equiv=\"Content-Type\" content=\"text/html; charset=utf-8\" />\\n        <meta http-equiv=\"x-ua-compatible\" content=\"ie=edge\">\\n        <meta name=\"viewport\" content=\"width=device-width, initial-scale=1\">\\n\\n        <title>Rotten Tomatoes: Movies | TV Shows | Movie Trailers | Reviews - Rotten Tomatoes</title>\\n        <meta name=\"description\" content=\"Rotten Tomatoes, home of the Tomatometer, is the most trusted measurement of quality for Movies & TV. The definitive site for Reviews, Trailers, Showtimes, and Tickets\">\\n\\n        \\n            <link rel=\"canonical\" href=\"https://www.rottentomatoes.com/\">\\n        \\n\\n        \\n            \\n        \\n\\n        <link rel=\"shortcut icon\" sizes=\"76x76\" type=\"image/x-icon\" href=\"https://www.rottentomatoes.com/assets/pizza-pie/images/favicon.ico\" />\\n        \\n\\n        \\n            <meta property=\"fb:app_id\" content=\"326803741017\">\\n            <meta property=\"og:site_name\" content=\"Rotten Tomatoes\">\\n            <meta property=\"og:title\" content=\"Rotten Tomatoes: Movies | TV Shows | Movie Trailers | Reviews\">\\n            <meta property=\"og:description\" content=\"Rotten Tomatoes, home of the Tomatometer, is the most trusted measurement of quality for Movies & TV. The definitive site for Reviews, Trailers, Showtimes, and Tickets\">\\n            <meta property=\"og:type\" content=\"website\">\\n            <meta property=\"og:url\" content=\"https://www.rottentomatoes.com/\">\\n            <meta property=\"og:image\" content=\"https://www.rottentomatoes.com/assets/pizza-pie/head-assets/images/RT_TwitterCard_2018.jpg\">\\n            <meta property=\"og:locale\" content=\"en_US\">\\n        \\n\\n        <meta name=\"twitter:card\" content=\"summary_large_image\">\\n        <meta name=\"twitter:image\" content=\"https://www.rottentomatoes.com/assets/pizza-pie/head-assets/images/RT_TwitterCard_2018.jpg\">\\n        <meta name=\"twitter:title\" content=\"Rotten Tomatoes: Movies | TV Shows | Movie Trailers | Reviews\">\\n        <meta name=\"twitter:text:title\" content=\"Rotten Tomatoes: Movies | TV Shows | Movie Trailers | Reviews\">\\n        <meta name=\"twitter:description\" content=\"Rotten Tomatoes, home of the Tomatometer, is the most trusted measurement of quality for Movies & TV. The definitive site for Reviews, Trailers, Showtimes, and Tickets\">\\n        <meta name=\"twitter:site\" content=\"@rottentomatoes\">\\n\\n        <link rel=\"manifest\" href=\"https://www.rottentomatoes.com/assets/pizza-pie/manifest/manifest.json\" />\\n\\n        <link rel=\"apple-touch-icon\" href=\"https://www.rottentomatoes.com/assets/pizza-pie/head-assets/images/apple-touch-icon-60.jpg\" />\\n        <link rel=\"apple-touch-icon\" sizes=\"152x152\" href=\"https://www.rottentomatoes.com/assets/pizza-pie/head-assets/images/apple-touch-icon-152.jpg\" />\\n        <link rel=\"apple-touch-icon\" sizes=\"167x167\" href=\"https://www.rottentomatoes.com/assets/pizza-pie/head-assets/images/apple-touch-icon-167.jpg\" />\\n        <link rel=\"apple-touch-icon\" sizes=\"180x180\" href=\"https://www.rottentomatoes.com/assets/pizza-pie/head-assets/images/apple-touch-icon-180.jpg\" />\\n\\n        <!-- JSON+LD -->\\n        \\n\\n        \\n        \\n\\n        \\n        <meta name=\"google-site-verification\" content=\"VPPXtECgUUeuATBacnqnCm4ydGO99reF-xgNklSbNbc\" />\\n\\n        \\n        <meta name=\"msvalidate.01\" content=\"034F16304017CA7DCF45D43850915323\" />\\n        <meta name=\"theme-color\" content=\"#FA320A\">\\n\\n        <!-- DNS prefetch -->\\n        <meta http-equiv=\"x-dns-prefetch-control\" content=\"on\">\\n        \\n            <link rel=\"dns-prefetch\" href=\"//www.rottentomatoes.com\" />\\n        \\n        \\n            <link rel=\"preconnect\" href=\"//www.rottentomatoes.com\" />\\n        \\n\\n        \\n        \\n\\n        \\n        \\n\\n        \\n\\n    \\n        <link rel=\"preload\" href=\"/assets/pizza-pie/stylesheets/bundles/roma/layouts/default.31ac150c884.css\" as=\"style\" onload=\"this.onload=null;this.rel=\\'stylesheet\\'\">\\n\\n        \\n\\n    <link rel=\"preload\" href=\"/assets/pizza-pie/stylesheets/bundles/roma/pages/home.876fcc2aa18.css\" as=\"style\" onload=\"this.onload=null;this.rel=\\'stylesheet\\'\">\\n\\n\\n\\n        <script>\\n        !function(t){\"use strict\";t.loadCSS||(t.loadCSS=function(){});var e=loadCSS.relpreload={};if(e.support=function(){var e;try{e=t.document.createElement(\"link\").relList.supports(\"preload\")}catch(t){e=!1}return function(){return e}}(),e.bindMediaToggle=function(t){var e=t.media||\"all\";function a(){t.media=e}t.addEventListener?t.addEventListener(\"load\",a):t.attachEvent&&t.attachEvent(\"onload\",a),setTimeout(function(){t.rel=\"stylesheet\",t.media=\"only x\"}),setTimeout(a,3e3)},e.poly=function(){if(!e.support())for(var a=t.document.getElementsByTagName(\"link\"),n=0;n<a.length;n++){var o=a[n];\"preload\"!==o.rel||\"style\"!==o.getAttribute(\"as\")||o.getAttribute(\"data-loadcss\")||(o.setAttribute(\"data-loadcss\",!0),e.bindMediaToggle(o))}},!e.support()){e.poly();var a=t.setInterval(e.poly,500);t.addEventListener?t.addEventListener(\"load\",function(){e.poly(),t.clearInterval(a)}):t.attachEvent&&t.attachEvent(\"onload\",function(){e.poly(),t.clearInterval(a)})}\"undefined\"!=typeof exports?exports.loadCSS=loadCSS:t.loadCSS=loadCSS}(\"undefined\"!=typeof global?global:this);\\n        </script>\\n\\n        <script>\\n            window.RottenTomatoes = {};\\n            window.RTLocals = {};\\n        </script>\\n\\n        <script>var dataLayer = dataLayer || [];</script>\\n\\n        \\n        \\n    <script id=\"mps-page-integration\">\\n      window.mpscall = {\"adunits\":\"Multi Logo|Box Ad|Marquee Banner|Top Banner\",\"cag[score]\":null,\"cag[certified_fresh]\":null,\"cag[fresh_rotten]\":null,\"cag[rating]\":null,\"cag[release]\":null,\"cag[movieshow]\":null,\"cag[genre]\":null,\"cag[urlid]\":null,\"cat\":\"home\",\"field[env]\":\"production\",\"field[rtid]\":null,\"path\":\"/\",\"site\":\"rottentomatoes-web\",\"title\":\"Rotten Tomatoes: Movies | TV Shows | Movie Trailers | Reviews\",\"type\":\"index\"};\\n      var mpsopts={\\'host\\':\\'mps.nbcuni.com\\', \\'updatecorrelator\\':1};\\n      var mps=mps||{};mps._ext=mps._ext||{};mps._adsheld=[];mps._queue=mps._queue||{};mps._queue.mpsloaded=mps._queue.mpsloaded||[];mps._queue.mpsinit=mps._queue.mpsinit||[];mps._queue.gptloaded=mps._queue.gptloaded||[];mps._queue.adload=mps._queue.adload||[];mps._queue.adclone=mps._queue.adclone||[];mps._queue.adview=mps._queue.adview||[];mps._queue.refreshads=mps._queue.refreshads||[];mps.__timer=Date.now||function(){return+new Date};mps.__intcode=\"v2\";if(typeof mps.getAd!=\"function\")mps.getAd=function(adunit){if(typeof adunit!=\"string\")return false;var slotid=\"mps-getad-\"+adunit.replace(/\\\\W/g,\"\");if(!mps._ext||!mps._ext.loaded){mps._queue.gptloaded.push(function(){typeof mps._gptfirst==\"function\"&&mps._gptfirst(adunit,slotid);mps.insertAd(\"#\"+slotid,adunit)});mps._adsheld.push(adunit)}return\\'<div id=\"\\'+slotid+\\'\" class=\"mps-wrapper\" data-mps-fill-slot=\"\\'+adunit+\\'\"></div>\\'};(function(){head=document.head||document.getElementsByTagName(\"head\")[0],mpsload=document.createElement(\"script\");mpsload.src=\"//\"+mpsopts.host+\"/fetch/ext/load-\"+mpscall.site+\".js?nowrite=2\";mpsload.id=\"mps-load\";head.insertBefore(mpsload,head.firstChild)})();\\n    </script>\\n\\n        \\n    <script>\\n        function endsWith(str, suffix) {\\n            return str.indexOf(suffix, str.length - suffix.length) !== -1;\\n        }\\n    \\n        //--Ad Unit Loaded (called for each ad loaded)\\n        var mps = mps||{}; mps._queue = mps._queue||{}; mps._queue.adload = mps._queue.adload||[];\\n        mps._queue.adload.push(function (eo) {\\n            if (!eo.isEmpty) {\\n                var slotName = eo._mps._slot;\\n    \\n                if (\\'topbanner\\' === slotName) {\\n                    var leaderboardHeight = eo.size[1];\\n                    if (leaderboardHeight > 50){\\n                        \\n\\n                        if (leaderboardHeight < 90){\\n                            $(\\'.leaderboard_wrapper\\').css(\\'min-height\\', leaderboardHeight);\\n                        }\\n                        \\n                        $(\\'#top_leaderboard_wrapper\\').animate({ height: (leaderboardHeight + 10) },1000);\\n                    }\\n                }\\n    \\n                if (\\'trendinggraphic\\' === slotName) {\\n                    //Hide Trending bar social section\\n                    $(\\'#trending_bar_social\\').hide();\\n                    // Roma version\\n                    $(\\'.trending-bar__social\\').hide();\\n                    //Removing padding for trending bar ad\\n                    $(\\'.trendingBar > .trendingEl\\').css(\\'padding\\',\\'0px\\');\\n                    $(\\'#trending_bar_ad\\').show();\\n    \\n                    $(\\'a.trendingLink\\').addClass(\\'trending-link-truncate\\');\\n                    // Roma version\\n                    $(\\'.trending-bar__link\\').addClass(\\'trending-link--truncate\\');\\n                }\\n    \\n                if (\\'tomatometer\\' === slotName) {\\n                    if (eo.size[0] == 524 && eo.size[1] == 40) {\\n                        //Increase score panel margin\\n                        $(\\'#scorePanel\\').css(\\'margin-bottom\\', \\'20px\\');\\n                    }\\n                    // Only show Tomatometer Sponsorship div if rendered\\n                    $(\\'#tomatometer_sponsorship_ad\\').show();\\n                }\\n            }\\n        });\\n    </script>\\n\\n\\n\\n\\n        \\n        <script>\\n            dataLayer.push({\"webVersion\":\"node\",\"rtVersion\":3.1,\"loggedInStatus\":\"\",\"customerId\":\"\",\"pageName\":\"rt | homepage\"});\\n        </script>\\n\\n        \\n\\n        \\n    \\n\\n    </head>\\n    \\n    <body class=\"body no-touch js-mptd-layout\">\\n        <analytics-manager></analytics-manager>\\n\\n        <auth-initiate-manager></auth-initiate-manager>\\n<auth-profile-manager></auth-profile-manager>\\n<overlay-base class=\"\" hidden>\\n    <overlay-flows slot=\"content\">\\n        <button slot=\"close\" class=\"auth-overlay__icon-button auth-overlay__icon-button--close\" aria-label=\"Close\" data-qa=\"close-overlay-btn\">\\n            <rt-icon image icon=\"close\"></rt-icon>\\n        </button>\\n    </overlay-flows>\\n</overlay-base>\\n\\n<notification-alert class=\"js-auth-success \" animate hidden>\\n    <rt-icon icon=\"check-circled\"></rt-icon>\\n    <span>Signed in</span>\\n</notification-alert>\\n\\n<div id=\"auth-templates\">\\n    <template slot=\"screens\" id=\"cognito-loading\">\\n    <div>\\n        <loading-spinner id=\"cognito-auth-loading-spinner\"></loading-spinner>\\n        <style>\\n            #cognito-auth-loading-spinner {\\n                font-size: 2em;\\n                transform: translate(calc(100% - 1em), 250px);\\n                width: 50%;\\n            }\\n        </style>\\n    </div>\\n</template>\\n\\n    <template slot=\"screens\" id=\"cognito-signup-form\">\\r\\n<auth-signup-screen data-qa=\"auth-signup-screen\">\\r\\n    <h2 slot=\"header\" class=\"cognito-signup-form__header\" data-qa=\"auth-signup-screen-title\">Log in or sign up for Rotten Tomatoes</h2>\\r\\n    \\r\\n    <rt-button slot=\"signup-option\" theme=\"light\" class=\"cognito-signup-form__option\" value=\"google\" data-qa=\"auth-signup-screen-google-btn\">\\r\\n        <div class=\"cognito-signup-form__option__container\">\\r\\n            <span class=\"cognito-signup-form__option__icon cognito-signup-form__option__icon--google\"></span>\\r\\n            <span class=\"cognito-signup-form__option__text\">Continue with Google</span>\\r\\n        </div>\\r\\n    </rt-button>\\r\\n    <rt-button slot=\"signup-option\" theme=\"light\" class=\"cognito-signup-form__option\" value=\"email\" data-qa=\"auth-signup-screen-email-btn\">\\r\\n        <div class=\"cognito-signup-form__option__container\">\\r\\n            <rt-icon image icon=\"mail\" class=\"cognito-signup-form__option__icon cognito-signup-form__option__icon--mail\"></rt-icon>\\r\\n            <span class=\"cognito-signup-form__option__text\">Continue with Email</span>\\r\\n        </div>\\r\\n    </rt-button>\\r\\n        \\r\\n    <input-label slot=\"email\">\\r\\n        <label slot=\"label\" for=\"cognito-email-input\" class=\"auth-form__control__label\">Email</label>\\r\\n        <input slot=\"input\" id=\"cognito-email-input\" type=\"email\" data-qa=\"auth-signup-screen-email\">\\r\\n    </input-label>\\r\\n\\r\\n    <div slot=\"info\">\\r\\n        <div class=\"no-password-container\">\\r\\n            <rt-badge>New</rt-badge>\\r\\n            <span class=\"no-password\">Where is the password field?</span>\\r\\n            <tool-tip\\r\\n                class=\"cognito-signup-form__tooltip\"\\r\\n                title=\"Where is the password field?\"\\r\\n                description=\"Rotten Tomatoes now offers passwordless authentication for all user accounts, making it easier for you to access your information. Simply enter the email address you previously used and hit continue to complete your log-in.\"\\r\\n                slot=\"tooltip\"\\r\\n                nomobilefooter\\r\\n            >\\r\\n                <button slot=\"tool-tip-btn\" class=\"button--link\">\\r\\n                    <rt-icon icon=\"question-circled\" image></rt-icon>\\r\\n                </button>\\r\\n            </tool-tip>\\r\\n        </div>\\r\\n    </div>\\r\\n    \\r\\n    <button slot=\"continue\" class=\"auth-form__button\" data-qa=\"auth-signup-screen-continue-btn\">Continue</button>\\r\\n\\r\\n    <p slot=\"help\" class=\"cognito-signup-form-help\">\\r\\n        <a href=\"/reset-client\" data-qa=\"auth-signup-screen-reset-client-link\">Trouble logging in?</a>\\r\\n    </p>\\r\\n    \\r\\n    <p slot=\"terms-and-policies\" class=\"cognito-signup-form__terms-and-policies\">\\r\\n        By continuing, you agree to the <a href=\"https://www.fandango.com/policies/privacy-policy\" target=\"_blank\" data-qa=\"auth-signup-screen-privacy-policy-link\">Privacy Policy</a> and \\r\\n        the <a href=\"https://www.fandango.com/policies/terms-and-policies\" target=\"_blank\" data-qa=\"auth-signup-screen-terms-policies-link\">Terms and Policies</a>, and to receive email from Rotten Tomatoes.\\r\\n    </p>\\r\\n</auth-signup-screen>\\r\\n</template>\\n    <template slot=\"screens\" id=\"cognito-name-form\">\\r\\n  <auth-name-screen data-qa=\"auth-name-screen\">\\r\\n    <input-label slot=\"first-name\">\\r\\n      <label slot=\"label\" for=\"cognito-first-name-input\" class=\"auth-form__control__label\">First name (Required)</label>\\r\\n      <input slot=\"input\" id=\"cognito-first-name-input\" data-qa=\"auth-name-screen-first-name\">\\r\\n    </input-label>\\r\\n    <input-label slot=\"last-name\">\\r\\n      <label slot=\"label\" for=\"cognito-last-name-input\" class=\"auth-form__control__label\">Last name (Required)</label>\\r\\n      <input slot=\"input\" id=\"cognito-last-name-input\" data-qa=\"auth-name-screen-last-name\">\\r\\n    </input-label>\\r\\n    <button slot=\"create-account\" class=\"auth-form__button\">Create my account</button>\\r\\n    <p slot=\"terms-and-policies\" class=\"cognito-signup-form__terms-and-policies\">\\r\\n      By creating an account, you agree to the \\r\\n      <a href=\"https://www.fandango.com/policies/privacy-policy\" target=\"_blank\" data-qa=\"auth-name-screen-privacy-policy-link\"> Privacy Policy </a> \\r\\n      and the<br>\\r\\n      <a href=\"https://www.fandango.com/policies/terms-and-policies\" target=\"_blank\" data-qa=\"auth-name-screen-terms-policies-link\"> Terms and Policies</a>\\r\\n      , and to receive email from Rotten Tomatoes.\\r\\n    </p>\\r\\n  </auth-name-screen>\\r\\n</template>\\n    <template slot=\"screens\" id=\"cognito-checkemail\">\\n    <auth-checkemail-screen data-qa=\"auth-check-email-screen\">\\n        <span slot=\"email-icon\" class=\"cognito-check-email__icon--email\"></span>\\n        <span slot=\"mobile-icon\" class=\"cognito-check-email__icon--mobile\"></span>\\n        <button slot=\"learn-more\" class=\"text-button\" tabindex=\"0\" data-qa=\"auth-check-email-screen-learn-more-link\">LEARN MORE</button>\\n        <a slot=\"help\" tabindex=\"0\" target=\"_blank\" href=\"/help_desk\" data-qa=\"auth-check-email-screen-help-link\">HELP</a>\\n    </auth-checkemail-screen>\\n</template>\\n\\n    <template slot=\"screens\" id=\"cognito-learn-more\">\\r\\n  <auth-learn-more-screen data-qa=\"auth-learn-more-screen\">\\r\\n    <button slot=\"back\" class=\"auth-overlay__icon-button auth-overlay__icon-button--back\">\\r\\n      <rt-icon icon=\"left-arrow-stem\" image></rt-icon>\\r\\n    </button>\\r\\n  </auth-learn-more-screen>\\r\\n</template>\\n    <template slot=\"screens\" id=\"cognito-error\">\\n    <auth-error-screen data-qa=\"auth-error-screen\">\\n        <h2 slot=\"heading\" class=\"cognito-error__heading\" data-qa=\"auth-error-screen-title\">\\n            <rt-icon image icon=\"exclamation-circled\" class=\"cognito-error__icon--exclamation-circled\"></rt-icon>\\n            <span class=\"js-cognito-error-heading-txt\">Email not verified</span>\\n        </h2>\\n        <p slot=\"error-message\" class=\"js-cognito-error-message cognito-error__error-message\" data-qa=\"auth-error-screen-message\">\\n            <!-- error message is set from auth-error-screen WC-->\\n        </p>\\n        <p slot=\"error-code\" class=\"js-cognito-error-code cognito-error__error-message\" data-qa=\"auth-error-screen-code\">\\n            <!-- error code is set from auth-error-screen WC-->\\n        </p>\\n        <rt-button slot=\"tryAgainBtn\" class=\"cognito-error__try-again-btn\"><span class=\"cognito-error__btn-text\" data-qa=\"auth-error-screen-try-again-btn\">TRY AGAIN</span></rt-button>\\n        <rt-button slot=\"cancelBtn\" class=\"cognito-error__cancel-btn\" theme=\"light\"><span class=\"cognito-error__btn-text\" data-qa=\"auth-error-screen-cancel-btn\">CANCEL</span></rt-button>\\n    </auth-error-screen>\\n</template>\\n\\n    <template slot=\"screens\" id=\"cognito-opt-in\">\\n  <auth-optin-screen data-qa=\"auth-opt-in-screen\">\\n    <div slot=\"newsletterText\">\\n      <h2 class=\"cognito-optin-form__header unset\">Let\\'s keep in touch</h2>\\n      <p>\\n        Stay up-to-date on all the latest Rotten Tomatoes news! \\n        Tap \"Sign me up\" below to receive our weekly newsletter \\n        with updates on movies, TV shows, Rotten Tomatoes podcast and more.\\n      </p>\\n    </div>\\n    <button slot=\"optInButton\" data-qa=\"auth-opt-in-screen-opt-in-btn\">\\n      Sign me up\\n    </button>\\n    <button slot=\"optOutButton\" class=\"button--outline\" data-qa=\"auth-opt-in-screen-opt-out-btn\">\\n        No thanks\\n    </button>\\n  </auth-optin-screen>\\n</template>\\n\\n    <template slot=\"screens\" id=\"cognito-opt-in-success\">\\n    <auth-verify-screen>\\n        <rt-icon icon=\"check-circled\" slot=\"icon\"></rt-icon>\\n        <p class=\"h3\" slot=\"status\">OK, got it!</p>\\n    </auth-verify-screen>\\n</template>\\n\\n</div>\\n\\n\\n        <div id=\"emptyPlaceholder\"></div> \\n\\n        \\n            <script ASYNC src=\"//assets.adobedtm.com/launch-EN549327edc13e414a9beb5d61bfd9aac6.min.js\"></script>\\n        \\n\\n        <div class=\"container roma-layout__body\">\\n            <div id=\"header_and_leaderboard\">\\n                \\n    \\n    \\n    \\n    <div id=\"top_leaderboard_wrapper\" class=\"leaderboard_wrapper homepage_leaderboard\">\\n        <div id=\"top_leaderboard_helper\" class=\"leaderboard_helper\">\\n            <div id=\"leaderboard_top_ad\"></div>\\n            <script>\\n                //--RESPONSIVE AD SWITCHING (DIFFERENT CONTAINERS)\\n                var mps = mps||{}; mps._queue = mps._queue||{}; mps._queue.gptloaded = mps._queue.gptloaded||[];\\n                mps._queue.gptloaded.push(function () {\\n                    if (mps.getResponsiveSet() == \\'0\\') { //MOBILE\\n                        mps.insertAd(\\'#leaderboard_top_ad\\',\\'mbanner\\');\\n                    } else { //DESKTOP or TABLET\\n                        mps.insertAd(\\'#leaderboard_top_ad\\',\\'topbanner\\');\\n                    }\\n                });\\n            </script>\\n        </div>\\n    </div>\\n\\n\\n            </div>\\n\\n            \\n\\n  <rt-header-manager></rt-header-manager>\\n\\n  <rt-header\\n    aria-label=\"navigation bar\"\\n    class=\"navbar\"\\n    data-qa=\"header-nav-bar\"\\n    id=\"header-main\"\\n    skeleton=\"panel\"\\n    \\n  >\\n  <a slot=\"skip-link\" href=\"#main-page-content\" class=\"skip-link\">Skip to Main Content</a>\\n\\n  <a id=\"navbar\" slot=\"logo\" href=\"/\" class=\"logo-wrap\">\\n    <img\\n      alt=\"Rotten Tomatoes\"\\n      data-qa=\"header-logo\"\\n      src=\"/assets/pizza-pie/images/rtlogo.9b892cff3fd.png\"\\n    />\\n    \\n    \\n    \\n        \\n    \\n    <div id=\"new_logo_ad\" style=\"display:none;\"></div>\\n    <script>\\n        var mps = mps||{}; mps._queue = mps._queue||{}; mps._queue.gptloaded = mps._queue.gptloaded||[];\\n        mps._queue.gptloaded.push(function () {\\n            mps.rt.insertlogo(\\'#new_logo_ad\\', \\'ploc=rtlogo;\\');\\n        });\\n    </script>\\n\\n\\n  </a>\\n\\n  <search-algolia slot=\"desktop-search\" skeleton=\"transparent\">\\n    <search-algolia-controls slot=\"search-controls\">\\n      <input\\n        class=\"search-text\"\\n        aria-label=\"Search\"\\n        data-qa=\"search-input\"\\n        placeholder=\"Search movies, TV, actors, more..\"\\n        slot=\"search-input\"\\n        type=\"text\"\\n      />\\n      <button\\n        class=\"search-clear\"\\n        data-qa=\"search-clear\"\\n        slot=\"search-clear\"\\n      >\\n        <rt-icon icon=\"close\" image></rt-icon>\\n      </button>\\n      <a\\n        class=\"search-submit\"\\n        aria-label=\"Submit search\"\\n        data-qa=\"search-submit\"\\n        href=\"/search\"\\n        slot=\"search-submit\"\\n      >\\n        <rt-icon icon=\"search\" image></rt-icon>\\n      </a>\\n      <button\\n        class=\"search-cancel\"\\n        data-qa=\"search-cancel\"\\n        slot=\"search-cancel\"\\n      >\\n        Cancel\\n      </button>\\n    </search-algolia-controls>\\n    <search-algolia-results slot=\"search-results\" data-qa=\"search-results-overlay\">\\n      <search-algolia-results-category slot=\"content\" data-qa=\"search-results-category\">\\n        <h2 slot=\"title\" data-qa=\"search-category-header\" class=\"h2\">Movies / TV</h2>\\n        <ul slot=\"results\"></ul>\\n      </search-algolia-results-category>\\n      <search-algolia-results-category slot=\"celebrity\" data-qa=\"search-results-category\">\\n        <h2 slot=\"title\" data-qa=\"search-category-header\" class=\"h2\">Celebrity</h2>\\n        <ul slot=\"results\"></ul>\\n      </search-algolia-results-category>\\n      <search-algolia-results-category slot=\"none\">\\n        <h2 slot=\"title\" data-qa=\"search-no-results\" class=\"h2\">No Results Found</h2>\\n      </search-algolia-results-category>\\n      <a slot=\"view-all\" href=\"/\" data-qa=\"search-view-all\">View All</a>\\n    </search-algolia-results>\\n  </search-algolia>\\n\\n  <mobile-search-algolia slot=\"mobile-search\" logoselector=\"#navbar .logo-wrap\" navselector=\"#navbar\" data-qa=\"mobile-search-algolia\"></mobile-search-algolia>\\n\\n  <ul slot=\"nav-links\">\\n    <li><a href=\"/about#whatisthetomatometer\" data-qa=\"header:link-whats-tmeter\">What\\'s the Tomatometer&reg;?</a></li>\\n    <li><a href=\"/critics\" data-qa=\"header:link-critics-home\">Critics</a></li>\\n    <li data-RtHeaderManager=\"loginLink\">\\n      <ul>\\n        <li>\\n          <button id=\"masthead-show-login-btn\" class=\"js-cognito-signin button--link\" data-qa=\"header:login-btn\">Login/signup</button>\\n        </li>\\n      </ul>\\n    </li>\\n    <li data-RtHeaderManager=\"userItem:keydown,keyup,mouseenter\" data-qa=\"header:user\"></li>\\n  </ul>\\n\\n  <rt-header-nav slot=\"nav-dropdowns\">\\n    <rt-header-nav-item slot=\"movies\" data-qa=\"masthead:movies-dvds\">\\n      <a class=\"unset\" slot=\"link\" href=\"/browse/movies_in_theaters\" data-qa=\"masthead:movies-dvds-link\">Movies</a>\\n      <rt-header-nav-item-dropdown aria-expanded=\"false\" slot=\"dropdown\">\\n        <rt-header-nav-item-dropdown-list slot=\"column\" data-qa=\"header-movies-in-theaters\">\\n          <p slot=\"title\" class=\"h4\" data-qa=\"movies-in-theaters-main-link\"><a class=\"unset\" href=\"/browse/movies_in_theaters\">Movies in theaters</a></p>\\n          <ul slot=\"links\">\\n            <li data-qa=\"in-theaters-item\">\\n              <a href=\"/browse/opening\" data-qa=\"opening-this-week-link\">Opening this week</a>\\n            </li>\\n            <li data-qa=\"in-theaters-item\">\\n              <a href=\"/browse/upcoming\" data-qa=\"coming-soon-link\">Coming soon to theaters</a>\\n            </li>\\n            <li data-qa=\"in-theaters-item\">\\n              <a href=\"/browse/cf-in-theaters\" data-qa=\"certified-fresh-link\">Certified fresh movies</a>\\n            </li>\\n          </ul>\\n        </rt-header-nav-item-dropdown-list>\\n        <rt-header-nav-item-dropdown-list slot=\"column\" data-qa=\"header-on-dvd-streaming\">\\n          <p slot=\"title\" class=\"h4\" data-qa=\"dvd-streaming-main-link\"><a class=\"unset\" href=\"/browse/movies_at_home\">Movies at home</a></p>\\n          <ul slot=\"links\">\\n            <li data-qa=\"dvd-streaming-item\">\\n              <a href=\"/browse/movies_at_home/affiliates:vudu\" data-qa=\"vudu-link\">Vudu</a>\\n            </li>\\n            <li data-qa=\"dvd-streaming-item\">\\n              <a href=\"/browse/movies_at_home/affiliates:netflix\" data-qa=\"netflix-link\">Netflix streaming</a>\\n            </li>\\n            <li data-qa=\"dvd-streaming-item\">\\n              <a href=\"/browse/movies_at_home/affiliates:apple_tv\" data-qa=\"itunes-link\">iTunes</a>\\n            </li>\\n            <li data-qa=\"dvd-streaming-item\">\\n              <a href=\"/browse/movies_at_home/affiliates:amazon_prime\" data-qa=\"amazon-link\">Amazon and amazon prime</a>\\n            </li>\\n            <li data-qa=\"dvd-streaming-item\">\\n              <a href=\"/browse/movies_at_home/sort:popular\" data-qa=\"most-popular-link\">Most popular streaming movies</a>\\n            </li>\\n            <li data-qa=\"dvd-streaming-item\">\\n              <a href=\"/browse/movies_at_home/critics:certified_fresh\" data-qa=\"certified-fresh-link\">Certified fresh movies</a>\\n            </li>\\n            <li data-qa=\"dvd-streaming-item\">\\n              <a href=\"/browse/movies_at_home\" data-qa=\"browse-all-link\">Browse all</a>\\n            </li>\\n          </ul>\\n        </rt-header-nav-item-dropdown-list>\\n        <rt-header-nav-item-dropdown-list slot=\"column\" data-qa=\"header-movies-more\">\\n          <p slot=\"title\" class=\"h4\">More</p>\\n          <ul slot=\"links\">\\n            <li data-qa=\"movies-more-item\">\\n              <a href=\"/top\" data-qa=\"movies-more-link\">Top movies</a>\\n            </li>\\n            <li data-qa=\"movies-more-item\">\\n              <a href=\"/trailers\" data-qa=\"movies-more-link\">Trailers</a>\\n            </li>\\n          </ul>\\n        </rt-header-nav-item-dropdown-list>\\n        \\n          <rt-header-nav-item-dropdown-list slot=\"column\" cfp>\\n            <p slot=\"title\" class=\"h4\">Certified fresh picks</p>\\n            <ul slot=\"links\" class=\"cfp-wrap\" data-qa=\"header-certified-fresh-picks\" data-curation=\"rt-nav-list-cf-picks\">\\n              \\n                <li data-qa=\"cert-fresh-item\">\\n                  \\n                  <a class=\"cfp-tile\" href=\"/m/m3gan\" data-qa=\"cert-fresh-link\">\\n    <tile-dynamic data-qa=\"tile\">\\n        <img\\n            alt=\"M3GAN poster image\"\\n            slot=\"image\"\\n            src=\"https://resizing.flixster.com/LMbScjDLUzsQLgeeoOF0FAhNcC8=/fit-in/180x240/v2/https://resizing.flixster.com/rPJASTXFjLpmiVTi3D6RGcq-skM=/ems.cHJkLWVtcy1hc3NldHMvbW92aWVzLzhjYjA0ODBiLTNlNmUtNDlhOS05ZWRlLThlOGQ2MmEyZjlmYS5qcGc=\"\\n            loading=\"lazy\"\\n        />\\n        <div slot=\"caption\" data-track=\"scores\">\\n            <score-icon-critic\\n                alignment=\"left\"\\n                percentage=\"95\"\\n                state=\"certified_fresh\"\\n            ></score-icon-critic>\\n            <span class=\"p--small\">M3GAN</span>\\n            <span class=\"sr-only\">Link to M3GAN</span>\\n        </div>\\n    </tile-dynamic>\\n</a>\\n                </li>\\n              \\n              \\n                <li data-qa=\"cert-fresh-item\">\\n                  \\n                  <a class=\"cfp-tile\" href=\"/m/alcarras\" data-qa=\"cert-fresh-link\">\\n    <tile-dynamic data-qa=\"tile\">\\n        <img\\n            alt=\"Alcarràs poster image\"\\n            slot=\"image\"\\n            src=\"https://resizing.flixster.com/H5I6FWEXKIZcT_qxE0bG-xLomFY=/fit-in/180x240/v2/https://resizing.flixster.com/PbbehNpv3rq_TDm3xvFqgqqNo54=/ems.cHJkLWVtcy1hc3NldHMvbW92aWVzLzY5ZTBlNjBmLThiMDMtNGJiMC1hNTViLWRkZDkxZjMwMDcwOC5wbmc=\"\\n            loading=\"lazy\"\\n        />\\n        <div slot=\"caption\" data-track=\"scores\">\\n            <score-icon-critic\\n                alignment=\"left\"\\n                percentage=\"90\"\\n                state=\"certified_fresh\"\\n            ></score-icon-critic>\\n            <span class=\"p--small\">Alcarràs</span>\\n            <span class=\"sr-only\">Link to Alcarràs</span>\\n        </div>\\n    </tile-dynamic>\\n</a>\\n                </li>\\n              \\n              \\n                <li data-qa=\"cert-fresh-item\">\\n                  \\n                  <a class=\"cfp-tile\" href=\"/m/is_that_black_enough_for_you\" data-qa=\"cert-fresh-link\">\\n    <tile-dynamic data-qa=\"tile\">\\n        <img\\n            alt=\"Is That Black Enough for You?!? poster image\"\\n            slot=\"image\"\\n            src=\"https://resizing.flixster.com/jgszf6xabwUB5kLm3NAxAIUfew8=/fit-in/180x240/v2/https://resizing.flixster.com/FMOmi-6s3a-yNNpLZlZeS7UL9uo=/ems.cHJkLWVtcy1hc3NldHMvbW92aWVzLzBlM2IyNmExLTM2NzYtNGNkZi1iNjE1LTQ0MTBlZmEyZGM1ZS5qcGc=\"\\n            loading=\"lazy\"\\n        />\\n        <div slot=\"caption\" data-track=\"scores\">\\n            <score-icon-critic\\n                alignment=\"left\"\\n                percentage=\"100\"\\n                state=\"certified_fresh\"\\n            ></score-icon-critic>\\n            <span class=\"p--small\">Is That Black Enough for You?!?</span>\\n            <span class=\"sr-only\">Link to Is That Black Enough for You?!?</span>\\n        </div>\\n    </tile-dynamic>\\n</a>\\n                </li>\\n              \\n            </ul>\\n          </rt-header-nav-item-dropdown-list>\\n        \\n      </rt-header-nav-item-dropdown>\\n    </rt-header-nav-item>\\n\\n    <rt-header-nav-item slot=\"tv\" data-qa=\"masthead:tv\">\\n      <a class=\"unset\" slot=\"link\" href=\"/browse/tv_series_browse/sort:popular\" data-qa=\"masthead:tv-link\">Tv shows</a>\\n      <rt-header-nav-item-dropdown aria-expanded=\"false\" slot=\"dropdown\">\\n        \\n          <rt-header-nav-item-dropdown-list slot=\"column\" data-qa=\"header-tv-list1\">\\n            <p slot=\"title\" class=\"h4\" data-curation=\"rt-hp-text-list-new-tv-this-week\">\\n              New TV Tonight\\n            </p>\\n            <ul slot=\"links\" class=\"score-list-wrap\">\\n              \\n                <li data-qa=\"list-item\">\\n                  <a class=\"score-list-item\" href=\"/tv/vikings_valhalla/s02\" data-qa=\"list-item-link\">\\n    <score-icon-critic\\n        alignment=\"left\"\\n        percentage=\"\"\\n        state=\"\"\\n    ></score-icon-critic>\\n    <span>\\n        \\n            Vikings: Valhalla: Season 2\\n        \\n    </span>\\n</a>\\n                </li>\\n              \\n                <li data-qa=\"list-item\">\\n                  <a class=\"score-list-item\" href=\"/tv/hunters-2020/s02\" data-qa=\"list-item-link\">\\n    <score-icon-critic\\n        alignment=\"left\"\\n        percentage=\"60\"\\n        state=\"fresh\"\\n    ></score-icon-critic>\\n    <span>\\n        \\n            Hunters: Season 2\\n        \\n    </span>\\n</a>\\n                </li>\\n              \\n                <li data-qa=\"list-item\">\\n                  <a class=\"score-list-item\" href=\"/tv/servant/s04\" data-qa=\"list-item-link\">\\n    <score-icon-critic\\n        alignment=\"left\"\\n        percentage=\"100\"\\n        state=\"fresh\"\\n    ></score-icon-critic>\\n    <span>\\n        \\n            Servant: Season 4\\n        \\n    </span>\\n</a>\\n                </li>\\n              \\n                <li data-qa=\"list-item\">\\n                  <a class=\"score-list-item\" href=\"/tv/mayfair_witches/s01\" data-qa=\"list-item-link\">\\n    <score-icon-critic\\n        alignment=\"left\"\\n        percentage=\"42\"\\n        state=\"rotten\"\\n    ></score-icon-critic>\\n    <span>\\n        \\n            Mayfair Witches: Season 1\\n        \\n    </span>\\n</a>\\n                </li>\\n              \\n                <li data-qa=\"list-item\">\\n                  <a class=\"score-list-item\" href=\"/tv/your_honor_2020/s02\" data-qa=\"list-item-link\">\\n    <score-icon-critic\\n        alignment=\"left\"\\n        percentage=\"\"\\n        state=\"\"\\n    ></score-icon-critic>\\n    <span>\\n        \\n            Your Honor: Season 2\\n        \\n    </span>\\n</a>\\n                </li>\\n              \\n                <li data-qa=\"list-item\">\\n                  <a class=\"score-list-item\" href=\"/tv/all_creatures_great_and_small/s03\" data-qa=\"list-item-link\">\\n    <score-icon-critic\\n        alignment=\"left\"\\n        percentage=\"\"\\n        state=\"\"\\n    ></score-icon-critic>\\n    <span>\\n        \\n            All Creatures Great and Small: Season 3\\n        \\n    </span>\\n</a>\\n                </li>\\n              \\n                <li data-qa=\"list-item\">\\n                  <a class=\"score-list-item\" href=\"/tv/miss_scarlet_and_the_duke/s03\" data-qa=\"list-item-link\">\\n    <score-icon-critic\\n        alignment=\"left\"\\n        percentage=\"\"\\n        state=\"\"\\n    ></score-icon-critic>\\n    <span>\\n        \\n            Miss Scarlet and the Duke: Season 3\\n        \\n    </span>\\n</a>\\n                </li>\\n              \\n                <li data-qa=\"list-item\">\\n                  <a class=\"score-list-item\" href=\"/tv/vienna_blood/s03\" data-qa=\"list-item-link\">\\n    <score-icon-critic\\n        alignment=\"left\"\\n        percentage=\"\"\\n        state=\"\"\\n    ></score-icon-critic>\\n    <span>\\n        \\n            Vienna Blood: Season 3\\n        \\n    </span>\\n</a>\\n                </li>\\n              \\n                <li data-qa=\"list-item\">\\n                  <a class=\"score-list-item\" href=\"/tv/velma/s01\" data-qa=\"list-item-link\">\\n    <score-icon-critic\\n        alignment=\"left\"\\n        percentage=\"50\"\\n        state=\"rotten\"\\n    ></score-icon-critic>\\n    <span>\\n        \\n            Velma: Season 1\\n        \\n    </span>\\n</a>\\n                </li>\\n              \\n                <li data-qa=\"list-item\">\\n                  <a class=\"score-list-item\" href=\"/tv/koala_man/s01\" data-qa=\"list-item-link\">\\n    <score-icon-critic\\n        alignment=\"left\"\\n        percentage=\"60\"\\n        state=\"fresh\"\\n    ></score-icon-critic>\\n    <span>\\n        \\n            Koala Man: Season 1\\n        \\n    </span>\\n</a>\\n                </li>\\n              \\n                <li data-qa=\"list-item\">\\n                  <a class=\"score-list-item\" href=\"/tv/the_climb_2022/s01\" data-qa=\"list-item-link\">\\n    <score-icon-critic\\n        alignment=\"left\"\\n        percentage=\"\"\\n        state=\"\"\\n    ></score-icon-critic>\\n    <span>\\n        \\n            The Climb: Season 1\\n        \\n    </span>\\n</a>\\n                </li>\\n              \\n            </ul>\\n            <a\\n              class=\"a--short\"\\n              data-qa=\"tv-list1-view-all-link\"\\n              href=\"/browse/tv_series_browse/sort:newest\"\\n              slot=\"view-all-link\"\\n            >\\n                View All\\n            </a>\\n          </rt-header-nav-item-dropdown-list>\\n        \\n\\n        \\n          <rt-header-nav-item-dropdown-list slot=\"column\" data-qa=\"header-tv-list2\"]>\\n            <p slot=\"title\" class=\"h4\" data-curation=\"rt-hp-text-list-most-popular-tv-on-rt\">\\n              Most Popular TV on RT\\n            </p>\\n            <ul slot=\"links\" class=\"score-list-wrap\">\\n              \\n                <li data-qa=\"list-item\">\\n                  <a class=\"score-list-item\" href=\"/tv/the_last_of_us/s01\" data-qa=\"list-item-link\">\\n    <score-icon-critic\\n        alignment=\"left\"\\n        percentage=\"97\"\\n        state=\"certified_fresh\"\\n    ></score-icon-critic>\\n    <span>\\n        \\n            The Last of Us: Season 1\\n        \\n    </span>\\n</a>\\n                </li>\\n              \\n                <li data-qa=\"list-item\">\\n                  <a class=\"score-list-item\" href=\"/tv/the_white_lotus/s02\" data-qa=\"list-item-link\">\\n    <score-icon-critic\\n        alignment=\"left\"\\n        percentage=\"94\"\\n        state=\"certified_fresh\"\\n    ></score-icon-critic>\\n    <span>\\n        \\n            The White Lotus: Season 2\\n        \\n    </span>\\n</a>\\n                </li>\\n              \\n                <li data-qa=\"list-item\">\\n                  <a class=\"score-list-item\" href=\"/tv/will_trent/s01\" data-qa=\"list-item-link\">\\n    <score-icon-critic\\n        alignment=\"left\"\\n        percentage=\"100\"\\n        state=\"fresh\"\\n    ></score-icon-critic>\\n    <span>\\n        \\n            Will Trent: Season 1\\n        \\n    </span>\\n</a>\\n                </li>\\n              \\n                <li data-qa=\"list-item\">\\n                  <a class=\"score-list-item\" href=\"/tv/kaleidoscope/s01\" data-qa=\"list-item-link\">\\n    <score-icon-critic\\n        alignment=\"left\"\\n        percentage=\"48\"\\n        state=\"rotten\"\\n    ></score-icon-critic>\\n    <span>\\n        \\n            Kaleidoscope: Season 1\\n        \\n    </span>\\n</a>\\n                </li>\\n              \\n                <li data-qa=\"list-item\">\\n                  <a class=\"score-list-item\" href=\"/tv/velma/s01\" data-qa=\"list-item-link\">\\n    <score-icon-critic\\n        alignment=\"left\"\\n        percentage=\"50\"\\n        state=\"rotten\"\\n    ></score-icon-critic>\\n    <span>\\n        \\n            Velma: Season 1\\n        \\n    </span>\\n</a>\\n                </li>\\n              \\n                <li data-qa=\"list-item\">\\n                  <a class=\"score-list-item\" href=\"/tv/willow/s01\" data-qa=\"list-item-link\">\\n    <score-icon-critic\\n        alignment=\"left\"\\n        percentage=\"85\"\\n        state=\"certified_fresh\"\\n    ></score-icon-critic>\\n    <span>\\n        \\n            Willow: Season 1\\n        \\n    </span>\\n</a>\\n                </li>\\n              \\n                <li data-qa=\"list-item\">\\n                  <a class=\"score-list-item\" href=\"/tv/servant/s04\" data-qa=\"list-item-link\">\\n    <score-icon-critic\\n        alignment=\"left\"\\n        percentage=\"100\"\\n        state=\"fresh\"\\n    ></score-icon-critic>\\n    <span>\\n        \\n            Servant: Season 4\\n        \\n    </span>\\n</a>\\n                </li>\\n              \\n                <li data-qa=\"list-item\">\\n                  <a class=\"score-list-item\" href=\"/tv/ginny_and_georgia/s02\" data-qa=\"list-item-link\">\\n    <score-icon-critic\\n        alignment=\"left\"\\n        percentage=\"75\"\\n        state=\"fresh\"\\n    ></score-icon-critic>\\n    <span>\\n        \\n            Ginny &amp; Georgia: Season 2\\n        \\n    </span>\\n</a>\\n                </li>\\n              \\n                <li data-qa=\"list-item\">\\n                  <a class=\"score-list-item\" href=\"/tv/woman_of_the_dead/s01\" data-qa=\"list-item-link\">\\n    <score-icon-critic\\n        alignment=\"left\"\\n        percentage=\"\"\\n        state=\"\"\\n    ></score-icon-critic>\\n    <span>\\n        \\n            Woman of the Dead: Season 1\\n        \\n    </span>\\n</a>\\n                </li>\\n              \\n                <li data-qa=\"list-item\">\\n                  <a class=\"score-list-item\" href=\"/tv/the_rig/s01\" data-qa=\"list-item-link\">\\n    <score-icon-critic\\n        alignment=\"left\"\\n        percentage=\"64\"\\n        state=\"fresh\"\\n    ></score-icon-critic>\\n    <span>\\n        \\n            The Rig: Season 1\\n        \\n    </span>\\n</a>\\n                </li>\\n              \\n            </ul>\\n            <a\\n              class=\"a--short\"\\n              data-qa=\"tv-list2-view-all-link\"\\n              href=\"/browse/tv_series_browse/sort:popular?\"\\n              slot=\"view-all-link\"\\n            >\\n                View All\\n            </a>\\n          </rt-header-nav-item-dropdown-list>\\n        \\n\\n        <rt-header-nav-item-dropdown-list slot=\"column\" data-qa=\"header-tv-more\">\\n          <p slot=\"title\" class=\"h4\">More</p>\\n          <ul slot=\"links\">\\n            <li data-qa=\"tv-more-item\">\\n              <a href=\"/browse/tv_series_browse/sort:popular\" data-qa=\"tv-more-link\">\\n                <span>Top TV Shows</span>\\n              </a>\\n            </li>\\n            <li data-qa=\"tv-more-item\">\\n              <a href=\"/browse/tv_series_browse/critics:fresh\" data-qa=\"tv-more-link\">\\n                <span>Certified Fresh TV</span>\\n              </a>\\n            </li>\\n          </ul>\\n          <p slot=\"title2\" class=\"h4\" data-curation=\"rt-nav-list-tv-episodic-reviews\">\\n            Episodic Reviews\\n          </p>\\n          <ul slot=\"links2\" class=\"score-list-wrap\">\\n            \\n              <li data-qa=\"tv-media-list-item\" data-qa=\"tv-media-list-item\">\\n                <a href=\"/tv/andor/s01#desktopEpisodeList\" data-qa=\"tv-media-list-link\">\\n                  <span>Andor: Season 1</span>\\n                </a>\\n              </li>\\n            \\n              <li data-qa=\"tv-media-list-item\" data-qa=\"tv-media-list-item\">\\n                <a href=\"/tv/she_hulk_attorney_at_law/s01#desktopEpisodeList\" data-qa=\"tv-media-list-link\">\\n                  <span>She-Hulk: Attorney at Law: Season 1</span>\\n                </a>\\n              </li>\\n            \\n              <li data-qa=\"tv-media-list-item\" data-qa=\"tv-media-list-item\">\\n                <a href=\"/tv/house_of_the_dragon/s01#desktopEpisodeList\" data-qa=\"tv-media-list-link\">\\n                  <span>House of the Dragon: Season 1</span>\\n                </a>\\n              </li>\\n            \\n              <li data-qa=\"tv-media-list-item\" data-qa=\"tv-media-list-item\">\\n                <a href=\"/tv/the_lord_of_the_rings_the_rings_of_power/s01#desktopEpisodeList\" data-qa=\"tv-media-list-link\">\\n                  <span>The Lord of the Rings: The Rings of Power: Season 1</span>\\n                </a>\\n              </li>\\n            \\n              <li data-qa=\"tv-media-list-item\" data-qa=\"tv-media-list-item\">\\n                <a href=\"/tv/atlanta/s04#desktopEpisodeList\" data-qa=\"tv-media-list-link\">\\n                  <span>Atlanta: Season 4</span>\\n                </a>\\n              </li>\\n            \\n          </ul>\\n        </rt-header-nav-item-dropdown-list>\\n\\n        \\n          <rt-header-nav-item-dropdown-list slot=\"column\" cfp data-qa=\"header-certified-fresh-pick\">\\n            <p slot=\"title\" class=\"h4\">\\n              Certified fresh pick\\n            </p>\\n            <ul slot=\"links\" class=\"cfp-wrap\" data-curation=\"rt-nav-list-cf-picks\">\\n              <li>\\n                \\n                <a class=\"cfp-tile\" href=\"/tv/the_last_of_us/s01\" data-qa=\"cert-fresh-link\">\\n    <tile-dynamic data-qa=\"tile\">\\n        <img\\n            alt=\"The Last of Us: Season 1 poster image\"\\n            slot=\"image\"\\n            src=\"https://resizing.flixster.com/EQwjsJzvAePoD3yc8_F4tnKxepw=/fit-in/180x240/v2/https://resizing.flixster.com/1t3h8KAxIMmKUCU09OoqpfqD6R0=/ems.cHJkLWVtcy1hc3NldHMvdHZzZWFzb24vZjU3YTRlYjItOTAzNC00MzFjLTg0NGQtODA1ZGU2OWY1NzY1LmpwZw==\"\\n            loading=\"lazy\"\\n        />\\n        <div slot=\"caption\" data-track=\"scores\">\\n            <score-icon-critic\\n                alignment=\"left\"\\n                percentage=\"97\"\\n                state=\"certified_fresh\"\\n            ></score-icon-critic>\\n            <span class=\"p--small\">The Last of Us: Season 1</span>\\n            <span class=\"sr-only\">Link to The Last of Us: Season 1</span>\\n        </div>\\n    </tile-dynamic>\\n</a>\\n              </li>\\n            </ul>\\n          </rt-header-nav-item-dropdown-list>\\n        \\n      </rt-header-nav-item-dropdown>\\n    </rt-header-nav-item>\\n\\n    <rt-header-nav-item slot=\"trivia\">\\n      <a class=\"unset\"\\n          slot=\"link\"\\n          href=\"https://rottentomatoes.com/daily\"\\n          data-qa=\"masthead:trivia-link\"\\n      >\\n          Movie Trivia\\n          <temporary-display\\n            slot=\"temporary-display\"\\n            key=\"trivia\"\\n            element=\"#triviaLink\"\\n            event=\"click\"\\n          >\\n            <rt-badge hidden>New</rt-badge>\\n          </temporary-display>\\n      </a>\\n    </rt-header-nav-item>\\n\\n    <rt-header-nav-item slot=\"news\" data-qa=\"masthead:news\">\\n      <a class=\"unset\" slot=\"link\" href=\"https://editorial.rottentomatoes.com/\" data-qa=\"masthead:news-link\">News</a>\\n      <rt-header-nav-item-dropdown aria-expanded=\"false\" slot=\"dropdown\">\\n        <rt-header-nav-item-dropdown-list slot=\"column\" data-qa=\"header-news-columns\">\\n          <p slot=\"title\" class=\"h4\">Columns</p>\\n          <ul slot=\"links\">\\n            <li data-qa=\"column-item\">\\n              <a href=\"https://editorial.rottentomatoes.com/24-frames/\" data-pageheader=\"24 Frames\" data-qa=\"column-link\">\\n                24 Frames\\n              </a>\\n            </li>\\n            <li data-qa=\"column-item\">\\n              <a href=\"https://editorial.rottentomatoes.com/all-time-lists/\" data-pageheader=\"All-Time Lists\" data-qa=\"column-link\">\\n                All-Time Lists\\n              </a>\\n            </li>\\n            <li data-qa=\"column-item\">\\n              <a href=\"https://editorial.rottentomatoes.com/binge-guide/\" data-pageheader=\"Binge Guide\" data-qa=\"column-link\">\\n                Binge Guide\\n              </a>\\n            </li>\\n            <li data-qa=\"column-item\">\\n              <a href=\"https://editorial.rottentomatoes.com/comics-on-tv/\" data-pageheader=\"Comics on TV\" data-qa=\"column-link\">\\n                Comics on TV\\n              </a>\\n            </li>\\n            <li data-qa=\"column-item\">\\n              <a href=\"https://editorial.rottentomatoes.com/countdown/\" data-pageheader=\"Countdown\" data-qa=\"column-link\">\\n                Countdown\\n              </a>\\n            </li>\\n            <li data-qa=\"column-item\">\\n              <a href=\"https://editorial.rottentomatoes.com/critics-consensus/\" data-pageheader=\"Critics Consensus\" data-qa=\"column-link\">\\n                Critics Consensus\\n              </a>\\n            </li>\\n            <li data-qa=\"column-item\">\\n              <a href=\"https://editorial.rottentomatoes.com/five-favorite-films/\" data-pageheader=\"Five Favorite Films\" data-qa=\"column-link\">\\n                Five Favorite Films\\n              </a>\\n            </li>\\n            <li data-qa=\"column-item\">\\n              <a href=\"https://editorial.rottentomatoes.com/now-streaming/\" data-pageheader=\"Now Streaming\" data-qa=\"column-link\"\\n              >Now Streaming\\n            </a>\\n            </li>\\n            <li data-qa=\"column-item\">\\n              <a href=\"https://editorial.rottentomatoes.com/parental-guidance/\" data-pageheader=\"Parental Guidance\" data-qa=\"column-link\">\\n                Parental Guidance\\n              </a>\\n            </li>\\n            <li data-qa=\"column-item\">\\n              <a href=\"https://editorial.rottentomatoes.com/red-carpet-roundup/\" data-pageheader=\"Red Carpet Roundup\" data-qa=\"column-link\">\\n                Red Carpet Roundup\\n              </a>\\n            </li>\\n            <li data-qa=\"column-item\">\\n              <a href=\"https://editorial.rottentomatoes.com/movie-tv-scorecards/\" data-pageheader=\"Scorecards\" data-qa=\"column-link\">\\n                Scorecards\\n              </a>\\n            </li>\\n            <li data-qa=\"column-item\">\\n              <a href=\"https://editorial.rottentomatoes.com/sub-cult/\" data-pageheader=\"Sub-Cult\" data-qa=\"column-link\">\\n                Sub-Cult\\n              </a>\\n            </li>\\n            <li data-qa=\"column-item\">\\n              <a href=\"https://editorial.rottentomatoes.com/total-recall/\" data-pageheader=\"Total Recall\" data-qa=\"column-link\"\\n              >Total Recall\\n            </a>\\n            </li>\\n            <li data-qa=\"column-item\">\\n              <a href=\"https://editorial.rottentomatoes.com/video-interviews/\" data-pageheader=\"Video Interviews\" data-qa=\"column-link\">\\n                Video Interviews\\n              </a>\\n            </li>\\n            <li data-qa=\"column-item\">\\n              <a href=\"https://editorial.rottentomatoes.com/weekend-box-office/\" data-pageheader=\"Weekend Box Office\" data-qa=\"column-link\"\\n              >Weekend Box Office\\n            </a>\\n            </li>\\n            <li data-qa=\"column-item\">\\n              <a href=\"https://editorial.rottentomatoes.com/weekly-ketchup/\" data-pageheader=\"Weekly Ketchup\" data-qa=\"column-link\">\\n                Weekly Ketchup\\n              </a>\\n            </li>\\n            <li data-qa=\"column-item\">\\n              <a href=\"https://editorial.rottentomatoes.com/what-to-watch/\" data-pageheader=\"What to Watch\" data-qa=\"column-link\">\\n                What to Watch\\n              </a>\\n            </li>\\n            <li data-qa=\"column-item\">\\n              <a href=\"https://editorial.rottentomatoes.com/the-zeros/\" data-pageheader=\"The Zeros\" data-qa=\"column-link\">\\n                The Zeros\\n              </a>\\n              </li>\\n          </ul>\\n        </rt-header-nav-item-dropdown-list>\\n\\n        \\n          <rt-header-nav-item-dropdown-list slot=\"column\" data-qa=\"header-news-best-worst\">\\n            <p slot=\"title\" class=\"h4\">Best and Worst</p>\\n            <ul slot=\"links\" class=\"news-wrap\">\\n              \\n                <li data-qa=\"best-worst-item\">\\n                  <a class=\"news-tile\" href=\"https://editorial.rottentomatoes.com/guide/all-marvel-cinematic-universe-movies-ranked/\" data-qa=\"news-link\">\\n    <tile-dynamic\\n        data-qa=\"tile\"\\n        orientation=\"landscape\"\\n    >\\n        <img\\n            alt=\"Marvel Movies Ranked Worst to Best by Tomatometer poster image\"\\n            slot=\"image\"\\n            src=\"https://prd-rteditorial.s3.us-west-2.amazonaws.com/wp-content/uploads/2018/02/14193805/Marvel-Movies-Recall2.jpg\"\\n            loading=\"lazy\"\\n        />\\n        <div slot=\"caption\">\\n            <p>Marvel Movies Ranked Worst to Best by Tomatometer</p>\\n            <span class=\"sr-only\">Link to Marvel Movies Ranked Worst to Best by Tomatometer</span>\\n        </div>\\n    </tile-dynamic>\\n</a>\\n                </li>\\n              \\n                <li data-qa=\"best-worst-item\">\\n                  <a class=\"news-tile\" href=\"https://editorial.rottentomatoes.com/guide/jurassic-park-world-movies/\" data-qa=\"news-link\">\\n    <tile-dynamic\\n        data-qa=\"tile\"\\n        orientation=\"landscape\"\\n    >\\n        <img\\n            alt=\"<em>Jurassic Park</em> Movies Ranked By Tomatometer poster image\"\\n            slot=\"image\"\\n            src=\"https://prd-rteditorial.s3.us-west-2.amazonaws.com/wp-content/uploads/2015/06/19171851/Jurassic-Park-Franchise-Recall.jpg\"\\n            loading=\"lazy\"\\n        />\\n        <div slot=\"caption\">\\n            <p><em>Jurassic Park</em> Movies Ranked By Tomatometer</p>\\n            <span class=\"sr-only\">Link to <em>Jurassic Park</em> Movies Ranked By Tomatometer</span>\\n        </div>\\n    </tile-dynamic>\\n</a>\\n                </li>\\n              \\n            </ul>\\n            <a\\n              class=\"a--short\"\\n              data-qa=\"best-worst-view-all-link\"\\n              href=\"https://editorial.rottentomatoes.com/total-recall\"\\n              slot=\"view-all-link\"\\n            >\\n              View All\\n            </a>\\n          </rt-header-nav-item-dropdown-list>\\n        \\n\\n        \\n          <rt-header-nav-item-dropdown-list slot=\"column\" data-qa=\"header-news-guides\">\\n            <p slot=\"title\" class=\"h4\">Guides</p>\\n            <ul slot=\"links\" class=\"news-wrap\">\\n              \\n                <li data-qa=\"guides-item\">\\n                  <a class=\"news-tile\" href=\"https://editorial.rottentomatoes.com/rt-hub/golden-tomato-awards-2022/\" data-qa=\"news-link\">\\n    <tile-dynamic\\n        data-qa=\"tile\"\\n        orientation=\"landscape\"\\n    >\\n        <img\\n            alt=\"Golden Tomato Awards: Best Movies &#038; TV of 2022 poster image\"\\n            slot=\"image\"\\n            src=\"https://prd-rteditorial.s3.us-west-2.amazonaws.com/wp-content/uploads/2022/01/12130451/660GTA.jpg\"\\n            loading=\"lazy\"\\n        />\\n        <div slot=\"caption\">\\n            <p>Golden Tomato Awards: Best Movies &#038; TV of 2022</p>\\n            <span class=\"sr-only\">Link to Golden Tomato Awards: Best Movies &#038; TV of 2022</span>\\n        </div>\\n    </tile-dynamic>\\n</a>\\n                </li>\\n              \\n                <li data-qa=\"guides-item\">\\n                  <a class=\"news-tile\" href=\"https://editorial.rottentomatoes.com/rt-hub/awards-tour/\" data-qa=\"news-link\">\\n    <tile-dynamic\\n        data-qa=\"tile\"\\n        orientation=\"landscape\"\\n    >\\n        <img\\n            alt=\"Awards Tour poster image\"\\n            slot=\"image\"\\n            src=\"https://prd-rteditorial.s3.us-west-2.amazonaws.com/wp-content/uploads/2022/09/12091739/RT_AwardsTour_Thumbnail_600x314_Gradient.jpg\"\\n            loading=\"lazy\"\\n        />\\n        <div slot=\"caption\">\\n            <p>Awards Tour</p>\\n            <span class=\"sr-only\">Link to Awards Tour</span>\\n        </div>\\n    </tile-dynamic>\\n</a>\\n                </li>\\n              \\n            </ul>\\n            <a\\n              class=\"a--short\"\\n              data-qa=\"guides-view-all-link\"\\n              href=\"https://editorial.rottentomatoes.com/rt-hubs\"\\n              slot=\"view-all-link\"\\n            >\\n              View All\\n            </a>\\n          </rt-header-nav-item-dropdown-list>\\n        \\n\\n        \\n          <rt-header-nav-item-dropdown-list slot=\"column\" data-qa=\"header-news-rt-news\">\\n            <p slot=\"title\" class=\"h4\">RT News</p>\\n            <ul slot=\"links\" class=\"news-wrap\">\\n              \\n                <li data-qa=\"rt-news-item\">\\n                  <a class=\"news-tile\" href=\"https://editorial.rottentomatoes.com/article/hunters-star-logan-lerman-series-creator-david-weil-preview-season-2/\" data-qa=\"news-link\">\\n    <tile-dynamic\\n        data-qa=\"tile\"\\n        orientation=\"landscape\"\\n    >\\n        <img\\n            alt=\"<em>Hunters</em> Star Logan Lerman &amp; Series Creator David Weil on the Resurrection of Al Pacino for Season 2 poster image\"\\n            slot=\"image\"\\n            src=\"https://prd-rteditorial.s3.us-west-2.amazonaws.com/wp-content/uploads/2023/01/12151829/HUNTERS_S2_IMG_1_600x314.jpg\"\\n            loading=\"lazy\"\\n        />\\n        <div slot=\"caption\">\\n            <p><em>Hunters</em> Star Logan Lerman &amp; Series Creator David Weil on the Resurrection of Al Pacino for Season 2</p>\\n            <span class=\"sr-only\">Link to <em>Hunters</em> Star Logan Lerman &amp; Series Creator David Weil on the Resurrection of Al Pacino for Season 2</span>\\n        </div>\\n    </tile-dynamic>\\n</a>\\n                </li>\\n              \\n                <li data-qa=\"rt-news-item\">\\n                  <a class=\"news-tile\" href=\"https://editorial.rottentomatoes.com/rt-hub/golden-tomato-awards-2022/\" data-qa=\"news-link\">\\n    <tile-dynamic\\n        data-qa=\"tile\"\\n        orientation=\"landscape\"\\n    >\\n        <img\\n            alt=\"Golden Tomato Awards: Best Movies/TV of 2022 poster image\"\\n            slot=\"image\"\\n            src=\"https://prd-rteditorial.s3.us-west-2.amazonaws.com/wp-content/uploads/2022/12/11121438/600GTA2002.jpg\"\\n            loading=\"lazy\"\\n        />\\n        <div slot=\"caption\">\\n            <p>Golden Tomato Awards: Best Movies/TV of 2022</p>\\n            <span class=\"sr-only\">Link to Golden Tomato Awards: Best Movies/TV of 2022</span>\\n        </div>\\n    </tile-dynamic>\\n</a>\\n                </li>\\n              \\n            </ul>\\n            <a\\n              class=\"a--short\"\\n              data-qa=\"rt-news-view-all-link\"\\n              href=\"https://editorial.rottentomatoes.com/news\"\\n              slot=\"view-all-link\"\\n            >\\n              View All\\n            </a>\\n          </rt-header-nav-item-dropdown-list>\\n        \\n      </rt-header-nav-item-dropdown>\\n    </rt-header-nav-item>\\n\\n    <rt-header-nav-item slot=\"showtimes\">\\n      <a\\n        class=\"unset\"\\n        slot=\"link\"\\n        href=\"https://www.fandango.com/movies-in-theaters\"\\n        target=\"_blank\"\\n        data-qa=\"masthead:tickets-showtimes-link\"\\n      >\\n        Showtimes\\n      </a>\\n    </rt-header-nav-item>\\n  </rt-header-nav>\\n\\n</rt-header>\\n<section class=\"trending-bar\">\\n    \\n    \\n    <div id=\"trending_bar_ad\" style=\"display: none;\"></div>\\n    <script>\\n        var mps = mps||{}; mps._queue = mps._queue||{}; mps._queue.gptloaded = mps._queue.gptloaded||[];\\n        mps._queue.gptloaded.push(function () {\\n            if (mps.getResponsiveSet() != \\'0\\') { //DESKTOP or TABLET\\n                mps.insertAd(\\'#trending_bar_ad\\',\\'trendinggraphic\\');\\n            }\\n        });\\n    </script>\\n\\n\\n    <div id=\"trending-bar-start\" class=\"trending-list-wrap\" data-qa=\"trending-bar\">\\n        <ul\\n            class=\"list-inline trending-bar__list\"\\n            data-curation=\"rt-nav-trending\"\\n            data-qa=\"trending-bar-list\">\\n            <li class=\"trending-bar__header\">Trending on RT</li>\\n            \\n                <li><a class=\"trending-bar__link\" href=\"https://www.rottentomatoes.com/tv/the_last_of_us\"  data-qa=\"trending-bar-item\"> The Last Of Us </a></li>\\n            \\n                <li><a class=\"trending-bar__link\" href=\"https://www.rottentomatoes.com/m/m3gan\"  data-qa=\"trending-bar-item\"> M3GAN </a></li>\\n            \\n                <li><a class=\"trending-bar__link\" href=\"https://www.rottentomatoes.com/m/plane\"  data-qa=\"trending-bar-item\"> Plane </a></li>\\n            \\n                <li><a class=\"trending-bar__link\" href=\"https://www.rottentomatoes.com/m/a_man_called_otto\"  data-qa=\"trending-bar-item\"> A Man Called Otto </a></li>\\n            \\n        </ul>\\n        <div class=\"list-inline trending-bar__social\" data-qa=\"trending-bar-social-list\">\\n            <a id=\"header-facebook-social-link\" class=\"trending-bar__social-link\" href=\"//www.facebook.com/rottentomatoes\" target=\"_blank\" rel=\"noopener\" aria-label=\"Facebook\" data-qa=\"trending-bar-social-facebook\">\\n                <rt-icon icon=\"facebook-squared\"></rt-icon>\\n            </a>\\n            <a id=\"header-twitter-social-link\" class=\"trending-bar__social-link\" href=\"//twitter.com/rottentomatoes\" target=\"_blank\" rel=\"noopener\" aria-label=\"Twitter\" data-qa=\"trending-bar-social-twitter\">\\n                <rt-icon icon=\"twitter\"></rt-icon>\\n            </a>\\n            <a id=\"header-instagram-social-link\" class=\"trending-bar__social-link\" href=\"//www.instagram.com/rottentomatoes/\" target=\"_blank\" rel=\"noopener\" aria-label=\"Instagram\" data-qa=\"trending-bar-social-instagram\">\\n                <rt-icon icon=\"instagram\"></rt-icon>\\n            </a>\\n            <a id=\"header-pinterest-social-link\" class=\"trending-bar__social-link\" href=\"https://www.pinterest.com/rottentomatoes\" target=\"_blank\" rel=\"noopener\" aria-label=\"Pinterest\" data-qa=\"contact-us-pinterest\">\\n                <rt-icon icon=\"pinterest\"></rt-icon>\\n            </a>\\n            <a id=\"header-youtube-social-link\" class=\"trending-bar__social-link\" href=\"//www.youtube.com/user/rottentomatoes\" target=\"_blank\" rel=\"noopener\" aria-label=\"Youtube\" data-qa=\"trending-bar-social-youtube\">\\n                <rt-icon icon=\"youtube-play\"></rt-icon>\\n            </a>\\n        </div>\\n    </div>\\n</section>\\n\\n\\n\\n\\n            <main id=\"main_container\" class=\"container roma-layout__content\">\\n                <bottom-nav data-qa=\"bottom-nav\">\\n                    <a slot=\"template\">\\n                        <bottom-nav-item></bottom-nav-item>\\n                    </a>\\n                </bottom-nav>\\n                <div id=\"main-page-content\">\\n                    \\n\\n    \\n\\n    \\n                    \\n\\n    <!-- salt=home-sticky-wicket-88 -->\\n    <section class=\"home-body\">\\n        \\n            <section class=\"js-rtv2-home-spotlight legacy-home-spotlight\">\\n                \\n<div id=\"banner\" class=\"homepage-banner\">\\n    <section class=\"headline col-sm-12\" data-qa=\"section:headline\">\\n        <div id=\"headliners\" class=\"headliners carousel slide js-carousel\" data-ride=\"carousel\">\\n            <ul class=\"carousel-indicators\">\\n                \\n                    <li data-target=\"#headliners\" data-slide-to=\"0\" class=\"active\" data-qa=\"carousel-indicator\"></li>\\n                \\n                    <li data-target=\"#headliners\" data-slide-to=\"1\"  data-qa=\"carousel-indicator\"></li>\\n                \\n                    <li data-target=\"#headliners\" data-slide-to=\"2\"  data-qa=\"carousel-indicator\"></li>\\n                \\n                    <li data-target=\"#headliners\" data-slide-to=\"3\"  data-qa=\"carousel-indicator\"></li>\\n                \\n                    <li data-target=\"#headliners\" data-slide-to=\"4\"  data-qa=\"carousel-indicator\"></li>\\n                \\n                    <li data-target=\"#headliners\" data-slide-to=\"5\"  data-qa=\"carousel-indicator\"></li>\\n                \\n                    <li data-target=\"#headliners\" data-slide-to=\"6\"  data-qa=\"carousel-indicator\"></li>\\n                \\n                    <li data-target=\"#headliners\" data-slide-to=\"7\"  data-qa=\"carousel-indicator\"></li>\\n                \\n            </ul>\\n            <div class=\"carousel-inner spotlight-item-wrap\" data-qa=\"carousel-items\">\\n                \\n                    \\n                    \\n                    \\n                    \\n                    \\n                    \\n<section id=\"\" class=\"js-headline headlineItem item active\">\\n    <aside class=\"sponsored-tag\">\\n        <p class=\"sponsored-tag-text\"></p>\\n        <div class=\"sponsored-tag-bg\"></div>\\n    </aside>\\n\\n    \\n        <a\\n            href=\"https://editorial.rottentomatoes.com/rt-hub/golden-tomato-awards-2022/\"\\n            data-slide-index=\"0\"\\n            \\n            data-qa=\"headline-item-link\"\\n        >\\n    \\n            <img \\n                class=\"bannerPic home-slide\"\\n                src=\"https://resizing.flixster.com/j7BmNKghwvzJGQfLdvVW-8W_zXE=/550x310/v2/https://images.fandango.com/cms/assets/d25c0c10-92bf-11ed-83f2-4f600722b564--rt-gta-2023-featured-700x350-010623.jpeg\" />\\n            <div class=\"bannerCaption subPanel\">\\n                <h2>Golden Tomato Awards</h2>\\n                <p>We\\'re honoring the best-reviewed movies and TV shows of 2022</p>\\n            </div>\\n        </a>\\n</section>\\n\\n                \\n                    \\n                    \\n                    \\n                    \\n                    \\n                    \\n<section id=\"\" class=\"js-headline headlineItem item \">\\n    <aside class=\"sponsored-tag\">\\n        <p class=\"sponsored-tag-text\"></p>\\n        <div class=\"sponsored-tag-bg\"></div>\\n    </aside>\\n\\n    \\n        <a\\n            href=\"https://editorial.rottentomatoes.com/article/7-things-to-know-about-vikings-valhalla-season-2-from-the-stars-and-creator/\"\\n            data-slide-index=\"1\"\\n            \\n            data-qa=\"headline-item-link\"\\n        >\\n    \\n            <img \\n                class=\"bannerPic home-slide\"\\n                src=\"https://resizing.flixster.com/FXPT4ZmNuN1BLNZpnMX2VnoeFaw=/550x310/v2/https://images.fandango.com/cms/assets/f9ffac70-92b2-11ed-83f2-4f600722b564--vikings-valhalla-s2-550x310.jpg\" />\\n            <div class=\"bannerCaption subPanel\">\\n                <h2><em>Vikings: Valhalla</em>: 7 Things To Know About Season 2</h2>\\n                <p>Frida Gustavsson, Sam Corlett, Leo Suter, and Jeb Stuart on 11th century life, love, and bloody Viking reckonings</p>\\n            </div>\\n        </a>\\n</section>\\n\\n                \\n                    \\n                    \\n                    \\n                    \\n                    \\n                    \\n<section id=\"\" class=\"js-headline headlineItem item \">\\n    <aside class=\"sponsored-tag\">\\n        <p class=\"sponsored-tag-text\"></p>\\n        <div class=\"sponsored-tag-bg\"></div>\\n    </aside>\\n\\n    \\n        <a\\n            href=\"https://editorial.rottentomatoes.com/article/renewed-and-cancelled-tv-shows-2023/\"\\n            data-slide-index=\"2\"\\n            \\n            data-qa=\"headline-item-link\"\\n        >\\n    \\n            <img \\n                class=\"bannerPic home-slide\"\\n                src=\"https://resizing.flixster.com/EMATj41Sshh9vwZerlu3U9qaZ1M=/550x310/v2/https://images.fandango.com/cms/assets/7023f8c0-9209-11ed-bbb0-99bdf247c629--abbott-elementary-600x314-1.jpeg\" />\\n            <div class=\"bannerCaption subPanel\">\\n                <h2>Renewed & Cancelled TV</h2>\\n                <p>ABC\\'s Golden Globes & Emmy-winning <em>Abbott Elementary</em> is back in session for a third season</p>\\n            </div>\\n        </a>\\n</section>\\n\\n                \\n                    \\n                    \\n                    \\n                    \\n                    \\n                    \\n<section id=\"\" class=\"js-headline headlineItem item \">\\n    <aside class=\"sponsored-tag\">\\n        <p class=\"sponsored-tag-text\"></p>\\n        <div class=\"sponsored-tag-bg\"></div>\\n    </aside>\\n\\n    \\n        <a\\n            href=\"https://editorial.rottentomatoes.com/article/full-list-of-sag-award-nominations-banshees-and-everything-everywhere-lead-the-way/\"\\n            data-slide-index=\"3\"\\n            \\n            data-qa=\"headline-item-link\"\\n        >\\n    \\n            <img \\n                class=\"bannerPic home-slide\"\\n                src=\"https://resizing.flixster.com/WAD7U9m5HE2MGgm78fg-Fj-4P4U=/550x310/v2/https://images.fandango.com/cms/assets/c15b3cf0-91df-11ed-83f2-4f600722b564--nyfcc-awards-banshees.jpeg\" />\\n            <div class=\"bannerCaption subPanel\">\\n                <h2>Full List of SAG Award Nominations</h2>\\n                <p><em>The Banshees of Inisherin</em> and <em>Everything Everywhere All At Once</em> tied for the film noms, while <em>Ozard</em> led the TV side</p>\\n            </div>\\n        </a>\\n</section>\\n\\n                \\n                    \\n                    \\n                    \\n                    \\n                    \\n                    \\n<section id=\"\" class=\"js-headline headlineItem item \">\\n    <aside class=\"sponsored-tag\">\\n        <p class=\"sponsored-tag-text\"></p>\\n        <div class=\"sponsored-tag-bg\"></div>\\n    </aside>\\n\\n    \\n        <a\\n            href=\"https://editorial.rottentomatoes.com/article/2023-golden-globes-best-moments-diversity-was-the-big-winner/\"\\n            data-slide-index=\"4\"\\n            \\n            data-qa=\"headline-item-link\"\\n        >\\n    \\n            <img \\n                class=\"bannerPic home-slide\"\\n                src=\"https://resizing.flixster.com/aD3bzp7aR9aO5nbPrKTIMT8-qFw=/550x310/v2/https://images.fandango.com/cms/assets/639e3cc0-9171-11ed-90fe-f325d9bf4959--golden-globes-abbott-elementary-550x310.jpg\" />\\n            <div class=\"bannerCaption subPanel\">\\n                <h2>2023 Golden Globes Best Moments</h2>\\n                <p>Diversity was the big winner at the 80th annual awards ceremony</p>\\n            </div>\\n        </a>\\n</section>\\n\\n                \\n                    \\n                    \\n                    \\n                    \\n                    \\n                    \\n<section id=\"\" class=\"js-headline headlineItem item \">\\n    <aside class=\"sponsored-tag\">\\n        <p class=\"sponsored-tag-text\"></p>\\n        <div class=\"sponsored-tag-bg\"></div>\\n    </aside>\\n\\n    \\n        <a\\n            href=\"https://editorial.rottentomatoes.com/article/2023-golden-globe-winners/\"\\n            data-slide-index=\"5\"\\n            \\n            data-qa=\"headline-item-link\"\\n        >\\n    \\n            <img \\n                class=\"bannerPic home-slide\"\\n                src=\"https://resizing.flixster.com/IwxE2NotgwCw7PJcWZBVaPloYiM=/550x310/v2/https://images.fandango.com/cms/assets/6100dac0-915f-11ed-83f2-4f600722b564--550goldenglobes-steven-spielberg.jpg\" />\\n            <div class=\"bannerCaption subPanel\">\\n                <h2>Golden Globe Winners 2023 Winners</h2>\\n                <p><em>The Fabelmans</em>, <em>The Banshees of Inisherin</em> and <em>Abbott Elementary</em> win big at the Golden Globes </p>\\n            </div>\\n        </a>\\n</section>\\n\\n                \\n                    \\n                    \\n                    \\n                    \\n                    \\n                    \\n<section id=\"\" class=\"js-headline headlineItem item \">\\n    <aside class=\"sponsored-tag\">\\n        <p class=\"sponsored-tag-text\"></p>\\n        <div class=\"sponsored-tag-bg\"></div>\\n    </aside>\\n\\n    \\n        <a\\n            href=\"https://editorial.rottentomatoes.com/guide/fan-favorite-movies-2022/\"\\n            data-slide-index=\"6\"\\n            \\n            data-qa=\"headline-item-link\"\\n        >\\n    \\n            <img \\n                class=\"bannerPic home-slide\"\\n                src=\"https://resizing.flixster.com/n9crKp1F7V88mGXZeQosyWMSYWg=/550x310/v2/https://images.fandango.com/cms/assets/accfbe80-92c2-11ed-bbb0-99bdf247c629--gtamovie.jpeg\" />\\n            <div class=\"bannerCaption subPanel\">\\n                <h2>Fan Favorite Movies 2022</h2>\\n                <p>Vote to determine the Fan Favorite Movie of the year!</p>\\n            </div>\\n        </a>\\n</section>\\n\\n                \\n                    \\n                    \\n                    \\n                    \\n                    \\n                    \\n<section id=\"\" class=\"js-headline headlineItem item \">\\n    <aside class=\"sponsored-tag\">\\n        <p class=\"sponsored-tag-text\"></p>\\n        <div class=\"sponsored-tag-bg\"></div>\\n    </aside>\\n\\n    \\n        <a\\n            href=\"https://editorial.rottentomatoes.com/article/the-last-of-us-first-reviews/\"\\n            data-slide-index=\"7\"\\n            \\n            data-qa=\"headline-item-link\"\\n        >\\n    \\n            <img \\n                class=\"bannerPic home-slide\"\\n                src=\"https://resizing.flixster.com/vRdGgn46mC1mmCMraJr42fWgLdY=/550x310/v2/https://images.fandango.com/cms/assets/93ae6310-911a-11ed-bbb0-99bdf247c629--the-last-of-us-key-art-image-550x310.jpg\" />\\n            <div class=\"bannerCaption subPanel\">\\n                <h2><em>The Last of Us</em> First Reviews</h2>\\n                <p>A top-notch cast, sharp writing, and respect for the original subject matter make the HBO series the first must-watch show of 2023</p>\\n            </div>\\n        </a>\\n</section>\\n\\n                \\n            </div>\\n            <div class=\"carousel-navigation\" data-curation=\"rt-hp-spotlight\">\\n                <button class=\"carousel-navigation__control\" data-target=\"#headliners\" data-slide=\"prev\">\\n                    <rt-icon image icon=\"left-chevron\" class=\"carousel-navigation__control__icon carousel-navigation__control__icon--left\"></rt-icon>\\n                </button>\\n                <button class=\"carousel-navigation__control\" data-target=\"#headliners\" data-slide=\"next\">\\n                    <rt-icon image icon=\"right-chevron\" class=\"carousel-navigation__control__icon carousel-navigation__control__icon--right\"></rt-icon>\\n                </button>\\n            </div>\\n        </div>\\n    </section>\\n\\n    \\n        \\n        \\n        \\n        \\n        \\n        \\n        \\n<section id=\"homepage-spotlight1\" class=\"js-headline headlineItem headline col-sm-6 mobile-hidden homepage-spotlight active\">\\n    <aside class=\"sponsored-tag\">\\n        <p class=\"sponsored-tag-text\"></p>\\n        <div class=\"sponsored-tag-bg\"></div>\\n    </aside>\\n\\n    \\n        <a\\n            href=\"https://editorial.rottentomatoes.com/article/awards-leaderboard-top-movies-of-2022/\"\\n            \\n            data-qa=\"spotlight-item-link\"\\n        >\\n    \\n            <img \\n                class=\"bannerPic home-slide\"\\n                src=\"https://resizing.flixster.com/mOc_VbE4xJoop9H1tyISEKlXEg4=/540x610/v2/https://images.fandango.com/cms/assets/d399b3e0-9209-11ed-b2f6-e1f3892e3f59--everything-everywhere-all-at-once.jpg\" />\\n            <div class=\"bannerCaption subPanel\">\\n                <h2>Awards Leaderboard</h2>\\n                <p>Top movies of 2022</p>\\n            </div>\\n        </a>\\n</section>\\n\\n    \\n\\n    \\n        \\n        \\n        \\n        \\n        \\n        \\n        \\n<section id=\"homepage-spotlight2\" class=\"js-headline headlineItem headline col-sm-6 mobile-hidden homepage-spotlight active\">\\n    <aside class=\"sponsored-tag\">\\n        <p class=\"sponsored-tag-text\"></p>\\n        <div class=\"sponsored-tag-bg\"></div>\\n    </aside>\\n\\n    \\n        <a\\n            href=\"https://editorial.rottentomatoes.com/guide/golden-globes-best-film-winners-by-tomatometer/\"\\n            \\n            data-qa=\"spotlight-item-link\"\\n        >\\n    \\n            <img \\n                class=\"bannerPic home-slide\"\\n                src=\"https://resizing.flixster.com/ORXvENOcPjeGNTp7n8-VLHi3tto=/540x610/v2/https://images.fandango.com/cms/assets/29e5fce0-920a-11ed-83f2-4f600722b564--thefabelmans.jpg\" />\\n            <div class=\"bannerCaption subPanel\">\\n                <h2>Golden Globes </h2>\\n                <p>Best Pictures ranked by Tomatometer</p>\\n            </div>\\n        </a>\\n</section>\\n\\n    \\n\\n    \\n    \\n    \\n        \\n    \\n    <div id=\"spotlight_ad\" style=\"height:0px\"></div>\\n    <script>\\n        var mps = mps||{}; mps._queue = mps._queue||{}; mps._queue.gptloaded = mps._queue.gptloaded||[];\\n        mps._queue.gptloaded.push(function () {\\n            if (mps.getResponsiveSet() != \\'0\\') { //DESKTOP or TABLET\\n                mps.insertAd(\\'#spotlight_ad\\',\\'spotlight\\');\\n            }\\n        });\\n    </script>\\n\\n\\n</div>\\n\\n            </section>\\n        \\n\\n        <section id=\"media-lists\" data-qa=\"section:media-lists\">\\r\\n    \\r\\n    \\r\\n        <div class=\"ordered-layout__list ordered-layout__list--carousel\" data-curation=\"rt-hp-poster-list-coming-soon\">\\n  \\n  \\r\\n  <section class=\"dynamic-poster-list\" data-qa=\"dynamic-poster-list\">\\r\\n    <div class=\"dynamic-poster-list__header-container--hide-h3\">\\r\\n      <div>\\r\\n        \\r\\n          <h2 data-qa=\"title\">New &amp; Upcoming Movies</h2>\\r\\n        \\r\\n\\r\\n        \\r\\n          <a href=\"https://www.rottentomatoes.com/browse/movies_in_theaters/sort:newest?page=1\" class=\"a--short\" data-track=\"showmore\">View all</a>\\r\\n        \\r\\n      </div>\\r\\n\\r\\n      \\r\\n    </div>\\r\\n    \\r\\n    \\r\\n\\r\\n    <tiles-carousel-responsive skeleton=\"panel\">\\r\\n\\r\\n      <button slot=\"scroll-left\">\\r\\n        <rt-icon slot=\"icon-arrow-left\" image icon=\"left-chevron\"></rt-icon>\\r\\n      </button>\\r\\n\\r\\n      \\r\\n        <tiles-carousel-responsive-item slot=\"tile\">\\r\\n          \\r\\n            \\r\\n            <tile-dynamic isvideo data-qa=\"tile\">\\r\\n              <img\\r\\n                slot=\"image\"\\r\\n                loading=\"lazy\"\\r\\n                src=\"https://resizing.flixster.com/96gGzEOuV_fOYF8NKCANgRXH3SI=/ems.cHJkLWVtcy1hc3NldHMvbW92aWVzLzUzN2ViMzg3LWNjNGUtNDFjZC1hMzZiLTgyYWEwOWIzZTdlZi5qcGc=\"\\r\\n                alt=\"Plane poster\"\\r\\n              />\\r\\n              \\r\\n                <button\\r\\n                  slot=\"imageAction\"\\r\\n                  \\r\\n                  class=\"transparent unset\"\\r\\n                  data-content-type=\"movie\"\\r\\n                  data-mpx-fwsite=\"\"\\r\\n                  data-title=\"Plane\"\\r\\n                  data-video-id=\"\"\\r\\n                  data-video-list=\"rt-hp-poster-list-coming-soon\"\\r\\n                  data-track=\"poster\"\\r\\n                  data-position=\"1\"\\r\\n                  data-media-id=\"\"\\r\\n                  \\r\\n                    data-video-player-overlay-url=\"https://player.theplatform.com/p/NGweTC/pdk6_y__7B0iQTi4P/embed/select/media/w7LCRh0gUu_v\"\\r\\n                    data-video-player-overlay-media-url=\"/m/plane\"\\r\\n                  \\r\\n                  aria-label=\"Play Plane trailer\"\\r\\n                >\\r\\n                  <span class=\"sr-only\">Plane</span>\\r\\n                </button>\\r\\n                \\r\\n                <a slot=\"caption\" href=\"/m/plane\" data-track=\"scores\">\\r\\n              \\r\\n                <score-pairs\\r\\n                  audiencesentiment=\"hide\"\\r\\n                  audiencescore=\"hide\"\\r\\n                  criticssentiment=\"positive\"\\r\\n                  criticsscore=\"72\"\\r\\n                  criticscertified=\"false\"\\r\\n                >\\r\\n                </score-pairs>\\r\\n                <span class=\"p--small\">Plane</span>\\r\\n              \\r\\n                </a>\\r\\n              \\r\\n            </tile-dynamic>\\r\\n          \\r\\n        </tiles-carousel-responsive-item>\\r\\n      \\r\\n        <tiles-carousel-responsive-item slot=\"tile\">\\r\\n          \\r\\n            \\r\\n            <tile-dynamic isvideo data-qa=\"tile\">\\r\\n              <img\\r\\n                slot=\"image\"\\r\\n                loading=\"lazy\"\\r\\n                src=\"https://resizing.flixster.com/gWWM2Ov0VLAuazwELZCVc9grUQI=/ems.cHJkLWVtcy1hc3NldHMvbW92aWVzLzgyMGM0ZDJiLWNmYjAtNGI3NS1hYTgzLTQ5YmU2ZjQwZWE0ZC5qcGc=\"\\r\\n                alt=\"Avatar: The Way of Water poster\"\\r\\n              />\\r\\n              \\r\\n                <button\\r\\n                  slot=\"imageAction\"\\r\\n                  \\r\\n                  class=\"transparent unset\"\\r\\n                  data-content-type=\"movie\"\\r\\n                  data-mpx-fwsite=\"\"\\r\\n                  data-title=\"Avatar: The Way of Water\"\\r\\n                  data-video-id=\"\"\\r\\n                  data-video-list=\"rt-hp-poster-list-coming-soon\"\\r\\n                  data-track=\"poster\"\\r\\n                  data-position=\"2\"\\r\\n                  data-media-id=\"\"\\r\\n                  \\r\\n                    data-video-player-overlay-url=\"https://player.theplatform.com/p/NGweTC/pdk6_y__7B0iQTi4P/embed/select/media/knCBWVtdpB_y\"\\r\\n                    data-video-player-overlay-media-url=\"/m/avatar_the_way_of_water\"\\r\\n                  \\r\\n                  aria-label=\"Play Avatar: The Way of Water trailer\"\\r\\n                >\\r\\n                  <span class=\"sr-only\">Avatar: The Way of Water</span>\\r\\n                </button>\\r\\n                \\r\\n                <a slot=\"caption\" href=\"/m/avatar_the_way_of_water\" data-track=\"scores\">\\r\\n              \\r\\n                <score-pairs\\r\\n                  audiencesentiment=\"hide\"\\r\\n                  audiencescore=\"hide\"\\r\\n                  criticssentiment=\"positive\"\\r\\n                  criticsscore=\"77\"\\r\\n                  criticscertified=\"criticscertified\"\\r\\n                >\\r\\n                </score-pairs>\\r\\n                <span class=\"p--small\">Avatar: The Way of Water</span>\\r\\n              \\r\\n                </a>\\r\\n              \\r\\n            </tile-dynamic>\\r\\n          \\r\\n        </tiles-carousel-responsive-item>\\r\\n      \\r\\n        <tiles-carousel-responsive-item slot=\"tile\">\\r\\n          \\r\\n            \\r\\n            <tile-dynamic isvideo data-qa=\"tile\">\\r\\n              <img\\r\\n                slot=\"image\"\\r\\n                loading=\"lazy\"\\r\\n                src=\"https://resizing.flixster.com/rPJASTXFjLpmiVTi3D6RGcq-skM=/ems.cHJkLWVtcy1hc3NldHMvbW92aWVzLzhjYjA0ODBiLTNlNmUtNDlhOS05ZWRlLThlOGQ2MmEyZjlmYS5qcGc=\"\\r\\n                alt=\"M3GAN poster\"\\r\\n              />\\r\\n              \\r\\n                <button\\r\\n                  slot=\"imageAction\"\\r\\n                  \\r\\n                  class=\"transparent unset\"\\r\\n                  data-content-type=\"movie\"\\r\\n                  data-mpx-fwsite=\"\"\\r\\n                  data-title=\"M3GAN\"\\r\\n                  data-video-id=\"\"\\r\\n                  data-video-list=\"rt-hp-poster-list-coming-soon\"\\r\\n                  data-track=\"poster\"\\r\\n                  data-position=\"3\"\\r\\n                  data-media-id=\"\"\\r\\n                  \\r\\n                    data-video-player-overlay-url=\"https://player.theplatform.com/p/NGweTC/pdk6_y__7B0iQTi4P/embed/select/media/ylRnxYtCODKE\"\\r\\n                    data-video-player-overlay-media-url=\"/m/m3gan\"\\r\\n                  \\r\\n                  aria-label=\"Play M3GAN trailer\"\\r\\n                >\\r\\n                  <span class=\"sr-only\">M3GAN</span>\\r\\n                </button>\\r\\n                \\r\\n                <a slot=\"caption\" href=\"/m/m3gan\" data-track=\"scores\">\\r\\n              \\r\\n                <score-pairs\\r\\n                  audiencesentiment=\"hide\"\\r\\n                  audiencescore=\"hide\"\\r\\n                  criticssentiment=\"positive\"\\r\\n                  criticsscore=\"95\"\\r\\n                  criticscertified=\"criticscertified\"\\r\\n                >\\r\\n                </score-pairs>\\r\\n                <span class=\"p--small\">M3GAN</span>\\r\\n              \\r\\n                </a>\\r\\n              \\r\\n            </tile-dynamic>\\r\\n          \\r\\n        </tiles-carousel-responsive-item>\\r\\n      \\r\\n        <tiles-carousel-responsive-item slot=\"tile\">\\r\\n          \\r\\n            \\r\\n            <tile-dynamic isvideo data-qa=\"tile\">\\r\\n              <img\\r\\n                slot=\"image\"\\r\\n                loading=\"lazy\"\\r\\n                src=\"https://resizing.flixster.com/l3hMOt6cWOpnE-s2f9ryvvFRwdM=/ems.cHJkLWVtcy1hc3NldHMvbW92aWVzLzQxYjJlNGIwLWE1YWMtNDU0NC05NDc3LTVkMTUwYWMyZGIyNy5qcGc=\"\\r\\n                alt=\"A Man Called Otto poster\"\\r\\n              />\\r\\n              \\r\\n                <button\\r\\n                  slot=\"imageAction\"\\r\\n                  \\r\\n                  class=\"transparent unset\"\\r\\n                  data-content-type=\"movie\"\\r\\n                  data-mpx-fwsite=\"\"\\r\\n                  data-title=\"A Man Called Otto\"\\r\\n                  data-video-id=\"\"\\r\\n                  data-video-list=\"rt-hp-poster-list-coming-soon\"\\r\\n                  data-track=\"poster\"\\r\\n                  data-position=\"4\"\\r\\n                  data-media-id=\"\"\\r\\n                  \\r\\n                    data-video-player-overlay-url=\"https://player.theplatform.com/p/NGweTC/pdk6_y__7B0iQTi4P/embed/select/media/G2l4dlRPXT7M\"\\r\\n                    data-video-player-overlay-media-url=\"/m/a_man_called_otto\"\\r\\n                  \\r\\n                  aria-label=\"Play A Man Called Otto trailer\"\\r\\n                >\\r\\n                  <span class=\"sr-only\">A Man Called Otto</span>\\r\\n                </button>\\r\\n                \\r\\n                <a slot=\"caption\" href=\"/m/a_man_called_otto\" data-track=\"scores\">\\r\\n              \\r\\n                <score-pairs\\r\\n                  audiencesentiment=\"hide\"\\r\\n                  audiencescore=\"hide\"\\r\\n                  criticssentiment=\"positive\"\\r\\n                  criticsscore=\"69\"\\r\\n                  criticscertified=\"false\"\\r\\n                >\\r\\n                </score-pairs>\\r\\n                <span class=\"p--small\">A Man Called Otto</span>\\r\\n              \\r\\n                </a>\\r\\n              \\r\\n            </tile-dynamic>\\r\\n          \\r\\n        </tiles-carousel-responsive-item>\\r\\n      \\r\\n        <tiles-carousel-responsive-item slot=\"tile\">\\r\\n          \\r\\n            \\r\\n            <tile-dynamic isvideo data-qa=\"tile\">\\r\\n              <img\\r\\n                slot=\"image\"\\r\\n                loading=\"lazy\"\\r\\n                src=\"https://resizing.flixster.com/0TL7sj2wtlYft1rd39GkrOvtNRk=/ems.cHJkLWVtcy1hc3NldHMvbW92aWVzL2Y2NWNhYWYwLWFhNmQtNGRmOS05YTY3LWE0NTA0MGU1ZDRmOC5qcGc=\"\\r\\n                alt=\"House Party poster\"\\r\\n              />\\r\\n              \\r\\n                <button\\r\\n                  slot=\"imageAction\"\\r\\n                  \\r\\n                  class=\"transparent unset\"\\r\\n                  data-content-type=\"movie\"\\r\\n                  data-mpx-fwsite=\"\"\\r\\n                  data-title=\"House Party\"\\r\\n                  data-video-id=\"\"\\r\\n                  data-video-list=\"rt-hp-poster-list-coming-soon\"\\r\\n                  data-track=\"poster\"\\r\\n                  data-position=\"5\"\\r\\n                  data-media-id=\"\"\\r\\n                  \\r\\n                    data-video-player-overlay-url=\"https://player.theplatform.com/p/NGweTC/pdk6_y__7B0iQTi4P/embed/select/media/zpxSF4Q2iy1g\"\\r\\n                    data-video-player-overlay-media-url=\"/m/house_party_2023\"\\r\\n                  \\r\\n                  aria-label=\"Play House Party trailer\"\\r\\n                >\\r\\n                  <span class=\"sr-only\">House Party</span>\\r\\n                </button>\\r\\n                \\r\\n                <a slot=\"caption\" href=\"/m/house_party_2023\" data-track=\"scores\">\\r\\n              \\r\\n                <score-pairs\\r\\n                  audiencesentiment=\"hide\"\\r\\n                  audiencescore=\"hide\"\\r\\n                  criticssentiment=\"negative\"\\r\\n                  criticsscore=\"30\"\\r\\n                  criticscertified=\"false\"\\r\\n                >\\r\\n                </score-pairs>\\r\\n                <span class=\"p--small\">House Party</span>\\r\\n              \\r\\n                </a>\\r\\n              \\r\\n            </tile-dynamic>\\r\\n          \\r\\n        </tiles-carousel-responsive-item>\\r\\n      \\r\\n        <tiles-carousel-responsive-item slot=\"tile\">\\r\\n          \\r\\n            \\r\\n            <tile-dynamic isvideo data-qa=\"tile\">\\r\\n              <img\\r\\n                slot=\"image\"\\r\\n                loading=\"lazy\"\\r\\n                src=\"https://resizing.flixster.com/vtIcjOYiM-QBXQyXhTFFgQoRkDw=/ems.cHJkLWVtcy1hc3NldHMvbW92aWVzL2JmNjM3ZTc2LTk5ZmMtNGJhNy04MDAzLWI3M2IxNmExNDNkYi5qcGc=\"\\r\\n                alt=\"Puss in Boots: The Last Wish poster\"\\r\\n              />\\r\\n              \\r\\n                <button\\r\\n                  slot=\"imageAction\"\\r\\n                  \\r\\n                  class=\"transparent unset\"\\r\\n                  data-content-type=\"movie\"\\r\\n                  data-mpx-fwsite=\"\"\\r\\n                  data-title=\"Puss in Boots: The Last Wish\"\\r\\n                  data-video-id=\"\"\\r\\n                  data-video-list=\"rt-hp-poster-list-coming-soon\"\\r\\n                  data-track=\"poster\"\\r\\n                  data-position=\"6\"\\r\\n                  data-media-id=\"\"\\r\\n                  \\r\\n                    data-video-player-overlay-url=\"https://player.theplatform.com/p/NGweTC/pdk6_y__7B0iQTi4P/embed/select/media/G3eStXA54JGr\"\\r\\n                    data-video-player-overlay-media-url=\"/m/puss_in_boots_the_last_wish\"\\r\\n                  \\r\\n                  aria-label=\"Play Puss in Boots: The Last Wish trailer\"\\r\\n                >\\r\\n                  <span class=\"sr-only\">Puss in Boots: The Last Wish</span>\\r\\n                </button>\\r\\n                \\r\\n                <a slot=\"caption\" href=\"/m/puss_in_boots_the_last_wish\" data-track=\"scores\">\\r\\n              \\r\\n                <score-pairs\\r\\n                  audiencesentiment=\"hide\"\\r\\n                  audiencescore=\"hide\"\\r\\n                  criticssentiment=\"positive\"\\r\\n                  criticsscore=\"96\"\\r\\n                  criticscertified=\"criticscertified\"\\r\\n                >\\r\\n                </score-pairs>\\r\\n                <span class=\"p--small\">Puss in Boots: The Last Wish</span>\\r\\n              \\r\\n                </a>\\r\\n              \\r\\n            </tile-dynamic>\\r\\n          \\r\\n        </tiles-carousel-responsive-item>\\r\\n      \\r\\n        <tiles-carousel-responsive-item slot=\"tile\">\\r\\n          \\r\\n            \\r\\n            <tile-dynamic isvideo data-qa=\"tile\">\\r\\n              <img\\r\\n                slot=\"image\"\\r\\n                loading=\"lazy\"\\r\\n                src=\"https://resizing.flixster.com/YK7EnYmnlr7njPaqZ_x-mdAI86A=/ems.cHJkLWVtcy1hc3NldHMvbW92aWVzL2FmZDQxZTlhLTYyN2ItNDc5ZS04NjEzLWU2NmY3Y2JkNTkwMi5qcGc=\"\\r\\n                alt=\"Women Talking poster\"\\r\\n              />\\r\\n              \\r\\n                <button\\r\\n                  slot=\"imageAction\"\\r\\n                  \\r\\n                  class=\"transparent unset\"\\r\\n                  data-content-type=\"movie\"\\r\\n                  data-mpx-fwsite=\"\"\\r\\n                  data-title=\"Women Talking\"\\r\\n                  data-video-id=\"\"\\r\\n                  data-video-list=\"rt-hp-poster-list-coming-soon\"\\r\\n                  data-track=\"poster\"\\r\\n                  data-position=\"7\"\\r\\n                  data-media-id=\"\"\\r\\n                  \\r\\n                    data-video-player-overlay-url=\"https://player.theplatform.com/p/NGweTC/pdk6_y__7B0iQTi4P/embed/select/media/1OdupGe0FRoh\"\\r\\n                    data-video-player-overlay-media-url=\"/m/women_talking\"\\r\\n                  \\r\\n                  aria-label=\"Play Women Talking trailer\"\\r\\n                >\\r\\n                  <span class=\"sr-only\">Women Talking</span>\\r\\n                </button>\\r\\n                \\r\\n                <a slot=\"caption\" href=\"/m/women_talking\" data-track=\"scores\">\\r\\n              \\r\\n                <score-pairs\\r\\n                  audiencesentiment=\"hide\"\\r\\n                  audiencescore=\"hide\"\\r\\n                  criticssentiment=\"positive\"\\r\\n                  criticsscore=\"90\"\\r\\n                  criticscertified=\"criticscertified\"\\r\\n                >\\r\\n                </score-pairs>\\r\\n                <span class=\"p--small\">Women Talking</span>\\r\\n              \\r\\n                </a>\\r\\n              \\r\\n            </tile-dynamic>\\r\\n          \\r\\n        </tiles-carousel-responsive-item>\\r\\n      \\r\\n        <tiles-carousel-responsive-item slot=\"tile\">\\r\\n          \\r\\n            \\r\\n            <tile-dynamic isvideo data-qa=\"tile\">\\r\\n              <img\\r\\n                slot=\"image\"\\r\\n                loading=\"lazy\"\\r\\n                src=\"https://resizing.flixster.com/XccbPK0hKM-917UbwumcDIV2Y-8=/ems.cHJkLWVtcy1hc3NldHMvbW92aWVzLzE0MmUzM2M2LWIyYzktNDU1Zi1iOTU1LTUwODI0ZjA5ZTU3My5qcGc=\"\\r\\n                alt=\"Broker poster\"\\r\\n              />\\r\\n              \\r\\n                <button\\r\\n                  slot=\"imageAction\"\\r\\n                  \\r\\n                  class=\"transparent unset\"\\r\\n                  data-content-type=\"movie\"\\r\\n                  data-mpx-fwsite=\"\"\\r\\n                  data-title=\"Broker\"\\r\\n                  data-video-id=\"\"\\r\\n                  data-video-list=\"rt-hp-poster-list-coming-soon\"\\r\\n                  data-track=\"poster\"\\r\\n                  data-position=\"8\"\\r\\n                  data-media-id=\"\"\\r\\n                  \\r\\n                    data-video-player-overlay-url=\"https://player.theplatform.com/p/NGweTC/pdk6_y__7B0iQTi4P/embed/select/media/4bNc9biIgc6m\"\\r\\n                    data-video-player-overlay-media-url=\"/m/broker\"\\r\\n                  \\r\\n                  aria-label=\"Play Broker trailer\"\\r\\n                >\\r\\n                  <span class=\"sr-only\">Broker</span>\\r\\n                </button>\\r\\n                \\r\\n                <a slot=\"caption\" href=\"/m/broker\" data-track=\"scores\">\\r\\n              \\r\\n                <score-pairs\\r\\n                  audiencesentiment=\"hide\"\\r\\n                  audiencescore=\"hide\"\\r\\n                  criticssentiment=\"positive\"\\r\\n                  criticsscore=\"93\"\\r\\n                  criticscertified=\"criticscertified\"\\r\\n                >\\r\\n                </score-pairs>\\r\\n                <span class=\"p--small\">Broker</span>\\r\\n              \\r\\n                </a>\\r\\n              \\r\\n            </tile-dynamic>\\r\\n          \\r\\n        </tiles-carousel-responsive-item>\\r\\n      \\r\\n        <tiles-carousel-responsive-item slot=\"tile\">\\r\\n          \\r\\n            \\r\\n            <tile-dynamic isvideo data-qa=\"tile\">\\r\\n              <img\\r\\n                slot=\"image\"\\r\\n                loading=\"lazy\"\\r\\n                src=\"https://resizing.flixster.com/Jl1mljC7CIs0nrNRwdhmqsyAY_s=/ems.cHJkLWVtcy1hc3NldHMvbW92aWVzLzNjZTViODM4LTlhNmQtNDI5Zi04NzcyLWNjNTU0NWZlOTQ5Ny5qcGc=\"\\r\\n                alt=\"White Noise poster\"\\r\\n              />\\r\\n              \\r\\n                <button\\r\\n                  slot=\"imageAction\"\\r\\n                  \\r\\n                  class=\"transparent unset\"\\r\\n                  data-content-type=\"movie\"\\r\\n                  data-mpx-fwsite=\"\"\\r\\n                  data-title=\"White Noise\"\\r\\n                  data-video-id=\"\"\\r\\n                  data-video-list=\"rt-hp-poster-list-coming-soon\"\\r\\n                  data-track=\"poster\"\\r\\n                  data-position=\"9\"\\r\\n                  data-media-id=\"\"\\r\\n                  \\r\\n                    data-video-player-overlay-url=\"https://player.theplatform.com/p/NGweTC/pdk6_y__7B0iQTi4P/embed/select/media/AD4aPHb9WliX\"\\r\\n                    data-video-player-overlay-media-url=\"/m/white_noise_2022\"\\r\\n                  \\r\\n                  aria-label=\"Play White Noise trailer\"\\r\\n                >\\r\\n                  <span class=\"sr-only\">White Noise</span>\\r\\n                </button>\\r\\n                \\r\\n                <a slot=\"caption\" href=\"/m/white_noise_2022\" data-track=\"scores\">\\r\\n              \\r\\n                <score-pairs\\r\\n                  audiencesentiment=\"hide\"\\r\\n                  audiencescore=\"hide\"\\r\\n                  criticssentiment=\"positive\"\\r\\n                  criticsscore=\"63\"\\r\\n                  criticscertified=\"false\"\\r\\n                >\\r\\n                </score-pairs>\\r\\n                <span class=\"p--small\">White Noise</span>\\r\\n              \\r\\n                </a>\\r\\n              \\r\\n            </tile-dynamic>\\r\\n          \\r\\n        </tiles-carousel-responsive-item>\\r\\n      \\r\\n        <tiles-carousel-responsive-item slot=\"tile\">\\r\\n          \\r\\n            \\r\\n            <tile-dynamic isvideo data-qa=\"tile\">\\r\\n              <img\\r\\n                slot=\"image\"\\r\\n                loading=\"lazy\"\\r\\n                src=\"https://resizing.flixster.com/LtlkxklT_aql6vLllzIOmaWGUGI=/ems.cHJkLWVtcy1hc3NldHMvbW92aWVzL2NjYzEwMzA2LWMyZTAtNDU5OC04Zjk2LTFiYWM5NjY3NWMwOS5qcGc=\"\\r\\n                alt=\"The Old Way poster\"\\r\\n              />\\r\\n              \\r\\n                <button\\r\\n                  slot=\"imageAction\"\\r\\n                  \\r\\n                  class=\"transparent unset\"\\r\\n                  data-content-type=\"movie\"\\r\\n                  data-mpx-fwsite=\"\"\\r\\n                  data-title=\"The Old Way\"\\r\\n                  data-video-id=\"\"\\r\\n                  data-video-list=\"rt-hp-poster-list-coming-soon\"\\r\\n                  data-track=\"poster\"\\r\\n                  data-position=\"10\"\\r\\n                  data-media-id=\"\"\\r\\n                  \\r\\n                    data-video-player-overlay-url=\"https://player.theplatform.com/p/NGweTC/pdk6_y__7B0iQTi4P/embed/select/media/8sZlNdHGxIpT\"\\r\\n                    data-video-player-overlay-media-url=\"/m/the_old_way\"\\r\\n                  \\r\\n                  aria-label=\"Play The Old Way trailer\"\\r\\n                >\\r\\n                  <span class=\"sr-only\">The Old Way</span>\\r\\n                </button>\\r\\n                \\r\\n                <a slot=\"caption\" href=\"/m/the_old_way\" data-track=\"scores\">\\r\\n              \\r\\n                <score-pairs\\r\\n                  audiencesentiment=\"hide\"\\r\\n                  audiencescore=\"hide\"\\r\\n                  criticssentiment=\"negative\"\\r\\n                  criticsscore=\"36\"\\r\\n                  criticscertified=\"false\"\\r\\n                >\\r\\n                </score-pairs>\\r\\n                <span class=\"p--small\">The Old Way</span>\\r\\n              \\r\\n                </a>\\r\\n              \\r\\n            </tile-dynamic>\\r\\n          \\r\\n        </tiles-carousel-responsive-item>\\r\\n      \\r\\n        <tiles-carousel-responsive-item slot=\"tile\">\\r\\n          \\r\\n            \\r\\n            <tile-dynamic isvideo data-qa=\"tile\">\\r\\n              <img\\r\\n                slot=\"image\"\\r\\n                loading=\"lazy\"\\r\\n                src=\"https://resizing.flixster.com/oyaLeulxABzyMRREKtKjJUS4Pn8=/ems.cHJkLWVtcy1hc3NldHMvbW92aWVzLzM0OTExOWJkLWI4MDktNGFhMy1hNTI5LTgyZWYyYWZjODRjMi5qcGc=\"\\r\\n                alt=\"Alice, Darling poster\"\\r\\n              />\\r\\n              \\r\\n                <button\\r\\n                  slot=\"imageAction\"\\r\\n                  \\r\\n                  class=\"transparent unset\"\\r\\n                  data-content-type=\"movie\"\\r\\n                  data-mpx-fwsite=\"\"\\r\\n                  data-title=\"Alice, Darling\"\\r\\n                  data-video-id=\"\"\\r\\n                  data-video-list=\"rt-hp-poster-list-coming-soon\"\\r\\n                  data-track=\"poster\"\\r\\n                  data-position=\"11\"\\r\\n                  data-media-id=\"\"\\r\\n                  \\r\\n                    data-video-player-overlay-url=\"https://player.theplatform.com/p/NGweTC/pdk6_y__7B0iQTi4P/embed/select/media/4gMqACvDkifg\"\\r\\n                    data-video-player-overlay-media-url=\"/m/alice_darling\"\\r\\n                  \\r\\n                  aria-label=\"Play Alice, Darling trailer\"\\r\\n                >\\r\\n                  <span class=\"sr-only\">Alice, Darling</span>\\r\\n                </button>\\r\\n                \\r\\n                <a slot=\"caption\" href=\"/m/alice_darling\" data-track=\"scores\">\\r\\n              \\r\\n                <score-pairs\\r\\n                  audiencesentiment=\"hide\"\\r\\n                  audiencescore=\"hide\"\\r\\n                  criticssentiment=\"positive\"\\r\\n                  criticsscore=\"78\"\\r\\n                  criticscertified=\"false\"\\r\\n                >\\r\\n                </score-pairs>\\r\\n                <span class=\"p--small\">Alice, Darling</span>\\r\\n              \\r\\n                </a>\\r\\n              \\r\\n            </tile-dynamic>\\r\\n          \\r\\n        </tiles-carousel-responsive-item>\\r\\n      \\r\\n        <tiles-carousel-responsive-item slot=\"tile\">\\r\\n          \\r\\n            \\r\\n            <tile-dynamic isvideo data-qa=\"tile\">\\r\\n              <img\\r\\n                slot=\"image\"\\r\\n                loading=\"lazy\"\\r\\n                src=\"https://resizing.flixster.com/QJkeIM6LIvwmRGiLKrNBcpZIk8M=/ems.cHJkLWVtcy1hc3NldHMvbW92aWVzLzAwYzExZjlmLWJlODQtNDY4Mi1iNDhkLWU2YWNmMGIyMDgwMi5qcGc=\"\\r\\n                alt=\"Black Panther: Wakanda Forever poster\"\\r\\n              />\\r\\n              \\r\\n                <button\\r\\n                  slot=\"imageAction\"\\r\\n                  \\r\\n                  class=\"transparent unset\"\\r\\n                  data-content-type=\"movie\"\\r\\n                  data-mpx-fwsite=\"\"\\r\\n                  data-title=\"Black Panther: Wakanda Forever\"\\r\\n                  data-video-id=\"\"\\r\\n                  data-video-list=\"rt-hp-poster-list-coming-soon\"\\r\\n                  data-track=\"poster\"\\r\\n                  data-position=\"12\"\\r\\n                  data-media-id=\"\"\\r\\n                  \\r\\n                    data-video-player-overlay-url=\"https://player.theplatform.com/p/NGweTC/pdk6_y__7B0iQTi4P/embed/select/media/uMGYgU_G1AM4\"\\r\\n                    data-video-player-overlay-media-url=\"/m/black_panther_wakanda_forever\"\\r\\n                  \\r\\n                  aria-label=\"Play Black Panther: Wakanda Forever trailer\"\\r\\n                >\\r\\n                  <span class=\"sr-only\">Black Panther: Wakanda Forever</span>\\r\\n                </button>\\r\\n                \\r\\n                <a slot=\"caption\" href=\"/m/black_panther_wakanda_forever\" data-track=\"scores\">\\r\\n              \\r\\n                <score-pairs\\r\\n                  audiencesentiment=\"hide\"\\r\\n                  audiencescore=\"hide\"\\r\\n                  criticssentiment=\"positive\"\\r\\n                  criticsscore=\"84\"\\r\\n                  criticscertified=\"criticscertified\"\\r\\n                >\\r\\n                </score-pairs>\\r\\n                <span class=\"p--small\">Black Panther: Wakanda Forever</span>\\r\\n              \\r\\n                </a>\\r\\n              \\r\\n            </tile-dynamic>\\r\\n          \\r\\n        </tiles-carousel-responsive-item>\\r\\n      \\r\\n        <tiles-carousel-responsive-item slot=\"tile\">\\r\\n          \\r\\n            \\r\\n            <tile-dynamic isvideo data-qa=\"tile\">\\r\\n              <img\\r\\n                slot=\"image\"\\r\\n                loading=\"lazy\"\\r\\n                src=\"https://resizing.flixster.com/QInTTcanAR_N_d3GRmDV_3BkGlE=/ems.cHJkLWVtcy1hc3NldHMvbW92aWVzLzNjODkyZmVlLTE1YzgtNDBmNC1iNjkzLThiNjBkZWQ3ZDExNC5qcGc=\"\\r\\n                alt=\"The Subtle Art of Not Giving a #@%! poster\"\\r\\n              />\\r\\n              \\r\\n                <button\\r\\n                  slot=\"imageAction\"\\r\\n                  \\r\\n                  class=\"transparent unset\"\\r\\n                  data-content-type=\"movie\"\\r\\n                  data-mpx-fwsite=\"\"\\r\\n                  data-title=\"The Subtle Art of Not Giving a #@%!\"\\r\\n                  data-video-id=\"\"\\r\\n                  data-video-list=\"rt-hp-poster-list-coming-soon\"\\r\\n                  data-track=\"poster\"\\r\\n                  data-position=\"13\"\\r\\n                  data-media-id=\"\"\\r\\n                  \\r\\n                    data-video-player-overlay-url=\"https://player.theplatform.com/p/NGweTC/pdk6_y__7B0iQTi4P/embed/select/media/irZBPDtySFtg\"\\r\\n                    data-video-player-overlay-media-url=\"/m/the_subtle_art_of_not_giving_a_at_percent\"\\r\\n                  \\r\\n                  aria-label=\"Play The Subtle Art of Not Giving a #@%! trailer\"\\r\\n                >\\r\\n                  <span class=\"sr-only\">The Subtle Art of Not Giving a #@%!</span>\\r\\n                </button>\\r\\n                \\r\\n                <a slot=\"caption\" href=\"/m/the_subtle_art_of_not_giving_a_at_percent\" data-track=\"scores\">\\r\\n              \\r\\n                <score-pairs\\r\\n                  audiencesentiment=\"hide\"\\r\\n                  audiencescore=\"hide\"\\r\\n                  criticssentiment=\"positive\"\\r\\n                  criticsscore=\"80\"\\r\\n                  criticscertified=\"false\"\\r\\n                >\\r\\n                </score-pairs>\\r\\n                <span class=\"p--small\">The Subtle Art of Not Giving a #@%!</span>\\r\\n              \\r\\n                </a>\\r\\n              \\r\\n            </tile-dynamic>\\r\\n          \\r\\n        </tiles-carousel-responsive-item>\\r\\n      \\r\\n        <tiles-carousel-responsive-item slot=\"tile\">\\r\\n          \\r\\n            \\r\\n            <tile-dynamic isvideo data-qa=\"tile\">\\r\\n              <img\\r\\n                slot=\"image\"\\r\\n                loading=\"lazy\"\\r\\n                src=\"https://resizing.flixster.com/Mtg-vEUajN8oamKcLLI7hZT-Rhs=/ems.cHJkLWVtcy1hc3NldHMvbW92aWVzL2FhYTcxNzNkLTExYzItNDk1NC1iNDNmLWViMDRlYjg5NzliNC5qcGc=\"\\r\\n                alt=\"Glass Onion: A Knives Out Mystery poster\"\\r\\n              />\\r\\n              \\r\\n                <button\\r\\n                  slot=\"imageAction\"\\r\\n                  \\r\\n                  class=\"transparent unset\"\\r\\n                  data-content-type=\"movie\"\\r\\n                  data-mpx-fwsite=\"\"\\r\\n                  data-title=\"Glass Onion: A Knives Out Mystery\"\\r\\n                  data-video-id=\"\"\\r\\n                  data-video-list=\"rt-hp-poster-list-coming-soon\"\\r\\n                  data-track=\"poster\"\\r\\n                  data-position=\"14\"\\r\\n                  data-media-id=\"\"\\r\\n                  \\r\\n                    data-video-player-overlay-url=\"https://player.theplatform.com/p/NGweTC/pdk6_y__7B0iQTi4P/embed/select/media/G0WI3edXMiy0\"\\r\\n                    data-video-player-overlay-media-url=\"/m/glass_onion_a_knives_out_mystery\"\\r\\n                  \\r\\n                  aria-label=\"Play Glass Onion: A Knives Out Mystery trailer\"\\r\\n                >\\r\\n                  <span class=\"sr-only\">Glass Onion: A Knives Out Mystery</span>\\r\\n                </button>\\r\\n                \\r\\n                <a slot=\"caption\" href=\"/m/glass_onion_a_knives_out_mystery\" data-track=\"scores\">\\r\\n              \\r\\n                <score-pairs\\r\\n                  audiencesentiment=\"hide\"\\r\\n                  audiencescore=\"hide\"\\r\\n                  criticssentiment=\"positive\"\\r\\n                  criticsscore=\"92\"\\r\\n                  criticscertified=\"criticscertified\"\\r\\n                >\\r\\n                </score-pairs>\\r\\n                <span class=\"p--small\">Glass Onion: A Knives Out Mystery</span>\\r\\n              \\r\\n                </a>\\r\\n              \\r\\n            </tile-dynamic>\\r\\n          \\r\\n        </tiles-carousel-responsive-item>\\r\\n      \\r\\n        <tiles-carousel-responsive-item slot=\"tile\">\\r\\n          \\r\\n            \\r\\n            <tile-dynamic isvideo data-qa=\"tile\">\\r\\n              <img\\r\\n                slot=\"image\"\\r\\n                loading=\"lazy\"\\r\\n                src=\"https://resizing.flixster.com/3nj0Hz_CMmALKqaMCcFqAkZuY3Q=/ems.cHJkLWVtcy1hc3NldHMvbW92aWVzLzg0ZmZhYTY1LTg3ZmItNGEzMC1hMzQ3LTdkMjNjYjgyZGU5ZS5wbmc=\"\\r\\n                alt=\"The Devil Conspiracy poster\"\\r\\n              />\\r\\n              \\r\\n                <button\\r\\n                  slot=\"imageAction\"\\r\\n                  \\r\\n                  class=\"transparent unset\"\\r\\n                  data-content-type=\"movie\"\\r\\n                  data-mpx-fwsite=\"\"\\r\\n                  data-title=\"The Devil Conspiracy\"\\r\\n                  data-video-id=\"\"\\r\\n                  data-video-list=\"rt-hp-poster-list-coming-soon\"\\r\\n                  data-track=\"poster\"\\r\\n                  data-position=\"15\"\\r\\n                  data-media-id=\"\"\\r\\n                  \\r\\n                    data-video-player-overlay-url=\"https://player.theplatform.com/p/NGweTC/pdk6_y__7B0iQTi4P/embed/select/media/L5VqE2KZIaaL\"\\r\\n                    data-video-player-overlay-media-url=\"/m/the_devil_conspiracy\"\\r\\n                  \\r\\n                  aria-label=\"Play The Devil Conspiracy trailer\"\\r\\n                >\\r\\n                  <span class=\"sr-only\">The Devil Conspiracy</span>\\r\\n                </button>\\r\\n                \\r\\n                <a slot=\"caption\" href=\"/m/the_devil_conspiracy\" data-track=\"scores\">\\r\\n              \\r\\n                <score-pairs\\r\\n                  audiencesentiment=\"hide\"\\r\\n                  audiencescore=\"hide\"\\r\\n                  criticssentiment=\"negative\"\\r\\n                  criticsscore=\"33\"\\r\\n                  criticscertified=\"false\"\\r\\n                >\\r\\n                </score-pairs>\\r\\n                <span class=\"p--small\">The Devil Conspiracy</span>\\r\\n              \\r\\n                </a>\\r\\n              \\r\\n            </tile-dynamic>\\r\\n          \\r\\n        </tiles-carousel-responsive-item>\\r\\n      \\r\\n        <tiles-carousel-responsive-item slot=\"tile\">\\r\\n          \\r\\n            \\r\\n            <tile-dynamic isvideo data-qa=\"tile\">\\r\\n              <img\\r\\n                slot=\"image\"\\r\\n                loading=\"lazy\"\\r\\n                src=\"https://resizing.flixster.com/dEbrJa07LETKJiiO54Tqxb-ImXk=/ems.cHJkLWVtcy1hc3NldHMvbW92aWVzL2U5OTE0OTdhLWQ1MTAtNDgyMS04M2YzLTdkNmVjZDYxNmZlMy5qcGc=\"\\r\\n                alt=\"Babylon poster\"\\r\\n              />\\r\\n              \\r\\n                <button\\r\\n                  slot=\"imageAction\"\\r\\n                  \\r\\n                  class=\"transparent unset\"\\r\\n                  data-content-type=\"movie\"\\r\\n                  data-mpx-fwsite=\"\"\\r\\n                  data-title=\"Babylon\"\\r\\n                  data-video-id=\"\"\\r\\n                  data-video-list=\"rt-hp-poster-list-coming-soon\"\\r\\n                  data-track=\"poster\"\\r\\n                  data-position=\"16\"\\r\\n                  data-media-id=\"\"\\r\\n                  \\r\\n                    data-video-player-overlay-url=\"https://player.theplatform.com/p/NGweTC/pdk6_y__7B0iQTi4P/embed/select/media/yQtRSEksY5Z_\"\\r\\n                    data-video-player-overlay-media-url=\"/m/babylon_2022\"\\r\\n                  \\r\\n                  aria-label=\"Play Babylon trailer\"\\r\\n                >\\r\\n                  <span class=\"sr-only\">Babylon</span>\\r\\n                </button>\\r\\n                \\r\\n                <a slot=\"caption\" href=\"/m/babylon_2022\" data-track=\"scores\">\\r\\n              \\r\\n                <score-pairs\\r\\n                  audiencesentiment=\"hide\"\\r\\n                  audiencescore=\"hide\"\\r\\n                  criticssentiment=\"negative\"\\r\\n                  criticsscore=\"55\"\\r\\n                  criticscertified=\"false\"\\r\\n                >\\r\\n                </score-pairs>\\r\\n                <span class=\"p--small\">Babylon</span>\\r\\n              \\r\\n                </a>\\r\\n              \\r\\n            </tile-dynamic>\\r\\n          \\r\\n        </tiles-carousel-responsive-item>\\r\\n      \\r\\n        <tiles-carousel-responsive-item slot=\"tile\">\\r\\n          \\r\\n            \\r\\n            <tile-dynamic isvideo data-qa=\"tile\">\\r\\n              <img\\r\\n                slot=\"image\"\\r\\n                loading=\"lazy\"\\r\\n                src=\"https://resizing.flixster.com/6xmuDLr8iHznjPJyfW_FVxZbTl4=/ems.cHJkLWVtcy1hc3NldHMvbW92aWVzLzE2MmNhOWExLWI2ZmYtNDE4OC04YjM3LWMyYjIyMmI0OWYxZC5qcGc=\"\\r\\n                alt=\"Whitney Houston: I Wanna Dance with Somebody poster\"\\r\\n              />\\r\\n              \\r\\n                <button\\r\\n                  slot=\"imageAction\"\\r\\n                  \\r\\n                  class=\"transparent unset\"\\r\\n                  data-content-type=\"movie\"\\r\\n                  data-mpx-fwsite=\"\"\\r\\n                  data-title=\"Whitney Houston: I Wanna Dance with Somebody\"\\r\\n                  data-video-id=\"\"\\r\\n                  data-video-list=\"rt-hp-poster-list-coming-soon\"\\r\\n                  data-track=\"poster\"\\r\\n                  data-position=\"17\"\\r\\n                  data-media-id=\"\"\\r\\n                  \\r\\n                    data-video-player-overlay-url=\"https://player.theplatform.com/p/NGweTC/pdk6_y__7B0iQTi4P/embed/select/media/UxcNlZicLCo0\"\\r\\n                    data-video-player-overlay-media-url=\"/m/whitney_houston_i_wanna_dance_with_somebody\"\\r\\n                  \\r\\n                  aria-label=\"Play Whitney Houston: I Wanna Dance with Somebody trailer\"\\r\\n                >\\r\\n                  <span class=\"sr-only\">Whitney Houston: I Wanna Dance with Somebody</span>\\r\\n                </button>\\r\\n                \\r\\n                <a slot=\"caption\" href=\"/m/whitney_houston_i_wanna_dance_with_somebody\" data-track=\"scores\">\\r\\n              \\r\\n                <score-pairs\\r\\n                  audiencesentiment=\"hide\"\\r\\n                  audiencescore=\"hide\"\\r\\n                  criticssentiment=\"negative\"\\r\\n                  criticsscore=\"45\"\\r\\n                  criticscertified=\"false\"\\r\\n                >\\r\\n                </score-pairs>\\r\\n                <span class=\"p--small\">Whitney Houston: I Wanna Dance with Somebody</span>\\r\\n              \\r\\n                </a>\\r\\n              \\r\\n            </tile-dynamic>\\r\\n          \\r\\n        </tiles-carousel-responsive-item>\\r\\n      \\r\\n        <tiles-carousel-responsive-item slot=\"tile\">\\r\\n          \\r\\n            \\r\\n            <tile-dynamic isvideo data-qa=\"tile\">\\r\\n              <img\\r\\n                slot=\"image\"\\r\\n                loading=\"lazy\"\\r\\n                src=\"https://resizing.flixster.com/M34yKDaJFaEss3V9A0qibNdgcRQ=/ems.cHJkLWVtcy1hc3NldHMvbW92aWVzL2MzMDVlYmZmLTlmNDUtNDU2Yy1iNmQ5LTYxMWFiNDMxNDc2Mi5qcGc=\"\\r\\n                alt=\"Living poster\"\\r\\n              />\\r\\n              \\r\\n                <button\\r\\n                  slot=\"imageAction\"\\r\\n                  \\r\\n                  class=\"transparent unset\"\\r\\n                  data-content-type=\"movie\"\\r\\n                  data-mpx-fwsite=\"\"\\r\\n                  data-title=\"Living\"\\r\\n                  data-video-id=\"\"\\r\\n                  data-video-list=\"rt-hp-poster-list-coming-soon\"\\r\\n                  data-track=\"poster\"\\r\\n                  data-position=\"18\"\\r\\n                  data-media-id=\"\"\\r\\n                  \\r\\n                    data-video-player-overlay-url=\"https://player.theplatform.com/p/NGweTC/pdk6_y__7B0iQTi4P/embed/select/media/42DyQ1NlQ0kA\"\\r\\n                    data-video-player-overlay-media-url=\"/m/living_2022\"\\r\\n                  \\r\\n                  aria-label=\"Play Living trailer\"\\r\\n                >\\r\\n                  <span class=\"sr-only\">Living</span>\\r\\n                </button>\\r\\n                \\r\\n                <a slot=\"caption\" href=\"/m/living_2022\" data-track=\"scores\">\\r\\n              \\r\\n                <score-pairs\\r\\n                  audiencesentiment=\"hide\"\\r\\n                  audiencescore=\"hide\"\\r\\n                  criticssentiment=\"positive\"\\r\\n                  criticsscore=\"94\"\\r\\n                  criticscertified=\"criticscertified\"\\r\\n                >\\r\\n                </score-pairs>\\r\\n                <span class=\"p--small\">Living</span>\\r\\n              \\r\\n                </a>\\r\\n              \\r\\n            </tile-dynamic>\\r\\n          \\r\\n        </tiles-carousel-responsive-item>\\r\\n      \\r\\n        <tiles-carousel-responsive-item slot=\"tile\">\\r\\n          \\r\\n            \\r\\n            <tile-dynamic isvideo data-qa=\"tile\">\\r\\n              <img\\r\\n                slot=\"image\"\\r\\n                loading=\"lazy\"\\r\\n                src=\"https://resizing.flixster.com/zHNGBsas3_aRsBnBAlLRdxdg3lA=/ems.cHJkLWVtcy1hc3NldHMvbW92aWVzL2JlNTZkMzljLTQ2ZDctNGQ2Yy04ZGNlLWU4ZTNjNGZkZmQxNi5qcGc=\"\\r\\n                alt=\"Empire of Light poster\"\\r\\n              />\\r\\n              \\r\\n                <button\\r\\n                  slot=\"imageAction\"\\r\\n                  \\r\\n                  class=\"transparent unset\"\\r\\n                  data-content-type=\"movie\"\\r\\n                  data-mpx-fwsite=\"\"\\r\\n                  data-title=\"Empire of Light\"\\r\\n                  data-video-id=\"\"\\r\\n                  data-video-list=\"rt-hp-poster-list-coming-soon\"\\r\\n                  data-track=\"poster\"\\r\\n                  data-position=\"19\"\\r\\n                  data-media-id=\"\"\\r\\n                  \\r\\n                    data-video-player-overlay-url=\"https://player.theplatform.com/p/NGweTC/pdk6_y__7B0iQTi4P/embed/select/media/4986kKDJnuOd\"\\r\\n                    data-video-player-overlay-media-url=\"/m/empire_of_light\"\\r\\n                  \\r\\n                  aria-label=\"Play Empire of Light trailer\"\\r\\n                >\\r\\n                  <span class=\"sr-only\">Empire of Light</span>\\r\\n                </button>\\r\\n                \\r\\n                <a slot=\"caption\" href=\"/m/empire_of_light\" data-track=\"scores\">\\r\\n              \\r\\n                <score-pairs\\r\\n                  audiencesentiment=\"hide\"\\r\\n                  audiencescore=\"hide\"\\r\\n                  criticssentiment=\"negative\"\\r\\n                  criticsscore=\"45\"\\r\\n                  criticscertified=\"false\"\\r\\n                >\\r\\n                </score-pairs>\\r\\n                <span class=\"p--small\">Empire of Light</span>\\r\\n              \\r\\n                </a>\\r\\n              \\r\\n            </tile-dynamic>\\r\\n          \\r\\n        </tiles-carousel-responsive-item>\\r\\n      \\r\\n        <tiles-carousel-responsive-item slot=\"tile\">\\r\\n          \\r\\n            \\r\\n            <tile-dynamic isvideo data-qa=\"tile\">\\r\\n              <img\\r\\n                slot=\"image\"\\r\\n                loading=\"lazy\"\\r\\n                src=\"https://resizing.flixster.com/t-5hlOXsc8bPO9RuAOKgb7xf8qo=/ems.cHJkLWVtcy1hc3NldHMvbW92aWVzL2NhMWE0YWNlLTY1YmUtNDg1Yi1iZGZjLWU4OTliMGVlMTUzZC5qcGc=\"\\r\\n                alt=\"The Pale Blue Eye poster\"\\r\\n              />\\r\\n              \\r\\n                <button\\r\\n                  slot=\"imageAction\"\\r\\n                  \\r\\n                  class=\"transparent unset\"\\r\\n                  data-content-type=\"movie\"\\r\\n                  data-mpx-fwsite=\"\"\\r\\n                  data-title=\"The Pale Blue Eye\"\\r\\n                  data-video-id=\"\"\\r\\n                  data-video-list=\"rt-hp-poster-list-coming-soon\"\\r\\n                  data-track=\"poster\"\\r\\n                  data-position=\"20\"\\r\\n                  data-media-id=\"\"\\r\\n                  \\r\\n                    data-video-player-overlay-url=\"https://player.theplatform.com/p/NGweTC/pdk6_y__7B0iQTi4P/embed/select/media/EFJYUbO0pAOg\"\\r\\n                    data-video-player-overlay-media-url=\"/m/the_pale_blue_eye\"\\r\\n                  \\r\\n                  aria-label=\"Play The Pale Blue Eye trailer\"\\r\\n                >\\r\\n                  <span class=\"sr-only\">The Pale Blue Eye</span>\\r\\n                </button>\\r\\n                \\r\\n                <a slot=\"caption\" href=\"/m/the_pale_blue_eye\" data-track=\"scores\">\\r\\n              \\r\\n                <score-pairs\\r\\n                  audiencesentiment=\"hide\"\\r\\n                  audiencescore=\"hide\"\\r\\n                  criticssentiment=\"positive\"\\r\\n                  criticsscore=\"64\"\\r\\n                  criticscertified=\"false\"\\r\\n                >\\r\\n                </score-pairs>\\r\\n                <span class=\"p--small\">The Pale Blue Eye</span>\\r\\n              \\r\\n                </a>\\r\\n              \\r\\n            </tile-dynamic>\\r\\n          \\r\\n        </tiles-carousel-responsive-item>\\r\\n      \\r\\n\\r\\n      <button slot=\"scroll-right\">\\r\\n        <rt-icon slot=\"icon-arrow-right\" image icon=\"right-chevron\"></rt-icon>\\r\\n      </button>\\r\\n      \\r\\n    </tiles-carousel-responsive>\\r\\n  </section>\\r\\n\\n</div>\\n\\r\\n\\r\\n        \\r\\n            \\n\\r\\n        \\r\\n    \\r\\n        <div class=\"layout media-lists\">\\n\\n  <div class=\"layout__column layout__column--main\">\\n    \\n      \\n\\n      <div class=\"js-scores-list js-scores-advertorial ordered-layout__list ordered-layout__list--score\" data-ad=\"featuredMedia\" hidden></div>\\n    \\n    <div class=\"js-scores-lists-wrapper ordered-layout__scores-wrap\">\\n\\n      \\n      \\n\\n      \\n      <div\\n        class=\"js-scores-list ordered-layout__list ordered-layout__list--score\"\\n        data-curation=\"rt-hp-text-list-popular-streaming-movies\">\\n\\n        \\r\\n  \\r\\n  \\n    <section class=\"dynamic-text-list \">\\n        <text-list>\\n            <h2 slot=\"header\">Popular Streaming Movies</h2>\\n            \\n                <a slot=\"view-all\" href=\"https://www.rottentomatoes.com/browse/top-dvd-streaming/\" class=\"dynamic-text-list__see-all-link a--short\" hidden>View all</a>\\n            \\n            \\n            \\n            <ul slot=\"list-items\">\\n                \\n                    <li>\\n                        <a href=\"/m/the_menu\">\\n                            <span class=\"dynamic-text-list__item-title clamp clamp-1\">The Menu</span>\\n                        </a>\\n                        <a href=\"/m/the_menu\" class=\"dynamic-text-list__tomatometer-group\">\\n                            <span slot=\"tomatometer-icon\" class=\"icon icon--tiny icon__certified-fresh\"></span>\\n                            <span slot=\"tomatometer-value\" class=\"b--medium \">\\n                                \\n                                    89%\\n                                \\n                            </span>\\n                        </a>\\n                    </li>\\n                \\n                    <li>\\n                        <a href=\"/m/puss_in_boots_the_last_wish\">\\n                            <span class=\"dynamic-text-list__item-title clamp clamp-1\">Puss in Boots: The Last Wish</span>\\n                        </a>\\n                        <a href=\"/m/puss_in_boots_the_last_wish\" class=\"dynamic-text-list__tomatometer-group\">\\n                            <span slot=\"tomatometer-icon\" class=\"icon icon--tiny icon__certified-fresh\"></span>\\n                            <span slot=\"tomatometer-value\" class=\"b--medium \">\\n                                \\n                                    96%\\n                                \\n                            </span>\\n                        </a>\\n                    </li>\\n                \\n                    <li>\\n                        <a href=\"/m/the_pale_blue_eye\">\\n                            <span class=\"dynamic-text-list__item-title clamp clamp-1\">The Pale Blue Eye</span>\\n                        </a>\\n                        <a href=\"/m/the_pale_blue_eye\" class=\"dynamic-text-list__tomatometer-group\">\\n                            <span slot=\"tomatometer-icon\" class=\"icon icon--tiny icon__fresh\"></span>\\n                            <span slot=\"tomatometer-value\" class=\"b--medium \">\\n                                \\n                                    64%\\n                                \\n                            </span>\\n                        </a>\\n                    </li>\\n                \\n                    <li>\\n                        <a href=\"/m/the_banshees_of_inisherin\">\\n                            <span class=\"dynamic-text-list__item-title clamp clamp-1\">The Banshees of Inisherin</span>\\n                        </a>\\n                        <a href=\"/m/the_banshees_of_inisherin\" class=\"dynamic-text-list__tomatometer-group\">\\n                            <span slot=\"tomatometer-icon\" class=\"icon icon--tiny icon__certified-fresh\"></span>\\n                            <span slot=\"tomatometer-value\" class=\"b--medium \">\\n                                \\n                                    97%\\n                                \\n                            </span>\\n                        </a>\\n                    </li>\\n                \\n                    <li>\\n                        <a href=\"/m/the_fabelmans\">\\n                            <span class=\"dynamic-text-list__item-title clamp clamp-1\">The Fabelmans</span>\\n                        </a>\\n                        <a href=\"/m/the_fabelmans\" class=\"dynamic-text-list__tomatometer-group\">\\n                            <span slot=\"tomatometer-icon\" class=\"icon icon--tiny icon__certified-fresh\"></span>\\n                            <span slot=\"tomatometer-value\" class=\"b--medium \">\\n                                \\n                                    92%\\n                                \\n                            </span>\\n                        </a>\\n                    </li>\\n                \\n                    <li>\\n                        <a href=\"/m/everything_everywhere_all_at_once\">\\n                            <span class=\"dynamic-text-list__item-title clamp clamp-1\">Everything Everywhere All at Once</span>\\n                        </a>\\n                        <a href=\"/m/everything_everywhere_all_at_once\" class=\"dynamic-text-list__tomatometer-group\">\\n                            <span slot=\"tomatometer-icon\" class=\"icon icon--tiny icon__certified-fresh\"></span>\\n                            <span slot=\"tomatometer-value\" class=\"b--medium \">\\n                                \\n                                    95%\\n                                \\n                            </span>\\n                        </a>\\n                    </li>\\n                \\n                    <li>\\n                        <a href=\"/m/glass_onion_a_knives_out_mystery\">\\n                            <span class=\"dynamic-text-list__item-title clamp clamp-1\">Glass Onion: A Knives Out Mystery</span>\\n                        </a>\\n                        <a href=\"/m/glass_onion_a_knives_out_mystery\" class=\"dynamic-text-list__tomatometer-group\">\\n                            <span slot=\"tomatometer-icon\" class=\"icon icon--tiny icon__certified-fresh\"></span>\\n                            <span slot=\"tomatometer-value\" class=\"b--medium \">\\n                                \\n                                    92%\\n                                \\n                            </span>\\n                        </a>\\n                    </li>\\n                \\n                    <li>\\n                        <a href=\"/m/mars_one\">\\n                            <span class=\"dynamic-text-list__item-title clamp clamp-1\">Mars One</span>\\n                        </a>\\n                        <a href=\"/m/mars_one\" class=\"dynamic-text-list__tomatometer-group\">\\n                            <span slot=\"tomatometer-icon\" class=\"icon icon--tiny icon__fresh\"></span>\\n                            <span slot=\"tomatometer-value\" class=\"b--medium \">\\n                                \\n                                    97%\\n                                \\n                            </span>\\n                        </a>\\n                    </li>\\n                \\n                    <li>\\n                        <a href=\"/m/the_hatchet_wielding_hitchhiker\">\\n                            <span class=\"dynamic-text-list__item-title clamp clamp-1\">The Hatchet Wielding Hitchhiker</span>\\n                        </a>\\n                        <a href=\"/m/the_hatchet_wielding_hitchhiker\" class=\"dynamic-text-list__tomatometer-group\">\\n                            <span slot=\"tomatometer-icon\" class=\"icon icon--tiny icon__tomatometer-empty\"></span>\\n                            <span slot=\"tomatometer-value\" class=\"b--medium dynamic-text-list__no-score\">\\n                                \\n                                    - -\\n                                \\n                            </span>\\n                        </a>\\n                    </li>\\n                \\n                    <li>\\n                        <a href=\"/m/devotion_2022\">\\n                            <span class=\"dynamic-text-list__item-title clamp clamp-1\">Devotion</span>\\n                        </a>\\n                        <a href=\"/m/devotion_2022\" class=\"dynamic-text-list__tomatometer-group\">\\n                            <span slot=\"tomatometer-icon\" class=\"icon icon--tiny icon__certified-fresh\"></span>\\n                            <span slot=\"tomatometer-value\" class=\"b--medium \">\\n                                \\n                                    81%\\n                                \\n                            </span>\\n                        </a>\\n                    </li>\\n                \\n            </ul>\\n        </text-list>\\n    </section>\\n\\n\\r\\n\\n\\n        \\n          \\r\\n\\r\\n  \\r\\n  \\n    \\n    \\n    \\n        \\n    \\n    <aside id=\"interscroller_ad\" class=\"interscroller_ad visible-xs center mobile-interscroller \" style=\"width:300px\"></aside>\\n    <script>\\n        var mps = mps || {};\\n        mps._queue = mps._queue || {};\\n        mps._queue.gptloaded = mps._queue.gptloaded || [];\\n        mps._queue.adload = mps._queue.adload || [];\\n\\n        mps._queue.gptloaded.push(function() {\\n            if (mps.getResponsiveSet() ==\\'0\\') { //MOBILE\\n                mps.insertAd(\\'#interscroller_ad\\',\\'interscroller\\');\\n            }\\n        });\\n        mps._queue.adload.push(function(eo) {\\n            if (eo._mps._slot === \\'interscroller\\' && eo.isEmpty) {\\n                document.querySelector(\\'.mobile-interscroller\\').classList.add(\\'isEmpty\\');\\n            }\\n        });\\n    </script>\\n\\n\\r\\n\\r\\n\\n        \\n\\n      </div>\\n      \\n      <div\\n        class=\"js-scores-list ordered-layout__list ordered-layout__list--score\"\\n        data-curation=\"rt-hp-text-list-most-popular-tv-on-rt\">\\n\\n        \\r\\n  \\r\\n  \\n    <section class=\"dynamic-text-list \">\\n        <text-list>\\n            <h2 slot=\"header\">Most Popular TV on RT </h2>\\n            \\n                <a slot=\"view-all\" href=\"https://www.rottentomatoes.com/browse/tv-list-2\" class=\"dynamic-text-list__see-all-link a--short\" hidden>View all</a>\\n            \\n            \\n            \\n                <div slot=\"streaming-links\" class=\"dynamic-text-list__streaming-links\">\\n                    <a id=\"vudu-affililate-link\" class=\"p--small\" href=\"/browse/dvd-streaming-all?services=vudu\">Vudu</a> |\\n                    <a id=\"netflix-affiliate-link\" class=\"p--small\" href=\"/browse/dvd-streaming-all?services=netflix_iw\">Netflix</a> |\\n                    <a id=\"amazon-affiliate-link\" class=\"p--small\" href=\"/browse/dvd-streaming-all?services=amazon_prime;amazon\">Amazon</a> |\\n                    <a id=\"hbo-affiliate-link\" class=\"p--small\" href=\"/browse/dvd-streaming-all?services=hbo_go\">HBO</a> |\\n                    <a id=\"all-affiliates-link\" class=\"p--small\" href=\"/browse/dvd-streaming-all\">More...</a>\\n                </div>\\n            \\n            <ul slot=\"list-items\">\\n                \\n                    <li>\\n                        <a href=\"/tv/the_last_of_us/s01\">\\n                            <span class=\"dynamic-text-list__item-title clamp clamp-1\">The Last of Us</span>\\n                        </a>\\n                        <a href=\"/tv/the_last_of_us/s01\" class=\"dynamic-text-list__tomatometer-group\">\\n                            <span slot=\"tomatometer-icon\" class=\"icon icon--tiny icon__certified-fresh\"></span>\\n                            <span slot=\"tomatometer-value\" class=\"b--medium \">\\n                                \\n                                    97%\\n                                \\n                            </span>\\n                        </a>\\n                    </li>\\n                \\n                    <li>\\n                        <a href=\"/tv/the_white_lotus/s02\">\\n                            <span class=\"dynamic-text-list__item-title clamp clamp-1\">The White Lotus</span>\\n                        </a>\\n                        <a href=\"/tv/the_white_lotus/s02\" class=\"dynamic-text-list__tomatometer-group\">\\n                            <span slot=\"tomatometer-icon\" class=\"icon icon--tiny icon__certified-fresh\"></span>\\n                            <span slot=\"tomatometer-value\" class=\"b--medium \">\\n                                \\n                                    94%\\n                                \\n                            </span>\\n                        </a>\\n                    </li>\\n                \\n                    <li>\\n                        <a href=\"/tv/will_trent/s01\">\\n                            <span class=\"dynamic-text-list__item-title clamp clamp-1\">Will Trent</span>\\n                        </a>\\n                        <a href=\"/tv/will_trent/s01\" class=\"dynamic-text-list__tomatometer-group\">\\n                            <span slot=\"tomatometer-icon\" class=\"icon icon--tiny icon__fresh\"></span>\\n                            <span slot=\"tomatometer-value\" class=\"b--medium \">\\n                                \\n                                    100%\\n                                \\n                            </span>\\n                        </a>\\n                    </li>\\n                \\n                    <li>\\n                        <a href=\"/tv/kaleidoscope/s01\">\\n                            <span class=\"dynamic-text-list__item-title clamp clamp-1\">Kaleidoscope</span>\\n                        </a>\\n                        <a href=\"/tv/kaleidoscope/s01\" class=\"dynamic-text-list__tomatometer-group\">\\n                            <span slot=\"tomatometer-icon\" class=\"icon icon--tiny icon__rotten\"></span>\\n                            <span slot=\"tomatometer-value\" class=\"b--medium \">\\n                                \\n                                    48%\\n                                \\n                            </span>\\n                        </a>\\n                    </li>\\n                \\n                    <li>\\n                        <a href=\"/tv/velma/s01\">\\n                            <span class=\"dynamic-text-list__item-title clamp clamp-1\">Velma</span>\\n                        </a>\\n                        <a href=\"/tv/velma/s01\" class=\"dynamic-text-list__tomatometer-group\">\\n                            <span slot=\"tomatometer-icon\" class=\"icon icon--tiny icon__rotten\"></span>\\n                            <span slot=\"tomatometer-value\" class=\"b--medium \">\\n                                \\n                                    50%\\n                                \\n                            </span>\\n                        </a>\\n                    </li>\\n                \\n                    <li>\\n                        <a href=\"/tv/willow/s01\">\\n                            <span class=\"dynamic-text-list__item-title clamp clamp-1\">Willow</span>\\n                        </a>\\n                        <a href=\"/tv/willow/s01\" class=\"dynamic-text-list__tomatometer-group\">\\n                            <span slot=\"tomatometer-icon\" class=\"icon icon--tiny icon__certified-fresh\"></span>\\n                            <span slot=\"tomatometer-value\" class=\"b--medium \">\\n                                \\n                                    85%\\n                                \\n                            </span>\\n                        </a>\\n                    </li>\\n                \\n                    <li>\\n                        <a href=\"/tv/servant/s04\">\\n                            <span class=\"dynamic-text-list__item-title clamp clamp-1\">Servant</span>\\n                        </a>\\n                        <a href=\"/tv/servant/s04\" class=\"dynamic-text-list__tomatometer-group\">\\n                            <span slot=\"tomatometer-icon\" class=\"icon icon--tiny icon__fresh\"></span>\\n                            <span slot=\"tomatometer-value\" class=\"b--medium \">\\n                                \\n                                    100%\\n                                \\n                            </span>\\n                        </a>\\n                    </li>\\n                \\n                    <li>\\n                        <a href=\"/tv/ginny_and_georgia/s02\">\\n                            <span class=\"dynamic-text-list__item-title clamp clamp-1\">Ginny &amp; Georgia</span>\\n                        </a>\\n                        <a href=\"/tv/ginny_and_georgia/s02\" class=\"dynamic-text-list__tomatometer-group\">\\n                            <span slot=\"tomatometer-icon\" class=\"icon icon--tiny icon__fresh\"></span>\\n                            <span slot=\"tomatometer-value\" class=\"b--medium \">\\n                                \\n                                    75%\\n                                \\n                            </span>\\n                        </a>\\n                    </li>\\n                \\n                    <li>\\n                        <a href=\"/tv/woman_of_the_dead/s01\">\\n                            <span class=\"dynamic-text-list__item-title clamp clamp-1\">Woman of the Dead</span>\\n                        </a>\\n                        <a href=\"/tv/woman_of_the_dead/s01\" class=\"dynamic-text-list__tomatometer-group\">\\n                            <span slot=\"tomatometer-icon\" class=\"icon icon--tiny icon__tomatometer-empty\"></span>\\n                            <span slot=\"tomatometer-value\" class=\"b--medium dynamic-text-list__no-score\">\\n                                \\n                                    - -\\n                                \\n                            </span>\\n                        </a>\\n                    </li>\\n                \\n                    <li>\\n                        <a href=\"/tv/the_rig/s01\">\\n                            <span class=\"dynamic-text-list__item-title clamp clamp-1\">The Rig</span>\\n                        </a>\\n                        <a href=\"/tv/the_rig/s01\" class=\"dynamic-text-list__tomatometer-group\">\\n                            <span slot=\"tomatometer-icon\" class=\"icon icon--tiny icon__fresh\"></span>\\n                            <span slot=\"tomatometer-value\" class=\"b--medium \">\\n                                \\n                                    64%\\n                                \\n                            </span>\\n                        </a>\\n                    </li>\\n                \\n            </ul>\\n        </text-list>\\n    </section>\\n\\n\\r\\n\\n\\n        \\n          \\r\\n\\r\\n  \\r\\n  \\r\\n  \\n    \\n        \\n    \\n    \\n    \\n    <div id=\"sharethrough_bottom_ad\"></div>\\n    <script>\\n        var mps = mps||{}; mps._queue = mps._queue||{}; mps._queue.gptloaded = mps._queue.gptloaded||[];\\n        mps._queue.gptloaded.push(function () {\\n            if (mps.getResponsiveSet() == \\'0\\') { //MOBILE\\n                mps.insertAd(\\'#sharethrough_bottom_ad\\',\\'sharethrough\\',\\'strnativekey=kNF58ebeAUneyUk61UVo2yLu;pos=bottom;\\');\\n            }\\n        });\\n    </script>\\n\\n\\r\\n\\r\\n\\n        \\n\\n      </div>\\n      \\n      <div\\n        class=\"js-scores-list ordered-layout__list ordered-layout__list--score\"\\n        data-curation=\"rt-hp-text-list-new-tv-this-week\">\\n\\n        \\r\\n  \\r\\n  \\n    <section class=\"dynamic-text-list \">\\n        <text-list>\\n            <h2 slot=\"header\">New TV This Week</h2>\\n            \\n                <a slot=\"view-all\" href=\"https://www.rottentomatoes.com/browse/tv-list-1/\" class=\"dynamic-text-list__see-all-link a--short\" hidden>What&#39;s On Tonight</a>\\n            \\n            \\n            \\n            <ul slot=\"list-items\">\\n                \\n                    <li>\\n                        <a href=\"/tv/vikings_valhalla/s02\">\\n                            <span class=\"dynamic-text-list__item-title clamp clamp-1\">Vikings: Valhalla</span>\\n                        </a>\\n                        <a href=\"/tv/vikings_valhalla/s02\" class=\"dynamic-text-list__tomatometer-group\">\\n                            <span slot=\"tomatometer-icon\" class=\"icon icon--tiny icon__tomatometer-empty\"></span>\\n                            <span slot=\"tomatometer-value\" class=\"b--medium dynamic-text-list__no-score\">\\n                                \\n                                    - -\\n                                \\n                            </span>\\n                        </a>\\n                    </li>\\n                \\n                    <li>\\n                        <a href=\"/tv/hunters-2020/s02\">\\n                            <span class=\"dynamic-text-list__item-title clamp clamp-1\">Hunters</span>\\n                        </a>\\n                        <a href=\"/tv/hunters-2020/s02\" class=\"dynamic-text-list__tomatometer-group\">\\n                            <span slot=\"tomatometer-icon\" class=\"icon icon--tiny icon__fresh\"></span>\\n                            <span slot=\"tomatometer-value\" class=\"b--medium \">\\n                                \\n                                    60%\\n                                \\n                            </span>\\n                        </a>\\n                    </li>\\n                \\n                    <li>\\n                        <a href=\"/tv/servant/s04\">\\n                            <span class=\"dynamic-text-list__item-title clamp clamp-1\">Servant</span>\\n                        </a>\\n                        <a href=\"/tv/servant/s04\" class=\"dynamic-text-list__tomatometer-group\">\\n                            <span slot=\"tomatometer-icon\" class=\"icon icon--tiny icon__fresh\"></span>\\n                            <span slot=\"tomatometer-value\" class=\"b--medium \">\\n                                \\n                                    100%\\n                                \\n                            </span>\\n                        </a>\\n                    </li>\\n                \\n                    <li>\\n                        <a href=\"/tv/mayfair_witches/s01\">\\n                            <span class=\"dynamic-text-list__item-title clamp clamp-1\">Mayfair Witches</span>\\n                        </a>\\n                        <a href=\"/tv/mayfair_witches/s01\" class=\"dynamic-text-list__tomatometer-group\">\\n                            <span slot=\"tomatometer-icon\" class=\"icon icon--tiny icon__rotten\"></span>\\n                            <span slot=\"tomatometer-value\" class=\"b--medium \">\\n                                \\n                                    42%\\n                                \\n                            </span>\\n                        </a>\\n                    </li>\\n                \\n                    <li>\\n                        <a href=\"/tv/your_honor_2020/s02\">\\n                            <span class=\"dynamic-text-list__item-title clamp clamp-1\">Your Honor</span>\\n                        </a>\\n                        <a href=\"/tv/your_honor_2020/s02\" class=\"dynamic-text-list__tomatometer-group\">\\n                            <span slot=\"tomatometer-icon\" class=\"icon icon--tiny icon__tomatometer-empty\"></span>\\n                            <span slot=\"tomatometer-value\" class=\"b--medium dynamic-text-list__no-score\">\\n                                \\n                                    - -\\n                                \\n                            </span>\\n                        </a>\\n                    </li>\\n                \\n                    <li>\\n                        <a href=\"/tv/all_creatures_great_and_small/s03\">\\n                            <span class=\"dynamic-text-list__item-title clamp clamp-1\">All Creatures Great and Small</span>\\n                        </a>\\n                        <a href=\"/tv/all_creatures_great_and_small/s03\" class=\"dynamic-text-list__tomatometer-group\">\\n                            <span slot=\"tomatometer-icon\" class=\"icon icon--tiny icon__tomatometer-empty\"></span>\\n                            <span slot=\"tomatometer-value\" class=\"b--medium dynamic-text-list__no-score\">\\n                                \\n                                    - -\\n                                \\n                            </span>\\n                        </a>\\n                    </li>\\n                \\n                    <li>\\n                        <a href=\"/tv/miss_scarlet_and_the_duke/s03\">\\n                            <span class=\"dynamic-text-list__item-title clamp clamp-1\">Miss Scarlet and the Duke</span>\\n                        </a>\\n                        <a href=\"/tv/miss_scarlet_and_the_duke/s03\" class=\"dynamic-text-list__tomatometer-group\">\\n                            <span slot=\"tomatometer-icon\" class=\"icon icon--tiny icon__tomatometer-empty\"></span>\\n                            <span slot=\"tomatometer-value\" class=\"b--medium dynamic-text-list__no-score\">\\n                                \\n                                    - -\\n                                \\n                            </span>\\n                        </a>\\n                    </li>\\n                \\n                    <li>\\n                        <a href=\"/tv/vienna_blood/s03\">\\n                            <span class=\"dynamic-text-list__item-title clamp clamp-1\">Vienna Blood</span>\\n                        </a>\\n                        <a href=\"/tv/vienna_blood/s03\" class=\"dynamic-text-list__tomatometer-group\">\\n                            <span slot=\"tomatometer-icon\" class=\"icon icon--tiny icon__tomatometer-empty\"></span>\\n                            <span slot=\"tomatometer-value\" class=\"b--medium dynamic-text-list__no-score\">\\n                                \\n                                    - -\\n                                \\n                            </span>\\n                        </a>\\n                    </li>\\n                \\n                    <li>\\n                        <a href=\"/tv/velma/s01\">\\n                            <span class=\"dynamic-text-list__item-title clamp clamp-1\">Velma</span>\\n                        </a>\\n                        <a href=\"/tv/velma/s01\" class=\"dynamic-text-list__tomatometer-group\">\\n                            <span slot=\"tomatometer-icon\" class=\"icon icon--tiny icon__rotten\"></span>\\n                            <span slot=\"tomatometer-value\" class=\"b--medium \">\\n                                \\n                                    50%\\n                                \\n                            </span>\\n                        </a>\\n                    </li>\\n                \\n                    <li>\\n                        <a href=\"/tv/koala_man/s01\">\\n                            <span class=\"dynamic-text-list__item-title clamp clamp-1\">Koala Man</span>\\n                        </a>\\n                        <a href=\"/tv/koala_man/s01\" class=\"dynamic-text-list__tomatometer-group\">\\n                            <span slot=\"tomatometer-icon\" class=\"icon icon--tiny icon__fresh\"></span>\\n                            <span slot=\"tomatometer-value\" class=\"b--medium \">\\n                                \\n                                    60%\\n                                \\n                            </span>\\n                        </a>\\n                    </li>\\n                \\n                    <li>\\n                        <a href=\"/tv/the_climb_2022/s01\">\\n                            <span class=\"dynamic-text-list__item-title clamp clamp-1\">The Climb</span>\\n                        </a>\\n                        <a href=\"/tv/the_climb_2022/s01\" class=\"dynamic-text-list__tomatometer-group\">\\n                            <span slot=\"tomatometer-icon\" class=\"icon icon--tiny icon__tomatometer-empty\"></span>\\n                            <span slot=\"tomatometer-value\" class=\"b--medium dynamic-text-list__no-score\">\\n                                \\n                                    - -\\n                                \\n                            </span>\\n                        </a>\\n                    </li>\\n                \\n            </ul>\\n        </text-list>\\n    </section>\\n\\n\\r\\n\\n\\n        \\n          \\r\\n\\r\\n  \\r\\n  \\n    \\n    \\n    \\n        \\n    \\n    <aside id=\"medrec_mobileTBO_ad\" class=\"medrec_ad visible-xs center mobile-medrec\" style=\"width:300px\"></aside>\\n        \\n        \\n        \\n            <script>\\n                var mps = mps||{}; mps._queue = mps._queue||{}; mps._queue.gptloaded = mps._queue.gptloaded||[];\\n                mps._queue.gptloaded.push(function () {\\n                    if (mps.getResponsiveSet() == \\'0\\') { //MOBILE\\n                        mps.insertAd(\\'#medrec_mobileTBO_ad\\',\\'mboxadone\\');\\n                    }\\n                });\\n            </script>\\n        \\n        \\n\\n\\r\\n  \\r\\n\\n        \\n\\n      </div>\\n      \\n    </div>\\n\\n    <div class=\"layout__column layout__column--sidebar\">\\n      \\n    \\n    \\n    \\n        \\n    \\n    <div id=\"sponsored_media_hp_one_ad\" style=\"display:none;\"></div>\\n    <script>\\n        var mps = mps||{}; mps._queue = mps._queue||{}; mps._queue.gptloaded = mps._queue.gptloaded||[];\\n        mps._queue.gptloaded.push(function () {\\n            mps.insertAd(\\'#sponsored_media_hp_one_ad\\',\\'featuredmediaone\\');\\n        });\\n    </script>\\n\\n    <div id=\"sponsored_media_hp_two_ad\" style=\"display:none;\"></div>\\n    <script>\\n        var mps = mps||{}; mps._queue = mps._queue||{}; mps._queue.gptloaded = mps._queue.gptloaded||[];\\n        mps._queue.gptloaded.push(function () {\\n            mps.insertAd(\\'#sponsored_media_hp_two_ad\\',\\'featuredmediatwo\\');\\n        });\\n    </script>\\n\\n\\n    </div>\\n\\n  </div>\\n\\n  <aside class=\"adColumn col-sm-7 hidden-xs\">\\n    \\n      \\n      \\n      \\n      \\n      <div class=\"adColumn__content\">\\n          \\n    \\n    \\n    \\n    <aside id=\"medrec_top_ad\" class=\"medrec_ad \" style=\"width:300px\"></aside>\\n        \\n        \\n            <script>\\n                var mps = mps||{}; mps._queue = mps._queue||{}; mps._queue.gptloaded = mps._queue.gptloaded||[];\\n                mps._queue.gptloaded.push(function () {\\n                    if (mps.getResponsiveSet() != \\'0\\') { //DESKTOP or TABLET\\n                        mps.insertAd(\\'#medrec_top_ad\\',\\'topmulti\\');\\n                    }\\n                });\\n\\n                // check for presence of ad via iframe height\\n                var observer = new MutationObserver((mutationList, observer) => {\\n                    for (var mutation of mutationList) {\\n                        if (mutation.type === \\'childList\\') {\\n                            var elAdIframe = mutation.target.querySelector(\\'iframe\\');\\n                            if (Boolean(elAdIframe)) {\\n                                if (Number(elAdIframe.height) > 1) {\\n                                    var elAdvertiseWithUsLink = document.querySelector(\\'#medrec_top_ad ~ .advertise-with-us-link\\');\\n                                    elAdvertiseWithUsLink.classList.remove(\\'hide\\');\\n                                    observer.disconnect();\\n                                }\\n                            }\\n                        }\\n                    }\\n                });\\n\\n                var targetNode = document.getElementById(\\'medrec_top_ad\\');\\n                var config = { attributes: true, childList: true, subtree: true };\\n                observer.observe(targetNode, config);\\n            </script>\\n\\n            \\n            <a href=\"https://together.nbcuni.com/advertise/?utm_source=rotten_tomatoes&amp;utm_medium=referral&amp;utm_campaign=property_ad_pages&amp;utm_content=header&amp;utm_content=header\" target=\"_blank\" data-qa=\"header:link-ads\" class=\"advertise-with-us-link hide\">Advertise With Us</a>\\n        \\n        \\n        \\n\\n\\n      </div>\\n      <div id=\"native_ad_slot\"></div>\\n    \\n  </aside>\\n\\n</div>\\n\\r\\n\\r\\n        \\r\\n    \\r\\n        <div class=\"ordered-layout__list ordered-layout__list--carousel\" data-curation=\"rt-hp-poster-list-popular-in-theaters\">\\n  \\n  \\r\\n  <section class=\"dynamic-poster-list\" data-qa=\"dynamic-poster-list\">\\r\\n    <div class=\"dynamic-poster-list__header-container\">\\r\\n      <div>\\r\\n        \\r\\n          <h2 data-qa=\"title\">Popular In Theaters</h2>\\r\\n        \\r\\n\\r\\n        \\r\\n          <a href=\"https://www.rottentomatoes.com/browse/movies_in_theaters/sort:popular?page=1\" class=\"a--short\" data-track=\"showmore\">View All</a>\\r\\n        \\r\\n      </div>\\r\\n\\r\\n      \\r\\n        <h3 class=\"p\">Availability may vary, check your <a href=\"https://www.fandango.com/movies-in-theaters\">local showtimes</a> for details.</h3>\\r\\n      \\r\\n    </div>\\r\\n    \\r\\n    \\r\\n\\r\\n    <tiles-carousel-responsive skeleton=\"panel\">\\r\\n\\r\\n      <button slot=\"scroll-left\">\\r\\n        <rt-icon slot=\"icon-arrow-left\" image icon=\"left-chevron\"></rt-icon>\\r\\n      </button>\\r\\n\\r\\n      \\r\\n        <tiles-carousel-responsive-item slot=\"tile\">\\r\\n          \\r\\n            \\r\\n            <tile-dynamic isvideo data-qa=\"tile\">\\r\\n              <img\\r\\n                slot=\"image\"\\r\\n                loading=\"lazy\"\\r\\n                src=\"https://resizing.flixster.com/gWWM2Ov0VLAuazwELZCVc9grUQI=/ems.cHJkLWVtcy1hc3NldHMvbW92aWVzLzgyMGM0ZDJiLWNmYjAtNGI3NS1hYTgzLTQ5YmU2ZjQwZWE0ZC5qcGc=\"\\r\\n                alt=\"Avatar: The Way of Water poster\"\\r\\n              />\\r\\n              \\r\\n                <button\\r\\n                  slot=\"imageAction\"\\r\\n                  \\r\\n                  class=\"transparent unset\"\\r\\n                  data-content-type=\"movie\"\\r\\n                  data-mpx-fwsite=\"\"\\r\\n                  data-title=\"Avatar: The Way of Water\"\\r\\n                  data-video-id=\"\"\\r\\n                  data-video-list=\"rt-hp-poster-list-popular-in-theaters\"\\r\\n                  data-track=\"poster\"\\r\\n                  data-position=\"1\"\\r\\n                  data-media-id=\"\"\\r\\n                  \\r\\n                    data-video-player-overlay-url=\"https://player.theplatform.com/p/NGweTC/pdk6_y__7B0iQTi4P/embed/select/media/knCBWVtdpB_y\"\\r\\n                    data-video-player-overlay-media-url=\"/m/avatar_the_way_of_water\"\\r\\n                  \\r\\n                  aria-label=\"Play Avatar: The Way of Water trailer\"\\r\\n                >\\r\\n                  <span class=\"sr-only\">Avatar: The Way of Water</span>\\r\\n                </button>\\r\\n                \\r\\n                <a slot=\"caption\" href=\"/m/avatar_the_way_of_water\" data-track=\"scores\">\\r\\n              \\r\\n                <score-pairs\\r\\n                  audiencesentiment=\"hide\"\\r\\n                  audiencescore=\"hide\"\\r\\n                  criticssentiment=\"positive\"\\r\\n                  criticsscore=\"77\"\\r\\n                  criticscertified=\"criticscertified\"\\r\\n                >\\r\\n                </score-pairs>\\r\\n                <span class=\"p--small\">Avatar: The Way of Water</span>\\r\\n              \\r\\n                </a>\\r\\n              \\r\\n            </tile-dynamic>\\r\\n          \\r\\n        </tiles-carousel-responsive-item>\\r\\n      \\r\\n        <tiles-carousel-responsive-item slot=\"tile\">\\r\\n          \\r\\n            \\r\\n            <tile-dynamic isvideo data-qa=\"tile\">\\r\\n              <img\\r\\n                slot=\"image\"\\r\\n                loading=\"lazy\"\\r\\n                src=\"https://resizing.flixster.com/rPJASTXFjLpmiVTi3D6RGcq-skM=/ems.cHJkLWVtcy1hc3NldHMvbW92aWVzLzhjYjA0ODBiLTNlNmUtNDlhOS05ZWRlLThlOGQ2MmEyZjlmYS5qcGc=\"\\r\\n                alt=\"M3GAN poster\"\\r\\n              />\\r\\n              \\r\\n                <button\\r\\n                  slot=\"imageAction\"\\r\\n                  \\r\\n                  class=\"transparent unset\"\\r\\n                  data-content-type=\"movie\"\\r\\n                  data-mpx-fwsite=\"\"\\r\\n                  data-title=\"M3GAN\"\\r\\n                  data-video-id=\"\"\\r\\n                  data-video-list=\"rt-hp-poster-list-popular-in-theaters\"\\r\\n                  data-track=\"poster\"\\r\\n                  data-position=\"2\"\\r\\n                  data-media-id=\"\"\\r\\n                  \\r\\n                    data-video-player-overlay-url=\"https://player.theplatform.com/p/NGweTC/pdk6_y__7B0iQTi4P/embed/select/media/ylRnxYtCODKE\"\\r\\n                    data-video-player-overlay-media-url=\"/m/m3gan\"\\r\\n                  \\r\\n                  aria-label=\"Play M3GAN trailer\"\\r\\n                >\\r\\n                  <span class=\"sr-only\">M3GAN</span>\\r\\n                </button>\\r\\n                \\r\\n                <a slot=\"caption\" href=\"/m/m3gan\" data-track=\"scores\">\\r\\n              \\r\\n                <score-pairs\\r\\n                  audiencesentiment=\"hide\"\\r\\n                  audiencescore=\"hide\"\\r\\n                  criticssentiment=\"positive\"\\r\\n                  criticsscore=\"95\"\\r\\n                  criticscertified=\"criticscertified\"\\r\\n                >\\r\\n                </score-pairs>\\r\\n                <span class=\"p--small\">M3GAN</span>\\r\\n              \\r\\n                </a>\\r\\n              \\r\\n            </tile-dynamic>\\r\\n          \\r\\n        </tiles-carousel-responsive-item>\\r\\n      \\r\\n        <tiles-carousel-responsive-item slot=\"tile\">\\r\\n          \\r\\n            \\r\\n            <tile-dynamic isvideo data-qa=\"tile\">\\r\\n              <img\\r\\n                slot=\"image\"\\r\\n                loading=\"lazy\"\\r\\n                src=\"https://resizing.flixster.com/vtIcjOYiM-QBXQyXhTFFgQoRkDw=/ems.cHJkLWVtcy1hc3NldHMvbW92aWVzL2JmNjM3ZTc2LTk5ZmMtNGJhNy04MDAzLWI3M2IxNmExNDNkYi5qcGc=\"\\r\\n                alt=\"Puss in Boots: The Last Wish poster\"\\r\\n              />\\r\\n              \\r\\n                <button\\r\\n                  slot=\"imageAction\"\\r\\n                  \\r\\n                  class=\"transparent unset\"\\r\\n                  data-content-type=\"movie\"\\r\\n                  data-mpx-fwsite=\"\"\\r\\n                  data-title=\"Puss in Boots: The Last Wish\"\\r\\n                  data-video-id=\"\"\\r\\n                  data-video-list=\"rt-hp-poster-list-popular-in-theaters\"\\r\\n                  data-track=\"poster\"\\r\\n                  data-position=\"3\"\\r\\n                  data-media-id=\"\"\\r\\n                  \\r\\n                    data-video-player-overlay-url=\"https://player.theplatform.com/p/NGweTC/pdk6_y__7B0iQTi4P/embed/select/media/G3eStXA54JGr\"\\r\\n                    data-video-player-overlay-media-url=\"/m/puss_in_boots_the_last_wish\"\\r\\n                  \\r\\n                  aria-label=\"Play Puss in Boots: The Last Wish trailer\"\\r\\n                >\\r\\n                  <span class=\"sr-only\">Puss in Boots: The Last Wish</span>\\r\\n                </button>\\r\\n                \\r\\n                <a slot=\"caption\" href=\"/m/puss_in_boots_the_last_wish\" data-track=\"scores\">\\r\\n              \\r\\n                <score-pairs\\r\\n                  audiencesentiment=\"hide\"\\r\\n                  audiencescore=\"hide\"\\r\\n                  criticssentiment=\"positive\"\\r\\n                  criticsscore=\"96\"\\r\\n                  criticscertified=\"criticscertified\"\\r\\n                >\\r\\n                </score-pairs>\\r\\n                <span class=\"p--small\">Puss in Boots: The Last Wish</span>\\r\\n              \\r\\n                </a>\\r\\n              \\r\\n            </tile-dynamic>\\r\\n          \\r\\n        </tiles-carousel-responsive-item>\\r\\n      \\r\\n        <tiles-carousel-responsive-item slot=\"tile\">\\r\\n          \\r\\n            \\r\\n            <tile-dynamic isvideo data-qa=\"tile\">\\r\\n              <img\\r\\n                slot=\"image\"\\r\\n                loading=\"lazy\"\\r\\n                src=\"https://resizing.flixster.com/l3hMOt6cWOpnE-s2f9ryvvFRwdM=/ems.cHJkLWVtcy1hc3NldHMvbW92aWVzLzQxYjJlNGIwLWE1YWMtNDU0NC05NDc3LTVkMTUwYWMyZGIyNy5qcGc=\"\\r\\n                alt=\"A Man Called Otto poster\"\\r\\n              />\\r\\n              \\r\\n                <button\\r\\n                  slot=\"imageAction\"\\r\\n                  \\r\\n                  class=\"transparent unset\"\\r\\n                  data-content-type=\"movie\"\\r\\n                  data-mpx-fwsite=\"\"\\r\\n                  data-title=\"A Man Called Otto\"\\r\\n                  data-video-id=\"\"\\r\\n                  data-video-list=\"rt-hp-poster-list-popular-in-theaters\"\\r\\n                  data-track=\"poster\"\\r\\n                  data-position=\"4\"\\r\\n                  data-media-id=\"\"\\r\\n                  \\r\\n                    data-video-player-overlay-url=\"https://player.theplatform.com/p/NGweTC/pdk6_y__7B0iQTi4P/embed/select/media/G2l4dlRPXT7M\"\\r\\n                    data-video-player-overlay-media-url=\"/m/a_man_called_otto\"\\r\\n                  \\r\\n                  aria-label=\"Play A Man Called Otto trailer\"\\r\\n                >\\r\\n                  <span class=\"sr-only\">A Man Called Otto</span>\\r\\n                </button>\\r\\n                \\r\\n                <a slot=\"caption\" href=\"/m/a_man_called_otto\" data-track=\"scores\">\\r\\n              \\r\\n                <score-pairs\\r\\n                  audiencesentiment=\"hide\"\\r\\n                  audiencescore=\"hide\"\\r\\n                  criticssentiment=\"positive\"\\r\\n                  criticsscore=\"69\"\\r\\n                  criticscertified=\"false\"\\r\\n                >\\r\\n                </score-pairs>\\r\\n                <span class=\"p--small\">A Man Called Otto</span>\\r\\n              \\r\\n                </a>\\r\\n              \\r\\n            </tile-dynamic>\\r\\n          \\r\\n        </tiles-carousel-responsive-item>\\r\\n      \\r\\n        <tiles-carousel-responsive-item slot=\"tile\">\\r\\n          \\r\\n            \\r\\n            <tile-dynamic isvideo data-qa=\"tile\">\\r\\n              <img\\r\\n                slot=\"image\"\\r\\n                loading=\"lazy\"\\r\\n                src=\"https://resizing.flixster.com/QJkeIM6LIvwmRGiLKrNBcpZIk8M=/ems.cHJkLWVtcy1hc3NldHMvbW92aWVzLzAwYzExZjlmLWJlODQtNDY4Mi1iNDhkLWU2YWNmMGIyMDgwMi5qcGc=\"\\r\\n                alt=\"Black Panther: Wakanda Forever poster\"\\r\\n              />\\r\\n              \\r\\n                <button\\r\\n                  slot=\"imageAction\"\\r\\n                  \\r\\n                  class=\"transparent unset\"\\r\\n                  data-content-type=\"movie\"\\r\\n                  data-mpx-fwsite=\"\"\\r\\n                  data-title=\"Black Panther: Wakanda Forever\"\\r\\n                  data-video-id=\"\"\\r\\n                  data-video-list=\"rt-hp-poster-list-popular-in-theaters\"\\r\\n                  data-track=\"poster\"\\r\\n                  data-position=\"5\"\\r\\n                  data-media-id=\"\"\\r\\n                  \\r\\n                    data-video-player-overlay-url=\"https://player.theplatform.com/p/NGweTC/pdk6_y__7B0iQTi4P/embed/select/media/uMGYgU_G1AM4\"\\r\\n                    data-video-player-overlay-media-url=\"/m/black_panther_wakanda_forever\"\\r\\n                  \\r\\n                  aria-label=\"Play Black Panther: Wakanda Forever trailer\"\\r\\n                >\\r\\n                  <span class=\"sr-only\">Black Panther: Wakanda Forever</span>\\r\\n                </button>\\r\\n                \\r\\n                <a slot=\"caption\" href=\"/m/black_panther_wakanda_forever\" data-track=\"scores\">\\r\\n              \\r\\n                <score-pairs\\r\\n                  audiencesentiment=\"hide\"\\r\\n                  audiencescore=\"hide\"\\r\\n                  criticssentiment=\"positive\"\\r\\n                  criticsscore=\"84\"\\r\\n                  criticscertified=\"criticscertified\"\\r\\n                >\\r\\n                </score-pairs>\\r\\n                <span class=\"p--small\">Black Panther: Wakanda Forever</span>\\r\\n              \\r\\n                </a>\\r\\n              \\r\\n            </tile-dynamic>\\r\\n          \\r\\n        </tiles-carousel-responsive-item>\\r\\n      \\r\\n        <tiles-carousel-responsive-item slot=\"tile\">\\r\\n          \\r\\n            \\r\\n            <tile-dynamic isvideo data-qa=\"tile\">\\r\\n              <img\\r\\n                slot=\"image\"\\r\\n                loading=\"lazy\"\\r\\n                src=\"https://resizing.flixster.com/6xmuDLr8iHznjPJyfW_FVxZbTl4=/ems.cHJkLWVtcy1hc3NldHMvbW92aWVzLzE2MmNhOWExLWI2ZmYtNDE4OC04YjM3LWMyYjIyMmI0OWYxZC5qcGc=\"\\r\\n                alt=\"Whitney Houston: I Wanna Dance with Somebody poster\"\\r\\n              />\\r\\n              \\r\\n                <button\\r\\n                  slot=\"imageAction\"\\r\\n                  \\r\\n                  class=\"transparent unset\"\\r\\n                  data-content-type=\"movie\"\\r\\n                  data-mpx-fwsite=\"\"\\r\\n                  data-title=\"Whitney Houston: I Wanna Dance with Somebody\"\\r\\n                  data-video-id=\"\"\\r\\n                  data-video-list=\"rt-hp-poster-list-popular-in-theaters\"\\r\\n                  data-track=\"poster\"\\r\\n                  data-position=\"6\"\\r\\n                  data-media-id=\"\"\\r\\n                  \\r\\n                    data-video-player-overlay-url=\"https://player.theplatform.com/p/NGweTC/pdk6_y__7B0iQTi4P/embed/select/media/UxcNlZicLCo0\"\\r\\n                    data-video-player-overlay-media-url=\"/m/whitney_houston_i_wanna_dance_with_somebody\"\\r\\n                  \\r\\n                  aria-label=\"Play Whitney Houston: I Wanna Dance with Somebody trailer\"\\r\\n                >\\r\\n                  <span class=\"sr-only\">Whitney Houston: I Wanna Dance with Somebody</span>\\r\\n                </button>\\r\\n                \\r\\n                <a slot=\"caption\" href=\"/m/whitney_houston_i_wanna_dance_with_somebody\" data-track=\"scores\">\\r\\n              \\r\\n                <score-pairs\\r\\n                  audiencesentiment=\"hide\"\\r\\n                  audiencescore=\"hide\"\\r\\n                  criticssentiment=\"negative\"\\r\\n                  criticsscore=\"45\"\\r\\n                  criticscertified=\"false\"\\r\\n                >\\r\\n                </score-pairs>\\r\\n                <span class=\"p--small\">Whitney Houston: I Wanna Dance with Somebody</span>\\r\\n              \\r\\n                </a>\\r\\n              \\r\\n            </tile-dynamic>\\r\\n          \\r\\n        </tiles-carousel-responsive-item>\\r\\n      \\r\\n        <tiles-carousel-responsive-item slot=\"tile\">\\r\\n          \\r\\n            \\r\\n            <tile-dynamic isvideo data-qa=\"tile\">\\r\\n              <img\\r\\n                slot=\"image\"\\r\\n                loading=\"lazy\"\\r\\n                src=\"https://resizing.flixster.com/k4O2dPmx9brEPScWUiuFiayMHpo=/ems.cHJkLWVtcy1hc3NldHMvbW92aWVzL2M3ODEzY2Q4LTc4YWEtNDQ0OC1hNGQ0LTU0NGQzZWJjMzNhMy5qcGc=\"\\r\\n                alt=\"The Whale poster\"\\r\\n              />\\r\\n              \\r\\n                <button\\r\\n                  slot=\"imageAction\"\\r\\n                  \\r\\n                  class=\"transparent unset\"\\r\\n                  data-content-type=\"movie\"\\r\\n                  data-mpx-fwsite=\"\"\\r\\n                  data-title=\"The Whale\"\\r\\n                  data-video-id=\"\"\\r\\n                  data-video-list=\"rt-hp-poster-list-popular-in-theaters\"\\r\\n                  data-track=\"poster\"\\r\\n                  data-position=\"7\"\\r\\n                  data-media-id=\"\"\\r\\n                  \\r\\n                    data-video-player-overlay-url=\"https://player.theplatform.com/p/NGweTC/pdk6_y__7B0iQTi4P/embed/select/media/nyrCqnPby3Y4\"\\r\\n                    data-video-player-overlay-media-url=\"/m/the_whale_2022\"\\r\\n                  \\r\\n                  aria-label=\"Play The Whale trailer\"\\r\\n                >\\r\\n                  <span class=\"sr-only\">The Whale</span>\\r\\n                </button>\\r\\n                \\r\\n                <a slot=\"caption\" href=\"/m/the_whale_2022\" data-track=\"scores\">\\r\\n              \\r\\n                <score-pairs\\r\\n                  audiencesentiment=\"hide\"\\r\\n                  audiencescore=\"hide\"\\r\\n                  criticssentiment=\"positive\"\\r\\n                  criticsscore=\"65\"\\r\\n                  criticscertified=\"false\"\\r\\n                >\\r\\n                </score-pairs>\\r\\n                <span class=\"p--small\">The Whale</span>\\r\\n              \\r\\n                </a>\\r\\n              \\r\\n            </tile-dynamic>\\r\\n          \\r\\n        </tiles-carousel-responsive-item>\\r\\n      \\r\\n        <tiles-carousel-responsive-item slot=\"tile\">\\r\\n          \\r\\n            \\r\\n            <tile-dynamic isvideo data-qa=\"tile\">\\r\\n              <img\\r\\n                slot=\"image\"\\r\\n                loading=\"lazy\"\\r\\n                src=\"https://resizing.flixster.com/dEbrJa07LETKJiiO54Tqxb-ImXk=/ems.cHJkLWVtcy1hc3NldHMvbW92aWVzL2U5OTE0OTdhLWQ1MTAtNDgyMS04M2YzLTdkNmVjZDYxNmZlMy5qcGc=\"\\r\\n                alt=\"Babylon poster\"\\r\\n              />\\r\\n              \\r\\n                <button\\r\\n                  slot=\"imageAction\"\\r\\n                  \\r\\n                  class=\"transparent unset\"\\r\\n                  data-content-type=\"movie\"\\r\\n                  data-mpx-fwsite=\"\"\\r\\n                  data-title=\"Babylon\"\\r\\n                  data-video-id=\"\"\\r\\n                  data-video-list=\"rt-hp-poster-list-popular-in-theaters\"\\r\\n                  data-track=\"poster\"\\r\\n                  data-position=\"8\"\\r\\n                  data-media-id=\"\"\\r\\n                  \\r\\n                    data-video-player-overlay-url=\"https://player.theplatform.com/p/NGweTC/pdk6_y__7B0iQTi4P/embed/select/media/yQtRSEksY5Z_\"\\r\\n                    data-video-player-overlay-media-url=\"/m/babylon_2022\"\\r\\n                  \\r\\n                  aria-label=\"Play Babylon trailer\"\\r\\n                >\\r\\n                  <span class=\"sr-only\">Babylon</span>\\r\\n                </button>\\r\\n                \\r\\n                <a slot=\"caption\" href=\"/m/babylon_2022\" data-track=\"scores\">\\r\\n              \\r\\n                <score-pairs\\r\\n                  audiencesentiment=\"hide\"\\r\\n                  audiencescore=\"hide\"\\r\\n                  criticssentiment=\"negative\"\\r\\n                  criticsscore=\"55\"\\r\\n                  criticscertified=\"false\"\\r\\n                >\\r\\n                </score-pairs>\\r\\n                <span class=\"p--small\">Babylon</span>\\r\\n              \\r\\n                </a>\\r\\n              \\r\\n            </tile-dynamic>\\r\\n          \\r\\n        </tiles-carousel-responsive-item>\\r\\n      \\r\\n        <tiles-carousel-responsive-item slot=\"tile\">\\r\\n          \\r\\n            \\r\\n            <tile-dynamic isvideo data-qa=\"tile\">\\r\\n              <img\\r\\n                slot=\"image\"\\r\\n                loading=\"lazy\"\\r\\n                src=\"https://resizing.flixster.com/nifeYuz3wPgP583Gtef3bTSwfI0=/ems.cHJkLWVtcy1hc3NldHMvbW92aWVzLzRjMjhmYTMwLWViM2EtNDZjYy1iMWRmLTAxNmQ3MzZiMTUyNS5qcGc=\"\\r\\n                alt=\"Violent Night poster\"\\r\\n              />\\r\\n              \\r\\n                <button\\r\\n                  slot=\"imageAction\"\\r\\n                  \\r\\n                  class=\"transparent unset\"\\r\\n                  data-content-type=\"movie\"\\r\\n                  data-mpx-fwsite=\"\"\\r\\n                  data-title=\"Violent Night\"\\r\\n                  data-video-id=\"\"\\r\\n                  data-video-list=\"rt-hp-poster-list-popular-in-theaters\"\\r\\n                  data-track=\"poster\"\\r\\n                  data-position=\"9\"\\r\\n                  data-media-id=\"\"\\r\\n                  \\r\\n                    data-video-player-overlay-url=\"https://player.theplatform.com/p/NGweTC/pdk6_y__7B0iQTi4P/embed/select/media/E1RvSzoc53aR\"\\r\\n                    data-video-player-overlay-media-url=\"/m/violent_night\"\\r\\n                  \\r\\n                  aria-label=\"Play Violent Night trailer\"\\r\\n                >\\r\\n                  <span class=\"sr-only\">Violent Night</span>\\r\\n                </button>\\r\\n                \\r\\n                <a slot=\"caption\" href=\"/m/violent_night\" data-track=\"scores\">\\r\\n              \\r\\n                <score-pairs\\r\\n                  audiencesentiment=\"hide\"\\r\\n                  audiencescore=\"hide\"\\r\\n                  criticssentiment=\"positive\"\\r\\n                  criticsscore=\"73\"\\r\\n                  criticscertified=\"false\"\\r\\n                >\\r\\n                </score-pairs>\\r\\n                <span class=\"p--small\">Violent Night</span>\\r\\n              \\r\\n                </a>\\r\\n              \\r\\n            </tile-dynamic>\\r\\n          \\r\\n        </tiles-carousel-responsive-item>\\r\\n      \\r\\n        <tiles-carousel-responsive-item slot=\"tile\">\\r\\n          \\r\\n            \\r\\n            <tile-dynamic isvideo data-qa=\"tile\">\\r\\n              <img\\r\\n                slot=\"image\"\\r\\n                loading=\"lazy\"\\r\\n                src=\"https://resizing.flixster.com/ThP55y9O__xdEFFCmmJ0pDy9FeI=/ems.cHJkLWVtcy1hc3NldHMvbW92aWVzL2FlZTkwYTAyLWNkNWYtNDA0ZS04N2FhLTE0NDUwZmM0ODdiOC5qcGc=\"\\r\\n                alt=\"The Menu poster\"\\r\\n              />\\r\\n              \\r\\n                <button\\r\\n                  slot=\"imageAction\"\\r\\n                  \\r\\n                  class=\"transparent unset\"\\r\\n                  data-content-type=\"movie\"\\r\\n                  data-mpx-fwsite=\"\"\\r\\n                  data-title=\"The Menu\"\\r\\n                  data-video-id=\"\"\\r\\n                  data-video-list=\"rt-hp-poster-list-popular-in-theaters\"\\r\\n                  data-track=\"poster\"\\r\\n                  data-position=\"10\"\\r\\n                  data-media-id=\"\"\\r\\n                  \\r\\n                    data-video-player-overlay-url=\"https://player.theplatform.com/p/NGweTC/pdk6_y__7B0iQTi4P/embed/select/media/GuvtDJHAeDS4\"\\r\\n                    data-video-player-overlay-media-url=\"/m/the_menu\"\\r\\n                  \\r\\n                  aria-label=\"Play The Menu trailer\"\\r\\n                >\\r\\n                  <span class=\"sr-only\">The Menu</span>\\r\\n                </button>\\r\\n                \\r\\n                <a slot=\"caption\" href=\"/m/the_menu\" data-track=\"scores\">\\r\\n              \\r\\n                <score-pairs\\r\\n                  audiencesentiment=\"hide\"\\r\\n                  audiencescore=\"hide\"\\r\\n                  criticssentiment=\"positive\"\\r\\n                  criticsscore=\"89\"\\r\\n                  criticscertified=\"criticscertified\"\\r\\n                >\\r\\n                </score-pairs>\\r\\n                <span class=\"p--small\">The Menu</span>\\r\\n              \\r\\n                </a>\\r\\n              \\r\\n            </tile-dynamic>\\r\\n          \\r\\n        </tiles-carousel-responsive-item>\\r\\n      \\r\\n        <tiles-carousel-responsive-item slot=\"tile\">\\r\\n          \\r\\n            \\r\\n            <tile-dynamic isvideo data-qa=\"tile\">\\r\\n              <img\\r\\n                slot=\"image\"\\r\\n                loading=\"lazy\"\\r\\n                src=\"https://resizing.flixster.com/sHWlKXB2LojbyFEGXuLICWYopdI=/ems.cHJkLWVtcy1hc3NldHMvbW92aWVzLzA3Y2Y3MTk3LWZkMWUtNGNjNS04YzY0LWI0YjNlNDNmYTRhNC5qcGc=\"\\r\\n                alt=\"The Fabelmans poster\"\\r\\n              />\\r\\n              \\r\\n                <button\\r\\n                  slot=\"imageAction\"\\r\\n                  \\r\\n                  class=\"transparent unset\"\\r\\n                  data-content-type=\"movie\"\\r\\n                  data-mpx-fwsite=\"\"\\r\\n                  data-title=\"The Fabelmans\"\\r\\n                  data-video-id=\"\"\\r\\n                  data-video-list=\"rt-hp-poster-list-popular-in-theaters\"\\r\\n                  data-track=\"poster\"\\r\\n                  data-position=\"11\"\\r\\n                  data-media-id=\"\"\\r\\n                  \\r\\n                    data-video-player-overlay-url=\"https://player.theplatform.com/p/NGweTC/pdk6_y__7B0iQTi4P/embed/select/media/L_BptakH3bM_\"\\r\\n                    data-video-player-overlay-media-url=\"/m/the_fabelmans\"\\r\\n                  \\r\\n                  aria-label=\"Play The Fabelmans trailer\"\\r\\n                >\\r\\n                  <span class=\"sr-only\">The Fabelmans</span>\\r\\n                </button>\\r\\n                \\r\\n                <a slot=\"caption\" href=\"/m/the_fabelmans\" data-track=\"scores\">\\r\\n              \\r\\n                <score-pairs\\r\\n                  audiencesentiment=\"hide\"\\r\\n                  audiencescore=\"hide\"\\r\\n                  criticssentiment=\"positive\"\\r\\n                  criticsscore=\"92\"\\r\\n                  criticscertified=\"criticscertified\"\\r\\n                >\\r\\n                </score-pairs>\\r\\n                <span class=\"p--small\">The Fabelmans</span>\\r\\n              \\r\\n                </a>\\r\\n              \\r\\n            </tile-dynamic>\\r\\n          \\r\\n        </tiles-carousel-responsive-item>\\r\\n      \\r\\n        <tiles-carousel-responsive-item slot=\"tile\">\\r\\n          \\r\\n            \\r\\n            <tile-dynamic isvideo data-qa=\"tile\">\\r\\n              <img\\r\\n                slot=\"image\"\\r\\n                loading=\"lazy\"\\r\\n                src=\"https://resizing.flixster.com/yyxVyKHQxrk4Xvdpo9kuZ7-T3Ls=/ems.cHJkLWVtcy1hc3NldHMvbW92aWVzL2NmOTkzYjhkLWI1YjItNGMzMS04NzA5LWFmZDg1MDBkYTU3ZC5qcGc=\"\\r\\n                alt=\"Corsage poster\"\\r\\n              />\\r\\n              \\r\\n                <button\\r\\n                  slot=\"imageAction\"\\r\\n                  \\r\\n                  class=\"transparent unset\"\\r\\n                  data-content-type=\"movie\"\\r\\n                  data-mpx-fwsite=\"\"\\r\\n                  data-title=\"Corsage\"\\r\\n                  data-video-id=\"\"\\r\\n                  data-video-list=\"rt-hp-poster-list-popular-in-theaters\"\\r\\n                  data-track=\"poster\"\\r\\n                  data-position=\"12\"\\r\\n                  data-media-id=\"\"\\r\\n                  \\r\\n                    data-video-player-overlay-url=\"https://player.theplatform.com/p/NGweTC/pdk6_y__7B0iQTi4P/embed/select/media/FaSyQJWOV8ar\"\\r\\n                    data-video-player-overlay-media-url=\"/m/corsage\"\\r\\n                  \\r\\n                  aria-label=\"Play Corsage trailer\"\\r\\n                >\\r\\n                  <span class=\"sr-only\">Corsage</span>\\r\\n                </button>\\r\\n                \\r\\n                <a slot=\"caption\" href=\"/m/corsage\" data-track=\"scores\">\\r\\n              \\r\\n                <score-pairs\\r\\n                  audiencesentiment=\"hide\"\\r\\n                  audiencescore=\"hide\"\\r\\n                  criticssentiment=\"positive\"\\r\\n                  criticsscore=\"85\"\\r\\n                  criticscertified=\"criticscertified\"\\r\\n                >\\r\\n                </score-pairs>\\r\\n                <span class=\"p--small\">Corsage</span>\\r\\n              \\r\\n                </a>\\r\\n              \\r\\n            </tile-dynamic>\\r\\n          \\r\\n        </tiles-carousel-responsive-item>\\r\\n      \\r\\n        <tiles-carousel-responsive-item slot=\"tile\">\\r\\n          \\r\\n            \\r\\n            <tile-dynamic isvideo data-qa=\"tile\">\\r\\n              <img\\r\\n                slot=\"image\"\\r\\n                loading=\"lazy\"\\r\\n                src=\"https://resizing.flixster.com/2xMkNqbnCcVFU3sEAhAblUFRJa8=/ems.cHJkLWVtcy1hc3NldHMvbW92aWVzLzk5ZjM1MDZlLWU4ZWEtNDRjMi05Y2ViLTk4ZmY1YmQ3NjU2MS5qcGc=\"\\r\\n                alt=\"Strange World poster\"\\r\\n              />\\r\\n              \\r\\n                <button\\r\\n                  slot=\"imageAction\"\\r\\n                  \\r\\n                  class=\"transparent unset\"\\r\\n                  data-content-type=\"movie\"\\r\\n                  data-mpx-fwsite=\"\"\\r\\n                  data-title=\"Strange World\"\\r\\n                  data-video-id=\"\"\\r\\n                  data-video-list=\"rt-hp-poster-list-popular-in-theaters\"\\r\\n                  data-track=\"poster\"\\r\\n                  data-position=\"13\"\\r\\n                  data-media-id=\"\"\\r\\n                  \\r\\n                    data-video-player-overlay-url=\"https://player.theplatform.com/p/NGweTC/pdk6_y__7B0iQTi4P/embed/select/media/mjMS0MuB42ym\"\\r\\n                    data-video-player-overlay-media-url=\"/m/strange_world\"\\r\\n                  \\r\\n                  aria-label=\"Play Strange World trailer\"\\r\\n                >\\r\\n                  <span class=\"sr-only\">Strange World</span>\\r\\n                </button>\\r\\n                \\r\\n                <a slot=\"caption\" href=\"/m/strange_world\" data-track=\"scores\">\\r\\n              \\r\\n                <score-pairs\\r\\n                  audiencesentiment=\"hide\"\\r\\n                  audiencescore=\"hide\"\\r\\n                  criticssentiment=\"positive\"\\r\\n                  criticsscore=\"72\"\\r\\n                  criticscertified=\"false\"\\r\\n                >\\r\\n                </score-pairs>\\r\\n                <span class=\"p--small\">Strange World</span>\\r\\n              \\r\\n                </a>\\r\\n              \\r\\n            </tile-dynamic>\\r\\n          \\r\\n        </tiles-carousel-responsive-item>\\r\\n      \\r\\n\\r\\n      <button slot=\"scroll-right\">\\r\\n        <rt-icon slot=\"icon-arrow-right\" image icon=\"right-chevron\"></rt-icon>\\r\\n      </button>\\r\\n      \\r\\n    </tiles-carousel-responsive>\\r\\n  </section>\\r\\n\\n</div>\\n\\r\\n\\r\\n        \\r\\n    \\r\\n        <div class=\"ordered-layout__list ordered-layout__list--carousel\" data-curation=\"rt-hp-poster-list-cfp\">\\n  \\n  \\r\\n  <section class=\"dynamic-poster-list\" data-qa=\"dynamic-poster-list\">\\r\\n    <div class=\"dynamic-poster-list__header-container--hide-h3\">\\r\\n      <div>\\r\\n        \\r\\n          <h2 data-qa=\"title\">Most Anticipated Movies 2023</h2>\\r\\n        \\r\\n\\r\\n        \\r\\n          <a href=\"https://editorial.rottentomatoes.com/article/most-anticipated-movies-of-2023/\" class=\"a--short\" data-track=\"showmore\">View all</a>\\r\\n        \\r\\n      </div>\\r\\n\\r\\n      \\r\\n    </div>\\r\\n    \\r\\n    \\r\\n\\r\\n    <tiles-carousel-responsive skeleton=\"panel\">\\r\\n\\r\\n      <button slot=\"scroll-left\">\\r\\n        <rt-icon slot=\"icon-arrow-left\" image icon=\"left-chevron\"></rt-icon>\\r\\n      </button>\\r\\n\\r\\n      \\r\\n        <tiles-carousel-responsive-item slot=\"tile\">\\r\\n          \\r\\n            \\r\\n            <tile-dynamic isvideo data-qa=\"tile\">\\r\\n              <img\\r\\n                slot=\"image\"\\r\\n                loading=\"lazy\"\\r\\n                src=\"https://resizing.flixster.com/TlTQh2CyPku840xaigFC6M7NtTE=/ems.cHJkLWVtcy1hc3NldHMvbW92aWVzLzYwMjkzOWJiLTZkNWUtNDFhNC1hYWJlLWU0NmMwOWQ0MTEwOS5qcGc=\"\\r\\n                alt=\"Spider-Man: Across the Spider-Verse poster\"\\r\\n              />\\r\\n              \\r\\n                <button\\r\\n                  slot=\"imageAction\"\\r\\n                  \\r\\n                  class=\"transparent unset\"\\r\\n                  data-content-type=\"movie\"\\r\\n                  data-mpx-fwsite=\"\"\\r\\n                  data-title=\"Spider-Man: Across the Spider-Verse\"\\r\\n                  data-video-id=\"\"\\r\\n                  data-video-list=\"rt-hp-poster-list-cfp\"\\r\\n                  data-track=\"poster\"\\r\\n                  data-position=\"1\"\\r\\n                  data-media-id=\"\"\\r\\n                  \\r\\n                    data-video-player-overlay-url=\"https://player.theplatform.com/p/NGweTC/pdk6_y__7B0iQTi4P/embed/select/media/XKCx6aEpXGtW\"\\r\\n                    data-video-player-overlay-media-url=\"/m/spider_man_across_the_spider_verse\"\\r\\n                  \\r\\n                  aria-label=\"Play Spider-Man: Across the Spider-Verse trailer\"\\r\\n                >\\r\\n                  <span class=\"sr-only\">Spider-Man: Across the Spider-Verse</span>\\r\\n                </button>\\r\\n                \\r\\n                <a slot=\"caption\" href=\"/m/spider_man_across_the_spider_verse\" data-track=\"scores\">\\r\\n              \\r\\n                <score-pairs\\r\\n                  audiencesentiment=\"hide\"\\r\\n                  audiencescore=\"hide\"\\r\\n                  criticssentiment=\"\"\\r\\n                  criticsscore=\"\"\\r\\n                  criticscertified=\"\"\\r\\n                >\\r\\n                </score-pairs>\\r\\n                <span class=\"p--small\">Spider-Man: Across the Spider-Verse</span>\\r\\n              \\r\\n                </a>\\r\\n              \\r\\n            </tile-dynamic>\\r\\n          \\r\\n        </tiles-carousel-responsive-item>\\r\\n      \\r\\n        <tiles-carousel-responsive-item slot=\"tile\">\\r\\n          \\r\\n            \\r\\n            <tile-dynamic isvideo data-qa=\"tile\">\\r\\n              <img\\r\\n                slot=\"image\"\\r\\n                loading=\"lazy\"\\r\\n                src=\"https://resizing.flixster.com/_0Mhf0W_vdhwlaqOaUDX6JiReKA=/ems.cHJkLWVtcy1hc3NldHMvbW92aWVzLzE0OGY2MTIxLTE1MDEtNDI5YS1hYzVlLWYyMzExYjBmZTlhMC5qcGc=\"\\r\\n                alt=\"Ant-Man and The Wasp: Quantumania poster\"\\r\\n              />\\r\\n              \\r\\n                <button\\r\\n                  slot=\"imageAction\"\\r\\n                  \\r\\n                  class=\"transparent unset\"\\r\\n                  data-content-type=\"movie\"\\r\\n                  data-mpx-fwsite=\"\"\\r\\n                  data-title=\"Ant-Man and The Wasp: Quantumania\"\\r\\n                  data-video-id=\"\"\\r\\n                  data-video-list=\"rt-hp-poster-list-cfp\"\\r\\n                  data-track=\"poster\"\\r\\n                  data-position=\"2\"\\r\\n                  data-media-id=\"\"\\r\\n                  \\r\\n                    data-video-player-overlay-url=\"https://player.theplatform.com/p/NGweTC/pdk6_y__7B0iQTi4P/embed/select/media/ro6qpgXit5X3\"\\r\\n                    data-video-player-overlay-media-url=\"/m/ant_man_and_the_wasp_quantumania\"\\r\\n                  \\r\\n                  aria-label=\"Play Ant-Man and The Wasp: Quantumania trailer\"\\r\\n                >\\r\\n                  <span class=\"sr-only\">Ant-Man and The Wasp: Quantumania</span>\\r\\n                </button>\\r\\n                \\r\\n                <a slot=\"caption\" href=\"/m/ant_man_and_the_wasp_quantumania\" data-track=\"scores\">\\r\\n              \\r\\n                <score-pairs\\r\\n                  audiencesentiment=\"hide\"\\r\\n                  audiencescore=\"hide\"\\r\\n                  criticssentiment=\"\"\\r\\n                  criticsscore=\"\"\\r\\n                  criticscertified=\"\"\\r\\n                >\\r\\n                </score-pairs>\\r\\n                <span class=\"p--small\">Ant-Man and The Wasp: Quantumania</span>\\r\\n              \\r\\n                </a>\\r\\n              \\r\\n            </tile-dynamic>\\r\\n          \\r\\n        </tiles-carousel-responsive-item>\\r\\n      \\r\\n        <tiles-carousel-responsive-item slot=\"tile\">\\r\\n          \\r\\n            \\r\\n            <tile-dynamic isvideo data-qa=\"tile\">\\r\\n              <img\\r\\n                slot=\"image\"\\r\\n                loading=\"lazy\"\\r\\n                src=\"https://resizing.flixster.com/Jv7-at8MiUsHASUiLFTwbHI3YJk=/ems.cHJkLWVtcy1hc3NldHMvbW92aWVzLzg0MGM2NjRjLWUxNDgtNDBhMy04ZDY3LTljMDU0YzhkODM2Yi5qcGc=\"\\r\\n                alt=\"The Little Mermaid poster\"\\r\\n              />\\r\\n              \\r\\n                <button\\r\\n                  slot=\"imageAction\"\\r\\n                  \\r\\n                  class=\"transparent unset\"\\r\\n                  data-content-type=\"movie\"\\r\\n                  data-mpx-fwsite=\"\"\\r\\n                  data-title=\"The Little Mermaid\"\\r\\n                  data-video-id=\"\"\\r\\n                  data-video-list=\"rt-hp-poster-list-cfp\"\\r\\n                  data-track=\"poster\"\\r\\n                  data-position=\"3\"\\r\\n                  data-media-id=\"\"\\r\\n                  \\r\\n                    data-video-player-overlay-url=\"https://player.theplatform.com/p/NGweTC/pdk6_y__7B0iQTi4P/embed/select/media/3e_Z4MN_zvlB\"\\r\\n                    data-video-player-overlay-media-url=\"/m/the_little_mermaid_2023\"\\r\\n                  \\r\\n                  aria-label=\"Play The Little Mermaid trailer\"\\r\\n                >\\r\\n                  <span class=\"sr-only\">The Little Mermaid</span>\\r\\n                </button>\\r\\n                \\r\\n                <a slot=\"caption\" href=\"/m/the_little_mermaid_2023\" data-track=\"scores\">\\r\\n              \\r\\n                <score-pairs\\r\\n                  audiencesentiment=\"hide\"\\r\\n                  audiencescore=\"hide\"\\r\\n                  criticssentiment=\"\"\\r\\n                  criticsscore=\"\"\\r\\n                  criticscertified=\"\"\\r\\n                >\\r\\n                </score-pairs>\\r\\n                <span class=\"p--small\">The Little Mermaid</span>\\r\\n              \\r\\n                </a>\\r\\n              \\r\\n            </tile-dynamic>\\r\\n          \\r\\n        </tiles-carousel-responsive-item>\\r\\n      \\r\\n        <tiles-carousel-responsive-item slot=\"tile\">\\r\\n          \\r\\n            \\r\\n            <tile-dynamic isvideo data-qa=\"tile\">\\r\\n              <img\\r\\n                slot=\"image\"\\r\\n                loading=\"lazy\"\\r\\n                src=\"https://resizing.flixster.com/ayiSi8HrUS3_i-Jkru1P2oMM58Q=/ems.cHJkLWVtcy1hc3NldHMvbW92aWVzLzhiODAwYWIyLTM1MmItNGI1ZS1iOWQzLTdjZjAzMzI1MDc2Yy5qcGc=\"\\r\\n                alt=\"John Wick: Chapter 4 poster\"\\r\\n              />\\r\\n              \\r\\n                <button\\r\\n                  slot=\"imageAction\"\\r\\n                  \\r\\n                  class=\"transparent unset\"\\r\\n                  data-content-type=\"movie\"\\r\\n                  data-mpx-fwsite=\"\"\\r\\n                  data-title=\"John Wick: Chapter 4\"\\r\\n                  data-video-id=\"\"\\r\\n                  data-video-list=\"rt-hp-poster-list-cfp\"\\r\\n                  data-track=\"poster\"\\r\\n                  data-position=\"4\"\\r\\n                  data-media-id=\"\"\\r\\n                  \\r\\n                    data-video-player-overlay-url=\"https://player.theplatform.com/p/NGweTC/pdk6_y__7B0iQTi4P/embed/select/media/UaYyrq44OAOE\"\\r\\n                    data-video-player-overlay-media-url=\"/m/john_wick_chapter_4\"\\r\\n                  \\r\\n                  aria-label=\"Play John Wick: Chapter 4 trailer\"\\r\\n                >\\r\\n                  <span class=\"sr-only\">John Wick: Chapter 4</span>\\r\\n                </button>\\r\\n                \\r\\n                <a slot=\"caption\" href=\"/m/john_wick_chapter_4\" data-track=\"scores\">\\r\\n              \\r\\n                <score-pairs\\r\\n                  audiencesentiment=\"hide\"\\r\\n                  audiencescore=\"hide\"\\r\\n                  criticssentiment=\"\"\\r\\n                  criticsscore=\"\"\\r\\n                  criticscertified=\"\"\\r\\n                >\\r\\n                </score-pairs>\\r\\n                <span class=\"p--small\">John Wick: Chapter 4</span>\\r\\n              \\r\\n                </a>\\r\\n              \\r\\n            </tile-dynamic>\\r\\n          \\r\\n        </tiles-carousel-responsive-item>\\r\\n      \\r\\n        <tiles-carousel-responsive-item slot=\"tile\">\\r\\n          \\r\\n            \\r\\n            <tile-dynamic isvideo data-qa=\"tile\">\\r\\n              <img\\r\\n                slot=\"image\"\\r\\n                loading=\"lazy\"\\r\\n                src=\"https://resizing.flixster.com/s5jpQ5Qjrm_-nj7jpxKOy_tnZlQ=/ems.cHJkLWVtcy1hc3NldHMvbW92aWVzL2E2NDEzZmIzLWIyZTEtNGNjNS1hZjg2LThjYTFmN2U2NzM2My5qcGc=\"\\r\\n                alt=\"The Super Mario Bros. Movie poster\"\\r\\n              />\\r\\n              \\r\\n                <button\\r\\n                  slot=\"imageAction\"\\r\\n                  \\r\\n                  class=\"transparent unset\"\\r\\n                  data-content-type=\"movie\"\\r\\n                  data-mpx-fwsite=\"\"\\r\\n                  data-title=\"The Super Mario Bros. Movie\"\\r\\n                  data-video-id=\"\"\\r\\n                  data-video-list=\"rt-hp-poster-list-cfp\"\\r\\n                  data-track=\"poster\"\\r\\n                  data-position=\"5\"\\r\\n                  data-media-id=\"\"\\r\\n                  \\r\\n                    data-video-player-overlay-url=\"https://player.theplatform.com/p/NGweTC/pdk6_y__7B0iQTi4P/embed/select/media/7TJafoWme0Ej\"\\r\\n                    data-video-player-overlay-media-url=\"/m/the_super_mario_bros_movie\"\\r\\n                  \\r\\n                  aria-label=\"Play The Super Mario Bros. Movie trailer\"\\r\\n                >\\r\\n                  <span class=\"sr-only\">The Super Mario Bros. Movie</span>\\r\\n                </button>\\r\\n                \\r\\n                <a slot=\"caption\" href=\"/m/the_super_mario_bros_movie\" data-track=\"scores\">\\r\\n              \\r\\n                <score-pairs\\r\\n                  audiencesentiment=\"hide\"\\r\\n                  audiencescore=\"hide\"\\r\\n                  criticssentiment=\"\"\\r\\n                  criticsscore=\"\"\\r\\n                  criticscertified=\"\"\\r\\n                >\\r\\n                </score-pairs>\\r\\n                <span class=\"p--small\">The Super Mario Bros. Movie</span>\\r\\n              \\r\\n                </a>\\r\\n              \\r\\n            </tile-dynamic>\\r\\n          \\r\\n        </tiles-carousel-responsive-item>\\r\\n      \\r\\n        <tiles-carousel-responsive-item slot=\"tile\">\\r\\n          \\r\\n            \\r\\n            <tile-dynamic isvideo data-qa=\"tile\">\\r\\n              <img\\r\\n                slot=\"image\"\\r\\n                loading=\"lazy\"\\r\\n                src=\"https://resizing.flixster.com/Z05usC09X04gL52gCfOqrtwHhT4=/ems.cHJkLWVtcy1hc3NldHMvbW92aWVzL2Y0YWM1NjY4LWY3M2ItNGM3MS04M2EzLTYxMTFjYjZmNmFiNS5qcGc=\"\\r\\n                alt=\"Creed III poster\"\\r\\n              />\\r\\n              \\r\\n                <button\\r\\n                  slot=\"imageAction\"\\r\\n                  \\r\\n                  class=\"transparent unset\"\\r\\n                  data-content-type=\"movie\"\\r\\n                  data-mpx-fwsite=\"\"\\r\\n                  data-title=\"Creed III\"\\r\\n                  data-video-id=\"\"\\r\\n                  data-video-list=\"rt-hp-poster-list-cfp\"\\r\\n                  data-track=\"poster\"\\r\\n                  data-position=\"6\"\\r\\n                  data-media-id=\"\"\\r\\n                  \\r\\n                    data-video-player-overlay-url=\"https://player.theplatform.com/p/NGweTC/pdk6_y__7B0iQTi4P/embed/select/media/183F7nYf6LUA\"\\r\\n                    data-video-player-overlay-media-url=\"/m/creed_iii\"\\r\\n                  \\r\\n                  aria-label=\"Play Creed III trailer\"\\r\\n                >\\r\\n                  <span class=\"sr-only\">Creed III</span>\\r\\n                </button>\\r\\n                \\r\\n                <a slot=\"caption\" href=\"/m/creed_iii\" data-track=\"scores\">\\r\\n              \\r\\n                <score-pairs\\r\\n                  audiencesentiment=\"hide\"\\r\\n                  audiencescore=\"hide\"\\r\\n                  criticssentiment=\"\"\\r\\n                  criticsscore=\"\"\\r\\n                  criticscertified=\"\"\\r\\n                >\\r\\n                </score-pairs>\\r\\n                <span class=\"p--small\">Creed III</span>\\r\\n              \\r\\n                </a>\\r\\n              \\r\\n            </tile-dynamic>\\r\\n          \\r\\n        </tiles-carousel-responsive-item>\\r\\n      \\r\\n        <tiles-carousel-responsive-item slot=\"tile\">\\r\\n          \\r\\n            \\r\\n            <tile-dynamic isvideo data-qa=\"tile\">\\r\\n              <img\\r\\n                slot=\"image\"\\r\\n                loading=\"lazy\"\\r\\n                src=\"https://resizing.flixster.com/dSyi0qq5pZSCRC1VH_oo02R4QRE=/ems.cHJkLWVtcy1hc3NldHMvbW92aWVzLzRhMWZhYmFhLWFmODgtNDg1MC1hMTk5LWMwOTcyMDhjY2Y1YS5qcGc=\"\\r\\n                alt=\"Magic Mike&#39;s Last Dance poster\"\\r\\n              />\\r\\n              \\r\\n                <button\\r\\n                  slot=\"imageAction\"\\r\\n                  \\r\\n                  class=\"transparent unset\"\\r\\n                  data-content-type=\"movie\"\\r\\n                  data-mpx-fwsite=\"\"\\r\\n                  data-title=\"Magic Mike&#39;s Last Dance\"\\r\\n                  data-video-id=\"\"\\r\\n                  data-video-list=\"rt-hp-poster-list-cfp\"\\r\\n                  data-track=\"poster\"\\r\\n                  data-position=\"7\"\\r\\n                  data-media-id=\"\"\\r\\n                  \\r\\n                    data-video-player-overlay-url=\"https://player.theplatform.com/p/NGweTC/pdk6_y__7B0iQTi4P/embed/select/media/otjbX3MxCCZO\"\\r\\n                    data-video-player-overlay-media-url=\"/m/magic_mikes_last_dance\"\\r\\n                  \\r\\n                  aria-label=\"Play Magic Mike&#39;s Last Dance trailer\"\\r\\n                >\\r\\n                  <span class=\"sr-only\">Magic Mike&#39;s Last Dance</span>\\r\\n                </button>\\r\\n                \\r\\n                <a slot=\"caption\" href=\"/m/magic_mikes_last_dance\" data-track=\"scores\">\\r\\n              \\r\\n                <score-pairs\\r\\n                  audiencesentiment=\"hide\"\\r\\n                  audiencescore=\"hide\"\\r\\n                  criticssentiment=\"\"\\r\\n                  criticsscore=\"\"\\r\\n                  criticscertified=\"\"\\r\\n                >\\r\\n                </score-pairs>\\r\\n                <span class=\"p--small\">Magic Mike&#39;s Last Dance</span>\\r\\n              \\r\\n                </a>\\r\\n              \\r\\n            </tile-dynamic>\\r\\n          \\r\\n        </tiles-carousel-responsive-item>\\r\\n      \\r\\n        <tiles-carousel-responsive-item slot=\"tile\">\\r\\n          \\r\\n            \\r\\n            <tile-dynamic isvideo data-qa=\"tile\">\\r\\n              <img\\r\\n                slot=\"image\"\\r\\n                loading=\"lazy\"\\r\\n                src=\"https://resizing.flixster.com/ptBiV8hGfZ454kPN9cAmLrh1-hE=/ems.cHJkLWVtcy1hc3NldHMvbW92aWVzL2EyNDkyYmE3LTYxM2UtNGNkNy05ZDU0LWNmYmNkOGY0OTAyMi5qcGc=\"\\r\\n                alt=\"Guardians of the Galaxy Vol. 3 poster\"\\r\\n              />\\r\\n              \\r\\n                <button\\r\\n                  slot=\"imageAction\"\\r\\n                  \\r\\n                  class=\"transparent unset\"\\r\\n                  data-content-type=\"movie\"\\r\\n                  data-mpx-fwsite=\"\"\\r\\n                  data-title=\"Guardians of the Galaxy Vol. 3\"\\r\\n                  data-video-id=\"\"\\r\\n                  data-video-list=\"rt-hp-poster-list-cfp\"\\r\\n                  data-track=\"poster\"\\r\\n                  data-position=\"8\"\\r\\n                  data-media-id=\"\"\\r\\n                  \\r\\n                    data-video-player-overlay-url=\"https://player.theplatform.com/p/NGweTC/pdk6_y__7B0iQTi4P/embed/select/media/rU_aHN5W6qI_\"\\r\\n                    data-video-player-overlay-media-url=\"/m/guardians_of_the_galaxy_vol_3\"\\r\\n                  \\r\\n                  aria-label=\"Play Guardians of the Galaxy Vol. 3 trailer\"\\r\\n                >\\r\\n                  <span class=\"sr-only\">Guardians of the Galaxy Vol. 3</span>\\r\\n                </button>\\r\\n                \\r\\n                <a slot=\"caption\" href=\"/m/guardians_of_the_galaxy_vol_3\" data-track=\"scores\">\\r\\n              \\r\\n                <score-pairs\\r\\n                  audiencesentiment=\"hide\"\\r\\n                  audiencescore=\"hide\"\\r\\n                  criticssentiment=\"\"\\r\\n                  criticsscore=\"\"\\r\\n                  criticscertified=\"\"\\r\\n                >\\r\\n                </score-pairs>\\r\\n                <span class=\"p--small\">Guardians of the Galaxy Vol. 3</span>\\r\\n              \\r\\n                </a>\\r\\n              \\r\\n            </tile-dynamic>\\r\\n          \\r\\n        </tiles-carousel-responsive-item>\\r\\n      \\r\\n        <tiles-carousel-responsive-item slot=\"tile\">\\r\\n          \\r\\n            <a href=\"/m/fast_x\">\\r\\n          \\r\\n            \\r\\n            <tile-dynamic  data-qa=\"tile\">\\r\\n              <img\\r\\n                slot=\"image\"\\r\\n                loading=\"lazy\"\\r\\n                src=\"https://resizing.flixster.com/tGNijXwQUjREnMH_Ncw64hHIWU4=/ems.cHJkLWVtcy1hc3NldHMvbW92aWVzLzk2NGEyNTlhLWVhMTEtNGRhNC1hOTFhLWU5YjcxN2RmZWVjNi5qcGc=\"\\r\\n                alt=\"Fast X poster\"\\r\\n              />\\r\\n              \\r\\n                <div slot=\"caption\" data-track=\"scores\">\\r\\n              \\r\\n                <score-pairs\\r\\n                  audiencesentiment=\"hide\"\\r\\n                  audiencescore=\"hide\"\\r\\n                  criticssentiment=\"\"\\r\\n                  criticsscore=\"\"\\r\\n                  criticscertified=\"\"\\r\\n                >\\r\\n                </score-pairs>\\r\\n                <span class=\"p--small\">Fast X</span>\\r\\n              \\r\\n                </div>\\r\\n              \\r\\n            </tile-dynamic>\\r\\n          \\r\\n            </a>\\r\\n          \\r\\n        </tiles-carousel-responsive-item>\\r\\n      \\r\\n\\r\\n      <button slot=\"scroll-right\">\\r\\n        <rt-icon slot=\"icon-arrow-right\" image icon=\"right-chevron\"></rt-icon>\\r\\n      </button>\\r\\n      \\r\\n    </tiles-carousel-responsive>\\r\\n  </section>\\r\\n\\n</div>\\n\\r\\n\\r\\n        \\r\\n    \\r\\n        <div class=\"ordered-layout__list ordered-layout__list--carousel\" data-curation=\"rt-hp-poster-list-streaming-service-2\">\\n  \\n  \\r\\n  <section class=\"dynamic-poster-list\" data-qa=\"dynamic-poster-list\">\\r\\n    <div class=\"dynamic-poster-list__header-container--hide-h3\">\\r\\n      <div>\\r\\n        \\r\\n          <h2 data-qa=\"title\">TV Premiere Dates 2023</h2>\\r\\n        \\r\\n\\r\\n        \\r\\n          <a href=\"https://editorial.rottentomatoes.com/article/tv-premiere-dates-2023/\" class=\"a--short\" data-track=\"showmore\">View all</a>\\r\\n        \\r\\n      </div>\\r\\n\\r\\n      \\r\\n    </div>\\r\\n    \\r\\n    \\r\\n\\r\\n    <tiles-carousel-responsive skeleton=\"panel\">\\r\\n\\r\\n      <button slot=\"scroll-left\">\\r\\n        <rt-icon slot=\"icon-arrow-left\" image icon=\"left-chevron\"></rt-icon>\\r\\n      </button>\\r\\n\\r\\n      \\r\\n        <tiles-carousel-responsive-item slot=\"tile\">\\r\\n          \\r\\n            <a href=\"/tv/the_last_of_us\">\\r\\n          \\r\\n            \\r\\n            <tile-dynamic  data-qa=\"tile\">\\r\\n              <img\\r\\n                slot=\"image\"\\r\\n                loading=\"lazy\"\\r\\n                src=\"https://resizing.flixster.com/2TwYzc7hklVW2s4fN1ypuyYWMj0=/ems.cHJkLWVtcy1hc3NldHMvdHZzZXJpZXMvYjBiZTZiODMtODQ1OC00MDY3LTkzNTItZjZlMzQ5ZGM1MzEwLmpwZw==\"\\r\\n                alt=\"The Last of Us poster\"\\r\\n              />\\r\\n              \\r\\n                <div slot=\"caption\" data-track=\"scores\">\\r\\n              \\r\\n                <score-pairs\\r\\n                  audiencesentiment=\"hide\"\\r\\n                  audiencescore=\"hide\"\\r\\n                  criticssentiment=\"positive\"\\r\\n                  criticsscore=\"97\"\\r\\n                  criticscertified=\"false\"\\r\\n                >\\r\\n                </score-pairs>\\r\\n                <span class=\"p--small\">The Last of Us</span>\\r\\n              \\r\\n                </div>\\r\\n              \\r\\n            </tile-dynamic>\\r\\n          \\r\\n            </a>\\r\\n          \\r\\n        </tiles-carousel-responsive-item>\\r\\n      \\r\\n        <tiles-carousel-responsive-item slot=\"tile\">\\r\\n          \\r\\n            <a href=\"/tv/vikings_valhalla\">\\r\\n          \\r\\n            \\r\\n            <tile-dynamic  data-qa=\"tile\">\\r\\n              <img\\r\\n                slot=\"image\"\\r\\n                loading=\"lazy\"\\r\\n                src=\"https://resizing.flixster.com/fMuGSi69iuWXuVlR-h9tXaS_SjQ=/ems.cHJkLWVtcy1hc3NldHMvdHZzZXJpZXMvOGNmNDQ5N2ItMTkzOC00Mzk1LWI4YmUtYjU3Yjk4YjczZmFlLmpwZw==\"\\r\\n                alt=\"Vikings: Valhalla poster\"\\r\\n              />\\r\\n              \\r\\n                <div slot=\"caption\" data-track=\"scores\">\\r\\n              \\r\\n                <score-pairs\\r\\n                  audiencesentiment=\"hide\"\\r\\n                  audiencescore=\"hide\"\\r\\n                  criticssentiment=\"positive\"\\r\\n                  criticsscore=\"90\"\\r\\n                  criticscertified=\"false\"\\r\\n                >\\r\\n                </score-pairs>\\r\\n                <span class=\"p--small\">Vikings: Valhalla</span>\\r\\n              \\r\\n                </div>\\r\\n              \\r\\n            </tile-dynamic>\\r\\n          \\r\\n            </a>\\r\\n          \\r\\n        </tiles-carousel-responsive-item>\\r\\n      \\r\\n        <tiles-carousel-responsive-item slot=\"tile\">\\r\\n          \\r\\n            <a href=\"/tv/that_90s_show\">\\r\\n          \\r\\n            \\r\\n            <tile-dynamic  data-qa=\"tile\">\\r\\n              <img\\r\\n                slot=\"image\"\\r\\n                loading=\"lazy\"\\r\\n                src=\"https://resizing.flixster.com/bO7gsGRqUFTVGX9G3f7VtYqwHT4=/ems.cHJkLWVtcy1hc3NldHMvdHZzZXJpZXMvODc0Y2QwYTYtMjI2NS00ZWE1LThiMGUtM2MzYzFkNGFjZWM4LmpwZw==\"\\r\\n                alt=\"That &#39;90s Show poster\"\\r\\n              />\\r\\n              \\r\\n                <div slot=\"caption\" data-track=\"scores\">\\r\\n              \\r\\n                <score-pairs\\r\\n                  audiencesentiment=\"hide\"\\r\\n                  audiencescore=\"hide\"\\r\\n                  criticssentiment=\"\"\\r\\n                  criticsscore=\"\"\\r\\n                  criticscertified=\"\"\\r\\n                >\\r\\n                </score-pairs>\\r\\n                <span class=\"p--small\">That &#39;90s Show</span>\\r\\n              \\r\\n                </div>\\r\\n              \\r\\n            </tile-dynamic>\\r\\n          \\r\\n            </a>\\r\\n          \\r\\n        </tiles-carousel-responsive-item>\\r\\n      \\r\\n        <tiles-carousel-responsive-item slot=\"tile\">\\r\\n          \\r\\n            <a href=\"/tv/velma\">\\r\\n          \\r\\n            \\r\\n            <tile-dynamic  data-qa=\"tile\">\\r\\n              <img\\r\\n                slot=\"image\"\\r\\n                loading=\"lazy\"\\r\\n                src=\"https://resizing.flixster.com/35xnoIxSBdQlI2Ai5oG0TYTkb3I=/ems.cHJkLWVtcy1hc3NldHMvdHZzZXJpZXMvNTExODY5ODAtYjI1Mi00Nzc3LWFkN2UtMDI5M2MzNTkxMTgxLmpwZw==\"\\r\\n                alt=\"Velma poster\"\\r\\n              />\\r\\n              \\r\\n                <div slot=\"caption\" data-track=\"scores\">\\r\\n              \\r\\n                <score-pairs\\r\\n                  audiencesentiment=\"hide\"\\r\\n                  audiencescore=\"hide\"\\r\\n                  criticssentiment=\"negative\"\\r\\n                  criticsscore=\"50\"\\r\\n                  criticscertified=\"false\"\\r\\n                >\\r\\n                </score-pairs>\\r\\n                <span class=\"p--small\">Velma</span>\\r\\n              \\r\\n                </div>\\r\\n              \\r\\n            </tile-dynamic>\\r\\n          \\r\\n            </a>\\r\\n          \\r\\n        </tiles-carousel-responsive-item>\\r\\n      \\r\\n        <tiles-carousel-responsive-item slot=\"tile\">\\r\\n          \\r\\n            \\r\\n            <tile-dynamic isvideo data-qa=\"tile\">\\r\\n              <img\\r\\n                slot=\"image\"\\r\\n                loading=\"lazy\"\\r\\n                src=\"https://flxt.tmsimg.com/assets/p17560244_b_v12_ad.jpg\"\\r\\n                alt=\"The Mandalorian poster\"\\r\\n              />\\r\\n              \\r\\n                <button\\r\\n                  slot=\"imageAction\"\\r\\n                  \\r\\n                  class=\"transparent unset\"\\r\\n                  data-content-type=\"tvSeries\"\\r\\n                  data-mpx-fwsite=\"\"\\r\\n                  data-title=\"The Mandalorian\"\\r\\n                  data-video-id=\"\"\\r\\n                  data-video-list=\"rt-hp-poster-list-streaming-service-2\"\\r\\n                  data-track=\"poster\"\\r\\n                  data-position=\"5\"\\r\\n                  data-media-id=\"\"\\r\\n                  \\r\\n                    data-video-player-overlay-url=\"https://player.theplatform.com/p/NGweTC/pdk6_y__7B0iQTi4P/embed/select/media/MXYyF1kuGoZn\"\\r\\n                    data-video-player-overlay-media-url=\"/tv/the_mandalorian\"\\r\\n                  \\r\\n                  aria-label=\"Play The Mandalorian trailer\"\\r\\n                >\\r\\n                  <span class=\"sr-only\">The Mandalorian</span>\\r\\n                </button>\\r\\n                \\r\\n                <a slot=\"caption\" href=\"/tv/the_mandalorian\" data-track=\"scores\">\\r\\n              \\r\\n                <score-pairs\\r\\n                  audiencesentiment=\"hide\"\\r\\n                  audiencescore=\"hide\"\\r\\n                  criticssentiment=\"positive\"\\r\\n                  criticsscore=\"93\"\\r\\n                  criticscertified=\"false\"\\r\\n                >\\r\\n                </score-pairs>\\r\\n                <span class=\"p--small\">The Mandalorian</span>\\r\\n              \\r\\n                </a>\\r\\n              \\r\\n            </tile-dynamic>\\r\\n          \\r\\n        </tiles-carousel-responsive-item>\\r\\n      \\r\\n        <tiles-carousel-responsive-item slot=\"tile\">\\r\\n          \\r\\n            <a href=\"/tv/you\">\\r\\n          \\r\\n            \\r\\n            <tile-dynamic  data-qa=\"tile\">\\r\\n              <img\\r\\n                slot=\"image\"\\r\\n                loading=\"lazy\"\\r\\n                src=\"https://resizing.flixster.com/g81COrwvWE7pqUEIVL0271ZsFT4=/ems.cHJkLWVtcy1hc3NldHMvdHZzZXJpZXMvMjVhYWZjMGMtY2I4MS00ZWE2LWE5NTEtNTVlZDRjMDE3ZGU1LmpwZw==\"\\r\\n                alt=\"You poster\"\\r\\n              />\\r\\n              \\r\\n                <div slot=\"caption\" data-track=\"scores\">\\r\\n              \\r\\n                <score-pairs\\r\\n                  audiencesentiment=\"hide\"\\r\\n                  audiencescore=\"hide\"\\r\\n                  criticssentiment=\"positive\"\\r\\n                  criticsscore=\"91\"\\r\\n                  criticscertified=\"false\"\\r\\n                >\\r\\n                </score-pairs>\\r\\n                <span class=\"p--small\">You</span>\\r\\n              \\r\\n                </div>\\r\\n              \\r\\n            </tile-dynamic>\\r\\n          \\r\\n            </a>\\r\\n          \\r\\n        </tiles-carousel-responsive-item>\\r\\n      \\r\\n        <tiles-carousel-responsive-item slot=\"tile\">\\r\\n          \\r\\n            <a href=\"/tv/bel_air\">\\r\\n          \\r\\n            \\r\\n            <tile-dynamic  data-qa=\"tile\">\\r\\n              <img\\r\\n                slot=\"image\"\\r\\n                loading=\"lazy\"\\r\\n                src=\"https://resizing.flixster.com/TtloySH1hISX4lHvX8AFu6h3XQM=/ems.cHJkLWVtcy1hc3NldHMvdHZzZXJpZXMvYmIzNzk4ZWItOWZhNi00MjQ2LWJkYjYtZTFjNTY3YTQwOGU3LmpwZw==\"\\r\\n                alt=\"Bel-Air poster\"\\r\\n              />\\r\\n              \\r\\n                <div slot=\"caption\" data-track=\"scores\">\\r\\n              \\r\\n                <score-pairs\\r\\n                  audiencesentiment=\"hide\"\\r\\n                  audiencescore=\"hide\"\\r\\n                  criticssentiment=\"positive\"\\r\\n                  criticsscore=\"65\"\\r\\n                  criticscertified=\"false\"\\r\\n                >\\r\\n                </score-pairs>\\r\\n                <span class=\"p--small\">Bel-Air</span>\\r\\n              \\r\\n                </div>\\r\\n              \\r\\n            </tile-dynamic>\\r\\n          \\r\\n            </a>\\r\\n          \\r\\n        </tiles-carousel-responsive-item>\\r\\n      \\r\\n        <tiles-carousel-responsive-item slot=\"tile\">\\r\\n          \\r\\n            <a href=\"/tv/hunters-2020\">\\r\\n          \\r\\n            \\r\\n            <tile-dynamic  data-qa=\"tile\">\\r\\n              <img\\r\\n                slot=\"image\"\\r\\n                loading=\"lazy\"\\r\\n                src=\"https://resizing.flixster.com/UsNJCo9BRiq7PdJHVszzl0ssOBI=/ems.cHJkLWVtcy1hc3NldHMvdHZzZXJpZXMvUlRUVjYzNTcyMS53ZWJw\"\\r\\n                alt=\"Hunters poster\"\\r\\n              />\\r\\n              \\r\\n                <div slot=\"caption\" data-track=\"scores\">\\r\\n              \\r\\n                <score-pairs\\r\\n                  audiencesentiment=\"hide\"\\r\\n                  audiencescore=\"hide\"\\r\\n                  criticssentiment=\"positive\"\\r\\n                  criticsscore=\"62\"\\r\\n                  criticscertified=\"false\"\\r\\n                >\\r\\n                </score-pairs>\\r\\n                <span class=\"p--small\">Hunters</span>\\r\\n              \\r\\n                </div>\\r\\n              \\r\\n            </tile-dynamic>\\r\\n          \\r\\n            </a>\\r\\n          \\r\\n        </tiles-carousel-responsive-item>\\r\\n      \\r\\n\\r\\n      <button slot=\"scroll-right\">\\r\\n        <rt-icon slot=\"icon-arrow-right\" image icon=\"right-chevron\"></rt-icon>\\r\\n      </button>\\r\\n      \\r\\n    </tiles-carousel-responsive>\\r\\n  </section>\\r\\n\\n</div>\\n\\r\\n\\r\\n        \\r\\n    \\r\\n        <div class=\"ordered-layout__list ordered-layout__list--carousel\" data-curation=\"rt-hp-poster-list-streaming-service-1\">\\n  \\n  \\r\\n  <section class=\"dynamic-poster-list\" data-qa=\"dynamic-poster-list\">\\r\\n    <div class=\"dynamic-poster-list__header-container--hide-h3\">\\r\\n      <div>\\r\\n        \\r\\n          <h2 data-qa=\"title\">Latest Certified Fresh Movies</h2>\\r\\n        \\r\\n\\r\\n        \\r\\n          <a href=\"/browse/movies_at_home/critics:certified_fresh\" class=\"a--short\" data-track=\"showmore\">View all</a>\\r\\n        \\r\\n      </div>\\r\\n\\r\\n      \\r\\n    </div>\\r\\n    \\r\\n    \\r\\n\\r\\n    <tiles-carousel-responsive skeleton=\"panel\">\\r\\n\\r\\n      <button slot=\"scroll-left\">\\r\\n        <rt-icon slot=\"icon-arrow-left\" image icon=\"left-chevron\"></rt-icon>\\r\\n      </button>\\r\\n\\r\\n      \\r\\n        <tiles-carousel-responsive-item slot=\"tile\">\\r\\n          \\r\\n            \\r\\n            <tile-dynamic isvideo data-qa=\"tile\">\\r\\n              <img\\r\\n                slot=\"image\"\\r\\n                loading=\"lazy\"\\r\\n                src=\"https://resizing.flixster.com/rPJASTXFjLpmiVTi3D6RGcq-skM=/ems.cHJkLWVtcy1hc3NldHMvbW92aWVzLzhjYjA0ODBiLTNlNmUtNDlhOS05ZWRlLThlOGQ2MmEyZjlmYS5qcGc=\"\\r\\n                alt=\"M3GAN poster\"\\r\\n              />\\r\\n              \\r\\n                <button\\r\\n                  slot=\"imageAction\"\\r\\n                  \\r\\n                  class=\"transparent unset\"\\r\\n                  data-content-type=\"movie\"\\r\\n                  data-mpx-fwsite=\"\"\\r\\n                  data-title=\"M3GAN\"\\r\\n                  data-video-id=\"\"\\r\\n                  data-video-list=\"rt-hp-poster-list-streaming-service-1\"\\r\\n                  data-track=\"poster\"\\r\\n                  data-position=\"1\"\\r\\n                  data-media-id=\"\"\\r\\n                  \\r\\n                    data-video-player-overlay-url=\"https://player.theplatform.com/p/NGweTC/pdk6_y__7B0iQTi4P/embed/select/media/ylRnxYtCODKE\"\\r\\n                    data-video-player-overlay-media-url=\"/m/m3gan\"\\r\\n                  \\r\\n                  aria-label=\"Play M3GAN trailer\"\\r\\n                >\\r\\n                  <span class=\"sr-only\">M3GAN</span>\\r\\n                </button>\\r\\n                \\r\\n                <a slot=\"caption\" href=\"/m/m3gan\" data-track=\"scores\">\\r\\n              \\r\\n                <score-pairs\\r\\n                  audiencesentiment=\"hide\"\\r\\n                  audiencescore=\"hide\"\\r\\n                  criticssentiment=\"positive\"\\r\\n                  criticsscore=\"95\"\\r\\n                  criticscertified=\"criticscertified\"\\r\\n                >\\r\\n                </score-pairs>\\r\\n                <span class=\"p--small\">M3GAN</span>\\r\\n              \\r\\n                </a>\\r\\n              \\r\\n            </tile-dynamic>\\r\\n          \\r\\n        </tiles-carousel-responsive-item>\\r\\n      \\r\\n        <tiles-carousel-responsive-item slot=\"tile\">\\r\\n          \\r\\n            <a href=\"/m/wildcat_2022\">\\r\\n          \\r\\n            \\r\\n            <tile-dynamic  data-qa=\"tile\">\\r\\n              <img\\r\\n                slot=\"image\"\\r\\n                loading=\"lazy\"\\r\\n                src=\"https://resizing.flixster.com/LdA-MSk-v6nXWBm3GNKevb6jUsA=/ems.cHJkLWVtcy1hc3NldHMvbW92aWVzLzIzZDAxNTQ3LTkyOGYtNGY0YS1iOWQzLTg1NWI3NzMzNmM0Mi5qcGc=\"\\r\\n                alt=\"Wildcat poster\"\\r\\n              />\\r\\n              \\r\\n                <div slot=\"caption\" data-track=\"scores\">\\r\\n              \\r\\n                <score-pairs\\r\\n                  audiencesentiment=\"hide\"\\r\\n                  audiencescore=\"hide\"\\r\\n                  criticssentiment=\"positive\"\\r\\n                  criticsscore=\"93\"\\r\\n                  criticscertified=\"criticscertified\"\\r\\n                >\\r\\n                </score-pairs>\\r\\n                <span class=\"p--small\">Wildcat</span>\\r\\n              \\r\\n                </div>\\r\\n              \\r\\n            </tile-dynamic>\\r\\n          \\r\\n            </a>\\r\\n          \\r\\n        </tiles-carousel-responsive-item>\\r\\n      \\r\\n        <tiles-carousel-responsive-item slot=\"tile\">\\r\\n          \\r\\n            \\r\\n            <tile-dynamic isvideo data-qa=\"tile\">\\r\\n              <img\\r\\n                slot=\"image\"\\r\\n                loading=\"lazy\"\\r\\n                src=\"https://resizing.flixster.com/8SL1M-z8tuZXLaAZoteokJmfidY=/ems.cHJkLWVtcy1hc3NldHMvbW92aWVzLzU0YWJjMTFiLTQ2MDQtNGQ2YS05YmVmLWM4NjI4MDY4ODYzNy5qcGc=\"\\r\\n                alt=\"Saint Omer poster\"\\r\\n              />\\r\\n              \\r\\n                <button\\r\\n                  slot=\"imageAction\"\\r\\n                  \\r\\n                  class=\"transparent unset\"\\r\\n                  data-content-type=\"movie\"\\r\\n                  data-mpx-fwsite=\"\"\\r\\n                  data-title=\"Saint Omer\"\\r\\n                  data-video-id=\"\"\\r\\n                  data-video-list=\"rt-hp-poster-list-streaming-service-1\"\\r\\n                  data-track=\"poster\"\\r\\n                  data-position=\"3\"\\r\\n                  data-media-id=\"\"\\r\\n                  \\r\\n                    data-video-player-overlay-url=\"https://player.theplatform.com/p/NGweTC/pdk6_y__7B0iQTi4P/embed/select/media/n4NEwuxUBJKM\"\\r\\n                    data-video-player-overlay-media-url=\"/m/saint_omer\"\\r\\n                  \\r\\n                  aria-label=\"Play Saint Omer trailer\"\\r\\n                >\\r\\n                  <span class=\"sr-only\">Saint Omer</span>\\r\\n                </button>\\r\\n                \\r\\n                <a slot=\"caption\" href=\"/m/saint_omer\" data-track=\"scores\">\\r\\n              \\r\\n                <score-pairs\\r\\n                  audiencesentiment=\"hide\"\\r\\n                  audiencescore=\"hide\"\\r\\n                  criticssentiment=\"positive\"\\r\\n                  criticsscore=\"97\"\\r\\n                  criticscertified=\"criticscertified\"\\r\\n                >\\r\\n                </score-pairs>\\r\\n                <span class=\"p--small\">Saint Omer</span>\\r\\n              \\r\\n                </a>\\r\\n              \\r\\n            </tile-dynamic>\\r\\n          \\r\\n        </tiles-carousel-responsive-item>\\r\\n      \\r\\n        <tiles-carousel-responsive-item slot=\"tile\">\\r\\n          \\r\\n            \\r\\n            <tile-dynamic isvideo data-qa=\"tile\">\\r\\n              <img\\r\\n                slot=\"image\"\\r\\n                loading=\"lazy\"\\r\\n                src=\"https://resizing.flixster.com/Stjbv8FPqSNaUrjXTVGk7_6btBk=/ems.cHJkLWVtcy1hc3NldHMvbW92aWVzLzE5NTg1MWQ0LWQ1ZGMtNGE4OC1hNTVkLWViY2YxY2YyNWUwNy5qcGc=\"\\r\\n                alt=\"Ted K poster\"\\r\\n              />\\r\\n              \\r\\n                <button\\r\\n                  slot=\"imageAction\"\\r\\n                  \\r\\n                  class=\"transparent unset\"\\r\\n                  data-content-type=\"movie\"\\r\\n                  data-mpx-fwsite=\"\"\\r\\n                  data-title=\"Ted K\"\\r\\n                  data-video-id=\"\"\\r\\n                  data-video-list=\"rt-hp-poster-list-streaming-service-1\"\\r\\n                  data-track=\"poster\"\\r\\n                  data-position=\"4\"\\r\\n                  data-media-id=\"\"\\r\\n                  \\r\\n                    data-video-player-overlay-url=\"https://player.theplatform.com/p/NGweTC/pdk6_y__7B0iQTi4P/embed/select/media/7WcgObv8EaOO\"\\r\\n                    data-video-player-overlay-media-url=\"/m/ted_k\"\\r\\n                  \\r\\n                  aria-label=\"Play Ted K trailer\"\\r\\n                >\\r\\n                  <span class=\"sr-only\">Ted K</span>\\r\\n                </button>\\r\\n                \\r\\n                <a slot=\"caption\" href=\"/m/ted_k\" data-track=\"scores\">\\r\\n              \\r\\n                <score-pairs\\r\\n                  audiencesentiment=\"hide\"\\r\\n                  audiencescore=\"hide\"\\r\\n                  criticssentiment=\"positive\"\\r\\n                  criticsscore=\"85\"\\r\\n                  criticscertified=\"criticscertified\"\\r\\n                >\\r\\n                </score-pairs>\\r\\n                <span class=\"p--small\">Ted K</span>\\r\\n              \\r\\n                </a>\\r\\n              \\r\\n            </tile-dynamic>\\r\\n          \\r\\n        </tiles-carousel-responsive-item>\\r\\n      \\r\\n        <tiles-carousel-responsive-item slot=\"tile\">\\r\\n          \\r\\n            <a href=\"/m/is_that_black_enough_for_you\">\\r\\n          \\r\\n            \\r\\n            <tile-dynamic  data-qa=\"tile\">\\r\\n              <img\\r\\n                slot=\"image\"\\r\\n                loading=\"lazy\"\\r\\n                src=\"https://resizing.flixster.com/FMOmi-6s3a-yNNpLZlZeS7UL9uo=/ems.cHJkLWVtcy1hc3NldHMvbW92aWVzLzBlM2IyNmExLTM2NzYtNGNkZi1iNjE1LTQ0MTBlZmEyZGM1ZS5qcGc=\"\\r\\n                alt=\"Is That Black Enough for You?!? poster\"\\r\\n              />\\r\\n              \\r\\n                <div slot=\"caption\" data-track=\"scores\">\\r\\n              \\r\\n                <score-pairs\\r\\n                  audiencesentiment=\"hide\"\\r\\n                  audiencescore=\"hide\"\\r\\n                  criticssentiment=\"positive\"\\r\\n                  criticsscore=\"100\"\\r\\n                  criticscertified=\"criticscertified\"\\r\\n                >\\r\\n                </score-pairs>\\r\\n                <span class=\"p--small\">Is That Black Enough for You?!?</span>\\r\\n              \\r\\n                </div>\\r\\n              \\r\\n            </tile-dynamic>\\r\\n          \\r\\n            </a>\\r\\n          \\r\\n        </tiles-carousel-responsive-item>\\r\\n      \\r\\n        <tiles-carousel-responsive-item slot=\"tile\">\\r\\n          \\r\\n            \\r\\n            <tile-dynamic isvideo data-qa=\"tile\">\\r\\n              <img\\r\\n                slot=\"image\"\\r\\n                loading=\"lazy\"\\r\\n                src=\"https://resizing.flixster.com/vtIcjOYiM-QBXQyXhTFFgQoRkDw=/ems.cHJkLWVtcy1hc3NldHMvbW92aWVzL2JmNjM3ZTc2LTk5ZmMtNGJhNy04MDAzLWI3M2IxNmExNDNkYi5qcGc=\"\\r\\n                alt=\"Puss in Boots: The Last Wish poster\"\\r\\n              />\\r\\n              \\r\\n                <button\\r\\n                  slot=\"imageAction\"\\r\\n                  \\r\\n                  class=\"transparent unset\"\\r\\n                  data-content-type=\"movie\"\\r\\n                  data-mpx-fwsite=\"\"\\r\\n                  data-title=\"Puss in Boots: The Last Wish\"\\r\\n                  data-video-id=\"\"\\r\\n                  data-video-list=\"rt-hp-poster-list-streaming-service-1\"\\r\\n                  data-track=\"poster\"\\r\\n                  data-position=\"6\"\\r\\n                  data-media-id=\"\"\\r\\n                  \\r\\n                    data-video-player-overlay-url=\"https://player.theplatform.com/p/NGweTC/pdk6_y__7B0iQTi4P/embed/select/media/G3eStXA54JGr\"\\r\\n                    data-video-player-overlay-media-url=\"/m/puss_in_boots_the_last_wish\"\\r\\n                  \\r\\n                  aria-label=\"Play Puss in Boots: The Last Wish trailer\"\\r\\n                >\\r\\n                  <span class=\"sr-only\">Puss in Boots: The Last Wish</span>\\r\\n                </button>\\r\\n                \\r\\n                <a slot=\"caption\" href=\"/m/puss_in_boots_the_last_wish\" data-track=\"scores\">\\r\\n              \\r\\n                <score-pairs\\r\\n                  audiencesentiment=\"hide\"\\r\\n                  audiencescore=\"hide\"\\r\\n                  criticssentiment=\"positive\"\\r\\n                  criticsscore=\"96\"\\r\\n                  criticscertified=\"criticscertified\"\\r\\n                >\\r\\n                </score-pairs>\\r\\n                <span class=\"p--small\">Puss in Boots: The Last Wish</span>\\r\\n              \\r\\n                </a>\\r\\n              \\r\\n            </tile-dynamic>\\r\\n          \\r\\n        </tiles-carousel-responsive-item>\\r\\n      \\r\\n        <tiles-carousel-responsive-item slot=\"tile\">\\r\\n          \\r\\n            \\r\\n            <tile-dynamic isvideo data-qa=\"tile\">\\r\\n              <img\\r\\n                slot=\"image\"\\r\\n                loading=\"lazy\"\\r\\n                src=\"https://resizing.flixster.com/gWWM2Ov0VLAuazwELZCVc9grUQI=/ems.cHJkLWVtcy1hc3NldHMvbW92aWVzLzgyMGM0ZDJiLWNmYjAtNGI3NS1hYTgzLTQ5YmU2ZjQwZWE0ZC5qcGc=\"\\r\\n                alt=\"Avatar: The Way of Water poster\"\\r\\n              />\\r\\n              \\r\\n                <button\\r\\n                  slot=\"imageAction\"\\r\\n                  \\r\\n                  class=\"transparent unset\"\\r\\n                  data-content-type=\"movie\"\\r\\n                  data-mpx-fwsite=\"\"\\r\\n                  data-title=\"Avatar: The Way of Water\"\\r\\n                  data-video-id=\"\"\\r\\n                  data-video-list=\"rt-hp-poster-list-streaming-service-1\"\\r\\n                  data-track=\"poster\"\\r\\n                  data-position=\"7\"\\r\\n                  data-media-id=\"\"\\r\\n                  \\r\\n                    data-video-player-overlay-url=\"https://player.theplatform.com/p/NGweTC/pdk6_y__7B0iQTi4P/embed/select/media/knCBWVtdpB_y\"\\r\\n                    data-video-player-overlay-media-url=\"/m/avatar_the_way_of_water\"\\r\\n                  \\r\\n                  aria-label=\"Play Avatar: The Way of Water trailer\"\\r\\n                >\\r\\n                  <span class=\"sr-only\">Avatar: The Way of Water</span>\\r\\n                </button>\\r\\n                \\r\\n                <a slot=\"caption\" href=\"/m/avatar_the_way_of_water\" data-track=\"scores\">\\r\\n              \\r\\n                <score-pairs\\r\\n                  audiencesentiment=\"hide\"\\r\\n                  audiencescore=\"hide\"\\r\\n                  criticssentiment=\"positive\"\\r\\n                  criticsscore=\"77\"\\r\\n                  criticscertified=\"criticscertified\"\\r\\n                >\\r\\n                </score-pairs>\\r\\n                <span class=\"p--small\">Avatar: The Way of Water</span>\\r\\n              \\r\\n                </a>\\r\\n              \\r\\n            </tile-dynamic>\\r\\n          \\r\\n        </tiles-carousel-responsive-item>\\r\\n      \\r\\n        <tiles-carousel-responsive-item slot=\"tile\">\\r\\n          \\r\\n            \\r\\n            <tile-dynamic isvideo data-qa=\"tile\">\\r\\n              <img\\r\\n                slot=\"image\"\\r\\n                loading=\"lazy\"\\r\\n                src=\"https://flxt.tmsimg.com/assets/p22454657_p_v8_ac.jpg\"\\r\\n                alt=\"Roald Dahl&#39;s Matilda the Musical poster\"\\r\\n              />\\r\\n              \\r\\n                <button\\r\\n                  slot=\"imageAction\"\\r\\n                  \\r\\n                  class=\"transparent unset\"\\r\\n                  data-content-type=\"movie\"\\r\\n                  data-mpx-fwsite=\"\"\\r\\n                  data-title=\"Roald Dahl&#39;s Matilda the Musical\"\\r\\n                  data-video-id=\"\"\\r\\n                  data-video-list=\"rt-hp-poster-list-streaming-service-1\"\\r\\n                  data-track=\"poster\"\\r\\n                  data-position=\"8\"\\r\\n                  data-media-id=\"\"\\r\\n                  \\r\\n                    data-video-player-overlay-url=\"https://player.theplatform.com/p/NGweTC/pdk6_y__7B0iQTi4P/embed/select/media/L1B4pf31nu_6\"\\r\\n                    data-video-player-overlay-media-url=\"/m/roald_dahls_matilda_the_musical\"\\r\\n                  \\r\\n                  aria-label=\"Play Roald Dahl&#39;s Matilda the Musical trailer\"\\r\\n                >\\r\\n                  <span class=\"sr-only\">Roald Dahl&#39;s Matilda the Musical</span>\\r\\n                </button>\\r\\n                \\r\\n                <a slot=\"caption\" href=\"/m/roald_dahls_matilda_the_musical\" data-track=\"scores\">\\r\\n              \\r\\n                <score-pairs\\r\\n                  audiencesentiment=\"hide\"\\r\\n                  audiencescore=\"hide\"\\r\\n                  criticssentiment=\"positive\"\\r\\n                  criticsscore=\"92\"\\r\\n                  criticscertified=\"criticscertified\"\\r\\n                >\\r\\n                </score-pairs>\\r\\n                <span class=\"p--small\">Roald Dahl&#39;s Matilda the Musical</span>\\r\\n              \\r\\n                </a>\\r\\n              \\r\\n            </tile-dynamic>\\r\\n          \\r\\n        </tiles-carousel-responsive-item>\\r\\n      \\r\\n        <tiles-carousel-responsive-item slot=\"tile\">\\r\\n          \\r\\n            \\r\\n            <tile-dynamic isvideo data-qa=\"tile\">\\r\\n              <img\\r\\n                slot=\"image\"\\r\\n                loading=\"lazy\"\\r\\n                src=\"https://resizing.flixster.com/9lf5T8BzzwsbvDEx7q10DiGYpZE=/ems.cHJkLWVtcy1hc3NldHMvbW92aWVzLzZkMjM2ZGE2LTg4MDEtNDZlNC1hMmU0LWExMGM1MjJiZjQwMi5qcGc=\"\\r\\n                alt=\"&quot;Sr.&quot; poster\"\\r\\n              />\\r\\n              \\r\\n                <button\\r\\n                  slot=\"imageAction\"\\r\\n                  \\r\\n                  class=\"transparent unset\"\\r\\n                  data-content-type=\"movie\"\\r\\n                  data-mpx-fwsite=\"\"\\r\\n                  data-title=\"&quot;Sr.&quot;\"\\r\\n                  data-video-id=\"\"\\r\\n                  data-video-list=\"rt-hp-poster-list-streaming-service-1\"\\r\\n                  data-track=\"poster\"\\r\\n                  data-position=\"9\"\\r\\n                  data-media-id=\"\"\\r\\n                  \\r\\n                    data-video-player-overlay-url=\"https://player.theplatform.com/p/NGweTC/pdk6_y__7B0iQTi4P/embed/select/media/BqLCZTqUB_kr\"\\r\\n                    data-video-player-overlay-media-url=\"/m/sr\"\\r\\n                  \\r\\n                  aria-label=\"Play &quot;Sr.&quot; trailer\"\\r\\n                >\\r\\n                  <span class=\"sr-only\">&quot;Sr.&quot;</span>\\r\\n                </button>\\r\\n                \\r\\n                <a slot=\"caption\" href=\"/m/sr\" data-track=\"scores\">\\r\\n              \\r\\n                <score-pairs\\r\\n                  audiencesentiment=\"hide\"\\r\\n                  audiencescore=\"hide\"\\r\\n                  criticssentiment=\"positive\"\\r\\n                  criticsscore=\"97\"\\r\\n                  criticscertified=\"criticscertified\"\\r\\n                >\\r\\n                </score-pairs>\\r\\n                <span class=\"p--small\">&quot;Sr.&quot;</span>\\r\\n              \\r\\n                </a>\\r\\n              \\r\\n            </tile-dynamic>\\r\\n          \\r\\n        </tiles-carousel-responsive-item>\\r\\n      \\r\\n        <tiles-carousel-responsive-item slot=\"tile\">\\r\\n          \\r\\n            \\r\\n            <tile-dynamic isvideo data-qa=\"tile\">\\r\\n              <img\\r\\n                slot=\"image\"\\r\\n                loading=\"lazy\"\\r\\n                src=\"https://resizing.flixster.com/bewkINYSfH_9LYdcxDC2LNLEbQA=/ems.cHJkLWVtcy1hc3NldHMvbW92aWVzL2I3NTc0OTI3LTgzNDQtNGE1MS1iMDMzLTk5OWQ2MjU0NmUzNC5qcGc=\"\\r\\n                alt=\"Devotion poster\"\\r\\n              />\\r\\n              \\r\\n                <button\\r\\n                  slot=\"imageAction\"\\r\\n                  \\r\\n                  class=\"transparent unset\"\\r\\n                  data-content-type=\"movie\"\\r\\n                  data-mpx-fwsite=\"\"\\r\\n                  data-title=\"Devotion\"\\r\\n                  data-video-id=\"\"\\r\\n                  data-video-list=\"rt-hp-poster-list-streaming-service-1\"\\r\\n                  data-track=\"poster\"\\r\\n                  data-position=\"10\"\\r\\n                  data-media-id=\"\"\\r\\n                  \\r\\n                    data-video-player-overlay-url=\"https://player.theplatform.com/p/NGweTC/pdk6_y__7B0iQTi4P/embed/select/media/uMGYgU_G1AM4\"\\r\\n                    data-video-player-overlay-media-url=\"/m/devotion_2022\"\\r\\n                  \\r\\n                  aria-label=\"Play Devotion trailer\"\\r\\n                >\\r\\n                  <span class=\"sr-only\">Devotion</span>\\r\\n                </button>\\r\\n                \\r\\n                <a slot=\"caption\" href=\"/m/devotion_2022\" data-track=\"scores\">\\r\\n              \\r\\n                <score-pairs\\r\\n                  audiencesentiment=\"hide\"\\r\\n                  audiencescore=\"hide\"\\r\\n                  criticssentiment=\"positive\"\\r\\n                  criticsscore=\"81\"\\r\\n                  criticscertified=\"criticscertified\"\\r\\n                >\\r\\n                </score-pairs>\\r\\n                <span class=\"p--small\">Devotion</span>\\r\\n              \\r\\n                </a>\\r\\n              \\r\\n            </tile-dynamic>\\r\\n          \\r\\n        </tiles-carousel-responsive-item>\\r\\n      \\r\\n        <tiles-carousel-responsive-item slot=\"tile\">\\r\\n          \\r\\n            \\r\\n            <tile-dynamic isvideo data-qa=\"tile\">\\r\\n              <img\\r\\n                slot=\"image\"\\r\\n                loading=\"lazy\"\\r\\n                src=\"https://resizing.flixster.com/-HjV1R6DIW6dn2QZ5X7vaCGboxI=/ems.cHJkLWVtcy1hc3NldHMvbW92aWVzLzZmOWFkZWNhLWUxOTktNGM3ZS04NzM1LWI1ZDI1OWJmN2MxNS5qcGc=\"\\r\\n                alt=\"You Resemble Me poster\"\\r\\n              />\\r\\n              \\r\\n                <button\\r\\n                  slot=\"imageAction\"\\r\\n                  \\r\\n                  class=\"transparent unset\"\\r\\n                  data-content-type=\"movie\"\\r\\n                  data-mpx-fwsite=\"\"\\r\\n                  data-title=\"You Resemble Me\"\\r\\n                  data-video-id=\"\"\\r\\n                  data-video-list=\"rt-hp-poster-list-streaming-service-1\"\\r\\n                  data-track=\"poster\"\\r\\n                  data-position=\"11\"\\r\\n                  data-media-id=\"\"\\r\\n                  \\r\\n                    data-video-player-overlay-url=\"https://player.theplatform.com/p/NGweTC/pdk6_y__7B0iQTi4P/embed/select/media/JHA9WGm_FVZU\"\\r\\n                    data-video-player-overlay-media-url=\"/m/you_resemble_me\"\\r\\n                  \\r\\n                  aria-label=\"Play You Resemble Me trailer\"\\r\\n                >\\r\\n                  <span class=\"sr-only\">You Resemble Me</span>\\r\\n                </button>\\r\\n                \\r\\n                <a slot=\"caption\" href=\"/m/you_resemble_me\" data-track=\"scores\">\\r\\n              \\r\\n                <score-pairs\\r\\n                  audiencesentiment=\"hide\"\\r\\n                  audiencescore=\"hide\"\\r\\n                  criticssentiment=\"positive\"\\r\\n                  criticsscore=\"93\"\\r\\n                  criticscertified=\"criticscertified\"\\r\\n                >\\r\\n                </score-pairs>\\r\\n                <span class=\"p--small\">You Resemble Me</span>\\r\\n              \\r\\n                </a>\\r\\n              \\r\\n            </tile-dynamic>\\r\\n          \\r\\n        </tiles-carousel-responsive-item>\\r\\n      \\r\\n        <tiles-carousel-responsive-item slot=\"tile\">\\r\\n          \\r\\n            \\r\\n            <tile-dynamic isvideo data-qa=\"tile\">\\r\\n              <img\\r\\n                slot=\"image\"\\r\\n                loading=\"lazy\"\\r\\n                src=\"https://resizing.flixster.com/YK7EnYmnlr7njPaqZ_x-mdAI86A=/ems.cHJkLWVtcy1hc3NldHMvbW92aWVzL2FmZDQxZTlhLTYyN2ItNDc5ZS04NjEzLWU2NmY3Y2JkNTkwMi5qcGc=\"\\r\\n                alt=\"Women Talking poster\"\\r\\n              />\\r\\n              \\r\\n                <button\\r\\n                  slot=\"imageAction\"\\r\\n                  \\r\\n                  class=\"transparent unset\"\\r\\n                  data-content-type=\"movie\"\\r\\n                  data-mpx-fwsite=\"\"\\r\\n                  data-title=\"Women Talking\"\\r\\n                  data-video-id=\"\"\\r\\n                  data-video-list=\"rt-hp-poster-list-streaming-service-1\"\\r\\n                  data-track=\"poster\"\\r\\n                  data-position=\"12\"\\r\\n                  data-media-id=\"\"\\r\\n                  \\r\\n                    data-video-player-overlay-url=\"https://player.theplatform.com/p/NGweTC/pdk6_y__7B0iQTi4P/embed/select/media/1OdupGe0FRoh\"\\r\\n                    data-video-player-overlay-media-url=\"/m/women_talking\"\\r\\n                  \\r\\n                  aria-label=\"Play Women Talking trailer\"\\r\\n                >\\r\\n                  <span class=\"sr-only\">Women Talking</span>\\r\\n                </button>\\r\\n                \\r\\n                <a slot=\"caption\" href=\"/m/women_talking\" data-track=\"scores\">\\r\\n              \\r\\n                <score-pairs\\r\\n                  audiencesentiment=\"hide\"\\r\\n                  audiencescore=\"hide\"\\r\\n                  criticssentiment=\"positive\"\\r\\n                  criticsscore=\"90\"\\r\\n                  criticscertified=\"criticscertified\"\\r\\n                >\\r\\n                </score-pairs>\\r\\n                <span class=\"p--small\">Women Talking</span>\\r\\n              \\r\\n                </a>\\r\\n              \\r\\n            </tile-dynamic>\\r\\n          \\r\\n        </tiles-carousel-responsive-item>\\r\\n      \\r\\n        <tiles-carousel-responsive-item slot=\"tile\">\\r\\n          \\r\\n            \\r\\n            <tile-dynamic isvideo data-qa=\"tile\">\\r\\n              <img\\r\\n                slot=\"image\"\\r\\n                loading=\"lazy\"\\r\\n                src=\"https://resizing.flixster.com/uNtJQj5P_ORimbS6jRGXy2VSGZg=/ems.cHJkLWVtcy1hc3NldHMvbW92aWVzL2JlNGYzOWI0LWQ3ZjctNGRlMC1hNzI4LTI5NDk0Y2MyNzRiOS5qcGc=\"\\r\\n                alt=\"One Fine Morning poster\"\\r\\n              />\\r\\n              \\r\\n                <button\\r\\n                  slot=\"imageAction\"\\r\\n                  \\r\\n                  class=\"transparent unset\"\\r\\n                  data-content-type=\"movie\"\\r\\n                  data-mpx-fwsite=\"\"\\r\\n                  data-title=\"One Fine Morning\"\\r\\n                  data-video-id=\"\"\\r\\n                  data-video-list=\"rt-hp-poster-list-streaming-service-1\"\\r\\n                  data-track=\"poster\"\\r\\n                  data-position=\"13\"\\r\\n                  data-media-id=\"\"\\r\\n                  \\r\\n                    data-video-player-overlay-url=\"https://player.theplatform.com/p/NGweTC/pdk6_y__7B0iQTi4P/embed/select/media/nQoZIJu41oq1\"\\r\\n                    data-video-player-overlay-media-url=\"/m/one_fine_morning_2022\"\\r\\n                  \\r\\n                  aria-label=\"Play One Fine Morning trailer\"\\r\\n                >\\r\\n                  <span class=\"sr-only\">One Fine Morning</span>\\r\\n                </button>\\r\\n                \\r\\n                <a slot=\"caption\" href=\"/m/one_fine_morning_2022\" data-track=\"scores\">\\r\\n              \\r\\n                <score-pairs\\r\\n                  audiencesentiment=\"hide\"\\r\\n                  audiencescore=\"hide\"\\r\\n                  criticssentiment=\"positive\"\\r\\n                  criticsscore=\"88\"\\r\\n                  criticscertified=\"criticscertified\"\\r\\n                >\\r\\n                </score-pairs>\\r\\n                <span class=\"p--small\">One Fine Morning</span>\\r\\n              \\r\\n                </a>\\r\\n              \\r\\n            </tile-dynamic>\\r\\n          \\r\\n        </tiles-carousel-responsive-item>\\r\\n      \\r\\n        <tiles-carousel-responsive-item slot=\"tile\">\\r\\n          \\r\\n            \\r\\n            <tile-dynamic isvideo data-qa=\"tile\">\\r\\n              <img\\r\\n                slot=\"image\"\\r\\n                loading=\"lazy\"\\r\\n                src=\"https://resizing.flixster.com/M34yKDaJFaEss3V9A0qibNdgcRQ=/ems.cHJkLWVtcy1hc3NldHMvbW92aWVzL2MzMDVlYmZmLTlmNDUtNDU2Yy1iNmQ5LTYxMWFiNDMxNDc2Mi5qcGc=\"\\r\\n                alt=\"Living poster\"\\r\\n              />\\r\\n              \\r\\n                <button\\r\\n                  slot=\"imageAction\"\\r\\n                  \\r\\n                  class=\"transparent unset\"\\r\\n                  data-content-type=\"movie\"\\r\\n                  data-mpx-fwsite=\"\"\\r\\n                  data-title=\"Living\"\\r\\n                  data-video-id=\"\"\\r\\n                  data-video-list=\"rt-hp-poster-list-streaming-service-1\"\\r\\n                  data-track=\"poster\"\\r\\n                  data-position=\"14\"\\r\\n                  data-media-id=\"\"\\r\\n                  \\r\\n                    data-video-player-overlay-url=\"https://player.theplatform.com/p/NGweTC/pdk6_y__7B0iQTi4P/embed/select/media/42DyQ1NlQ0kA\"\\r\\n                    data-video-player-overlay-media-url=\"/m/living_2022\"\\r\\n                  \\r\\n                  aria-label=\"Play Living trailer\"\\r\\n                >\\r\\n                  <span class=\"sr-only\">Living</span>\\r\\n                </button>\\r\\n                \\r\\n                <a slot=\"caption\" href=\"/m/living_2022\" data-track=\"scores\">\\r\\n              \\r\\n                <score-pairs\\r\\n                  audiencesentiment=\"hide\"\\r\\n                  audiencescore=\"hide\"\\r\\n                  criticssentiment=\"positive\"\\r\\n                  criticsscore=\"94\"\\r\\n                  criticscertified=\"criticscertified\"\\r\\n                >\\r\\n                </score-pairs>\\r\\n                <span class=\"p--small\">Living</span>\\r\\n              \\r\\n                </a>\\r\\n              \\r\\n            </tile-dynamic>\\r\\n          \\r\\n        </tiles-carousel-responsive-item>\\r\\n      \\r\\n        <tiles-carousel-responsive-item slot=\"tile\">\\r\\n          \\r\\n            \\r\\n            <tile-dynamic isvideo data-qa=\"tile\">\\r\\n              <img\\r\\n                slot=\"image\"\\r\\n                loading=\"lazy\"\\r\\n                src=\"https://resizing.flixster.com/CvT-9DjQQbvT5RG8Sccdd6qK7vw=/ems.cHJkLWVtcy1hc3NldHMvbW92aWVzL2U5NjljYzNkLTJmZjAtNGZmZi1hMGU4LTkyOTZhYWRlZjUyYS5qcGc=\"\\r\\n                alt=\"The Inspection poster\"\\r\\n              />\\r\\n              \\r\\n                <button\\r\\n                  slot=\"imageAction\"\\r\\n                  \\r\\n                  class=\"transparent unset\"\\r\\n                  data-content-type=\"movie\"\\r\\n                  data-mpx-fwsite=\"\"\\r\\n                  data-title=\"The Inspection\"\\r\\n                  data-video-id=\"\"\\r\\n                  data-video-list=\"rt-hp-poster-list-streaming-service-1\"\\r\\n                  data-track=\"poster\"\\r\\n                  data-position=\"15\"\\r\\n                  data-media-id=\"\"\\r\\n                  \\r\\n                    data-video-player-overlay-url=\"https://player.theplatform.com/p/NGweTC/pdk6_y__7B0iQTi4P/embed/select/media/jEY4WiAQjogI\"\\r\\n                    data-video-player-overlay-media-url=\"/m/the_inspection\"\\r\\n                  \\r\\n                  aria-label=\"Play The Inspection trailer\"\\r\\n                >\\r\\n                  <span class=\"sr-only\">The Inspection</span>\\r\\n                </button>\\r\\n                \\r\\n                <a slot=\"caption\" href=\"/m/the_inspection\" data-track=\"scores\">\\r\\n              \\r\\n                <score-pairs\\r\\n                  audiencesentiment=\"hide\"\\r\\n                  audiencescore=\"hide\"\\r\\n                  criticssentiment=\"positive\"\\r\\n                  criticsscore=\"89\"\\r\\n                  criticscertified=\"criticscertified\"\\r\\n                >\\r\\n                </score-pairs>\\r\\n                <span class=\"p--small\">The Inspection</span>\\r\\n              \\r\\n                </a>\\r\\n              \\r\\n            </tile-dynamic>\\r\\n          \\r\\n        </tiles-carousel-responsive-item>\\r\\n      \\r\\n        <tiles-carousel-responsive-item slot=\"tile\">\\r\\n          \\r\\n            \\r\\n            <tile-dynamic isvideo data-qa=\"tile\">\\r\\n              <img\\r\\n                slot=\"image\"\\r\\n                loading=\"lazy\"\\r\\n                src=\"https://resizing.flixster.com/yyxVyKHQxrk4Xvdpo9kuZ7-T3Ls=/ems.cHJkLWVtcy1hc3NldHMvbW92aWVzL2NmOTkzYjhkLWI1YjItNGMzMS04NzA5LWFmZDg1MDBkYTU3ZC5qcGc=\"\\r\\n                alt=\"Corsage poster\"\\r\\n              />\\r\\n              \\r\\n                <button\\r\\n                  slot=\"imageAction\"\\r\\n                  \\r\\n                  class=\"transparent unset\"\\r\\n                  data-content-type=\"movie\"\\r\\n                  data-mpx-fwsite=\"\"\\r\\n                  data-title=\"Corsage\"\\r\\n                  data-video-id=\"\"\\r\\n                  data-video-list=\"rt-hp-poster-list-streaming-service-1\"\\r\\n                  data-track=\"poster\"\\r\\n                  data-position=\"16\"\\r\\n                  data-media-id=\"\"\\r\\n                  \\r\\n                    data-video-player-overlay-url=\"https://player.theplatform.com/p/NGweTC/pdk6_y__7B0iQTi4P/embed/select/media/FaSyQJWOV8ar\"\\r\\n                    data-video-player-overlay-media-url=\"/m/corsage\"\\r\\n                  \\r\\n                  aria-label=\"Play Corsage trailer\"\\r\\n                >\\r\\n                  <span class=\"sr-only\">Corsage</span>\\r\\n                </button>\\r\\n                \\r\\n                <a slot=\"caption\" href=\"/m/corsage\" data-track=\"scores\">\\r\\n              \\r\\n                <score-pairs\\r\\n                  audiencesentiment=\"hide\"\\r\\n                  audiencescore=\"hide\"\\r\\n                  criticssentiment=\"positive\"\\r\\n                  criticsscore=\"85\"\\r\\n                  criticscertified=\"criticscertified\"\\r\\n                >\\r\\n                </score-pairs>\\r\\n                <span class=\"p--small\">Corsage</span>\\r\\n              \\r\\n                </a>\\r\\n              \\r\\n            </tile-dynamic>\\r\\n          \\r\\n        </tiles-carousel-responsive-item>\\r\\n      \\r\\n        <tiles-carousel-responsive-item slot=\"tile\">\\r\\n          \\r\\n            \\r\\n            <tile-dynamic isvideo data-qa=\"tile\">\\r\\n              <img\\r\\n                slot=\"image\"\\r\\n                loading=\"lazy\"\\r\\n                src=\"https://flxt.tmsimg.com/assets/p22885074_p_v10_ab.jpg\"\\r\\n                alt=\"Lady Chatterley&#39;s Lover poster\"\\r\\n              />\\r\\n              \\r\\n                <button\\r\\n                  slot=\"imageAction\"\\r\\n                  \\r\\n                  class=\"transparent unset\"\\r\\n                  data-content-type=\"movie\"\\r\\n                  data-mpx-fwsite=\"\"\\r\\n                  data-title=\"Lady Chatterley&#39;s Lover\"\\r\\n                  data-video-id=\"\"\\r\\n                  data-video-list=\"rt-hp-poster-list-streaming-service-1\"\\r\\n                  data-track=\"poster\"\\r\\n                  data-position=\"17\"\\r\\n                  data-media-id=\"\"\\r\\n                  \\r\\n                    data-video-player-overlay-url=\"https://player.theplatform.com/p/NGweTC/pdk6_y__7B0iQTi4P/embed/select/media/w9DPOY_il4AE\"\\r\\n                    data-video-player-overlay-media-url=\"/m/lady_chatterleys_lover_2022\"\\r\\n                  \\r\\n                  aria-label=\"Play Lady Chatterley&#39;s Lover trailer\"\\r\\n                >\\r\\n                  <span class=\"sr-only\">Lady Chatterley&#39;s Lover</span>\\r\\n                </button>\\r\\n                \\r\\n                <a slot=\"caption\" href=\"/m/lady_chatterleys_lover_2022\" data-track=\"scores\">\\r\\n              \\r\\n                <score-pairs\\r\\n                  audiencesentiment=\"hide\"\\r\\n                  audiencescore=\"hide\"\\r\\n                  criticssentiment=\"positive\"\\r\\n                  criticsscore=\"87\"\\r\\n                  criticscertified=\"criticscertified\"\\r\\n                >\\r\\n                </score-pairs>\\r\\n                <span class=\"p--small\">Lady Chatterley&#39;s Lover</span>\\r\\n              \\r\\n                </a>\\r\\n              \\r\\n            </tile-dynamic>\\r\\n          \\r\\n        </tiles-carousel-responsive-item>\\r\\n      \\r\\n        <tiles-carousel-responsive-item slot=\"tile\">\\r\\n          \\r\\n            \\r\\n            <tile-dynamic isvideo data-qa=\"tile\">\\r\\n              <img\\r\\n                slot=\"image\"\\r\\n                loading=\"lazy\"\\r\\n                src=\"https://resizing.flixster.com/3QJCsYbQ63aLiz5zNEY2nAyLV4I=/ems.cHJkLWVtcy1hc3NldHMvbW92aWVzLzIzMzI2NjRiLWMyMTEtNDI4NC04NzliLWEzZGFiMjNjN2Q2ZS5qcGc=\"\\r\\n                alt=\"A Christmas Story Christmas poster\"\\r\\n              />\\r\\n              \\r\\n                <button\\r\\n                  slot=\"imageAction\"\\r\\n                  \\r\\n                  class=\"transparent unset\"\\r\\n                  data-content-type=\"movie\"\\r\\n                  data-mpx-fwsite=\"\"\\r\\n                  data-title=\"A Christmas Story Christmas\"\\r\\n                  data-video-id=\"\"\\r\\n                  data-video-list=\"rt-hp-poster-list-streaming-service-1\"\\r\\n                  data-track=\"poster\"\\r\\n                  data-position=\"18\"\\r\\n                  data-media-id=\"\"\\r\\n                  \\r\\n                    data-video-player-overlay-url=\"https://player.theplatform.com/p/NGweTC/pdk6_y__7B0iQTi4P/embed/select/media/_7NjlBW0DyOh\"\\r\\n                    data-video-player-overlay-media-url=\"/m/a_christmas_story_christmas\"\\r\\n                  \\r\\n                  aria-label=\"Play A Christmas Story Christmas trailer\"\\r\\n                >\\r\\n                  <span class=\"sr-only\">A Christmas Story Christmas</span>\\r\\n                </button>\\r\\n                \\r\\n                <a slot=\"caption\" href=\"/m/a_christmas_story_christmas\" data-track=\"scores\">\\r\\n              \\r\\n                <score-pairs\\r\\n                  audiencesentiment=\"hide\"\\r\\n                  audiencescore=\"hide\"\\r\\n                  criticssentiment=\"positive\"\\r\\n                  criticsscore=\"80\"\\r\\n                  criticscertified=\"criticscertified\"\\r\\n                >\\r\\n                </score-pairs>\\r\\n                <span class=\"p--small\">A Christmas Story Christmas</span>\\r\\n              \\r\\n                </a>\\r\\n              \\r\\n            </tile-dynamic>\\r\\n          \\r\\n        </tiles-carousel-responsive-item>\\r\\n      \\r\\n        <tiles-carousel-responsive-item slot=\"tile\">\\r\\n          \\r\\n            \\r\\n            <tile-dynamic isvideo data-qa=\"tile\">\\r\\n              <img\\r\\n                slot=\"image\"\\r\\n                loading=\"lazy\"\\r\\n                src=\"https://resizing.flixster.com/368B8C1Y11XaP__jg3rlAassSpc=/ems.cHJkLWVtcy1hc3NldHMvbW92aWVzL2M5ZDY5ZWI3LWYzMTktNDhjOS05MDQ0LWNjODBiNmUyOTNhOC5qcGc=\"\\r\\n                alt=\"The Eternal Daughter poster\"\\r\\n              />\\r\\n              \\r\\n                <button\\r\\n                  slot=\"imageAction\"\\r\\n                  \\r\\n                  class=\"transparent unset\"\\r\\n                  data-content-type=\"movie\"\\r\\n                  data-mpx-fwsite=\"\"\\r\\n                  data-title=\"The Eternal Daughter\"\\r\\n                  data-video-id=\"\"\\r\\n                  data-video-list=\"rt-hp-poster-list-streaming-service-1\"\\r\\n                  data-track=\"poster\"\\r\\n                  data-position=\"19\"\\r\\n                  data-media-id=\"\"\\r\\n                  \\r\\n                    data-video-player-overlay-url=\"https://player.theplatform.com/p/NGweTC/pdk6_y__7B0iQTi4P/embed/select/media/we2oYEMPe_5W\"\\r\\n                    data-video-player-overlay-media-url=\"/m/the_eternal_daughter\"\\r\\n                  \\r\\n                  aria-label=\"Play The Eternal Daughter trailer\"\\r\\n                >\\r\\n                  <span class=\"sr-only\">The Eternal Daughter</span>\\r\\n                </button>\\r\\n                \\r\\n                <a slot=\"caption\" href=\"/m/the_eternal_daughter\" data-track=\"scores\">\\r\\n              \\r\\n                <score-pairs\\r\\n                  audiencesentiment=\"hide\"\\r\\n                  audiencescore=\"hide\"\\r\\n                  criticssentiment=\"positive\"\\r\\n                  criticsscore=\"95\"\\r\\n                  criticscertified=\"criticscertified\"\\r\\n                >\\r\\n                </score-pairs>\\r\\n                <span class=\"p--small\">The Eternal Daughter</span>\\r\\n              \\r\\n                </a>\\r\\n              \\r\\n            </tile-dynamic>\\r\\n          \\r\\n        </tiles-carousel-responsive-item>\\r\\n      \\r\\n        <tiles-carousel-responsive-item slot=\"tile\">\\r\\n          \\r\\n            \\r\\n            <tile-dynamic isvideo data-qa=\"tile\">\\r\\n              <img\\r\\n                slot=\"image\"\\r\\n                loading=\"lazy\"\\r\\n                src=\"https://resizing.flixster.com/oUBxvoxvFBE_kqBF26yH2Yh3s6w=/ems.cHJkLWVtcy1hc3NldHMvbW92aWVzLzQ0YTJlZmQxLTg5MDktNDlhNi04MDlhLWE5NmU1NmFiN2U4Ni5qcGc=\"\\r\\n                alt=\"No Bears poster\"\\r\\n              />\\r\\n              \\r\\n                <button\\r\\n                  slot=\"imageAction\"\\r\\n                  \\r\\n                  class=\"transparent unset\"\\r\\n                  data-content-type=\"movie\"\\r\\n                  data-mpx-fwsite=\"\"\\r\\n                  data-title=\"No Bears\"\\r\\n                  data-video-id=\"\"\\r\\n                  data-video-list=\"rt-hp-poster-list-streaming-service-1\"\\r\\n                  data-track=\"poster\"\\r\\n                  data-position=\"20\"\\r\\n                  data-media-id=\"\"\\r\\n                  \\r\\n                    data-video-player-overlay-url=\"https://player.theplatform.com/p/NGweTC/pdk6_y__7B0iQTi4P/embed/select/media/n6V5qLYNT4NK\"\\r\\n                    data-video-player-overlay-media-url=\"/m/no_bears\"\\r\\n                  \\r\\n                  aria-label=\"Play No Bears trailer\"\\r\\n                >\\r\\n                  <span class=\"sr-only\">No Bears</span>\\r\\n                </button>\\r\\n                \\r\\n                <a slot=\"caption\" href=\"/m/no_bears\" data-track=\"scores\">\\r\\n              \\r\\n                <score-pairs\\r\\n                  audiencesentiment=\"hide\"\\r\\n                  audiencescore=\"hide\"\\r\\n                  criticssentiment=\"positive\"\\r\\n                  criticsscore=\"100\"\\r\\n                  criticscertified=\"criticscertified\"\\r\\n                >\\r\\n                </score-pairs>\\r\\n                <span class=\"p--small\">No Bears</span>\\r\\n              \\r\\n                </a>\\r\\n              \\r\\n            </tile-dynamic>\\r\\n          \\r\\n        </tiles-carousel-responsive-item>\\r\\n      \\r\\n\\r\\n      <button slot=\"scroll-right\">\\r\\n        <rt-icon slot=\"icon-arrow-right\" image icon=\"right-chevron\"></rt-icon>\\r\\n      </button>\\r\\n      \\r\\n    </tiles-carousel-responsive>\\r\\n  </section>\\r\\n\\n</div>\\n\\r\\n\\r\\n        \\r\\n    \\r\\n        <div class=\"ordered-layout__list ordered-layout__list--carousel\" data-curation=\"rt-hp-poster-list-streaming-service-4\">\\n  \\n  \\r\\n  <section class=\"dynamic-poster-list\" data-qa=\"dynamic-poster-list\">\\r\\n    <div class=\"dynamic-poster-list__header-container--hide-h3\">\\r\\n      <div>\\r\\n        \\r\\n          <h2 data-qa=\"title\">GOLDEN GLOBE WINNERS 2023</h2>\\r\\n        \\r\\n\\r\\n        \\r\\n          <a href=\"https://editorial.rottentomatoes.com/article/2023-golden-globe-winners/\" class=\"a--short\" data-track=\"showmore\">View all winners</a>\\r\\n        \\r\\n      </div>\\r\\n\\r\\n      \\r\\n    </div>\\r\\n    \\r\\n    \\r\\n\\r\\n    <tiles-carousel-responsive skeleton=\"panel\">\\r\\n\\r\\n      <button slot=\"scroll-left\">\\r\\n        <rt-icon slot=\"icon-arrow-left\" image icon=\"left-chevron\"></rt-icon>\\r\\n      </button>\\r\\n\\r\\n      \\r\\n        <tiles-carousel-responsive-item slot=\"tile\">\\r\\n          \\r\\n            \\r\\n            <tile-dynamic isvideo data-qa=\"tile\">\\r\\n              <img\\r\\n                slot=\"image\"\\r\\n                loading=\"lazy\"\\r\\n                src=\"https://resizing.flixster.com/sHWlKXB2LojbyFEGXuLICWYopdI=/ems.cHJkLWVtcy1hc3NldHMvbW92aWVzLzA3Y2Y3MTk3LWZkMWUtNGNjNS04YzY0LWI0YjNlNDNmYTRhNC5qcGc=\"\\r\\n                alt=\"The Fabelmans poster\"\\r\\n              />\\r\\n              \\r\\n                <button\\r\\n                  slot=\"imageAction\"\\r\\n                  \\r\\n                  class=\"transparent unset\"\\r\\n                  data-content-type=\"movie\"\\r\\n                  data-mpx-fwsite=\"\"\\r\\n                  data-title=\"The Fabelmans\"\\r\\n                  data-video-id=\"\"\\r\\n                  data-video-list=\"rt-hp-poster-list-streaming-service-4\"\\r\\n                  data-track=\"poster\"\\r\\n                  data-position=\"1\"\\r\\n                  data-media-id=\"\"\\r\\n                  \\r\\n                    data-video-player-overlay-url=\"https://player.theplatform.com/p/NGweTC/pdk6_y__7B0iQTi4P/embed/select/media/L_BptakH3bM_\"\\r\\n                    data-video-player-overlay-media-url=\"/m/the_fabelmans\"\\r\\n                  \\r\\n                  aria-label=\"Play The Fabelmans trailer\"\\r\\n                >\\r\\n                  <span class=\"sr-only\">The Fabelmans</span>\\r\\n                </button>\\r\\n                \\r\\n                <a slot=\"caption\" href=\"/m/the_fabelmans\" data-track=\"scores\">\\r\\n              \\r\\n                <score-pairs\\r\\n                  audiencesentiment=\"hide\"\\r\\n                  audiencescore=\"hide\"\\r\\n                  criticssentiment=\"positive\"\\r\\n                  criticsscore=\"92\"\\r\\n                  criticscertified=\"criticscertified\"\\r\\n                >\\r\\n                </score-pairs>\\r\\n                <span class=\"p--small\">The Fabelmans</span>\\r\\n              \\r\\n                </a>\\r\\n              \\r\\n            </tile-dynamic>\\r\\n          \\r\\n        </tiles-carousel-responsive-item>\\r\\n      \\r\\n        <tiles-carousel-responsive-item slot=\"tile\">\\r\\n          \\r\\n            \\r\\n            <tile-dynamic isvideo data-qa=\"tile\">\\r\\n              <img\\r\\n                slot=\"image\"\\r\\n                loading=\"lazy\"\\r\\n                src=\"https://resizing.flixster.com/SqYohHz5ela5G1qTZ8aKYunK2Oo=/ems.cHJkLWVtcy1hc3NldHMvbW92aWVzLzc4ZjI3ZDBiLTkwMDktNDVkZC1hZmI5LTJiNDdjNWRmZDVjOC5qcGc=\"\\r\\n                alt=\"The Banshees of Inisherin poster\"\\r\\n              />\\r\\n              \\r\\n                <button\\r\\n                  slot=\"imageAction\"\\r\\n                  \\r\\n                  class=\"transparent unset\"\\r\\n                  data-content-type=\"movie\"\\r\\n                  data-mpx-fwsite=\"\"\\r\\n                  data-title=\"The Banshees of Inisherin\"\\r\\n                  data-video-id=\"\"\\r\\n                  data-video-list=\"rt-hp-poster-list-streaming-service-4\"\\r\\n                  data-track=\"poster\"\\r\\n                  data-position=\"2\"\\r\\n                  data-media-id=\"\"\\r\\n                  \\r\\n                    data-video-player-overlay-url=\"https://player.theplatform.com/p/NGweTC/pdk6_y__7B0iQTi4P/embed/select/media/G0WI3edXMiy0\"\\r\\n                    data-video-player-overlay-media-url=\"/m/the_banshees_of_inisherin\"\\r\\n                  \\r\\n                  aria-label=\"Play The Banshees of Inisherin trailer\"\\r\\n                >\\r\\n                  <span class=\"sr-only\">The Banshees of Inisherin</span>\\r\\n                </button>\\r\\n                \\r\\n                <a slot=\"caption\" href=\"/m/the_banshees_of_inisherin\" data-track=\"scores\">\\r\\n              \\r\\n                <score-pairs\\r\\n                  audiencesentiment=\"hide\"\\r\\n                  audiencescore=\"hide\"\\r\\n                  criticssentiment=\"positive\"\\r\\n                  criticsscore=\"97\"\\r\\n                  criticscertified=\"criticscertified\"\\r\\n                >\\r\\n                </score-pairs>\\r\\n                <span class=\"p--small\">The Banshees of Inisherin</span>\\r\\n              \\r\\n                </a>\\r\\n              \\r\\n            </tile-dynamic>\\r\\n          \\r\\n        </tiles-carousel-responsive-item>\\r\\n      \\r\\n        <tiles-carousel-responsive-item slot=\"tile\">\\r\\n          \\r\\n            <a href=\"/tv/abbott_elementary\">\\r\\n          \\r\\n            \\r\\n            <tile-dynamic  data-qa=\"tile\">\\r\\n              <img\\r\\n                slot=\"image\"\\r\\n                loading=\"lazy\"\\r\\n                src=\"https://resizing.flixster.com/IgssURMPLBesN2OrY_kDOrBHKII=/ems.cHJkLWVtcy1hc3NldHMvdHZzZXJpZXMvOTIxNDZmMDQtYzk1Yi00MTA5LTkzZTMtYzZmODA1MWZiM2MzLmpwZw==\"\\r\\n                alt=\"Abbott Elementary poster\"\\r\\n              />\\r\\n              \\r\\n                <div slot=\"caption\" data-track=\"scores\">\\r\\n              \\r\\n                <score-pairs\\r\\n                  audiencesentiment=\"hide\"\\r\\n                  audiencescore=\"hide\"\\r\\n                  criticssentiment=\"positive\"\\r\\n                  criticsscore=\"99\"\\r\\n                  criticscertified=\"false\"\\r\\n                >\\r\\n                </score-pairs>\\r\\n                <span class=\"p--small\">Abbott Elementary</span>\\r\\n              \\r\\n                </div>\\r\\n              \\r\\n            </tile-dynamic>\\r\\n          \\r\\n            </a>\\r\\n          \\r\\n        </tiles-carousel-responsive-item>\\r\\n      \\r\\n        <tiles-carousel-responsive-item slot=\"tile\">\\r\\n          \\r\\n            \\r\\n            <tile-dynamic isvideo data-qa=\"tile\">\\r\\n              <img\\r\\n                slot=\"image\"\\r\\n                loading=\"lazy\"\\r\\n                src=\"https://resizing.flixster.com/QrT-Krzry3Ikh6cH4u9bHCYH_6w=/ems.cHJkLWVtcy1hc3NldHMvdHZzZXJpZXMvNGZmZmJkN2YtZDA4YS00ZjkzLWE3OTMtNTgyNDE5NWM3YjhmLmpwZw==\"\\r\\n                alt=\"House of the Dragon poster\"\\r\\n              />\\r\\n              \\r\\n                <button\\r\\n                  slot=\"imageAction\"\\r\\n                  \\r\\n                  class=\"transparent unset\"\\r\\n                  data-content-type=\"tvSeries\"\\r\\n                  data-mpx-fwsite=\"\"\\r\\n                  data-title=\"House of the Dragon\"\\r\\n                  data-video-id=\"\"\\r\\n                  data-video-list=\"rt-hp-poster-list-streaming-service-4\"\\r\\n                  data-track=\"poster\"\\r\\n                  data-position=\"4\"\\r\\n                  data-media-id=\"\"\\r\\n                  \\r\\n                    data-video-player-overlay-url=\"https://player.theplatform.com/p/NGweTC/pdk6_y__7B0iQTi4P/embed/select/media/j7gSOuK9tVS_\"\\r\\n                    data-video-player-overlay-media-url=\"/tv/house_of_the_dragon\"\\r\\n                  \\r\\n                  aria-label=\"Play House of the Dragon trailer\"\\r\\n                >\\r\\n                  <span class=\"sr-only\">House of the Dragon</span>\\r\\n                </button>\\r\\n                \\r\\n                <a slot=\"caption\" href=\"/tv/house_of_the_dragon\" data-track=\"scores\">\\r\\n              \\r\\n                <score-pairs\\r\\n                  audiencesentiment=\"hide\"\\r\\n                  audiencescore=\"hide\"\\r\\n                  criticssentiment=\"positive\"\\r\\n                  criticsscore=\"93\"\\r\\n                  criticscertified=\"false\"\\r\\n                >\\r\\n                </score-pairs>\\r\\n                <span class=\"p--small\">House of the Dragon</span>\\r\\n              \\r\\n                </a>\\r\\n              \\r\\n            </tile-dynamic>\\r\\n          \\r\\n        </tiles-carousel-responsive-item>\\r\\n      \\r\\n        <tiles-carousel-responsive-item slot=\"tile\">\\r\\n          \\r\\n            \\r\\n            <tile-dynamic isvideo data-qa=\"tile\">\\r\\n              <img\\r\\n                slot=\"image\"\\r\\n                loading=\"lazy\"\\r\\n                src=\"https://resizing.flixster.com/21j7kYKcSY89f0BqEBs-MUCmfkk=/ems.cHJkLWVtcy1hc3NldHMvbW92aWVzL2FiZWNkNjYzLTRkYTAtNGI2My05NmUzLWNkZmM0ZjI2NDk4Zi5qcGc=\"\\r\\n                alt=\"Guillermo del Toro&#39;s Pinocchio poster\"\\r\\n              />\\r\\n              \\r\\n                <button\\r\\n                  slot=\"imageAction\"\\r\\n                  \\r\\n                  class=\"transparent unset\"\\r\\n                  data-content-type=\"movie\"\\r\\n                  data-mpx-fwsite=\"\"\\r\\n                  data-title=\"Guillermo del Toro&#39;s Pinocchio\"\\r\\n                  data-video-id=\"\"\\r\\n                  data-video-list=\"rt-hp-poster-list-streaming-service-4\"\\r\\n                  data-track=\"poster\"\\r\\n                  data-position=\"5\"\\r\\n                  data-media-id=\"\"\\r\\n                  \\r\\n                    data-video-player-overlay-url=\"https://player.theplatform.com/p/NGweTC/pdk6_y__7B0iQTi4P/embed/select/media/yVGQJ5xWVvJq\"\\r\\n                    data-video-player-overlay-media-url=\"/m/guillermo_del_toros_pinocchio\"\\r\\n                  \\r\\n                  aria-label=\"Play Guillermo del Toro&#39;s Pinocchio trailer\"\\r\\n                >\\r\\n                  <span class=\"sr-only\">Guillermo del Toro&#39;s Pinocchio</span>\\r\\n                </button>\\r\\n                \\r\\n                <a slot=\"caption\" href=\"/m/guillermo_del_toros_pinocchio\" data-track=\"scores\">\\r\\n              \\r\\n                <score-pairs\\r\\n                  audiencesentiment=\"hide\"\\r\\n                  audiencescore=\"hide\"\\r\\n                  criticssentiment=\"positive\"\\r\\n                  criticsscore=\"97\"\\r\\n                  criticscertified=\"criticscertified\"\\r\\n                >\\r\\n                </score-pairs>\\r\\n                <span class=\"p--small\">Guillermo del Toro&#39;s Pinocchio</span>\\r\\n              \\r\\n                </a>\\r\\n              \\r\\n            </tile-dynamic>\\r\\n          \\r\\n        </tiles-carousel-responsive-item>\\r\\n      \\r\\n        <tiles-carousel-responsive-item slot=\"tile\">\\r\\n          \\r\\n            <a href=\"/m/argentina_1985\">\\r\\n          \\r\\n            \\r\\n            <tile-dynamic  data-qa=\"tile\">\\r\\n              <img\\r\\n                slot=\"image\"\\r\\n                loading=\"lazy\"\\r\\n                src=\"https://resizing.flixster.com/szJdELts6jHjw_8fuZN3OupeZPY=/ems.cHJkLWVtcy1hc3NldHMvbW92aWVzL2M5Y2QyODk1LWNmMmQtNGUwYS1hMTQyLWNjNzhkMGM2NThlNS5qcGc=\"\\r\\n                alt=\"Argentina, 1985 poster\"\\r\\n              />\\r\\n              \\r\\n                <div slot=\"caption\" data-track=\"scores\">\\r\\n              \\r\\n                <score-pairs\\r\\n                  audiencesentiment=\"hide\"\\r\\n                  audiencescore=\"hide\"\\r\\n                  criticssentiment=\"positive\"\\r\\n                  criticsscore=\"98\"\\r\\n                  criticscertified=\"criticscertified\"\\r\\n                >\\r\\n                </score-pairs>\\r\\n                <span class=\"p--small\">Argentina, 1985</span>\\r\\n              \\r\\n                </div>\\r\\n              \\r\\n            </tile-dynamic>\\r\\n          \\r\\n            </a>\\r\\n          \\r\\n        </tiles-carousel-responsive-item>\\r\\n      \\r\\n        <tiles-carousel-responsive-item slot=\"tile\">\\r\\n          \\r\\n            \\r\\n            <tile-dynamic isvideo data-qa=\"tile\">\\r\\n              <img\\r\\n                slot=\"image\"\\r\\n                loading=\"lazy\"\\r\\n                src=\"https://resizing.flixster.com/mx-agGjjsUK1QMyuv3AJhHI3hgo=/ems.cHJkLWVtcy1hc3NldHMvbW92aWVzLzA3ZjU2MGU1LWMxODItNDlkMC1hYzJhLTY2YzMwOGZkMDhiZi5qcGc=\"\\r\\n                alt=\"Everything Everywhere All at Once poster\"\\r\\n              />\\r\\n              \\r\\n                <button\\r\\n                  slot=\"imageAction\"\\r\\n                  \\r\\n                  class=\"transparent unset\"\\r\\n                  data-content-type=\"movie\"\\r\\n                  data-mpx-fwsite=\"\"\\r\\n                  data-title=\"Everything Everywhere All at Once\"\\r\\n                  data-video-id=\"\"\\r\\n                  data-video-list=\"rt-hp-poster-list-streaming-service-4\"\\r\\n                  data-track=\"poster\"\\r\\n                  data-position=\"7\"\\r\\n                  data-media-id=\"\"\\r\\n                  \\r\\n                    data-video-player-overlay-url=\"https://player.theplatform.com/p/NGweTC/pdk6_y__7B0iQTi4P/embed/select/media/knCBWVtdpB_y\"\\r\\n                    data-video-player-overlay-media-url=\"/m/everything_everywhere_all_at_once\"\\r\\n                  \\r\\n                  aria-label=\"Play Everything Everywhere All at Once trailer\"\\r\\n                >\\r\\n                  <span class=\"sr-only\">Everything Everywhere All at Once</span>\\r\\n                </button>\\r\\n                \\r\\n                <a slot=\"caption\" href=\"/m/everything_everywhere_all_at_once\" data-track=\"scores\">\\r\\n              \\r\\n                <score-pairs\\r\\n                  audiencesentiment=\"hide\"\\r\\n                  audiencescore=\"hide\"\\r\\n                  criticssentiment=\"positive\"\\r\\n                  criticsscore=\"95\"\\r\\n                  criticscertified=\"criticscertified\"\\r\\n                >\\r\\n                </score-pairs>\\r\\n                <span class=\"p--small\">Everything Everywhere All at Once</span>\\r\\n              \\r\\n                </a>\\r\\n              \\r\\n            </tile-dynamic>\\r\\n          \\r\\n        </tiles-carousel-responsive-item>\\r\\n      \\r\\n        <tiles-carousel-responsive-item slot=\"tile\">\\r\\n          \\r\\n            \\r\\n            <tile-dynamic isvideo data-qa=\"tile\">\\r\\n              <img\\r\\n                slot=\"image\"\\r\\n                loading=\"lazy\"\\r\\n                src=\"https://resizing.flixster.com/mYfU74jKBCV9KA_O7ktmk5exwu4=/ems.cHJkLWVtcy1hc3NldHMvbW92aWVzLzczNjAwNTk0LTRlZWEtNDY5Ni1iYWM1LWRhZjI1OWUzODNhNy5qcGc=\"\\r\\n                alt=\"Elvis poster\"\\r\\n              />\\r\\n              \\r\\n                <button\\r\\n                  slot=\"imageAction\"\\r\\n                  \\r\\n                  class=\"transparent unset\"\\r\\n                  data-content-type=\"movie\"\\r\\n                  data-mpx-fwsite=\"\"\\r\\n                  data-title=\"Elvis\"\\r\\n                  data-video-id=\"\"\\r\\n                  data-video-list=\"rt-hp-poster-list-streaming-service-4\"\\r\\n                  data-track=\"poster\"\\r\\n                  data-position=\"8\"\\r\\n                  data-media-id=\"\"\\r\\n                  \\r\\n                    data-video-player-overlay-url=\"https://player.theplatform.com/p/NGweTC/pdk6_y__7B0iQTi4P/embed/select/media/Hek5yhZJt4au\"\\r\\n                    data-video-player-overlay-media-url=\"/m/elvis\"\\r\\n                  \\r\\n                  aria-label=\"Play Elvis trailer\"\\r\\n                >\\r\\n                  <span class=\"sr-only\">Elvis</span>\\r\\n                </button>\\r\\n                \\r\\n                <a slot=\"caption\" href=\"/m/elvis\" data-track=\"scores\">\\r\\n              \\r\\n                <score-pairs\\r\\n                  audiencesentiment=\"hide\"\\r\\n                  audiencescore=\"hide\"\\r\\n                  criticssentiment=\"positive\"\\r\\n                  criticsscore=\"77\"\\r\\n                  criticscertified=\"criticscertified\"\\r\\n                >\\r\\n                </score-pairs>\\r\\n                <span class=\"p--small\">Elvis</span>\\r\\n              \\r\\n                </a>\\r\\n              \\r\\n            </tile-dynamic>\\r\\n          \\r\\n        </tiles-carousel-responsive-item>\\r\\n      \\r\\n        <tiles-carousel-responsive-item slot=\"tile\">\\r\\n          \\r\\n            \\r\\n            <tile-dynamic isvideo data-qa=\"tile\">\\r\\n              <img\\r\\n                slot=\"image\"\\r\\n                loading=\"lazy\"\\r\\n                src=\"https://resizing.flixster.com/wFUHH4yTM6tmK4R-0f6pCrCPpB0=/ems.cHJkLWVtcy1hc3NldHMvbW92aWVzLzBlZGZjZWM1LTVkNmMtNDYzZC1iNjc0LTYwNDY0YTkzYTExYy5qcGc=\"\\r\\n                alt=\"Tár poster\"\\r\\n              />\\r\\n              \\r\\n                <button\\r\\n                  slot=\"imageAction\"\\r\\n                  \\r\\n                  class=\"transparent unset\"\\r\\n                  data-content-type=\"movie\"\\r\\n                  data-mpx-fwsite=\"\"\\r\\n                  data-title=\"Tár\"\\r\\n                  data-video-id=\"\"\\r\\n                  data-video-list=\"rt-hp-poster-list-streaming-service-4\"\\r\\n                  data-track=\"poster\"\\r\\n                  data-position=\"9\"\\r\\n                  data-media-id=\"\"\\r\\n                  \\r\\n                    data-video-player-overlay-url=\"https://player.theplatform.com/p/NGweTC/pdk6_y__7B0iQTi4P/embed/select/media/DWwMyUgoEeY0\"\\r\\n                    data-video-player-overlay-media-url=\"/m/tar_2022\"\\r\\n                  \\r\\n                  aria-label=\"Play Tár trailer\"\\r\\n                >\\r\\n                  <span class=\"sr-only\">Tár</span>\\r\\n                </button>\\r\\n                \\r\\n                <a slot=\"caption\" href=\"/m/tar_2022\" data-track=\"scores\">\\r\\n              \\r\\n                <score-pairs\\r\\n                  audiencesentiment=\"hide\"\\r\\n                  audiencescore=\"hide\"\\r\\n                  criticssentiment=\"positive\"\\r\\n                  criticsscore=\"91\"\\r\\n                  criticscertified=\"criticscertified\"\\r\\n                >\\r\\n                </score-pairs>\\r\\n                <span class=\"p--small\">Tár</span>\\r\\n              \\r\\n                </a>\\r\\n              \\r\\n            </tile-dynamic>\\r\\n          \\r\\n        </tiles-carousel-responsive-item>\\r\\n      \\r\\n        <tiles-carousel-responsive-item slot=\"tile\">\\r\\n          \\r\\n            \\r\\n            <tile-dynamic isvideo data-qa=\"tile\">\\r\\n              <img\\r\\n                slot=\"image\"\\r\\n                loading=\"lazy\"\\r\\n                src=\"https://resizing.flixster.com/QJkeIM6LIvwmRGiLKrNBcpZIk8M=/ems.cHJkLWVtcy1hc3NldHMvbW92aWVzLzAwYzExZjlmLWJlODQtNDY4Mi1iNDhkLWU2YWNmMGIyMDgwMi5qcGc=\"\\r\\n                alt=\"Black Panther: Wakanda Forever poster\"\\r\\n              />\\r\\n              \\r\\n                <button\\r\\n                  slot=\"imageAction\"\\r\\n                  \\r\\n                  class=\"transparent unset\"\\r\\n                  data-content-type=\"movie\"\\r\\n                  data-mpx-fwsite=\"\"\\r\\n                  data-title=\"Black Panther: Wakanda Forever\"\\r\\n                  data-video-id=\"\"\\r\\n                  data-video-list=\"rt-hp-poster-list-streaming-service-4\"\\r\\n                  data-track=\"poster\"\\r\\n                  data-position=\"10\"\\r\\n                  data-media-id=\"\"\\r\\n                  \\r\\n                    data-video-player-overlay-url=\"https://player.theplatform.com/p/NGweTC/pdk6_y__7B0iQTi4P/embed/select/media/uMGYgU_G1AM4\"\\r\\n                    data-video-player-overlay-media-url=\"/m/black_panther_wakanda_forever\"\\r\\n                  \\r\\n                  aria-label=\"Play Black Panther: Wakanda Forever trailer\"\\r\\n                >\\r\\n                  <span class=\"sr-only\">Black Panther: Wakanda Forever</span>\\r\\n                </button>\\r\\n                \\r\\n                <a slot=\"caption\" href=\"/m/black_panther_wakanda_forever\" data-track=\"scores\">\\r\\n              \\r\\n                <score-pairs\\r\\n                  audiencesentiment=\"hide\"\\r\\n                  audiencescore=\"hide\"\\r\\n                  criticssentiment=\"positive\"\\r\\n                  criticsscore=\"84\"\\r\\n                  criticscertified=\"criticscertified\"\\r\\n                >\\r\\n                </score-pairs>\\r\\n                <span class=\"p--small\">Black Panther: Wakanda Forever</span>\\r\\n              \\r\\n                </a>\\r\\n              \\r\\n            </tile-dynamic>\\r\\n          \\r\\n        </tiles-carousel-responsive-item>\\r\\n      \\r\\n        <tiles-carousel-responsive-item slot=\"tile\">\\r\\n          \\r\\n            \\r\\n            <tile-dynamic isvideo data-qa=\"tile\">\\r\\n              <img\\r\\n                slot=\"image\"\\r\\n                loading=\"lazy\"\\r\\n                src=\"https://resizing.flixster.com/BN4S6kzfD9ZbvanjxBmNLYNquLU=/ems.cHJkLWVtcy1hc3NldHMvbW92aWVzL2E2ZTQxYzhkLTFhNTItNDhkMy05ZjA3LTBmYzhjYTc2NWQyMi5qcGc=\"\\r\\n                alt=\"RRR poster\"\\r\\n              />\\r\\n              \\r\\n                <button\\r\\n                  slot=\"imageAction\"\\r\\n                  \\r\\n                  class=\"transparent unset\"\\r\\n                  data-content-type=\"movie\"\\r\\n                  data-mpx-fwsite=\"\"\\r\\n                  data-title=\"RRR\"\\r\\n                  data-video-id=\"\"\\r\\n                  data-video-list=\"rt-hp-poster-list-streaming-service-4\"\\r\\n                  data-track=\"poster\"\\r\\n                  data-position=\"11\"\\r\\n                  data-media-id=\"\"\\r\\n                  \\r\\n                    data-video-player-overlay-url=\"https://player.theplatform.com/p/NGweTC/pdk6_y__7B0iQTi4P/embed/select/media/a5aLWkMC53Y9\"\\r\\n                    data-video-player-overlay-media-url=\"/m/rrr\"\\r\\n                  \\r\\n                  aria-label=\"Play RRR trailer\"\\r\\n                >\\r\\n                  <span class=\"sr-only\">RRR</span>\\r\\n                </button>\\r\\n                \\r\\n                <a slot=\"caption\" href=\"/m/rrr\" data-track=\"scores\">\\r\\n              \\r\\n                <score-pairs\\r\\n                  audiencesentiment=\"hide\"\\r\\n                  audiencescore=\"hide\"\\r\\n                  criticssentiment=\"positive\"\\r\\n                  criticsscore=\"94\"\\r\\n                  criticscertified=\"criticscertified\"\\r\\n                >\\r\\n                </score-pairs>\\r\\n                <span class=\"p--small\">RRR</span>\\r\\n              \\r\\n                </a>\\r\\n              \\r\\n            </tile-dynamic>\\r\\n          \\r\\n        </tiles-carousel-responsive-item>\\r\\n      \\r\\n\\r\\n      <button slot=\"scroll-right\">\\r\\n        <rt-icon slot=\"icon-arrow-right\" image icon=\"right-chevron\"></rt-icon>\\r\\n      </button>\\r\\n      \\r\\n    </tiles-carousel-responsive>\\r\\n  </section>\\r\\n\\n</div>\\n\\r\\n\\r\\n        \\r\\n    \\r\\n</section>\\r\\n\\n        <section id=\"trailers-and-videos\" class=\"trailers-and-videos\" data-qa=\"section:trailers-and-videos\" data-curation=\"\">\\n    <div class=\"trailers-and-videos__header\">\\n        <h2 data-qa=\"trailers-and-videos-title\">Trailers &amp; Videos</h2>\\n        <a class=\"a--short\" href=\"https://editorial.rottentomatoes.com/video-interviews/\" data-qa=\"trailers-and-videos-view-all-link\">\\n            View all\\n        </a>\\n    </div>\\n    <div class=\"trailers-and-videos__body\">\\n        <div class=\"module-1x4\">\\n            <ul class=\"module-1x4__left\">\\n              \\n              <li class=\"trailers-and-videos-item module-1x4__item\" data-qa=\"trailers-and-videos-item\">\\n  <a href=https://editorial.rottentomatoes.com/article/how-david-harbour-became-santa-claus-for-violent-night/ data-qa=\"trailers-and-videos-item-link\">\\n      <div class=\"trailers-and-videos-item__body\">\\n          <div class=\"trailers-and-videos-item__thumbnail-group\">\\n            <img\\n              class=\"trailers-and-videos-item__thumbnail-image home__thumbnail\"\\n              src=\"https://images.fandango.com/cms/assets/f206a6a0-8e0b-11ed-bbb0-99bdf247c629--rttv-thelastofus-550x310.jpg\"\\n              alt=\"&lt;em&gt;The Last of Us&lt;/em&gt;\"\\n              loading=\"lazy\" />\\n            \\n              <rt-badge>Interview</rt-badge>\\n            \\n          </div>\\n          <div class=\"trailers-and-videos-item__info\">\\n              <h3><em>The Last of Us</em></h3>\\n              <p class=\"p--short\">Pedro Pascal & Bella Ramsey on their post-apocalyptic chemisty</p>\\n          </div>\\n        </div>\\n    </a>\\n</li>\\n\\n            </ul>\\n            <ul class=\"module-1x4__right\">\\n                \\n                    \\n                    <li class=\"trailers-and-videos-item module-1x4__item\" data-qa=\"trailers-and-videos-item\">\\n  <a href=https://editorial.rottentomatoes.com/article/m3gan-junket/ data-qa=\"trailers-and-videos-item-link\">\\n      <div class=\"trailers-and-videos-item__body\">\\n          <div class=\"trailers-and-videos-item__thumbnail-group\">\\n            <img\\n              class=\"trailers-and-videos-item__thumbnail-image home__thumbnail\"\\n              src=\"https://images.fandango.com/cms/assets/38bbc4d0-8d3b-11ed-83f2-4f600722b564--rt-megan.jpg\"\\n              alt=\"&lt;em&gt;M3GAN&lt;/em&gt;\"\\n              loading=\"lazy\" />\\n            \\n              <rt-badge>Interview</rt-badge>\\n            \\n          </div>\\n          <div class=\"trailers-and-videos-item__info\">\\n              <h3><em>M3GAN</em></h3>\\n              <p class=\"p--short\">The cast & crew on techno-horror and creepy doll team-ups </p>\\n          </div>\\n        </div>\\n    </a>\\n</li>\\n\\n                \\n                    \\n                    <li class=\"trailers-and-videos-item module-1x4__item\" data-qa=\"trailers-and-videos-item\">\\n  <a href=https://editorial.rottentomatoes.com/article/the-cast-of-babylon-on-the-immortality-of-the-movies/ data-qa=\"trailers-and-videos-item-link\">\\n      <div class=\"trailers-and-videos-item__body\">\\n          <div class=\"trailers-and-videos-item__thumbnail-group\">\\n            <img\\n              class=\"trailers-and-videos-item__thumbnail-image home__thumbnail\"\\n              src=\"https://images.fandango.com/cms/assets/8624b4d0-82fe-11ed-90fe-f325d9bf4959--babylon-junket-rep.jpeg\"\\n              alt=\"&lt;em&gt;Babylon&lt;/em&gt; \"\\n              loading=\"lazy\" />\\n            \\n              <rt-badge>Interview</rt-badge>\\n            \\n          </div>\\n          <div class=\"trailers-and-videos-item__info\">\\n              <h3><em>Babylon</em> </h3>\\n              <p class=\"p--short\">The cast on the immortality of the movies</p>\\n          </div>\\n        </div>\\n    </a>\\n</li>\\n\\n                \\n                    \\n                    <li class=\"trailers-and-videos-item module-1x4__item\" data-qa=\"trailers-and-videos-item\">\\n  <a href=https://editorial.rottentomatoes.com/article/how-brendan-fraser-became-charlie-in-the-whale/ data-qa=\"trailers-and-videos-item-link\">\\n      <div class=\"trailers-and-videos-item__body\">\\n          <div class=\"trailers-and-videos-item__thumbnail-group\">\\n            <img\\n              class=\"trailers-and-videos-item__thumbnail-image home__thumbnail\"\\n              src=\"https://images.fandango.com/cms/assets/af661920-80a0-11ed-90fe-f325d9bf4959--becoming-charlie-the-whale-rep.jpeg\"\\n              alt=\"&lt;em&gt;The Whale&lt;/em&gt; \"\\n              loading=\"lazy\" />\\n            \\n              <rt-badge>Interview</rt-badge>\\n            \\n          </div>\\n          <div class=\"trailers-and-videos-item__info\">\\n              <h3><em>The Whale</em> </h3>\\n              <p class=\"p--short\">How Brendan Fraser became Charlie in <em>The Whale</em></p>\\n          </div>\\n        </div>\\n    </a>\\n</li>\\n\\n                \\n                    \\n                    <li class=\"trailers-and-videos-item module-1x4__item\" data-qa=\"trailers-and-videos-item\">\\n  <a href=https://editorial.rottentomatoes.com/article/the-white-lotus-season-2-cast-interviews/ data-qa=\"trailers-and-videos-item-link\">\\n      <div class=\"trailers-and-videos-item__body\">\\n          <div class=\"trailers-and-videos-item__thumbnail-group\">\\n            <img\\n              class=\"trailers-and-videos-item__thumbnail-image home__thumbnail\"\\n              src=\"https://images.fandango.com/cms/assets/e57dd5e0-5948-11ed-b2f6-e1f3892e3f59--rt-whitelotus-550x310.jpg\"\\n              alt=\"&lt;em&gt;The White Lotus&lt;/em&gt;\"\\n              loading=\"lazy\" />\\n            \\n              <rt-badge>Interview</rt-badge>\\n            \\n          </div>\\n          <div class=\"trailers-and-videos-item__info\">\\n              <h3><em>The White Lotus</em></h3>\\n              <p class=\"p--short\">Season 2 cast on reinventing the series in Italy</p>\\n          </div>\\n        </div>\\n    </a>\\n</li>\\n\\n                \\n            </ul>\\n        </div>\\n    </div>\\n    \\n    \\n    \\n        \\n    \\n    \\n    <div id=\"sponsored_video_ad\" style=\"display:none;\"></div>\\n    <script>\\n        var mps = mps||{}; mps._queue = mps._queue||{}; mps._queue.gptloaded = mps._queue.gptloaded||[];\\n        mps._queue.gptloaded.push(function () {\\n            mps.insertAd(\\'#sponsored_video_ad\\',\\'featuredtrailer\\');\\n        });\\n    </script>\\n\\n\\n\\n    \\n    \\n    \\n        \\n    \\n    <div id=\"featured_ad_video_ad\" style=\"display:none;\"></div>\\n    <script>\\n        var mps = mps||{}; mps._queue = mps._queue||{}; mps._queue.gptloaded = mps._queue.gptloaded||[];\\n        mps._queue.gptloaded.push(function () {\\n            if (mps.getResponsiveSet() != \\'0\\') { //DESKTOP or TABLET\\n                mps.insertAd(\\'#featured_ad_video_ad\\',\\'featuredvideo\\');\\n            }\\n        });\\n    </script>\\n\\n\\n</section>\\n\\n        <section id=\"movie-and-tv-guides\" class=\"movie-and-tv-guides \" data-curation=\"rt-hp-movie-and-tv-guides\" data-qa=\"section:movie-tv-guides\">\\n  <div class=\"movie-and-tv-guides__header \">\\n    <h2 class=\"\" data-qa=\"movie-tv-guides-title\">Movie &amp; TV guides</h2>\\n    <a class=\"a--short \" href=\"https://editorial.rottentomatoes.com/more-related-content/\" data-qa=\"news-view-all-link\">View All</a>\\n  </div>\\n  <div class=\"movie-and-tv-guides__body \">\\n    <ul class=\"movie-and-tv-guides__items\">\\n      \\n        <li class=\"movie-and-tv-guides-item\" data-qa=\"news-article-item\">\\n          <a href=\"https://editorial.rottentomatoes.com/article/most-anticipated-movies-of-2023/\" data-qa=\"news-article-link\">\\n              <img\\n                alt=\"Most Anticipated 2023 Movies\"\\n                class=\"movie-and-tv-guides-item__image home__thumbnail\"\\n                loading=\"lazy\"\\n                src=\"https://resizing.flixster.com/Jr7oCstgF6ZHVx_nvab3b3GEm-s=/370x208/v2/https://images.fandango.com/cms/assets/4dcc0180-8b85-11ed-90fe-f325d9bf4959--h1donsnz.jpeg\"\\n              />\\n              <p class=\"movie-and-tv-guides-item__main\">\\n                  <span class=\"movie-and-tv-guides-item__header \">Most Anticipated 2023 Movies </span>\\n              </p>\\n          </a>\\n        </li>\\n      \\n        <li class=\"movie-and-tv-guides-item\" data-qa=\"news-article-item\">\\n          <a href=\"https://editorial.rottentomatoes.com/article/tv-premiere-dates-2023/\" data-qa=\"news-article-link\">\\n              <img\\n                alt=\"TV Premiere Dates 2023\"\\n                class=\"movie-and-tv-guides-item__image home__thumbnail\"\\n                loading=\"lazy\"\\n                src=\"https://resizing.flixster.com/yjyNQzv5oZhl3V6-CmRCYx6mMF8=/370x208/v2/https://images.fandango.com/cms/assets/fc2a7f00-8c4c-11ed-90fe-f325d9bf4959--9bafdcxq.jpeg\"\\n              />\\n              <p class=\"movie-and-tv-guides-item__main\">\\n                  <span class=\"movie-and-tv-guides-item__header \">TV Premiere Dates 2023 </span>\\n              </p>\\n          </a>\\n        </li>\\n      \\n        <li class=\"movie-and-tv-guides-item\" data-qa=\"news-article-item\">\\n          <a href=\"https://editorial.rottentomatoes.com/guide/2022-horror-movies-ranked/\" data-qa=\"news-article-link\">\\n              <img\\n                alt=\"Best Horror Movies of 2022\"\\n                class=\"movie-and-tv-guides-item__image home__thumbnail\"\\n                loading=\"lazy\"\\n                src=\"https://resizing.flixster.com/PjIHE4942v5BSr32J0jNOCTDptw=/370x208/v2/https://images.fandango.com/cms/assets/3d7939f0-74de-11ed-90fe-f325d9bf4959--themenu.jpg\"\\n              />\\n              <p class=\"movie-and-tv-guides-item__main\">\\n                  <span class=\"movie-and-tv-guides-item__header \">Best Horror Movies of 2022 </span>\\n              </p>\\n          </a>\\n        </li>\\n      \\n        <li class=\"movie-and-tv-guides-item\" data-qa=\"news-article-item\">\\n          <a href=\"https://editorial.rottentomatoes.com/guide/the-best-tv-shows-of-2022/\" data-qa=\"news-article-link\">\\n              <img\\n                alt=\"Best TV & Streaming 2022\"\\n                class=\"movie-and-tv-guides-item__image home__thumbnail\"\\n                loading=\"lazy\"\\n                src=\"https://resizing.flixster.com/TmdpdzpJKiiBkzoveh6BN7LPiA4=/370x208/v2/https://images.fandango.com/cms/assets/66ec2b10-87b4-11ed-90fe-f325d9bf4959--600recruit.jpeg\"\\n              />\\n              <p class=\"movie-and-tv-guides-item__main\">\\n                  <span class=\"movie-and-tv-guides-item__header \">Best TV & Streaming 2022 </span>\\n              </p>\\n          </a>\\n        </li>\\n      \\n    </ul>\\n  </div>\\n</section>\\n\\n\\n        \\n            <section id=\"top-headlines\" class=\"top-headlines\" data-qa=\"section:top-headlines\">\\n  <div class=\"top-headlines__header\">\\n    <h2 data-qa=\"top-headlines-title\">Top Headlines</h2>\\n    <a class=\"a--short\" href=\"https://editorial.rottentomatoes.com/publications/\" data-qa=\"top-headlines-view-all-link\">View All</a>\\n  </div>\\n  <div class=\" top-headlines__body\">\\n    <div class=\"top-headlines__col top-headlines__col-left\">\\n      <ul class=\"top-headlines__list ul--bullet-list\">\\n          \\n            \\n            <li class=\"top-headlines-item\" data-qa=\"top-headlines-item\">\\n    <a target=\"_blank\" href=\"https://editorial.rottentomatoes.com/article/most-anticipated-movies-of-2022/\" rel=\"noopener\" data-qa=\"top-headlines-item-link\">2022&#8217;s Most Anticipated Movies</a>\\n    \\n</li>\\n          \\n            \\n            <li class=\"top-headlines-item\" data-qa=\"top-headlines-item\">\\n    <a target=\"_blank\" href=\"https://editorial.rottentomatoes.com/article/2022-most-anticipated-tv-and-streaming-new-and-returning-shows/\" rel=\"noopener\" data-qa=\"top-headlines-item-link\">2022’s Most Anticipated TV &#038; Streaming</a>\\n    \\n</li>\\n          \\n            \\n            <li class=\"top-headlines-item\" data-qa=\"top-headlines-item\">\\n    <a target=\"_blank\" href=\"https://editorial.rottentomatoes.com/guide/all-marvel-cinematic-universe-movies-ranked/\" rel=\"noopener\" data-qa=\"top-headlines-item-link\">All MCU Movies Ranked By Tomatometer</a>\\n    \\n</li>\\n          \\n            \\n            <li class=\"top-headlines-item\" data-qa=\"top-headlines-item\">\\n    <a target=\"_blank\" href=\"https://editorial.rottentomatoes.com/article/renewed-and-cancelled-tv-shows-2022/\" rel=\"noopener\" data-qa=\"top-headlines-item-link\">Renewed &#038; Cancelled TV Shows 2022</a>\\n    \\n</li>\\n          \\n      </ul>\\n    </div>\\n    <div class=\"top-headlines__col top-headlines__col-right\">\\n      <ul class=\"top-headlines__list ul--bullet-list\">\\n          \\n            \\n            <li class=\"top-headlines-item\" data-qa=\"top-headlines-item\">\\n    <a target=\"_blank\" href=\"https://editorial.rottentomatoes.com/guide/2022-horror-movies-ranked/\" rel=\"noopener\" data-qa=\"top-headlines-item-link\">Best 2022 Horror Movies Ranked By Tomatometer</a>\\n    \\n</li>\\n          \\n            \\n            <li class=\"top-headlines-item\" data-qa=\"top-headlines-item\">\\n    <a target=\"_blank\" href=\"https://editorial.rottentomatoes.com/article/tv-premiere-dates-2022/\" rel=\"noopener\" data-qa=\"top-headlines-item-link\">TV Premiere Dates 2022</a>\\n    \\n</li>\\n          \\n            \\n            <li class=\"top-headlines-item\" data-qa=\"top-headlines-item\">\\n    <a target=\"_blank\" href=\"https://editorial.rottentomatoes.com/guide/worst-horror-movies/\" rel=\"noopener\" data-qa=\"top-headlines-item-link\">The Worst Horror Movies of All Time</a>\\n    \\n</li>\\n          \\n            \\n            <li class=\"top-headlines-item\" data-qa=\"top-headlines-item\">\\n    <a target=\"_blank\" href=\"https://editorial.rottentomatoes.com/guide/best-netflix-shows-and-movies-to-binge-watch-now/\" rel=\"noopener\" data-qa=\"top-headlines-item-link\">Best Netflix Series &#038; Shows</a>\\n    \\n</li>\\n          \\n      </ul>\\n    </div>\\n  </div>\\n</section>\\n\\n        \\n\\n        <div class=\"home-news-list-ad\">\\n            <div class=\"home-news-list-ad__body\"><!-- Glam medrec for overseas users. glamTarget is set globally in body.tag -->\\n                \\n                \\n    \\n    \\n    \\n    <aside id=\"medrec_bottom_ad\" class=\"medrec_ad \" style=\"width:300px\"></aside>\\n        \\n            <script>\\n                var mps = mps||{}; mps._queue = mps._queue||{}; mps._queue.gptloaded = mps._queue.gptloaded||[];\\n                mps._queue.gptloaded.push(function () {\\n                    if (mps.getResponsiveSet() != \\'0\\') { //DESKTOP or TABLET\\n                        mps.insertAd(\\'#medrec_bottom_ad\\',\\'boxadone\\');\\n                    } else if (mps.getResponsiveSet() == \\'0\\' && \\'home\\' == \\'home\\') {\\n                        mps.insertAd(\\'#medrec_bottom_ad\\',\\'mboxadtwo\\');\\n                    }\\n                });\\n            </script>\\n        \\n        \\n        \\n        \\n\\n\\n            </div>\\n        </div>\\n    </section>\\n\\n    <overlay-base hidden>\\n        <video-player-overlay class=\"video-overlay-wrap\" slot=\"content\" data-qa=\"video-overlay\">\\n            <div slot=\"header\">\\n                <button class=\"close-btn rt-icon rt-icon__close\" disabled data-qa=\"video-close-btn\">\\n                    <span class=\"sr-only\">Close video</span>\\n                </button>\\n                <a class=\"cta-btn header-cta button hide\">See Details</a>\\n            </div>\\n            \\n            <video-player slot=\"content\" autoplay></video-player>\\n            \\n            <a slot=\"footer\" class=\"cta-btn footer-cta button hide\">See Details</a>\\n        </video-player-overlay>\\n    </overlay-base>\\n\\n    \\n\\n                </div>\\n            </main>\\n\\n            \\n    \\n    \\n    <div class=\"sleaderboard_wrapper hidden-xs mobile-hidden\">\\n    <div id=\"leaderboard_bottom_ad\" style=\"margin-left:auto;margin-right:auto;display:inline-block\"> </div>\\n    <script>\\n        var mps = mps||{}; mps._queue = mps._queue||{}; mps._queue.gptloaded = mps._queue.gptloaded||[];\\n        mps._queue.gptloaded.push(function () {\\n            if (mps.getResponsiveSet() != \\'0\\') { //DESKTOP or TABLET\\n                mps.insertAd(\\'#leaderboard_bottom_ad\\',\\'bottombanner\\');\\n            }\\n        });\\n    </script>\\n    </div>\\n\\n\\n            \\n                \\n    \\n        \\n    \\n    \\n    <!--\\n    <c:set var=\"onloadJs\">\\n    if(!$(\"#[skin]_ad\").is(\":visible\")){$(\"body\").removeAttr(\"style\");}\\n    </c:set>\\n     -->\\n    <style>#[skin]_ad { height:0px !important; }</style>\\n    \\n    <div id=\"[skin]_ad\"></div>\\n\\n\\n            \\n\\n            <footer class=\"footer container\">\\n    <div class=\"footer__content-desktop-block\" data-qa=\"footer:section\">\\n        <div class=\"footer__content-group\">\\n            <ul class=\"footer__links-list\">\\n                <li class=\"footer__links-list-item\">\\n                    <a href=\"/help_desk\" data-qa=\"footer:link-helpdesk\">Help</a>\\n                </li>\\n                <li class=\"footer__links-list-item\">\\n                    <a href=\"/about\" data-qa=\"footer:link-about\">About Rotten Tomatoes</a>\\n                </li>\\n                <li class=\"footer__links-list-item\">\\n                    <a href=\"/about#whatisthetomatometer\" data-qa=\"footer:link-whats-tmeter\">What\\'s the Tomatometer<sup>&reg;</sup>?</a>\\n                </li>\\n                <li id=\"footer-feedback\" class=\"footer__links-list-item\">\\n                    \\n                </li>\\n            </ul>\\n        </div>\\n        <div class=\"footer__content-group\">\\n            <ul class=\"footer__links-list\">\\n                <li class=\"footer__links-list-item\">\\n                    <a href=\"/critics/criteria\" data-qa=\"footer:link-critic-submission\">Critic Submission</a>\\n                </li>\\n                <li class=\"footer__links-list-item\">\\n                    <a href=\"/help_desk/licensing\" data-qa=\"footer:link-licensing\">Licensing</a>\\n                </li>\\n                <li class=\"footer__links-list-item\">\\n                    <a href=\"https://together.nbcuni.com/advertise/?utm_source=rotten_tomatoes&amp;utm_medium=referral&amp;utm_campaign=property_ad_pages&amp;utm_content=footer\" target=\"_blank\" data-qa=\"footer:link-ads\">Advertise With Us</a>\\n                </li>\\n                <li class=\"footer__links-list-item\">\\n                    <a href=\"//www.fandango.com/careers\" target=\"_blank\" data-qa=\"footer:link-careers\">Careers</a>\\n                </li>\\n            </ul>\\n        </div>\\n        <div class=\"footer__content-group footer__newsletter-block\">\\n            <p class=\"h3 footer__content-group-title\"><span class=\"rt-icon rt-icon__mail footer__newsletter-icon\"></span>Join The Newsletter</p>\\n            <p class=\"footer__newsletter-copy\">Get the freshest reviews, news, and more delivered right to your inbox!</p>\\n            <button class=\"js-cognito-join-newsletter button footer__newsletter-btn\" data-qa=\"footer:newsletter-btn\">Join The Newsletter</button>\\n            <a href=\"https://optout.services.fandango.com/rottentomatoes\" class=\"button footer__newsletter-btn hide\" data-qa=\"footer:newsletter-btn-signed-in\"><span>Join The Newsletter</span></a>\\n        </div>\\n        <div class=\"footer__content-group footer__social-block\" data-qa=\"footer:social\">\\n            <p class=\"h3 footer__content-group-title\">Follow Us</p>\\n            <ul class=\"footer__links-list list-inline\">\\n                <li class=\"footer__links-list-item\">\\n                    <a href=\"//www.facebook.com/rottentomatoes\" aria-label=\"Facebook\" target=\"_blank\" data-qa=\"footer:social-fb\">\\n                        <rt-icon icon=\"facebook-squared\"></rt-icon>\\n                    </a>\\n                </li>\\n                <li class=\"footer__links-list-item\">\\n                    <a href=\"//twitter.com/rottentomatoes\" aria-label=\"Twitter\" target=\"_blank\" data-qa=\"footer:social-twitter\">\\n                        <rt-icon icon=\"twitter\"></rt-icon>\\n                    </a>\\n                </li>\\n                <li class=\"footer__links-list-item\">\\n                    <a href=\"//www.instagram.com/rottentomatoes/\" aria-label=\"Instagram\" target=\"_blank\" data-qa=\"footer:social-instagram\">\\n                        <rt-icon icon=\"instagram\"></rt-icon>\\n                    </a>\\n                </li>\\n                <li class=\"footer__links-list-item\">\\n                    <a href=\"https://www.pinterest.com/rottentomatoes\" aria-label=\"Pinterest\" target=\"_blank\" data-qa=\"footer:social-pinterest\">\\n                        <rt-icon icon=\"pinterest\"></rt-icon>\\n                    </a>\\n                </li>\\n                <li class=\"footer__links-list-item\">\\n                    <a href=\"//www.youtube.com/user/rottentomatoes\" aria-label=\"YouTube\" target=\"_blank\" data-qa=\"footer:social-yt\">\\n                        <rt-icon icon=\"youtube-play\"></rt-icon>\\n                    </a>\\n                </li>\\n            </ul>\\n        </div>\\n    </div>\\n    <div class=\"footer__content-mobile-block\" data-qa=\"mfooter:section\">\\n        <div class=\"footer__content-group\">\\n            <p class=\"footer__copyright-legal\" data-qa=\"mfooter:copyright\">Copyright &copy; Fandango. All rights reserved.</p>\\n            <button class=\"js-cognito-join-newsletter button footer__newsletter-btn\" data-qa=\"mfooter:newsletter-btn\">Join Newsletter</button>\\n            <a href=\"https://optout.services.fandango.com/rottentomatoes\" class=\"button footer__newsletter-btn hide\" data-qa=\"mfooter:newsletter-btn-signed-in\">Join Newsletter</a>\\n            <ul class=\"footer__links-list list-inline\">\\n                <li class=\"footer__links-list-item\">\\n                    <a href=\"//www.fandango.com/policies/privacy-policy\" target=\"_blank\" data-qa=\"mfooter:link-privacy-policy\">\\n                        Privacy Policy\\n                    </a>\\n                </li>\\n                <li class=\"footer__links-list-item\">\\n                    <a href=\"//www.fandango.com/policies/terms-and-policies\" target=\"_blank\" data-qa=\"mfooter:link-terms-policies\">Terms and Policies</a>\\n                </li>\\n                <li class=\"footer__links-list-item\">\\n                    <img src=\"https://images.fandango.com/cms/assets/266533e0-7afb-11ed-83f2-4f600722b564--privacyoptions.svg\" class=\"footer__ccpa-icon\" loading=\"lazy\" alt=\"CCPA icon\" />\\n                    <!-- OneTrust Cookies Settings button start -->\\n                    <a href=\"javascript:void(0)\" id=\"ot-sdk-btn\" class=\"ot-sdk-show-settings mobile\">Cookie Settings</a>\\n                    <!-- OneTrust Cookies Settings button end -->\\n                </li>\\n                <li class=\"footer__links-list-item\">\\n                    <a href=\"//www.fandango.com/californianotice\" target=\"_blank\" data-qa=\"mfooter:link-california-notice\">California Notice</a>\\n                </li>\\n                <li class=\"footer__links-list-item\">\\n                    <a href=\"//www.fandango.com/policies/cookies-and-tracking#cookie_management\" target=\"_blank\" data-qa=\"mfooter:link-adChoices\">Ad Choices</a>\\n                </li>\\n                <li id=\"footer-feedback-mobile\" class=\"footer__links-list-item\">\\n                    \\n                </li>\\n                <li class=\"footer__links-list-item\">\\n                    <a href=\"/faq#accessibility\" data-qa=\"mfooter:link-accessibility\">Accessibility</a>\\n                </li>\\n            </ul>\\n        </div>\\n    </div>\\n    <div class=\"footer__copyright\">\\n        <ul class=\"footer__links-list list-inline list-inline--separator\" data-qa=\"footer:links-list-privacy\">\\n            <li class=\"footer__links-list-item version\" data-qa=\"footer:version\">\\n                <span>V3.1</span>\\n            </li>\\n            <li class=\"footer__links-list-item\">\\n                <a href=\"//www.fandango.com/policies/privacy-policy\" target=\"_blank\" data-qa=\"footer:link-privacy-policy\">\\n                    Privacy Policy\\n                </a>\\n            </li>\\n            <li class=\"footer__links-list-item\">\\n                <a href=\"//www.fandango.com/policies/terms-and-policies\" target=\"_blank\" data-qa=\"footer:link-terms-policies\">Terms and Policies</a>\\n            </li>\\n            <li class=\"footer__links-list-item\">\\n                <img src=\"https://images.fandango.com/cms/assets/266533e0-7afb-11ed-83f2-4f600722b564--privacyoptions.svg\" class=\"footer__ccpa-icon\" loading=\"lazy\" alt=\"CCPA icon\" />\\n                <!-- OneTrust Cookies Settings button start -->\\n                <a href=\"javascript:void(0)\" id=\"ot-sdk-btn\" class=\"ot-sdk-show-settings\">Cookie Settings</a>\\n                <!-- OneTrust Cookies Settings button end -->\\n            </li>\\n            <li class=\"footer__links-list-item\">\\n                <a href=\"//www.fandango.com/californianotice\" target=\"_blank\" data-qa=\"footer:link-california-notice\">California Notice</a>\\n            </li>\\n            <li class=\"footer__links-list-item\">\\n                <a href=\"//www.fandango.com/policies/cookies-and-tracking#cookie_management\" target=\"_blank\" data-qa=\"footer:link-adChoices\">Ad Choices</a>\\n            </li>\\n            <li class=\"footer__links-list-item\">\\n                <a href=\"/faq#accessibility\" data-qa=\"footer:link-accessibility\">Accessibility</a>\\n            </li>\\n        </ul>\\n        <span class=\"footer__copyright-legal\" data-qa=\"footer:copyright\">Copyright &copy; Fandango. All rights reserved.</span>\\n    </div>\\n</footer>\\n\\n        </div>\\n\\n        <!-- PDK -->\\n        <script src=\"//pdk.theplatform.com/current/pdk/tpPdkController.js\"></script>\\n        <!-- End PDK -->\\n\\n        \\n    \\n        <script type=\"text/javascript\">\\n(function (root) {\\n/* -- Data -- */\\nroot.RottenTomatoes || (root.RottenTomatoes = {});\\nroot.RottenTomatoes.context = {\"_routes\":{\"adminManagePeople\":{\"path\":\"https:\\\\u002F\\\\u002Fadmin.flixster.com\\\\u002Fadmin\\\\u002Fmanage-people?id=:id\",\"tokens\":[{\"literal\":\"https:\\\\u002F\\\\u002Fadmin.flixster.com\\\\u002Fadmin\\\\u002Fmanage-people?id=\"},{\"key\":\"id\"}]},\"adminMerge\":{\"path\":\"https:\\\\u002F\\\\u002Fadmin.flixster.com\\\\u002Factor\\\\u002Fmerge?from=:id\",\"tokens\":[{\"literal\":\"https:\\\\u002F\\\\u002Fadmin.flixster.com\\\\u002Factor\\\\u002Fmerge?from=\"},{\"key\":\"id\"}]},\"baseCanonicalUrl\":{\"path\":\"https:\\\\u002F\\\\u002Fwww.rottentomatoes.com\",\"tokens\":[{\"literal\":\"https:\\\\u002F\\\\u002Fwww.rottentomatoes.com\"}]},\"webCriticSourceReviewsNapi\":{\"path\":\"\\\\u002Fnapi\\\\u002Fcritics\\\\u002Fsource\\\\u002F:publicationId\\\\u002F:type(movies|tv)\",\"tokens\":[{\"literal\":\"\\\\u002Fnapi\\\\u002Fcritics\\\\u002Fsource\\\\u002F\"},{\"key\":\"publicationId\"},{\"literal\":\"\\\\u002F\"},{\"key\":\"type\"}]},\"editorialPageCodeOfConduct\":{\"path\":\"https:\\\\u002F\\\\u002Feditorial.rottentomatoes.com\\\\u002Fotg-article\\\\u002Fcommunity-code-of-conduct\",\"tokens\":[{\"literal\":\"https:\\\\u002F\\\\u002Feditorial.rottentomatoes.com\\\\u002Fotg-article\\\\u002Fcommunity-code-of-conduct\"}]},\"editorialPageProductBlog\":{\"path\":\"https:\\\\u002F\\\\u002Feditorial.rottentomatoes.com\\\\u002Frt-product-blog\",\"tokens\":[{\"literal\":\"https:\\\\u002F\\\\u002Feditorial.rottentomatoes.com\\\\u002Frt-product-blog\"}]},\"flixsterGeoLocationApi\":{\"path\":\"https:\\\\u002F\\\\u002Fapi.flixster.com\\\\u002Fticketing\\\\u002Fapi\\\\u002Fv1\\\\u002Fgeoip\",\"tokens\":[{\"literal\":\"https:\\\\u002F\\\\u002Fapi.flixster.com\\\\u002Fticketing\\\\u002Fapi\\\\u002Fv1\\\\u002Fgeoip\"}]},\"commonAutocompleteNapi\":{\"path\":\"\\\\u002Fnapi\\\\u002Flocation\\\\u002Fautocomplete\\\\u002F:text\",\"tokens\":[{\"literal\":\"\\\\u002Fnapi\\\\u002Flocation\\\\u002Fautocomplete\\\\u002F\"},{\"key\":\"text\"}]},\"commonGetLocationFromTextNapi\":{\"path\":\"\\\\u002Fnapi\\\\u002Flocation\\\\u002Ftext\",\"tokens\":[{\"literal\":\"\\\\u002Fnapi\\\\u002Flocation\\\\u002Ftext\"}]},\"webMovieReviewsGetAudienceReviewNapi\":{\"path\":\"\\\\u002Fnapi\\\\u002Fmovie\\\\u002F:movieId\\\\u002Freviews\\\\u002F:type(user|verified_audience)\",\"tokens\":[{\"literal\":\"\\\\u002Fnapi\\\\u002Fmovie\\\\u002F\"},{\"key\":\"movieId\"},{\"literal\":\"\\\\u002Freviews\\\\u002F\"},{\"key\":\"type\"}]},\"webMovieReviewsGetCriticsReviewNapi\":{\"path\":\"\\\\u002Fnapi\\\\u002Fmovie\\\\u002F:movieId\\\\u002FcriticsReviews\\\\u002F:type(all|top_critics)\\\\u002F:sort?\",\"tokens\":[{\"literal\":\"\\\\u002Fnapi\\\\u002Fmovie\\\\u002F\"},{\"key\":\"movieId\"},{\"literal\":\"\\\\u002FcriticsReviews\\\\u002F\"},{\"key\":\"type\"},{\"literal\":\"\\\\u002F\"},{\"key\":\"sort\"},{\"literal\":\"?\"}]},\"commonTrackingFreewheelPixelSyncNapi\":{\"path\":\"\\\\u002Fnapi\\\\u002Ftracking\\\\u002Ffreewheel\\\\u002Fpixelsync\",\"tokens\":[{\"literal\":\"\\\\u002Fnapi\\\\u002Ftracking\\\\u002Ffreewheel\\\\u002Fpixelsync\"}]},\"webTvEpisodeGetReviewsNapi\":{\"path\":\"\\\\u002Fnapi\\\\u002Ftv\\\\u002F:vanity\\\\u002F:tvSeason\\\\u002F:tvEpisode\\\\u002Freviews\\\\u002F:type(all|top_critics)\",\"tokens\":[{\"literal\":\"\\\\u002Fnapi\\\\u002Ftv\\\\u002F\"},{\"key\":\"vanity\"},{\"literal\":\"\\\\u002F\"},{\"key\":\"tvSeason\"},{\"literal\":\"\\\\u002F\"},{\"key\":\"tvEpisode\"},{\"literal\":\"\\\\u002Freviews\\\\u002F\"},{\"key\":\"type\"}]},\"webSeasonReviewsGetReviewsNapi\":{\"path\":\"\\\\u002Fnapi\\\\u002FseasonReviews\\\\u002F:id\",\"tokens\":[{\"literal\":\"\\\\u002Fnapi\\\\u002FseasonReviews\\\\u002F\"},{\"key\":\"id\"}]},\"webTvSeasonGetEpisodesNapi\":{\"path\":\"\\\\u002Fnapi\\\\u002Ftv\\\\u002F:vanity\\\\u002F:tvSeason\\\\u002Fepisodes\",\"tokens\":[{\"literal\":\"\\\\u002Fnapi\\\\u002Ftv\\\\u002F\"},{\"key\":\"vanity\"},{\"literal\":\"\\\\u002F\"},{\"key\":\"tvSeason\"},{\"literal\":\"\\\\u002Fepisodes\"}]},\"commonUserWTSCreateNapi\":{\"path\":\"\\\\u002Fnapi\\\\u002Fuser\\\\u002Fwts\",\"tokens\":[{\"literal\":\"\\\\u002Fnapi\\\\u002Fuser\\\\u002Fwts\"}]},\"commonUserWTSDeleteNapi\":{\"path\":\"\\\\u002Fnapi\\\\u002Fuser\\\\u002Fwts\\\\u002Fdelete\",\"tokens\":[{\"literal\":\"\\\\u002Fnapi\\\\u002Fuser\\\\u002Fwts\\\\u002Fdelete\"}]},\"commonUserRatingCreateNapi\":{\"path\":\"\\\\u002Fnapi\\\\u002Fuser\\\\u002Frating\",\"tokens\":[{\"literal\":\"\\\\u002Fnapi\\\\u002Fuser\\\\u002Frating\"}]},\"commonUserGetWTSNapi\":{\"path\":\"\\\\u002Fnapi\\\\u002Fuser\\\\u002Fwts\",\"tokens\":[{\"literal\":\"\\\\u002Fnapi\\\\u002Fuser\\\\u002Fwts\"}]},\"commonUserGetRatingNapi\":{\"path\":\"\\\\u002Fnapi\\\\u002Fuser\\\\u002Frating\",\"tokens\":[{\"literal\":\"\\\\u002Fnapi\\\\u002Fuser\\\\u002Frating\"}]},\"webUserProfileMovieRatingsNapi\":{\"path\":\"\\\\u002Fnapi\\\\u002FuserProfile\\\\u002FmovieRatings\\\\u002F:userId\",\"tokens\":[{\"literal\":\"\\\\u002Fnapi\\\\u002FuserProfile\\\\u002FmovieRatings\\\\u002F\"},{\"key\":\"userId\"}]},\"webUserProfileTVRatingsNapi\":{\"path\":\"\\\\u002Fnapi\\\\u002FuserProfile\\\\u002FtvRatings\\\\u002F:userId\",\"tokens\":[{\"literal\":\"\\\\u002Fnapi\\\\u002FuserProfile\\\\u002FtvRatings\\\\u002F\"},{\"key\":\"userId\"}]},\"webUserProfileWTSNapi\":{\"path\":\"\\\\u002Fnapi\\\\u002FuserProfile\\\\u002Fwts\\\\u002F:userId\",\"tokens\":[{\"literal\":\"\\\\u002Fnapi\\\\u002FuserProfile\\\\u002Fwts\\\\u002F\"},{\"key\":\"userId\"}]},\"mediaHoundRecommendations\":{\"path\":\"https:\\\\u002F\\\\u002Fapi.mediahound.net\\\\u002Fgraph\\\\u002Frelate\",\"tokens\":[{\"literal\":\"https:\\\\u002F\\\\u002Fapi.mediahound.net\\\\u002Fgraph\\\\u002Frelate\"}]},\"resetClient\":{\"path\":\"\\\\u002Freset-client\",\"tokens\":[{\"literal\":\"\\\\u002Freset-client\"}]},\"tvSeasonCriticAddArticle\":{\"path\":\"https:\\\\u002F\\\\u002Fwww.rottentomatoes.com\\\\u002Fcritics\\\\u002Ftools\\\\u002Ftv\\\\u002F?reviewableId=:seasonId\",\"tokens\":[{\"literal\":\"https:\\\\u002F\\\\u002Fwww.rottentomatoes.com\\\\u002Fcritics\\\\u002Ftools\\\\u002Ftv\\\\u002F?reviewableId=\"},{\"key\":\"seasonId\"}]},\"userAccount\":{\"path\":\"\\\\u002Fuser\\\\u002Faccount\",\"tokens\":[{\"literal\":\"\\\\u002Fuser\\\\u002Faccount\"}]},\"userAccountEmailPrefs\":{\"path\":\"https:\\\\u002F\\\\u002Foptout.services.fandango.com\\\\u002Frottentomatoes\",\"tokens\":[{\"literal\":\"https:\\\\u002F\\\\u002Foptout.services.fandango.com\\\\u002Frottentomatoes\"}]},\"redirectorTheatersTopBoxOffice\":{\"path\":\"\\\\u002Fbrowse\\\\u002Fin-theaters\",\"tokens\":[{\"literal\":\"\\\\u002Fbrowse\\\\u002Fin-theaters\"}]},\"webCritic\":{\"path\":\"\\\\u002Fcritics\\\\u002F:vanity\\\\u002F:type(movies|tv)\",\"tokens\":[{\"literal\":\"\\\\u002Fcritics\\\\u002F\"},{\"key\":\"vanity\"},{\"literal\":\"\\\\u002F\"},{\"key\":\"type\"}]},\"webCriticLanding\":{\"path\":\"\\\\u002Fcritics\\\\u002F:vanity\",\"tokens\":[{\"literal\":\"\\\\u002Fcritics\\\\u002F\"},{\"key\":\"vanity\"}]},\"webSearchResults\":{\"path\":\"\\\\u002Fsearch\\\\u002F\",\"tokens\":[{\"literal\":\"\\\\u002Fsearch\\\\u002F\"}]},\"webShowtimes\":{\"path\":\"\\\\u002F\\\\u002Fwww.fandango.com\\\\u002Fmovies-in-theaters\",\"tokens\":[{\"literal\":\"\\\\u002F\\\\u002Fwww.fandango.com\\\\u002Fmovies-in-theaters\"}]},\"webCriticSource\":{\"path\":\"\\\\u002Fcritics\\\\u002Fsource\\\\u002F:publicationId\",\"tokens\":[{\"literal\":\"\\\\u002Fcritics\\\\u002Fsource\\\\u002F\"},{\"key\":\"publicationId\"}]}}};\\nroot.RottenTomatoes.context || (root.RottenTomatoes.context = {});\\nroot.RottenTomatoes.context.layout = {\"header\":{\"editorial\":{\"bestAndWorstNews\":[{\"ID\":77012,\"author\":20,\"featured_image\":{\"source\":\"https:\\\\u002F\\\\u002Fprd-rteditorial.s3.us-west-2.amazonaws.com\\\\u002Fwp-content\\\\u002Fuploads\\\\u002F2018\\\\u002F02\\\\u002F14193805\\\\u002FMarvel-Movies-Recall2.jpg\"},\"link\":\"https:\\\\u002F\\\\u002Feditorial.rottentomatoes.com\\\\u002Fguide\\\\u002Fall-marvel-cinematic-universe-movies-ranked\\\\u002F\",\"promo_order\":\"\",\"status\":\"publish\",\"title\":\"Marvel Movies Ranked Worst to Best by Tomatometer\",\"type\":\"article\"},{\"ID\":19933,\"author\":20,\"featured_image\":{\"source\":\"https:\\\\u002F\\\\u002Fprd-rteditorial.s3.us-west-2.amazonaws.com\\\\u002Fwp-content\\\\u002Fuploads\\\\u002F2015\\\\u002F06\\\\u002F19171851\\\\u002FJurassic-Park-Franchise-Recall.jpg\"},\"link\":\"https:\\\\u002F\\\\u002Feditorial.rottentomatoes.com\\\\u002Fguide\\\\u002Fjurassic-park-world-movies\\\\u002F\",\"promo_order\":\"\",\"status\":\"publish\",\"title\":\"\\\\u003Cem\\\\u003EJurassic Park\\\\u003C\\\\u002Fem\\\\u003E Movies Ranked By Tomatometer\",\"type\":\"article\"}],\"guides\":[{\"ID\":229910,\"author\":{\"ID\":7,\"username\":\"RT Staff\",\"name\":\"RT Staff\",\"first_name\":\"RT\",\"last_name\":\"Staff\",\"nickname\":\"RT Staff\",\"slug\":\"rt-staff\",\"URL\":\"http:\\\\u002F\\\\u002Fwww.rottentomatoes.com\",\"avatar\":\"https:\\\\u002F\\\\u002Fsecure.gravatar.com\\\\u002Favatar\\\\u002F1da0327e91516c500afa31e67da2395a?s=96\",\"description\":\"Rotten Tomatoes every day.\",\"registered\":\"2015-05-01T22:36:17+00:00\",\"meta\":{\"links\":{\"self\":\"https:\\\\u002F\\\\u002Feditorial.rottentomatoes.com\\\\u002Fwp-json\\\\u002Fusers\\\\u002F7\",\"archives\":\"https:\\\\u002F\\\\u002Feditorial.rottentomatoes.com\\\\u002Fwp-json\\\\u002Fusers\\\\u002F7\\\\u002Fposts\"}}},\"featured_image\":{\"source\":\"https:\\\\u002F\\\\u002Fprd-rteditorial.s3.us-west-2.amazonaws.com\\\\u002Fwp-content\\\\u002Fuploads\\\\u002F2022\\\\u002F01\\\\u002F12130451\\\\u002F660GTA.jpg\"},\"link\":\"https:\\\\u002F\\\\u002Feditorial.rottentomatoes.com\\\\u002Frt-hub\\\\u002Fgolden-tomato-awards-2022\\\\u002F\",\"status\":\"publish\",\"title\":\"Golden Tomato Awards: Best Movies &#038; TV of 2022\",\"type\":\"rt-hub\"},{\"ID\":140214,\"author\":{\"ID\":12,\"username\":\"alex.vo\",\"name\":\"Alex Vo\",\"first_name\":\"Alex\",\"last_name\":\"Vo\",\"nickname\":\"alex.vo\",\"slug\":\"alex-vo\",\"URL\":\"\",\"avatar\":\"https:\\\\u002F\\\\u002Fsecure.gravatar.com\\\\u002Favatar\\\\u002F818ade2039d2a711e0cd70ae46f14952?s=96\",\"description\":\"\",\"registered\":\"2015-05-12T20:00:23+00:00\",\"meta\":{\"links\":{\"self\":\"https:\\\\u002F\\\\u002Feditorial.rottentomatoes.com\\\\u002Fwp-json\\\\u002Fusers\\\\u002F12\",\"archives\":\"https:\\\\u002F\\\\u002Feditorial.rottentomatoes.com\\\\u002Fwp-json\\\\u002Fusers\\\\u002F12\\\\u002Fposts\"}}},\"featured_image\":{\"source\":\"https:\\\\u002F\\\\u002Fprd-rteditorial.s3.us-west-2.amazonaws.com\\\\u002Fwp-content\\\\u002Fuploads\\\\u002F2022\\\\u002F09\\\\u002F12091739\\\\u002FRT_AwardsTour_Thumbnail_600x314_Gradient.jpg\"},\"link\":\"https:\\\\u002F\\\\u002Feditorial.rottentomatoes.com\\\\u002Frt-hub\\\\u002Fawards-tour\\\\u002F\",\"status\":\"publish\",\"title\":\"Awards Tour\",\"type\":\"rt-hub\"}],\"newsItems\":[{\"ID\":230489,\"author\":825,\"featured_image\":{\"source\":\"https:\\\\u002F\\\\u002Fprd-rteditorial.s3.us-west-2.amazonaws.com\\\\u002Fwp-content\\\\u002Fuploads\\\\u002F2023\\\\u002F01\\\\u002F12151829\\\\u002FHUNTERS_S2_IMG_1_600x314.jpg\"},\"link\":\"https:\\\\u002F\\\\u002Feditorial.rottentomatoes.com\\\\u002Farticle\\\\u002Fhunters-star-logan-lerman-series-creator-david-weil-preview-season-2\\\\u002F\",\"promo_order\":\"\",\"status\":\"publish\",\"title\":\"\\\\u003Cem\\\\u003EHunters\\\\u003C\\\\u002Fem\\\\u003E Star Logan Lerman &amp; Series Creator David Weil on the Resurrection of Al Pacino for Season 2\",\"type\":\"article\"},{\"ID\":230944,\"author\":12,\"featured_image\":{\"source\":\"https:\\\\u002F\\\\u002Fprd-rteditorial.s3.us-west-2.amazonaws.com\\\\u002Fwp-content\\\\u002Fuploads\\\\u002F2022\\\\u002F12\\\\u002F11121438\\\\u002F600GTA2002.jpg\"},\"link\":\"https:\\\\u002F\\\\u002Feditorial.rottentomatoes.com\\\\u002Frt-hub\\\\u002Fgolden-tomato-awards-2022\\\\u002F\",\"promo_order\":\"\",\"status\":\"publish\",\"title\":\"Golden Tomato Awards: Best Movies\\\\u002FTV of 2022\",\"type\":\"article\"}]},\"trendingTarsSlug\":\"rt-nav-trending\",\"trending\":[{\"header\":\"The Last Of Us\",\"url\":\"https:\\\\u002F\\\\u002Fwww.rottentomatoes.com\\\\u002Ftv\\\\u002Fthe_last_of_us\"},{\"header\":\"M3GAN\",\"url\":\"https:\\\\u002F\\\\u002Fwww.rottentomatoes.com\\\\u002Fm\\\\u002Fm3gan\"},{\"header\":\"Plane\",\"url\":\"https:\\\\u002F\\\\u002Fwww.rottentomatoes.com\\\\u002Fm\\\\u002Fplane\"},{\"header\":\"A Man Called Otto\",\"url\":\"https:\\\\u002F\\\\u002Fwww.rottentomatoes.com\\\\u002Fm\\\\u002Fa_man_called_otto\"}],\"certifiedMedia\":{\"certifiedFreshTvSeason\":{\"header\":null,\"media\":{\"url\":\"\\\\u002Ftv\\\\u002Fthe_last_of_us\\\\u002Fs01\",\"name\":\"The Last of Us: Season 1\",\"score\":97,\"posterImg\":\"https:\\\\u002F\\\\u002Fresizing.flixster.com\\\\u002FEQwjsJzvAePoD3yc8_F4tnKxepw=\\\\u002Ffit-in\\\\u002F180x240\\\\u002Fv2\\\\u002Fhttps:\\\\u002F\\\\u002Fresizing.flixster.com\\\\u002F1t3h8KAxIMmKUCU09OoqpfqD6R0=\\\\u002Fems.cHJkLWVtcy1hc3NldHMvdHZzZWFzb24vZjU3YTRlYjItOTAzNC00MzFjLTg0NGQtODA1ZGU2OWY1NzY1LmpwZw==\"},\"tarsSlug\":\"rt-nav-list-cf-picks\"},\"certifiedFreshMovieInTheater\":{\"header\":null,\"media\":{\"url\":\"\\\\u002Fm\\\\u002Fm3gan\",\"name\":\"M3GAN\",\"score\":95,\"posterImg\":\"https:\\\\u002F\\\\u002Fresizing.flixster.com\\\\u002FLMbScjDLUzsQLgeeoOF0FAhNcC8=\\\\u002Ffit-in\\\\u002F180x240\\\\u002Fv2\\\\u002Fhttps:\\\\u002F\\\\u002Fresizing.flixster.com\\\\u002FrPJASTXFjLpmiVTi3D6RGcq-skM=\\\\u002Fems.cHJkLWVtcy1hc3NldHMvbW92aWVzLzhjYjA0ODBiLTNlNmUtNDlhOS05ZWRlLThlOGQ2MmEyZjlmYS5qcGc=\"}},\"certifiedFreshMovieInTheater4\":{\"header\":null,\"media\":{\"url\":\"\\\\u002Fm\\\\u002Falcarras\",\"name\":\"Alcarràs\",\"score\":90,\"posterImg\":\"https:\\\\u002F\\\\u002Fresizing.flixster.com\\\\u002FH5I6FWEXKIZcT_qxE0bG-xLomFY=\\\\u002Ffit-in\\\\u002F180x240\\\\u002Fv2\\\\u002Fhttps:\\\\u002F\\\\u002Fresizing.flixster.com\\\\u002FPbbehNpv3rq_TDm3xvFqgqqNo54=\\\\u002Fems.cHJkLWVtcy1hc3NldHMvbW92aWVzLzY5ZTBlNjBmLThiMDMtNGJiMC1hNTViLWRkZDkxZjMwMDcwOC5wbmc=\"}},\"certifiedFreshMovieAtHome\":{\"header\":null,\"media\":{\"url\":\"\\\\u002Fm\\\\u002Fis_that_black_enough_for_you\",\"name\":\"Is That Black Enough for You?!?\",\"score\":100,\"posterImg\":\"https:\\\\u002F\\\\u002Fresizing.flixster.com\\\\u002Fjgszf6xabwUB5kLm3NAxAIUfew8=\\\\u002Ffit-in\\\\u002F180x240\\\\u002Fv2\\\\u002Fhttps:\\\\u002F\\\\u002Fresizing.flixster.com\\\\u002FFMOmi-6s3a-yNNpLZlZeS7UL9uo=\\\\u002Fems.cHJkLWVtcy1hc3NldHMvbW92aWVzLzBlM2IyNmExLTM2NzYtNGNkZi1iNjE1LTQ0MTBlZmEyZGM1ZS5qcGc=\"}},\"tarsSlug\":\"rt-nav-list-cf-picks\"},\"tvLists\":{\"newTvTonight\":{\"tarsSlug\":\"rt-hp-text-list-new-tv-this-week\",\"title\":\"New TV Tonight\",\"shows\":[{\"title\":\"Vikings: Valhalla: Season 2\",\"tomatometer\":{\"tomatometer\":null,\"state\":\"\",\"certifiedFresh\":false},\"tvPageUrl\":\"\\\\u002Ftv\\\\u002Fvikings_valhalla\\\\u002Fs02\"},{\"title\":\"Hunters: Season 2\",\"tomatometer\":{\"tomatometer\":60,\"state\":\"fresh\",\"certifiedFresh\":false},\"tvPageUrl\":\"\\\\u002Ftv\\\\u002Fhunters-2020\\\\u002Fs02\"},{\"title\":\"Servant: Season 4\",\"tomatometer\":{\"tomatometer\":100,\"state\":\"fresh\",\"certifiedFresh\":false},\"tvPageUrl\":\"\\\\u002Ftv\\\\u002Fservant\\\\u002Fs04\"},{\"title\":\"Mayfair Witches: Season 1\",\"tomatometer\":{\"tomatometer\":42,\"state\":\"rotten\",\"certifiedFresh\":false},\"tvPageUrl\":\"\\\\u002Ftv\\\\u002Fmayfair_witches\\\\u002Fs01\"},{\"title\":\"Your Honor: Season 2\",\"tomatometer\":{\"tomatometer\":null,\"state\":\"\",\"certifiedFresh\":false},\"tvPageUrl\":\"\\\\u002Ftv\\\\u002Fyour_honor_2020\\\\u002Fs02\"},{\"title\":\"All Creatures Great and Small: Season 3\",\"tomatometer\":{\"tomatometer\":null,\"state\":\"\",\"certifiedFresh\":false},\"tvPageUrl\":\"\\\\u002Ftv\\\\u002Fall_creatures_great_and_small\\\\u002Fs03\"},{\"title\":\"Miss Scarlet and the Duke: Season 3\",\"tomatometer\":{\"tomatometer\":null,\"state\":\"\",\"certifiedFresh\":false},\"tvPageUrl\":\"\\\\u002Ftv\\\\u002Fmiss_scarlet_and_the_duke\\\\u002Fs03\"},{\"title\":\"Vienna Blood: Season 3\",\"tomatometer\":{\"tomatometer\":null,\"state\":\"\",\"certifiedFresh\":false},\"tvPageUrl\":\"\\\\u002Ftv\\\\u002Fvienna_blood\\\\u002Fs03\"},{\"title\":\"Velma: Season 1\",\"tomatometer\":{\"tomatometer\":50,\"state\":\"rotten\",\"certifiedFresh\":false},\"tvPageUrl\":\"\\\\u002Ftv\\\\u002Fvelma\\\\u002Fs01\"},{\"title\":\"Koala Man: Season 1\",\"tomatometer\":{\"tomatometer\":60,\"state\":\"fresh\",\"certifiedFresh\":false},\"tvPageUrl\":\"\\\\u002Ftv\\\\u002Fkoala_man\\\\u002Fs01\"},{\"title\":\"The Climb: Season 1\",\"tomatometer\":{\"tomatometer\":null,\"state\":\"\",\"certifiedFresh\":false},\"tvPageUrl\":\"\\\\u002Ftv\\\\u002Fthe_climb_2022\\\\u002Fs01\"}]},\"mostPopularTvOnRt\":{\"tarsSlug\":\"rt-hp-text-list-most-popular-tv-on-rt\",\"title\":\"Most Popular TV on RT\",\"shows\":[{\"title\":\"The Last of Us: Season 1\",\"tomatometer\":{\"tomatometer\":97,\"state\":\"certified_fresh\",\"certifiedFresh\":true},\"tvPageUrl\":\"\\\\u002Ftv\\\\u002Fthe_last_of_us\\\\u002Fs01\"},{\"title\":\"The White Lotus: Season 2\",\"tomatometer\":{\"tomatometer\":94,\"state\":\"certified_fresh\",\"certifiedFresh\":true},\"tvPageUrl\":\"\\\\u002Ftv\\\\u002Fthe_white_lotus\\\\u002Fs02\"},{\"title\":\"Will Trent: Season 1\",\"tomatometer\":{\"tomatometer\":100,\"state\":\"fresh\",\"certifiedFresh\":false},\"tvPageUrl\":\"\\\\u002Ftv\\\\u002Fwill_trent\\\\u002Fs01\"},{\"title\":\"Kaleidoscope: Season 1\",\"tomatometer\":{\"tomatometer\":48,\"state\":\"rotten\",\"certifiedFresh\":false},\"tvPageUrl\":\"\\\\u002Ftv\\\\u002Fkaleidoscope\\\\u002Fs01\"},{\"title\":\"Velma: Season 1\",\"tomatometer\":{\"tomatometer\":50,\"state\":\"rotten\",\"certifiedFresh\":false},\"tvPageUrl\":\"\\\\u002Ftv\\\\u002Fvelma\\\\u002Fs01\"},{\"title\":\"Willow: Season 1\",\"tomatometer\":{\"tomatometer\":85,\"state\":\"certified_fresh\",\"certifiedFresh\":true},\"tvPageUrl\":\"\\\\u002Ftv\\\\u002Fwillow\\\\u002Fs01\"},{\"title\":\"Servant: Season 4\",\"tomatometer\":{\"tomatometer\":100,\"state\":\"fresh\",\"certifiedFresh\":false},\"tvPageUrl\":\"\\\\u002Ftv\\\\u002Fservant\\\\u002Fs04\"},{\"title\":\"Ginny & Georgia: Season 2\",\"tomatometer\":{\"tomatometer\":75,\"state\":\"fresh\",\"certifiedFresh\":false},\"tvPageUrl\":\"\\\\u002Ftv\\\\u002Fginny_and_georgia\\\\u002Fs02\"},{\"title\":\"Woman of the Dead: Season 1\",\"tomatometer\":{\"tomatometer\":null,\"state\":\"\",\"certifiedFresh\":false},\"tvPageUrl\":\"\\\\u002Ftv\\\\u002Fwoman_of_the_dead\\\\u002Fs01\"},{\"title\":\"The Rig: Season 1\",\"tomatometer\":{\"tomatometer\":64,\"state\":\"fresh\",\"certifiedFresh\":false},\"tvPageUrl\":\"\\\\u002Ftv\\\\u002Fthe_rig\\\\u002Fs01\"}]}},\"legacyItems\":{\"tarsSlug\":\"rt-nav-list-tv-episodic-reviews\",\"tv\":{\"mediaLists\":[{},{},{},{\"title\":\"Episodic Reviews\",\"shows\":[{\"link\":\"\\\\u002Ftv\\\\u002Fandor\\\\u002Fs01\",\"showTitle\":\"Andor: Season 1\"},{\"link\":\"\\\\u002Ftv\\\\u002Fshe_hulk_attorney_at_law\\\\u002Fs01\",\"showTitle\":\"She-Hulk: Attorney at Law: Season 1\"},{\"link\":\"\\\\u002Ftv\\\\u002Fhouse_of_the_dragon\\\\u002Fs01\",\"showTitle\":\"House of the Dragon: Season 1\"},{\"link\":\"\\\\u002Ftv\\\\u002Fthe_lord_of_the_rings_the_rings_of_power\\\\u002Fs01\",\"showTitle\":\"The Lord of the Rings: The Rings of Power: Season 1\"},{\"link\":\"\\\\u002Ftv\\\\u002Fatlanta\\\\u002Fs04\",\"showTitle\":\"Atlanta: Season 4\"}]}]}}},\"links\":{\"moviesInTheaters\":{\"certifiedFresh\":\"\\\\u002Fbrowse\\\\u002Fcf-in-theaters\",\"comingSoon\":\"\\\\u002Fbrowse\\\\u002Fupcoming\",\"openingThisWeek\":\"\\\\u002Fbrowse\\\\u002Fopening\",\"title\":\"\\\\u002Fbrowse\\\\u002Fin-theaters\",\"topBoxOffice\":\"\\\\u002Fbrowse\\\\u002Fin-theaters\"},\"onDvdAndStreaming\":{\"all\":\"\\\\u002Fbrowse\\\\u002Fdvd-streaming-all\",\"certifiedFresh\":\"\\\\u002Fbrowse\\\\u002Fcf-dvd-streaming-all\",\"title\":\"\\\\u002Fdvd\",\"top\":\"\\\\u002Fbrowse\\\\u002Ftop-dvd-streaming\"},\"moreMovies\":{\"topMovies\":\"\\\\u002Ftop\",\"trailers\":\"\\\\u002Ftrailers\"},\"tvTonight\":\"\\\\u002Fbrowse\\\\u002Ftv-list-1\",\"tvPopular\":\"\\\\u002Fbrowse\\\\u002Ftv-list-2\",\"moreTv\":{\"topTv\":\"https:\\\\u002F\\\\u002Fwww.rottentomatoes.com\\\\u002Ftop-tv\",\"certifiedFresh\":\"\\\\u002Fbrowse\\\\u002Ftv-list-3\"},\"editorial\":{\"allTimeLists\":\"https:\\\\u002F\\\\u002Feditorial.rottentomatoes.com\\\\u002Fall-time-lists\\\\u002F\",\"bingeGuide\":\"https:\\\\u002F\\\\u002Feditorial.rottentomatoes.com\\\\u002Fbinge-guide\\\\u002F\",\"comicsOnTv\":\"https:\\\\u002F\\\\u002Feditorial.rottentomatoes.com\\\\u002Fcomics-on-tv\\\\u002F\",\"countdown\":\"https:\\\\u002F\\\\u002Feditorial.rottentomatoes.com\\\\u002Fcountdown\\\\u002F\",\"criticsConsensus\":\"https:\\\\u002F\\\\u002Feditorial.rottentomatoes.com\\\\u002Fcritics-consensus\\\\u002F\",\"fiveFavoriteFilms\":\"https:\\\\u002F\\\\u002Feditorial.rottentomatoes.com\\\\u002Ffive-favorite-films\\\\u002F\",\"guidesHome\":\"https:\\\\u002F\\\\u002Feditorial.rottentomatoes.com\\\\u002Frt-hubs\\\\u002F\",\"home\":\"https:\\\\u002F\\\\u002Feditorial.rottentomatoes.com\\\\u002F\",\"news\":\"https:\\\\u002F\\\\u002Feditorial.rottentomatoes.com\\\\u002Fnews\\\\u002F\",\"nowStreaming\":\"https:\\\\u002F\\\\u002Feditorial.rottentomatoes.com\\\\u002Fnow-streaming\\\\u002F\",\"parentalGuidance\":\"https:\\\\u002F\\\\u002Feditorial.rottentomatoes.com\\\\u002Fparental-guidance\\\\u002F\",\"podcast\":\"https:\\\\u002F\\\\u002Feditorial.rottentomatoes.com\\\\u002Farticle\\\\u002Frotten-tomatoes-is-wrong-a-podcast-from-rotten-tomatoes\\\\u002F\",\"redCarpetRoundup\":\"https:\\\\u002F\\\\u002Feditorial.rottentomatoes.com\\\\u002Fred-carpet-roundup\\\\u002F\",\"scorecards\":\"https:\\\\u002F\\\\u002Feditorial.rottentomatoes.com\\\\u002Fmovie-tv-scorecards\\\\u002F\",\"subCult\":\"https:\\\\u002F\\\\u002Feditorial.rottentomatoes.com\\\\u002Fsub-cult\\\\u002F\",\"theZeros\":\"https:\\\\u002F\\\\u002Feditorial.rottentomatoes.com\\\\u002Fthe-zeros\\\\u002F\",\"totalRecall\":\"https:\\\\u002F\\\\u002Feditorial.rottentomatoes.com\\\\u002Ftotal-recall\\\\u002F\",\"twentyFourFrames\":\"https:\\\\u002F\\\\u002Feditorial.rottentomatoes.com\\\\u002F24-frames\\\\u002F\",\"videoInterviews\":\"https:\\\\u002F\\\\u002Feditorial.rottentomatoes.com\\\\u002Fvideo-interviews\\\\u002F\",\"weekendBoxOffice\":\"https:\\\\u002F\\\\u002Feditorial.rottentomatoes.com\\\\u002Fweekend-box-office\\\\u002F\",\"weeklyKetchup\":\"https:\\\\u002F\\\\u002Feditorial.rottentomatoes.com\\\\u002Fweekly-ketchup\\\\u002F\",\"whatToWatch\":\"https:\\\\u002F\\\\u002Feditorial.rottentomatoes.com\\\\u002Fwhat-to-watch\\\\u002F\"}}};\\nroot.BK = {\"PageName\":\"http:\\\\u002F\\\\u002Fwww.rottentomatoes.com\\\\u002F\",\"SiteID\":37528,\"SiteSection\":\"\"};\\nroot.RottenTomatoes.thirdParty = {\"chartBeat\":{\"auth\":\"64558\",\"domain\":\"rottentomatoes.com\"},\"facebook\":{\"appId\":\"326803741017\",\"version\":\"v6.0\",\"appName\":\"flixstertomatoes\"},\"mpx\":{\"accountPid\":\"NGweTC\",\"playerPid\":\"y__7B0iQTi4P\",\"playerPidPDK6\":\"pdk6_y__7B0iQTi4P\",\"accountId\":\"2474312077\"},\"algoliaSearch\":{\"aId\":\"79FRDP12PN\",\"sId\":\"175588f6e5f8319b27702e4cc4013561\"},\"cognito\":{\"upId\":\"us-west-2_4L0ZX4b1U\",\"clientId\":\"7pu48v8i2n25t4vhes0edck31c\"}};\\nroot.RottenTomatoes.serviceWorker = {\"isServiceWokerOn\":true};\\nroot.__RT__ || (root.__RT__ = {});\\nroot.__RT__.featureFlags = {\"adsCarouselActiveName\":\"rt-sponsored-carousel-list-hulu\",\"adsCarouselHP\":false,\"adsCarouselOP\":false,\"adsHub\":false,\"adsMockDLP\":false,\"adsVideoSpotlightHP\":false,\"amcVas\":false,\"authManagerOptimized\":true,\"authVerboseLogs\":false,\"disableFeatureDetection\":true,\"disableReviewSubmission\":false,\"layoutsMoviePage\":false,\"layoutsMovieReviewsPage\":false,\"layoutsTvEpisodePage\":false,\"layoutsTvEpisodeReviewsPage\":false,\"layoutsTvSeasonPage\":false,\"layoutsTvSeasonReviewsPage\":false,\"layoutsTvSeriesPage\":false,\"legacyBridge\":true,\"modelsCriticsArchivePage\":true,\"modelsCriticsCriteriaPage\":true,\"modelsHomePage\":true,\"modelsPicturesPages\":false,\"modelsTrailersPage\":true,\"mopUseEMSCriticService\":false,\"scoreIntroCard\":false,\"showVerification\":false,\"useCognito\":true,\"useCognitoAccountUpdate\":true,\"useFacebookLogin\":false,\"useOneTrust\":true,\"videoJWP\":false};\\nroot.RottenTomatoes.dtmData = {\"webVersion\":\"node\",\"rtVersion\":3.1,\"loggedInStatus\":\"\",\"customerId\":\"\",\"pageName\":\"rt | homepage\"};\\nroot.RottenTomatoes.context.adsMockDLP = false;\\nroot.RottenTomatoes.context.useFacebookLogin = false;\\nroot.RottenTomatoes.context.disableFeatureDetection = true;\\nroot.RottenTomatoes.context.req = {\"params\":{},\"queries\":{},\"route\":{},\"url\":\"\\\\u002F\",\"secure\":false,\"buildVersion\":undefined};\\nroot.RottenTomatoes.context.config = {};\\nroot.RottenTomatoes.context.gptSite = \"home\";\\n}(this));\\n</script>\\n\\n        <!--[if IE]>\\n        <script src=\"/assets/pizza-pie/javascripts/roma/common/polyfills.js\"></script>\\n        <![endif]-->\\n\\n        <script src=\"/assets/pizza-pie/javascripts/bundles/roma/vendors.3b4c93a4652.js\"></script>\\n\\n        \\n            <script src=\"/assets/pizza-pie/javascripts/bundles/roma/micromodal.0554523c3ba.js\"></script>\\n        \\n\\n        <script src=\"/assets/pizza-pie/javascripts/bundles/roma/templates.af3ccb5710e.js\"></script>\\n\\n        <script src=\"/assets/pizza-pie/javascripts/bundles/roma/default.c2a4c602371.js\"></script>\\n\\n        <script src=\"https://cdn.jsdelivr.net/npm/algoliasearch@4/dist/algoliasearch-lite.umd.js\"></script>\\n\\n        <script src=\"/assets/pizza-pie/javascripts/bundles/roma/search-algolia.d8af7fdea81.js\"></script>\\n        \\n\\n    \\n    <script src=\"/assets/pizza-pie/javascripts/roma/bundles/vendor.30578c60d97.js\"></script>\\n\\n    \\n\\n    <script src=\"/assets/pizza-pie/javascripts/roma/bundles/home.b7a713af0d5.js\"></script>\\n\\n\\n\\n        \\n            <script>\\n                if (window.mps && typeof window.mps.writeFooter === \\'function\\') {\\n                    window.mps.writeFooter();\\n                }\\n            </script>\\n        \\n\\n        <script>\\n            window._satellite && _satellite.pageBottom();\\n        </script>\\n\\n        \\n    </body>\\n</html>\\n'"
            ],
            "application/vnd.google.colaboratory.intrinsic+json": {
              "type": "string"
            }
          },
          "metadata": {},
          "execution_count": 137
        }
      ]
    },
    {
      "cell_type": "code",
      "source": [
        "soup = BeautifulSoup(response.text, 'lxml')"
      ],
      "metadata": {
        "id": "sT90aP_njGDs"
      },
      "execution_count": null,
      "outputs": []
    },
    {
      "cell_type": "code",
      "source": [
        "uls = soup.find_all('ul',attrs={'slot':'list-items'})"
      ],
      "metadata": {
        "id": "QsvuMu1njS2y"
      },
      "execution_count": null,
      "outputs": []
    },
    {
      "cell_type": "code",
      "source": [
        "len(uls)"
      ],
      "metadata": {
        "colab": {
          "base_uri": "https://localhost:8080/"
        },
        "id": "lCjTRQlgjlvL",
        "outputId": "3019b9d6-7cf3-4677-c35b-64456526b7bb"
      },
      "execution_count": null,
      "outputs": [
        {
          "output_type": "execute_result",
          "data": {
            "text/plain": [
              "3"
            ]
          },
          "metadata": {},
          "execution_count": 144
        }
      ]
    },
    {
      "cell_type": "code",
      "source": [
        "uls[0]"
      ],
      "metadata": {
        "id": "mMbZchBOjwBX"
      },
      "execution_count": null,
      "outputs": []
    },
    {
      "cell_type": "code",
      "source": [
        "streaming_chart = uls[0]\n",
        "lis = streaming_chart.find_all('li')"
      ],
      "metadata": {
        "id": "QcAmYkLWkA0m"
      },
      "execution_count": null,
      "outputs": []
    },
    {
      "cell_type": "code",
      "source": [
        "lis[0].find('a')"
      ],
      "metadata": {
        "colab": {
          "base_uri": "https://localhost:8080/"
        },
        "id": "NwKBauP6lA4d",
        "outputId": "d4ceb5ca-0c45-41fd-b8dd-17580d7f08f7"
      },
      "execution_count": null,
      "outputs": [
        {
          "output_type": "execute_result",
          "data": {
            "text/plain": [
              "<a href=\"/m/the_menu\">\n",
              "<span class=\"dynamic-text-list__item-title clamp clamp-1\">The Menu</span>\n",
              "</a>"
            ]
          },
          "metadata": {},
          "execution_count": 162
        }
      ]
    },
    {
      "cell_type": "code",
      "source": [
        "uri = 'https://www.rottentomatoes.com'+lis[0].find('a')['href']\n",
        "uri"
      ],
      "metadata": {
        "colab": {
          "base_uri": "https://localhost:8080/",
          "height": 35
        },
        "id": "fBgHHxZJkaA5",
        "outputId": "c03b8324-3685-4139-c738-60b36f3c8d28"
      },
      "execution_count": null,
      "outputs": [
        {
          "output_type": "execute_result",
          "data": {
            "text/plain": [
              "'https://www.rottentomatoes.com/m/the_menu'"
            ],
            "application/vnd.google.colaboratory.intrinsic+json": {
              "type": "string"
            }
          },
          "metadata": {},
          "execution_count": 165
        }
      ]
    },
    {
      "cell_type": "code",
      "source": [
        "spans = lis[0].find_all('span')\n",
        "spans"
      ],
      "metadata": {
        "colab": {
          "base_uri": "https://localhost:8080/"
        },
        "id": "dnrlV8yYkbER",
        "outputId": "5ead5d2f-2b11-4d77-9334-26ffaa9214d0"
      },
      "execution_count": null,
      "outputs": [
        {
          "output_type": "execute_result",
          "data": {
            "text/plain": [
              "[<span class=\"dynamic-text-list__item-title clamp clamp-1\">The Menu</span>,\n",
              " <span class=\"icon icon--tiny icon__certified-fresh\" slot=\"tomatometer-icon\"></span>,\n",
              " <span class=\"b--medium \" slot=\"tomatometer-value\">\n",
              "                                 \n",
              "                                     89%\n",
              "                                 \n",
              "                             </span>]"
            ]
          },
          "metadata": {},
          "execution_count": 167
        }
      ]
    },
    {
      "cell_type": "code",
      "source": [
        "spans[0].text"
      ],
      "metadata": {
        "colab": {
          "base_uri": "https://localhost:8080/",
          "height": 35
        },
        "id": "d4jlfKBglUoV",
        "outputId": "b22af055-df20-46de-bd65-6e2ba45ed1e0"
      },
      "execution_count": null,
      "outputs": [
        {
          "output_type": "execute_result",
          "data": {
            "text/plain": [
              "'The Menu'"
            ],
            "application/vnd.google.colaboratory.intrinsic+json": {
              "type": "string"
            }
          },
          "metadata": {},
          "execution_count": 168
        }
      ]
    },
    {
      "cell_type": "code",
      "source": [
        "spans[2].text.strip(' \\n')"
      ],
      "metadata": {
        "colab": {
          "base_uri": "https://localhost:8080/",
          "height": 35
        },
        "id": "tiK_ybxclbAM",
        "outputId": "b079608f-5b54-4f39-a7ad-9a6dcf9a1f57"
      },
      "execution_count": null,
      "outputs": [
        {
          "output_type": "execute_result",
          "data": {
            "text/plain": [
              "'89%'"
            ],
            "application/vnd.google.colaboratory.intrinsic+json": {
              "type": "string"
            }
          },
          "metadata": {},
          "execution_count": 173
        }
      ]
    },
    {
      "cell_type": "code",
      "source": [
        "result = []\n",
        "for li in lis:\n",
        "  movie_url = uri = 'https://www.rottentomatoes.com'+li.find('a')['href']\n",
        "  spans = li.find_all('span')\n",
        "  movie_name = spans[0].text\n",
        "  movie_score = spans[2].text.strip(' \\n')\n",
        "  print(f\"{movie_url}\\t{movie_name}\\t{movie_score}\")\n",
        "  result.append({\n",
        "      'url': movie_url,\n",
        "      'movie_name': movie_name,\n",
        "      'movie_score': movie_score,\n",
        "  })\n",
        "\n",
        "print(result)"
      ],
      "metadata": {
        "colab": {
          "base_uri": "https://localhost:8080/"
        },
        "id": "RDyzuaRkldbc",
        "outputId": "2fd04b19-2311-4de2-b791-58c85016c79a"
      },
      "execution_count": null,
      "outputs": [
        {
          "output_type": "stream",
          "name": "stdout",
          "text": [
            "https://www.rottentomatoes.com/m/the_menu\tThe Menu\t89%\n",
            "https://www.rottentomatoes.com/m/puss_in_boots_the_last_wish\tPuss in Boots: The Last Wish\t96%\n",
            "https://www.rottentomatoes.com/m/the_pale_blue_eye\tThe Pale Blue Eye\t64%\n",
            "https://www.rottentomatoes.com/m/the_banshees_of_inisherin\tThe Banshees of Inisherin\t97%\n",
            "https://www.rottentomatoes.com/m/the_fabelmans\tThe Fabelmans\t92%\n",
            "https://www.rottentomatoes.com/m/everything_everywhere_all_at_once\tEverything Everywhere All at Once\t95%\n",
            "https://www.rottentomatoes.com/m/glass_onion_a_knives_out_mystery\tGlass Onion: A Knives Out Mystery\t92%\n",
            "https://www.rottentomatoes.com/m/mars_one\tMars One\t97%\n",
            "https://www.rottentomatoes.com/m/the_hatchet_wielding_hitchhiker\tThe Hatchet Wielding Hitchhiker\t- -\n",
            "https://www.rottentomatoes.com/m/devotion_2022\tDevotion\t81%\n",
            "[{'url': 'https://www.rottentomatoes.com/m/the_menu', 'movie_name': 'The Menu', 'movie_score': '89%'}, {'url': 'https://www.rottentomatoes.com/m/puss_in_boots_the_last_wish', 'movie_name': 'Puss in Boots: The Last Wish', 'movie_score': '96%'}, {'url': 'https://www.rottentomatoes.com/m/the_pale_blue_eye', 'movie_name': 'The Pale Blue Eye', 'movie_score': '64%'}, {'url': 'https://www.rottentomatoes.com/m/the_banshees_of_inisherin', 'movie_name': 'The Banshees of Inisherin', 'movie_score': '97%'}, {'url': 'https://www.rottentomatoes.com/m/the_fabelmans', 'movie_name': 'The Fabelmans', 'movie_score': '92%'}, {'url': 'https://www.rottentomatoes.com/m/everything_everywhere_all_at_once', 'movie_name': 'Everything Everywhere All at Once', 'movie_score': '95%'}, {'url': 'https://www.rottentomatoes.com/m/glass_onion_a_knives_out_mystery', 'movie_name': 'Glass Onion: A Knives Out Mystery', 'movie_score': '92%'}, {'url': 'https://www.rottentomatoes.com/m/mars_one', 'movie_name': 'Mars One', 'movie_score': '97%'}, {'url': 'https://www.rottentomatoes.com/m/the_hatchet_wielding_hitchhiker', 'movie_name': 'The Hatchet Wielding Hitchhiker', 'movie_score': '- -'}, {'url': 'https://www.rottentomatoes.com/m/devotion_2022', 'movie_name': 'Devotion', 'movie_score': '81%'}]\n"
          ]
        }
      ]
    },
    {
      "cell_type": "code",
      "source": [
        "base_uri = \"https://jsonplaceholder.typicode.com/\"\n",
        "\n",
        "users_uri = base_uri + 'users'\n",
        "users_uri"
      ],
      "metadata": {
        "colab": {
          "base_uri": "https://localhost:8080/",
          "height": 35
        },
        "id": "wP92TbqepZTi",
        "outputId": "40fd892d-7bb9-40c5-c113-216d1f7357b7"
      },
      "execution_count": null,
      "outputs": [
        {
          "output_type": "execute_result",
          "data": {
            "text/plain": [
              "'https://jsonplaceholder.typicode.com/users'"
            ],
            "application/vnd.google.colaboratory.intrinsic+json": {
              "type": "string"
            }
          },
          "metadata": {},
          "execution_count": 179
        }
      ]
    },
    {
      "cell_type": "code",
      "source": [
        "response = requests.get(users_uri)"
      ],
      "metadata": {
        "id": "_7He2IoUqSwM"
      },
      "execution_count": null,
      "outputs": []
    },
    {
      "cell_type": "code",
      "source": [
        "response.status_code"
      ],
      "metadata": {
        "colab": {
          "base_uri": "https://localhost:8080/"
        },
        "id": "HPRehnAnqXrA",
        "outputId": "f7c5b4b6-f261-4ac3-f436-e3d602f8a861"
      },
      "execution_count": null,
      "outputs": [
        {
          "output_type": "execute_result",
          "data": {
            "text/plain": [
              "200"
            ]
          },
          "metadata": {},
          "execution_count": 182
        }
      ]
    },
    {
      "cell_type": "code",
      "source": [
        "result = response.json() # real easy, real good"
      ],
      "metadata": {
        "id": "hA_Z6EcAqqUG"
      },
      "execution_count": null,
      "outputs": []
    },
    {
      "cell_type": "code",
      "source": [
        "result[0].keys()"
      ],
      "metadata": {
        "colab": {
          "base_uri": "https://localhost:8080/"
        },
        "id": "A8BHvW1pqZbS",
        "outputId": "01850cd0-da8f-46cd-b64d-91d82251affc"
      },
      "execution_count": null,
      "outputs": [
        {
          "output_type": "execute_result",
          "data": {
            "text/plain": [
              "dict_keys(['id', 'name', 'username', 'email', 'address', 'phone', 'website', 'company'])"
            ]
          },
          "metadata": {},
          "execution_count": 189
        }
      ]
    },
    {
      "cell_type": "code",
      "source": [
        "base_uri = 'https://finance.yahoo.com/'\n",
        "\n",
        "response = requests.get(base_uri)\n",
        "response.status_code"
      ],
      "metadata": {
        "colab": {
          "base_uri": "https://localhost:8080/"
        },
        "id": "Lp-QNMs-q2oH",
        "outputId": "12ede06f-633d-41ff-e50e-e204c57244ee"
      },
      "execution_count": null,
      "outputs": [
        {
          "output_type": "stream",
          "name": "stdout",
          "text": [
            "https://finance.yahoo.com/\n"
          ]
        },
        {
          "output_type": "execute_result",
          "data": {
            "text/plain": [
              "200"
            ]
          },
          "metadata": {},
          "execution_count": 197
        }
      ]
    },
    {
      "cell_type": "code",
      "source": [
        "soup = BeautifulSoup(response.text, 'lxml')\n",
        "sections = soup.find_all('section')\n",
        "sections[3] #3~13"
      ],
      "metadata": {
        "id": "EHIpj0x8uAd4"
      },
      "execution_count": null,
      "outputs": []
    },
    {
      "cell_type": "code",
      "source": [
        "header = sections[3].find('header')\n",
        "finance_name = header.find('a').text\n",
        "finance_name"
      ],
      "metadata": {
        "colab": {
          "base_uri": "https://localhost:8080/",
          "height": 35
        },
        "id": "40HzDN0nvNOJ",
        "outputId": "654c395a-3e87-4029-e1ad-8820c0d5c73d"
      },
      "execution_count": null,
      "outputs": [
        {
          "output_type": "execute_result",
          "data": {
            "text/plain": [
              "'Cryptocurrencies'"
            ],
            "application/vnd.google.colaboratory.intrinsic+json": {
              "type": "string"
            }
          },
          "metadata": {},
          "execution_count": 214
        }
      ]
    },
    {
      "cell_type": "code",
      "source": [
        "finance__uri = header.find('a')['href']\n",
        "finance__uri"
      ],
      "metadata": {
        "colab": {
          "base_uri": "https://localhost:8080/",
          "height": 35
        },
        "id": "e1RKVPaPuRB4",
        "outputId": "b0fc8e54-0b6e-4f69-9ecd-08a4bccd52bd"
      },
      "execution_count": null,
      "outputs": [
        {
          "output_type": "execute_result",
          "data": {
            "text/plain": [
              "'/crypto'"
            ],
            "application/vnd.google.colaboratory.intrinsic+json": {
              "type": "string"
            }
          },
          "metadata": {},
          "execution_count": 215
        }
      ]
    },
    {
      "cell_type": "code",
      "source": [
        "finance_table = sections[3].find('table')\n",
        "finance_table"
      ],
      "metadata": {
        "id": "Y3biYozHuPna"
      },
      "execution_count": null,
      "outputs": []
    },
    {
      "cell_type": "code",
      "source": [
        "th_names = finance_table.find('thead').find('tr').find_all('th')[0] #0~3\n",
        "th_name = th_names.find('span').text\n",
        "th_name"
      ],
      "metadata": {
        "colab": {
          "base_uri": "https://localhost:8080/",
          "height": 35
        },
        "id": "sbFoijrvwB2S",
        "outputId": "8258338f-93fb-4adf-9b9a-4cf97a70956d"
      },
      "execution_count": null,
      "outputs": [
        {
          "output_type": "execute_result",
          "data": {
            "text/plain": [
              "'Symbol'"
            ],
            "application/vnd.google.colaboratory.intrinsic+json": {
              "type": "string"
            }
          },
          "metadata": {},
          "execution_count": 229
        }
      ]
    },
    {
      "cell_type": "code",
      "source": [
        "tb_names = finance_table.find('tbody').find_all('tr')[0].find_all('td')[0] #0~3\n",
        "tb_names"
      ],
      "metadata": {
        "colab": {
          "base_uri": "https://localhost:8080/"
        },
        "id": "tJTXVCexxMO2",
        "outputId": "afc19254-0529-4746-8aa9-34833539e050"
      },
      "execution_count": null,
      "outputs": [
        {
          "output_type": "execute_result",
          "data": {
            "text/plain": [
              "<td class=\"Va(t) Fz(14px) Whs(nw) Py(6px) Ta(start) Start(0) Pend(10px)\"><div class=\"gray-placeholder W(100%) H(30px) My(6px)\"></div></td>"
            ]
          },
          "metadata": {},
          "execution_count": 237
        }
      ]
    },
    {
      "cell_type": "code",
      "source": [
        "# frame -> html\n",
        "# data -> api\n",
        "# backend -> data\n",
        "\n",
        "# selenium은 동적인 페이지도 파싱가능 요즘은 playwright로 "
      ],
      "metadata": {
        "id": "eGIBT2s63lKy"
      },
      "execution_count": null,
      "outputs": []
    },
    {
      "cell_type": "code",
      "source": [
        "# request rottentomatoes main page\n",
        "response = requests.get('https://www.rottentomatoes.com/')\n",
        "response.status_code # for test\n",
        "response.text # for test\n",
        "\n",
        "# Start parsing with BeautifulSoup\n",
        "soup = BeautifulSoup(response.text, 'lxml')\n",
        "# find streaming chart <ul> using find_all\n",
        "uls = soup.find_all('ul', attrs={'slot':'list-items'})\n",
        "# select first one of uls\n",
        "streaming_chart = uls[0]\n",
        "# find all li in streaming_chart\n",
        "lis = streaming_chart.find_all('li')\n",
        "len(lis) # for check\n",
        "\n",
        "# Create empty list\n",
        "result = []\n",
        "# for all li in lis\n",
        "for li in lis:\n",
        "  # find and store data\n",
        "  uri = 'https://www.rottentomatos.com' + li.find('a')['href']\n",
        "  spans = li.find_all('span')\n",
        "  movie_name = spans[0].text\n",
        "  movie_score = spans[2].text.strip('\\n %')\n",
        "  #print(uri, movie_name, movie_score) # for test\n",
        "  result.append({\n",
        "      'uri': uri,\n",
        "      'movie_name': movie_name,\n",
        "      'movie_score': movie_score,\n",
        "      })\n",
        "  "
      ],
      "metadata": {
        "id": "gA51Luxq4CNh"
      },
      "execution_count": null,
      "outputs": []
    },
    {
      "cell_type": "code",
      "source": [
        "result"
      ],
      "metadata": {
        "colab": {
          "base_uri": "https://localhost:8080/"
        },
        "id": "bN53GVAC5HCD",
        "outputId": "d8d212ac-0806-44dd-f319-c0baccd5545f"
      },
      "execution_count": null,
      "outputs": [
        {
          "output_type": "execute_result",
          "data": {
            "text/plain": [
              "[{'uri': 'https://www.rottentomatos.com/m/the_menu',\n",
              "  'movie_name': 'The Menu',\n",
              "  'movie_score': '89'},\n",
              " {'uri': 'https://www.rottentomatos.com/m/puss_in_boots_the_last_wish',\n",
              "  'movie_name': 'Puss in Boots: The Last Wish',\n",
              "  'movie_score': '96'},\n",
              " {'uri': 'https://www.rottentomatos.com/m/the_pale_blue_eye',\n",
              "  'movie_name': 'The Pale Blue Eye',\n",
              "  'movie_score': '64'},\n",
              " {'uri': 'https://www.rottentomatos.com/m/the_banshees_of_inisherin',\n",
              "  'movie_name': 'The Banshees of Inisherin',\n",
              "  'movie_score': '97'},\n",
              " {'uri': 'https://www.rottentomatos.com/m/the_fabelmans',\n",
              "  'movie_name': 'The Fabelmans',\n",
              "  'movie_score': '92'},\n",
              " {'uri': 'https://www.rottentomatos.com/m/everything_everywhere_all_at_once',\n",
              "  'movie_name': 'Everything Everywhere All at Once',\n",
              "  'movie_score': '95'},\n",
              " {'uri': 'https://www.rottentomatos.com/m/glass_onion_a_knives_out_mystery',\n",
              "  'movie_name': 'Glass Onion: A Knives Out Mystery',\n",
              "  'movie_score': '92'},\n",
              " {'uri': 'https://www.rottentomatos.com/m/mars_one',\n",
              "  'movie_name': 'Mars One',\n",
              "  'movie_score': '97'},\n",
              " {'uri': 'https://www.rottentomatos.com/m/the_hatchet_wielding_hitchhiker',\n",
              "  'movie_name': 'The Hatchet Wielding Hitchhiker',\n",
              "  'movie_score': '- -'},\n",
              " {'uri': 'https://www.rottentomatos.com/m/devotion_2022',\n",
              "  'movie_name': 'Devotion',\n",
              "  'movie_score': '81'}]"
            ]
          },
          "metadata": {},
          "execution_count": 245
        }
      ]
    },
    {
      "cell_type": "code",
      "source": [
        "movies = df.from_dict(result)"
      ],
      "metadata": {
        "id": "8c3FvtnC5KuT"
      },
      "execution_count": null,
      "outputs": []
    },
    {
      "cell_type": "code",
      "source": [
        "movies.to_csv('./totato.csv')"
      ],
      "metadata": {
        "id": "6y8fT8XG55MC"
      },
      "execution_count": null,
      "outputs": []
    },
    {
      "cell_type": "code",
      "source": [
        "df = pd.read_csv('./totato.csv')\n",
        "df"
      ],
      "metadata": {
        "id": "BK7mVpCD6Azd"
      },
      "execution_count": null,
      "outputs": []
    },
    {
      "cell_type": "code",
      "source": [
        "with open('streaming_chart.json','w') as f:\n",
        "  json.dump(df.to_dict(),f)"
      ],
      "metadata": {
        "id": "9NASCnsz8O9w"
      },
      "execution_count": null,
      "outputs": []
    },
    {
      "cell_type": "code",
      "source": [
        "with open('streaming_chart.json') as f:\n",
        "  result = f.readlines()\n",
        "  print(result)"
      ],
      "metadata": {
        "colab": {
          "base_uri": "https://localhost:8080/"
        },
        "id": "i5wfyi_Z8OzG",
        "outputId": "c7298fed-8b47-4bde-8838-77889de15604"
      },
      "execution_count": null,
      "outputs": [
        {
          "output_type": "stream",
          "name": "stdout",
          "text": [
            "['{\"Unnamed: 0\": {\"0\": 0, \"1\": 1, \"2\": 2, \"3\": 3, \"4\": 4, \"5\": 5, \"6\": 6, \"7\": 7, \"8\": 8, \"9\": 9}, \"uri\": {\"0\": \"https://www.rottentomatos.com/m/the_menu\", \"1\": \"https://www.rottentomatos.com/m/puss_in_boots_the_last_wish\", \"2\": \"https://www.rottentomatos.com/m/the_pale_blue_eye\", \"3\": \"https://www.rottentomatos.com/m/the_banshees_of_inisherin\", \"4\": \"https://www.rottentomatos.com/m/the_fabelmans\", \"5\": \"https://www.rottentomatos.com/m/everything_everywhere_all_at_once\", \"6\": \"https://www.rottentomatos.com/m/glass_onion_a_knives_out_mystery\", \"7\": \"https://www.rottentomatos.com/m/mars_one\", \"8\": \"https://www.rottentomatos.com/m/the_hatchet_wielding_hitchhiker\", \"9\": \"https://www.rottentomatos.com/m/devotion_2022\"}, \"movie_name\": {\"0\": \"The Menu\", \"1\": \"Puss in Boots: The Last Wish\", \"2\": \"The Pale Blue Eye\", \"3\": \"The Banshees of Inisherin\", \"4\": \"The Fabelmans\", \"5\": \"Everything Everywhere All at Once\", \"6\": \"Glass Onion: A Knives Out Mystery\", \"7\": \"Mars One\", \"8\": \"The Hatchet Wielding Hitchhiker\", \"9\": \"Devotion\"}, \"movie_score\": {\"0\": \"89\", \"1\": \"96\", \"2\": \"64\", \"3\": \"97\", \"4\": \"92\", \"5\": \"95\", \"6\": \"92\", \"7\": \"97\", \"8\": \"- -\", \"9\": \"81\"}}']\n"
          ]
        }
      ]
    },
    {
      "cell_type": "markdown",
      "source": [
        "##Error Handle"
      ],
      "metadata": {
        "id": "QYV1aCDK9gov"
      }
    },
    {
      "cell_type": "code",
      "source": [
        "int(3.14)\n",
        "int(input('숫자를 입력하세요:'))"
      ],
      "metadata": {
        "colab": {
          "base_uri": "https://localhost:8080/",
          "height": 209
        },
        "id": "AKbiaIMg9gWO",
        "outputId": "4f859f98-97f7-48a2-aa01-8a4271f6a1e0"
      },
      "execution_count": null,
      "outputs": [
        {
          "name": "stdout",
          "output_type": "stream",
          "text": [
            "숫자를 입력하세요:숫자\n"
          ]
        },
        {
          "output_type": "error",
          "ename": "ValueError",
          "evalue": "ignored",
          "traceback": [
            "\u001b[0;31m---------------------------------------------------------------------------\u001b[0m",
            "\u001b[0;31mValueError\u001b[0m                                Traceback (most recent call last)",
            "\u001b[0;32m<ipython-input-255-cc9c54f2d3d0>\u001b[0m in \u001b[0;36m<module>\u001b[0;34m\u001b[0m\n\u001b[1;32m      1\u001b[0m \u001b[0mint\u001b[0m\u001b[0;34m(\u001b[0m\u001b[0;36m3.14\u001b[0m\u001b[0;34m)\u001b[0m\u001b[0;34m\u001b[0m\u001b[0;34m\u001b[0m\u001b[0m\n\u001b[0;32m----> 2\u001b[0;31m \u001b[0mint\u001b[0m\u001b[0;34m(\u001b[0m\u001b[0minput\u001b[0m\u001b[0;34m(\u001b[0m\u001b[0;34m'숫자를 입력하세요:'\u001b[0m\u001b[0;34m)\u001b[0m\u001b[0;34m)\u001b[0m\u001b[0;34m\u001b[0m\u001b[0;34m\u001b[0m\u001b[0m\n\u001b[0m",
            "\u001b[0;31mValueError\u001b[0m: invalid literal for int() with base 10: '숫자'"
          ]
        }
      ]
    },
    {
      "cell_type": "code",
      "source": [
        "# plat is better than 기하학\n",
        "try:\n",
        "  pass\n",
        "except:\n",
        "  pass"
      ],
      "metadata": {
        "id": "BGrQTmz3-ZWw"
      },
      "execution_count": null,
      "outputs": []
    },
    {
      "cell_type": "code",
      "source": [
        "try:\n",
        "  number = int(input('숫자를 입력하세요:'))\n",
        "except ValueError:\n",
        "  print(\"숫 자 라 고 했 는 데\")"
      ],
      "metadata": {
        "colab": {
          "base_uri": "https://localhost:8080/"
        },
        "id": "rsxTkufN96RA",
        "outputId": "74794c20-5576-43cc-85cb-5669cf59d1ef"
      },
      "execution_count": null,
      "outputs": [
        {
          "output_type": "stream",
          "name": "stdout",
          "text": [
            "숫자를 입력하세요:self\n",
            "숫 자 라 고 했 는 데\n"
          ]
        }
      ]
    },
    {
      "cell_type": "code",
      "source": [
        "try:\n",
        "  number = int(input('숫자를 입력하세요:'))\n",
        "except ValueError as e:\n",
        "  print(\"숫 자 라 고 했 는 데\")\n",
        "  print(e)"
      ],
      "metadata": {
        "colab": {
          "base_uri": "https://localhost:8080/"
        },
        "id": "dyd7WojA-Rot",
        "outputId": "a104a144-52c9-486b-c482-c84f3008a9d0"
      },
      "execution_count": null,
      "outputs": [
        {
          "output_type": "stream",
          "name": "stdout",
          "text": [
            "숫자를 입력하세요:as\n",
            "숫 자 라 고 했 는 데\n",
            "invalid literal for int() with base 10: 'as'\n"
          ]
        }
      ]
    },
    {
      "cell_type": "code",
      "source": [
        "try:\n",
        "  f = open('./sample')\n",
        "except FileNotFoundError as e:\n",
        "  print(e)\n",
        "  print('no file')\n",
        "else:\n",
        "  text = f.read()\n",
        "  f.close"
      ],
      "metadata": {
        "colab": {
          "base_uri": "https://localhost:8080/"
        },
        "id": "Yk_iEI1d_Sos",
        "outputId": "b6a7c55a-967c-435a-88a6-8c03622a248f"
      },
      "execution_count": null,
      "outputs": [
        {
          "output_type": "stream",
          "name": "stdout",
          "text": [
            "[Errno 2] No such file or directory: './sample'\n",
            "no file\n"
          ]
        }
      ]
    },
    {
      "cell_type": "code",
      "source": [
        "try:\n",
        "  number = int(input('숫자를 입력하세요:'))\n",
        "except ValueError as e:\n",
        "  pass\n",
        "  print(\"숫 자 라 고 했 는 데\")\n",
        "  print(e)"
      ],
      "metadata": {
        "colab": {
          "base_uri": "https://localhost:8080/"
        },
        "id": "6wf0aZcx_iFS",
        "outputId": "79d6de37-e9a0-4369-87f2-3a085e73f91e"
      },
      "execution_count": null,
      "outputs": [
        {
          "output_type": "stream",
          "name": "stdout",
          "text": [
            "숫자를 입력하세요:asd\n",
            "숫 자 라 고 했 는 데\n",
            "invalid literal for int() with base 10: 'asd'\n"
          ]
        }
      ]
    },
    {
      "cell_type": "code",
      "source": [
        "try:\n",
        "  f = open('./sample')\n",
        "except FileNotFoundError as e:\n",
        "  print(e)\n",
        "  print('no file')\n",
        "else:\n",
        "  text = f.read()\n",
        "  f.close\n",
        "finally:\n",
        "  print(\"어쨌든 끝\")"
      ],
      "metadata": {
        "colab": {
          "base_uri": "https://localhost:8080/"
        },
        "id": "Y_VmFFdx_1M-",
        "outputId": "47801725-f94b-4556-b0c7-f831189e2f7f"
      },
      "execution_count": null,
      "outputs": [
        {
          "output_type": "stream",
          "name": "stdout",
          "text": [
            "[Errno 2] No such file or directory: './sample'\n",
            "no file\n",
            "어쨌든 끝\n"
          ]
        }
      ]
    },
    {
      "cell_type": "code",
      "source": [
        "number_tuple = (randint(1,1000),randint(1,1000))"
      ],
      "metadata": {
        "id": "GgHoBF3X_6Kb"
      },
      "execution_count": null,
      "outputs": []
    },
    {
      "cell_type": "code",
      "source": [
        "number_tuple"
      ],
      "metadata": {
        "colab": {
          "base_uri": "https://localhost:8080/"
        },
        "id": "QsUhTUkgAh_O",
        "outputId": "4d950027-c401-4007-d938-fea0cd139014"
      },
      "execution_count": null,
      "outputs": [
        {
          "output_type": "execute_result",
          "data": {
            "text/plain": [
              "(991, 936)"
            ]
          },
          "metadata": {},
          "execution_count": 270
        }
      ]
    },
    {
      "cell_type": "code",
      "source": [
        "number_tuple = [(randint(1,1000),randint(1,1000)) for _ in range(100)]"
      ],
      "metadata": {
        "id": "x6VMKy3HAjGf"
      },
      "execution_count": null,
      "outputs": []
    },
    {
      "cell_type": "code",
      "source": [
        "number_tuple"
      ],
      "metadata": {
        "id": "eB8T0vF9A1mi"
      },
      "execution_count": null,
      "outputs": []
    },
    {
      "cell_type": "code",
      "source": [
        "mul = [(a,b,a*b) for a,b in number_tuple]\n",
        "mul"
      ],
      "metadata": {
        "id": "dg0t7jZ-A3qB"
      },
      "execution_count": null,
      "outputs": []
    },
    {
      "cell_type": "code",
      "source": [
        "answer = df.from_dict(mul)"
      ],
      "metadata": {
        "id": "akMSNVIbBxPn"
      },
      "execution_count": null,
      "outputs": []
    },
    {
      "cell_type": "code",
      "source": [
        "answer.to_csv('./answer.csv')"
      ],
      "metadata": {
        "id": "a7jEAY3NBbC9"
      },
      "execution_count": null,
      "outputs": []
    },
    {
      "cell_type": "code",
      "source": [
        "try:\n",
        "  f = open('./answer.csv')\n",
        "except FileNotFoundError as e:\n",
        "  print(e)\n",
        "  pass\n",
        "else:\n",
        "  print(f.read())\n",
        "  f.close()\n",
        "finally:\n",
        "  print(\"done!\")"
      ],
      "metadata": {
        "colab": {
          "base_uri": "https://localhost:8080/"
        },
        "id": "pEUF2K0HB4wx",
        "outputId": "2967a460-b8fb-4c00-8864-3b4cedd48319"
      },
      "execution_count": null,
      "outputs": [
        {
          "output_type": "stream",
          "name": "stdout",
          "text": [
            ",0,1,2\n",
            "0,109,28,3052\n",
            "1,22,402,8844\n",
            "2,120,446,53520\n",
            "3,78,171,13338\n",
            "4,781,803,627143\n",
            "5,885,758,670830\n",
            "6,774,846,654804\n",
            "7,140,805,112700\n",
            "8,319,367,117073\n",
            "9,489,989,483621\n",
            "10,141,342,48222\n",
            "11,896,681,610176\n",
            "12,809,519,419871\n",
            "13,116,492,57072\n",
            "14,689,182,125398\n",
            "15,247,999,246753\n",
            "16,302,497,150094\n",
            "17,705,65,45825\n",
            "18,162,840,136080\n",
            "19,912,287,261744\n",
            "20,385,531,204435\n",
            "21,547,102,55794\n",
            "22,436,600,261600\n",
            "23,470,34,15980\n",
            "24,747,156,116532\n",
            "25,146,203,29638\n",
            "26,792,901,713592\n",
            "27,846,976,825696\n",
            "28,975,801,780975\n",
            "29,177,321,56817\n",
            "30,827,860,711220\n",
            "31,447,218,97446\n",
            "32,840,842,707280\n",
            "33,654,501,327654\n",
            "34,920,147,135240\n",
            "35,780,985,768300\n",
            "36,264,325,85800\n",
            "37,193,956,184508\n",
            "38,254,671,170434\n",
            "39,971,411,399081\n",
            "40,570,922,525540\n",
            "41,91,325,29575\n",
            "42,478,971,464138\n",
            "43,721,726,523446\n",
            "44,458,799,365942\n",
            "45,666,483,321678\n",
            "46,626,483,302358\n",
            "47,283,853,241399\n",
            "48,510,135,68850\n",
            "49,531,512,271872\n",
            "50,833,134,111622\n",
            "51,917,404,370468\n",
            "52,986,823,811478\n",
            "53,470,30,14100\n",
            "54,79,415,32785\n",
            "55,839,758,635962\n",
            "56,244,200,48800\n",
            "57,801,18,14418\n",
            "58,619,835,516865\n",
            "59,118,869,102542\n",
            "60,267,329,87843\n",
            "61,613,795,487335\n",
            "62,919,313,287647\n",
            "63,41,208,8528\n",
            "64,482,871,419822\n",
            "65,74,435,32190\n",
            "66,515,498,256470\n",
            "67,261,252,65772\n",
            "68,901,858,773058\n",
            "69,97,616,59752\n",
            "70,331,826,273406\n",
            "71,619,648,401112\n",
            "72,647,322,208334\n",
            "73,242,89,21538\n",
            "74,430,72,30960\n",
            "75,940,777,730380\n",
            "76,391,501,195891\n",
            "77,269,535,143915\n",
            "78,872,183,159576\n",
            "79,989,921,910869\n",
            "80,762,657,500634\n",
            "81,339,629,213231\n",
            "82,349,951,331899\n",
            "83,209,253,52877\n",
            "84,879,907,797253\n",
            "85,817,738,602946\n",
            "86,858,871,747318\n",
            "87,47,585,27495\n",
            "88,229,640,146560\n",
            "89,651,735,478485\n",
            "90,688,497,341936\n",
            "91,367,197,72299\n",
            "92,143,675,96525\n",
            "93,941,290,272890\n",
            "94,134,330,44220\n",
            "95,509,763,388367\n",
            "96,992,341,338272\n",
            "97,211,923,194753\n",
            "98,58,305,17690\n",
            "99,893,377,336661\n",
            "\n",
            "done!\n"
          ]
        }
      ]
    },
    {
      "cell_type": "markdown",
      "source": [
        "# PIG Dice Game"
      ],
      "metadata": {
        "id": "3gAGwNZz9qHO"
      }
    },
    {
      "cell_type": "code",
      "source": [
        "# 1 x -> 1/6 *(6/6) -> 6/36\n",
        "# x 1 -> 5/6 * 1/6 -> 5/36\n",
        "# x x -> 5/6 * 5/6 -> 25/36"
      ],
      "metadata": {
        "id": "Oobjsta-Yo7e"
      },
      "execution_count": null,
      "outputs": []
    },
    {
      "cell_type": "code",
      "source": [
        "#5/6, 25/36, 125/216, 625/1296\n",
        "#1/6, 11/36, 91/216, 671/1296"
      ],
      "metadata": {
        "id": "bM4OX3n_S_XF"
      },
      "execution_count": null,
      "outputs": []
    },
    {
      "cell_type": "code",
      "source": [
        "for i in range(1,10):\n",
        "  print(f\"{i}win rate : {round(pow(5/6,i),2)}\")\n",
        "  print(f\"{i}lose rate : {round(1 - pow(5/6,i),2)}\\n\")"
      ],
      "metadata": {
        "colab": {
          "base_uri": "https://localhost:8080/"
        },
        "id": "R3LZW_VHZDw-",
        "outputId": "b373e9f7-8faa-4628-b766-f7e30ff999d6"
      },
      "execution_count": null,
      "outputs": [
        {
          "output_type": "stream",
          "name": "stdout",
          "text": [
            "1win rate : 0.83\n",
            "1lose rate : 0.17\n",
            "\n",
            "2win rate : 0.69\n",
            "2lose rate : 0.31\n",
            "\n",
            "3win rate : 0.58\n",
            "3lose rate : 0.42\n",
            "\n",
            "4win rate : 0.48\n",
            "4lose rate : 0.52\n",
            "\n",
            "5win rate : 0.4\n",
            "5lose rate : 0.6\n",
            "\n",
            "6win rate : 0.33\n",
            "6lose rate : 0.67\n",
            "\n",
            "7win rate : 0.28\n",
            "7lose rate : 0.72\n",
            "\n",
            "8win rate : 0.23\n",
            "8lose rate : 0.77\n",
            "\n",
            "9win rate : 0.19\n",
            "9lose rate : 0.81\n",
            "\n"
          ]
        }
      ]
    },
    {
      "cell_type": "code",
      "source": [
        "# git tag v0.0.1\n",
        "# git tag v1.0\n",
        "# git tag\n",
        "# git push --tags \n",
        "# network graph에 찍은 것\n",
        "# 여기부터 릴리즈 발행\n",
        "# create release ~\n",
        "# generate release notes -> auto\n",
        "# publish release"
      ],
      "metadata": {
        "id": "ivHhviVeCMUL"
      },
      "execution_count": null,
      "outputs": []
    }
  ]
}