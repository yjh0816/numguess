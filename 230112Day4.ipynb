{
  "nbformat": 4,
  "nbformat_minor": 0,
  "metadata": {
    "colab": {
      "provenance": [],
      "authorship_tag": "ABX9TyMRH5jkBNV1K6fbHSsS0LGT",
      "include_colab_link": true
    },
    "kernelspec": {
      "name": "python3",
      "display_name": "Python 3"
    },
    "language_info": {
      "name": "python"
    }
  },
  "cells": [
    {
      "cell_type": "markdown",
      "metadata": {
        "id": "view-in-github",
        "colab_type": "text"
      },
      "source": [
        "<a href=\"https://colab.research.google.com/github/yjh0816/numguess/blob/main/230112Day4.ipynb\" target=\"_parent\"><img src=\"https://colab.research.google.com/assets/colab-badge.svg\" alt=\"Open In Colab\"/></a>"
      ]
    },
    {
      "cell_type": "markdown",
      "source": [
        "## Remind and Github-branch"
      ],
      "metadata": {
        "id": "ud78uTq0F_ow"
      }
    },
    {
      "cell_type": "code",
      "execution_count": null,
      "metadata": {
        "id": "t-vEjJl7EB5g"
      },
      "outputs": [],
      "source": [
        "# function, comprehension remind\n",
        "# git practice\n",
        "# num guess end\n",
        "# new repository\n",
        "# only team principal make new organization\n",
        "# 곱셈을 하는 다양한 방법 구현\n",
        "# git repo를 합치려면 sub-module을 쓰는데 일반적으로 활용할 일은 없음\n",
        "\n",
        "\n",
        "# git branch\n",
        "# 처음 브랜치는 원래는 master, github는 main\n",
        "# blacklist vs whitelist -> blocklist vs allowlist\n",
        "\n",
        "# 처음에는 환경설정 먼저\n",
        "# 환경설정할 branch를 생성\n",
        "# git branch new-branch-name\n",
        "# ex) git branch set-config\n",
        "\n",
        "# branch = space, add,push = time\n",
        "\n",
        "# branch move \n",
        "# git switch want-to-move-branch-name\n",
        "# ex) git switch set-config\n",
        "# 예전 git checkout set-config # checkout을 switch와 list로 갈라짐\n",
        "# main 이동\n",
        "# git switch main\n",
        "\n",
        "# .gitignore보려면 ls -a : linux 기반\n",
        "\n",
        "# main branch에서 병합하려면\n",
        "# git merge another-branch-name\n",
        "# ex) git merge set-config\n",
        "\n",
        "# branch 삭제\n",
        "# git branch -D want-to-delete-branch-name\n",
        "# ex) git branch -D set-config\n",
        "# 필요없는 브랜치는 그때 그때 정리\n",
        "\n",
        "# 커밋하나당 브랜치하나x\n",
        "# 기능하나당 브랜치하나o"
      ]
    },
    {
      "cell_type": "markdown",
      "source": [
        "### Git Cooperation"
      ],
      "metadata": {
        "id": "1YCRQey9M45G"
      }
    },
    {
      "cell_type": "code",
      "source": [
        "# fork: 짝궁의 repo의 사본을 만들어서 가져옴 : fork\n",
        "# 그 이후에 기능을 만들어보고 pull request를 한다"
      ],
      "metadata": {
        "id": "UKlN94kUTnbK"
      },
      "execution_count": null,
      "outputs": []
    },
    {
      "cell_type": "code",
      "source": [
        "# git remote -v\n",
        "# 상대방의 변경점을 가져오기 위해서는\n",
        "# git remote add new-remote-name want-to-repo-adress\n",
        "# ex) git remote add upstream https://~~\n",
        "\n",
        "# 내 저장소에서\n",
        "# git fetch remote-name\n",
        "# git pull remote-name my-repo-name\n",
        "# ex) git pull upstream main"
      ],
      "metadata": {
        "id": "814Kj0RcZ73E"
      },
      "execution_count": null,
      "outputs": []
    },
    {
      "cell_type": "markdown",
      "source": [
        "### Ethiopian multiply"
      ],
      "metadata": {
        "id": "pBqruejRTiEN"
      }
    },
    {
      "cell_type": "code",
      "source": [
        "# 한쪽은 2를 곱하고 한쪽은 2를 나눈다\n",
        "# 나누는건 버림으로\n",
        "# 나누고 짝수면 버려 = 나머지가 없으면 \n",
        "# 나머지가 없으면 가져 = 홀수면\n",
        "\n",
        "# 몫이 홀수면 반대쪽을 가져\n",
        "\n",
        "# 나누는 함수 \n",
        "# 곱하는 함수 \n",
        "# 판단하는 함수\n",
        "\n",
        "# 메인에서 작업하는 일은 없게 할것\n",
        "\n",
        "# 2로 나눈쪽이 짝수면 그 라인을 다 없앤다"
      ],
      "metadata": {
        "id": "bzdCsPmPNARq"
      },
      "execution_count": null,
      "outputs": []
    },
    {
      "cell_type": "code",
      "source": [
        "# Jake's Thinking\n",
        "\n",
        "##에티오피안 곱셈\n",
        "##int로 input 2개 a와 b을 받는다\n",
        "##a는 a==1이 될때까지 2로 나눈다. \n",
        "##a를 나눌때 count가 1씩 더해지게 처리.\n",
        "##나눈 몫이 소수점이라면 floor 처리.\n",
        "##b은 count수만큼 2를 곱한다 \n",
        "##if 카운트#n번째 a가 even이라면 remove() 카운트n번째 b도 remove()\n",
        "## 남은 b를 더한다 ##에티오피안 곱셈\n",
        "##int로 input 2개 a와 b을 받는다\n",
        "##a는 a==1이 될때까지 2로 나눈다. \n",
        "##a를 나눌때 count가 1씩 더해지게 처리.\n",
        "##나눈 몫이 소수점이라면 floor 처리.\n",
        "##b은 count수만큼 2를 곱한다 \n",
        "##if 카운트#n번째 a가 even이라면 remove() 카운트n번째 b도 remove()\n",
        "## 남은 b를 더한다"
      ],
      "metadata": {
        "id": "S0b2rHbSVqW2"
      },
      "execution_count": null,
      "outputs": []
    },
    {
      "cell_type": "code",
      "source": [
        "# Goal: dict type, comprehension\n",
        "\n",
        "#1. 에티오피아 곱을 수행할 함수를 만든다\n",
        "#1-1. num1의 경우 1이 될때까지 나눈다(버림)\n",
        "\n",
        "#1-2. num2의 경우 \n",
        "#2. 사용자로부터 숫자 2개를 입력받는다\n",
        "#2-1. 에티오피아 곱 함수를 호출한다\n",
        "\n",
        "#1. 메인 함수를 만든다"
      ],
      "metadata": {
        "id": "qbk9ChDIVKeI"
      },
      "execution_count": null,
      "outputs": []
    },
    {
      "cell_type": "code",
      "source": [
        "import math\n",
        "result1 = []\n",
        "result2 = []\n",
        "\n",
        "#num1 = 146\n",
        "#num2 = 37\n",
        "\n",
        "num1 = int(input(\"Enter the num1: \"))\n",
        "num2 = int(input(\"Enter the num2: \"))\n",
        "\n",
        "decide = {}\n",
        "\n",
        "# 나누는 함수 recursive로 구현\n",
        "def e_divide(n: int):\n",
        "  if n < 2:\n",
        "    result1.append(n)\n",
        "  elif n > 1:\n",
        "    result1.append(n)\n",
        "    e_divide(math.floor(n/2))\n",
        "  \n",
        "# 곱하는 함수 list comprehension 구현\n",
        "def e_multply(n: int, count: int) -> list:\n",
        "  return [n*2**i for i in range(0,count)]\n",
        "\n",
        "# 판단하는 함수\n",
        "def e_decision(res1: list, res2: list):\n",
        "  ans = 0\n",
        "  #for i in range(len(res1)):\n",
        "  #  if res1[i]%2!=0:\n",
        "  #    decide[res1[i]] = res2[i]\n",
        "  decide = {res1[i]:res2[i] for i in range(len(res1)) if res1[i]%2!=0}\n",
        "  print(decide)\n",
        "\n",
        "  for key in decide.keys():\n",
        "    ans += decide[key]\n",
        "\n",
        "  return ans\n",
        "\n",
        "\n",
        "e_divide(num1)\n",
        "print(result1)\n",
        "\n",
        "result2 = e_multply(num2, len(result1))\n",
        "print(result2)\n",
        "\n",
        "ans = e_decision(result1, result2)\n",
        "print(ans)\n"
      ],
      "metadata": {
        "colab": {
          "base_uri": "https://localhost:8080/"
        },
        "id": "rhzXZlcwWmFk",
        "outputId": "31fcba61-6950-4b5d-d445-d0b687616c47"
      },
      "execution_count": 32,
      "outputs": [
        {
          "output_type": "stream",
          "name": "stdout",
          "text": [
            "Enter the num1: 14\n",
            "Enter the num2: 7\n",
            "[14, 7, 3, 1]\n",
            "[7, 14, 28, 56]\n",
            "{7: 14, 3: 28, 1: 56}\n",
            "98\n"
          ]
        }
      ]
    },
    {
      "cell_type": "code",
      "source": [
        "import math\n",
        "\n",
        "# 나누는 함수 recursive로 구현\n",
        "def e_divide(n: int, result1:list):\n",
        "    if n < 2:\n",
        "        result1.append(n)\n",
        "    elif n > 1:\n",
        "        result1.append(n)\n",
        "        e_divide(math.floor(n/2),result1)\n",
        "  \n",
        "# 곱하는 함수 list comprehension 구현\n",
        "def e_multply(n: int, count: int) -> list:\n",
        "    return [n*2**i for i in range(0,count)]\n",
        "\n",
        "# 판단하는 함수\n",
        "def e_decision(res1: list, res2: list):\n",
        "    ans = 0\n",
        "    decide = {res1[i]:res2[i] for i in range(len(res1)) if res1[i]%2!=0}\n",
        "    print(decide)\n",
        "\n",
        "    for key in decide.keys():\n",
        "        ans += decide[key]\n",
        "\n",
        "    return ans\n",
        "\n",
        "def hello():\n",
        "    print(\"Good luck\")\n",
        "\n",
        "if __name__ == '__main__':\n",
        "    result1 = []\n",
        "    result2 = []\n",
        "\n",
        "    num1 = int(input(\"Enter the num1: \"))\n",
        "    num2 = int(input(\"Enter the num2: \"))\n",
        "\n",
        "    decide = {} \n",
        "    hello()\n",
        "\n",
        "    e_divide(num1,result1)\n",
        "    print(result1)\n",
        "\n",
        "    result2 = e_multply(num2, len(result1))\n",
        "    print(result2)\n",
        "\n",
        "    ans = e_decision(result1, result2)\n",
        "    print(ans)"
      ],
      "metadata": {
        "colab": {
          "base_uri": "https://localhost:8080/"
        },
        "id": "m4uTNFjx31x-",
        "outputId": "6da86d6c-97fb-421a-879f-2266d0995468"
      },
      "execution_count": 108,
      "outputs": [
        {
          "output_type": "stream",
          "name": "stdout",
          "text": [
            "Enter the num1: 146\n",
            "Enter the num2: 37\n",
            "Good luck\n",
            "[146, 73, 36, 18, 9, 4, 2, 1]\n",
            "[37, 74, 148, 296, 592, 1184, 2368, 4736]\n",
            "{73: 74, 9: 592, 1: 4736}\n",
            "5402\n"
          ]
        }
      ]
    },
    {
      "cell_type": "markdown",
      "source": [
        "김윤재 박성준 이주형 신재익 김주연 김유은\n",
        "\n",
        "# git Practice\n",
        "\n",
        "## repo name: line-introduce\n",
        "\n",
        "## role\n",
        "- remote repo owner: 1\n",
        "- fork contributor: rest\n",
        "\n",
        "## TODO\n",
        "- README.md에 자기소개를 추가한다.\n",
        "- 팀장은 미리 같은줄의 인원의 이름으로 heading text를 만들어두고 팀원들에게 repo 주소를 제공한다.(discord-질의응답)\n",
        "- 팀원들은 해당 주소의 repo에 방문하여 fork한뒤 clone하고 local에서 작업하여 pull request를 생성한다.\n",
        "- 팀장은 code review후 pull request를 merge한다\n"
      ],
      "metadata": {
        "id": "Du0EthMelQUs"
      }
    },
    {
      "cell_type": "code",
      "source": [
        "# github flow의 개념으로 시도해보았다\n",
        "# 실무로는 git flow의 개념으로 하게 될 가능성이 높습니다"
      ],
      "metadata": {
        "id": "Xtss8UiLI_nT"
      },
      "execution_count": null,
      "outputs": []
    },
    {
      "cell_type": "markdown",
      "source": [
        "##Programming Paradigm"
      ],
      "metadata": {
        "id": "uMe-veNGrngI"
      }
    },
    {
      "cell_type": "code",
      "source": [
        "# 선언형 명령형: 기본\n",
        "# 프로시저: \n",
        "# OOP: 단위에 집착하지말자\n",
        "# Functional: 데이터사이언스를 위해\n",
        "\n",
        "# Procedural Programming \n",
        "# 프로시저형 프로그래밍 / 절차형 프로그래밍이라 해석 하면 안됨(순서가 있구나x)\n",
        "# 프로시저라는 단위(scope) : 기능 단위로 작성되어서 수행되는 프로그래밍"
      ],
      "metadata": {
        "id": "YGhCuxZxroUI"
      },
      "execution_count": null,
      "outputs": []
    },
    {
      "cell_type": "markdown",
      "source": [
        "##Scope"
      ],
      "metadata": {
        "id": "pPbe7joxtN5I"
      }
    },
    {
      "cell_type": "code",
      "source": [
        "def outer_scope():\n",
        "  def inner_local():\n",
        "    msg = 'Shinhan'\n",
        "  \n",
        "  def inner_nonlocal():\n",
        "    nonlocal msg  # local도 아니고 global도 아니고\n",
        "    msg = 'Investment'\n",
        "  \n",
        "  def inner_global():\n",
        "    global msg\n",
        "    msg = 'ShinhanInvestment'\n",
        "  \n",
        "  msg = 'Seong-su'\n",
        "  inner_local()\n",
        "  print('local', msg, id(msg))\n",
        "  inner_nonlocal() \n",
        "  print('nonlocal', msg, id(msg))\n",
        "  inner_global()\n",
        "  print('global', msg, id(msg))"
      ],
      "metadata": {
        "id": "oxWkNFEKtPPh"
      },
      "execution_count": 34,
      "outputs": []
    },
    {
      "cell_type": "code",
      "source": [
        "outer_scope()"
      ],
      "metadata": {
        "colab": {
          "base_uri": "https://localhost:8080/"
        },
        "id": "5HPnxRyuuI4J",
        "outputId": "b84396d6-70e0-4894-8f56-16b554776101"
      },
      "execution_count": 36,
      "outputs": [
        {
          "output_type": "stream",
          "name": "stdout",
          "text": [
            "local Seong-su 140198454134000\n",
            "nonlocal Investment 140198305041072\n",
            "global Investment 140198305041072\n"
          ]
        }
      ]
    },
    {
      "cell_type": "code",
      "source": [
        "msg"
      ],
      "metadata": {
        "colab": {
          "base_uri": "https://localhost:8080/",
          "height": 35
        },
        "id": "r3RNmACLuLOP",
        "outputId": "86dadf4f-f833-4a52-8779-84f0646e897f"
      },
      "execution_count": 37,
      "outputs": [
        {
          "output_type": "execute_result",
          "data": {
            "text/plain": [
              "'ShinhanInvestment'"
            ],
            "application/vnd.google.colaboratory.intrinsic+json": {
              "type": "string"
            }
          },
          "metadata": {},
          "execution_count": 37
        }
      ]
    },
    {
      "cell_type": "code",
      "source": [
        "'''\n",
        "local # 한 스코프안에서만 움직임\n",
        "nonlocal # 하나의 스코프를 넘어서? 영향을 줌\n",
        "gloabl # 전체 환경에 영향을 줌\n",
        "'''"
      ],
      "metadata": {
        "colab": {
          "base_uri": "https://localhost:8080/",
          "height": 54
        },
        "id": "pBU9PzKqvaUR",
        "outputId": "bad61ec7-955c-4fe5-fe22-4b31026dac52"
      },
      "execution_count": 38,
      "outputs": [
        {
          "output_type": "execute_result",
          "data": {
            "text/plain": [
              "'\\nlocal # 한 스코프안에서만 움직임\\nnonlocal # 하나의 스코프를 넘어서? 영향을 줌\\ngloabl # 전체 환경에 영향을 줌\\n'"
            ],
            "application/vnd.google.colaboratory.intrinsic+json": {
              "type": "string"
            }
          },
          "metadata": {},
          "execution_count": 38
        }
      ]
    },
    {
      "cell_type": "markdown",
      "source": [
        "## OOP"
      ],
      "metadata": {
        "id": "0RmYuLCPwU66"
      }
    },
    {
      "cell_type": "code",
      "source": [
        "# Class"
      ],
      "metadata": {
        "id": "leNlXhb5v5KY"
      },
      "execution_count": 39,
      "outputs": []
    },
    {
      "cell_type": "code",
      "source": [
        "# class Classname:\n",
        "\n",
        "class Hero:\n",
        "  health = 100 \n",
        "\n",
        "  def __init__(self, name, weapon):\n",
        "    self.name = name\n",
        "    self.weapon = weapon\n",
        "  \n",
        "  def attack(self):\n",
        "    print(f\"Attacking with {self.weapon}.\")"
      ],
      "metadata": {
        "id": "nbcvA2qgxMO7"
      },
      "execution_count": 56,
      "outputs": []
    },
    {
      "cell_type": "code",
      "source": [
        "IronMan = Hero()"
      ],
      "metadata": {
        "id": "w3bjE4sGxTvp"
      },
      "execution_count": 50,
      "outputs": []
    },
    {
      "cell_type": "code",
      "source": [
        "type(IronMan.health)"
      ],
      "metadata": {
        "colab": {
          "base_uri": "https://localhost:8080/"
        },
        "id": "rOdVM5wBxYt9",
        "outputId": "be9622c7-bec8-4e86-9584-7515948852ef"
      },
      "execution_count": 51,
      "outputs": [
        {
          "output_type": "execute_result",
          "data": {
            "text/plain": [
              "int"
            ]
          },
          "metadata": {},
          "execution_count": 51
        }
      ]
    },
    {
      "cell_type": "code",
      "source": [
        "BatMan = Hero()"
      ],
      "metadata": {
        "id": "zSMV3hIvxaGg"
      },
      "execution_count": 47,
      "outputs": []
    },
    {
      "cell_type": "code",
      "source": [
        "SpiderMan = Hero()"
      ],
      "metadata": {
        "id": "IJjlWG7PxiPp"
      },
      "execution_count": 48,
      "outputs": []
    },
    {
      "cell_type": "code",
      "source": [
        "IronMan = Hero(\"Tony Stark\",\"Impuse Gun\")"
      ],
      "metadata": {
        "id": "_WOcMCzmxoaH"
      },
      "execution_count": 57,
      "outputs": []
    },
    {
      "cell_type": "code",
      "source": [
        "IronMan.attack()"
      ],
      "metadata": {
        "colab": {
          "base_uri": "https://localhost:8080/"
        },
        "id": "uZkxvuA8yjQ4",
        "outputId": "6f16364b-7097-4156-d758-6d2e4ffd4081"
      },
      "execution_count": 58,
      "outputs": [
        {
          "output_type": "stream",
          "name": "stdout",
          "text": [
            "Attacking with Impuse Gun.\n"
          ]
        }
      ]
    },
    {
      "cell_type": "code",
      "source": [
        "IronMan.name"
      ],
      "metadata": {
        "colab": {
          "base_uri": "https://localhost:8080/",
          "height": 35
        },
        "id": "j17CamUayn8M",
        "outputId": "5c3934da-0a6c-415d-fc30-4c033c4ebb16"
      },
      "execution_count": 59,
      "outputs": [
        {
          "output_type": "execute_result",
          "data": {
            "text/plain": [
              "'Tony Stark'"
            ],
            "application/vnd.google.colaboratory.intrinsic+json": {
              "type": "string"
            }
          },
          "metadata": {},
          "execution_count": 59
        }
      ]
    },
    {
      "cell_type": "code",
      "source": [
        "IronMan.health"
      ],
      "metadata": {
        "colab": {
          "base_uri": "https://localhost:8080/"
        },
        "id": "42qthNstyzjx",
        "outputId": "ffad4f8f-ea75-4b32-a47b-ed5531b6691f"
      },
      "execution_count": 60,
      "outputs": [
        {
          "output_type": "execute_result",
          "data": {
            "text/plain": [
              "100"
            ]
          },
          "metadata": {},
          "execution_count": 60
        }
      ]
    },
    {
      "cell_type": "code",
      "source": [
        "IronMan.weapon"
      ],
      "metadata": {
        "colab": {
          "base_uri": "https://localhost:8080/",
          "height": 35
        },
        "id": "rC3df-Vvy4Ik",
        "outputId": "28fe8e26-54f6-4f46-e492-dc9dc7f54329"
      },
      "execution_count": 61,
      "outputs": [
        {
          "output_type": "execute_result",
          "data": {
            "text/plain": [
              "'Impuse Gun'"
            ],
            "application/vnd.google.colaboratory.intrinsic+json": {
              "type": "string"
            }
          },
          "metadata": {},
          "execution_count": 61
        }
      ]
    },
    {
      "cell_type": "code",
      "source": [
        "class SeeAttribues:\n",
        "  \"\"\"\n",
        "  This is docstring\n",
        "  \"\"\"\n",
        "  interger = 2048\n",
        "\n",
        "  def method(self):\n",
        "    return \"ShinhanInvestment\"\n"
      ],
      "metadata": {
        "id": "C_AbQB9hy7TD"
      },
      "execution_count": 77,
      "outputs": []
    },
    {
      "cell_type": "code",
      "source": [
        "shinhan = SeeAttribues()"
      ],
      "metadata": {
        "id": "09BDdxFtzzOT"
      },
      "execution_count": 78,
      "outputs": []
    },
    {
      "cell_type": "code",
      "source": [
        "shinhan?"
      ],
      "metadata": {
        "id": "YjfzH71wz1mZ"
      },
      "execution_count": 64,
      "outputs": []
    },
    {
      "cell_type": "code",
      "source": [
        "shinhan.interger"
      ],
      "metadata": {
        "colab": {
          "base_uri": "https://localhost:8080/"
        },
        "id": "ITjNAvznz3TY",
        "outputId": "685da31e-e490-4401-8f2f-6ec263030327"
      },
      "execution_count": 66,
      "outputs": [
        {
          "output_type": "execute_result",
          "data": {
            "text/plain": [
              "2048"
            ]
          },
          "metadata": {},
          "execution_count": 66
        }
      ]
    },
    {
      "cell_type": "code",
      "source": [
        "dir(shinhan)"
      ],
      "metadata": {
        "colab": {
          "base_uri": "https://localhost:8080/"
        },
        "id": "ZIs9LYhR0EuJ",
        "outputId": "e3493c72-e789-45b3-95ac-b46b33632235"
      },
      "execution_count": 74,
      "outputs": [
        {
          "output_type": "execute_result",
          "data": {
            "text/plain": [
              "['__class__',\n",
              " '__delattr__',\n",
              " '__dict__',\n",
              " '__dir__',\n",
              " '__doc__',\n",
              " '__eq__',\n",
              " '__format__',\n",
              " '__ge__',\n",
              " '__getattribute__',\n",
              " '__gt__',\n",
              " '__hash__',\n",
              " '__init__',\n",
              " '__init_subclass__',\n",
              " '__le__',\n",
              " '__lt__',\n",
              " '__module__',\n",
              " '__ne__',\n",
              " '__new__',\n",
              " '__reduce__',\n",
              " '__reduce_ex__',\n",
              " '__repr__',\n",
              " '__setattr__',\n",
              " '__sizeof__',\n",
              " '__str__',\n",
              " '__subclasshook__',\n",
              " '__weakref__',\n",
              " 'interger',\n",
              " 'method']"
            ]
          },
          "metadata": {},
          "execution_count": 74
        }
      ]
    },
    {
      "cell_type": "code",
      "source": [
        "shinhan.__doc__"
      ],
      "metadata": {
        "colab": {
          "base_uri": "https://localhost:8080/",
          "height": 35
        },
        "id": "Qx4qB5HY0c6D",
        "outputId": "5dfb64e9-a2cc-4553-b11d-ed127cf5ab3e"
      },
      "execution_count": 75,
      "outputs": [
        {
          "output_type": "execute_result",
          "data": {
            "text/plain": [
              "'\\n  This is docstring\\n  '"
            ],
            "application/vnd.google.colaboratory.intrinsic+json": {
              "type": "string"
            }
          },
          "metadata": {},
          "execution_count": 75
        }
      ]
    },
    {
      "cell_type": "code",
      "source": [
        "shinhan.method()"
      ],
      "metadata": {
        "colab": {
          "base_uri": "https://localhost:8080/",
          "height": 35
        },
        "id": "I-paczoe0Umv",
        "outputId": "c42ff91b-e682-4616-ce7f-8d381f350519"
      },
      "execution_count": 80,
      "outputs": [
        {
          "output_type": "execute_result",
          "data": {
            "text/plain": [
              "'ShinhanInvestment'"
            ],
            "application/vnd.google.colaboratory.intrinsic+json": {
              "type": "string"
            }
          },
          "metadata": {},
          "execution_count": 80
        }
      ]
    },
    {
      "cell_type": "code",
      "source": [
        "Hulk = Hero(\"Bruce Banner\",\"Radioactive Fist\")\n",
        "Hulk.health = 10000\n",
        "Hulk.health"
      ],
      "metadata": {
        "colab": {
          "base_uri": "https://localhost:8080/"
        },
        "id": "VOJ-nsGp0W6O",
        "outputId": "aec7f498-440d-4f30-a721-6107039f8903"
      },
      "execution_count": 81,
      "outputs": [
        {
          "output_type": "execute_result",
          "data": {
            "text/plain": [
              "10000"
            ]
          },
          "metadata": {},
          "execution_count": 81
        }
      ]
    },
    {
      "cell_type": "code",
      "source": [
        "class Hero:\n",
        "  health = 100 #  이건 괜찮은데\n",
        "  inventory = []  # 이건 공유해서 안돼 -> 공유보관함을 만들거면 괜찮은데 수정권한도 넘어감\n",
        "  # call by reference in python\n",
        "  \n",
        "  def __init__(self, name, weapon):\n",
        "    self.name = name\n",
        "    self.weapon = weapon\n",
        "  \n",
        "  def attack(self):\n",
        "    print(f\"Attacking with {self.weapon}.\")\n",
        "\n",
        "  def save_item(self,item):\n",
        "    self.inventory.append(item)"
      ],
      "metadata": {
        "id": "A2havkBX00m1"
      },
      "execution_count": 84,
      "outputs": []
    },
    {
      "cell_type": "code",
      "source": [
        "IronMan = Hero(\"Tony Stark\",\"Impuse Gun\")"
      ],
      "metadata": {
        "id": "CHSvb3YX1KXA"
      },
      "execution_count": 85,
      "outputs": []
    },
    {
      "cell_type": "code",
      "source": [
        "IronMan.inventory"
      ],
      "metadata": {
        "colab": {
          "base_uri": "https://localhost:8080/"
        },
        "id": "FhuKgFSV1nn1",
        "outputId": "6946798d-06f0-446f-ef09-594ce1e4fd8c"
      },
      "execution_count": 86,
      "outputs": [
        {
          "output_type": "execute_result",
          "data": {
            "text/plain": [
              "[]"
            ]
          },
          "metadata": {},
          "execution_count": 86
        }
      ]
    },
    {
      "cell_type": "code",
      "source": [
        "IronMan.save_item(\"Mark5\")"
      ],
      "metadata": {
        "id": "kZT1n1P21soP"
      },
      "execution_count": 87,
      "outputs": []
    },
    {
      "cell_type": "code",
      "source": [
        "IronMan.inventory"
      ],
      "metadata": {
        "colab": {
          "base_uri": "https://localhost:8080/"
        },
        "id": "752_p7d61t8o",
        "outputId": "a21c2a27-c155-4f96-9004-6d028221363f"
      },
      "execution_count": 88,
      "outputs": [
        {
          "output_type": "execute_result",
          "data": {
            "text/plain": [
              "['Mark5']"
            ]
          },
          "metadata": {},
          "execution_count": 88
        }
      ]
    },
    {
      "cell_type": "code",
      "source": [
        "Hulk = Hero(\"Bruce Banner\",\"Radioactive Fist\")"
      ],
      "metadata": {
        "id": "rEtpZ9WC1wQ-"
      },
      "execution_count": 89,
      "outputs": []
    },
    {
      "cell_type": "code",
      "source": [
        "Hulk.save_item(\"pants\")"
      ],
      "metadata": {
        "id": "eTLMZlFI2BGi"
      },
      "execution_count": 90,
      "outputs": []
    },
    {
      "cell_type": "code",
      "source": [
        "Hulk.inventory"
      ],
      "metadata": {
        "colab": {
          "base_uri": "https://localhost:8080/"
        },
        "id": "pF85nCHT2Fgk",
        "outputId": "6916ec70-b7aa-4201-b920-2046a04b9d50"
      },
      "execution_count": 91,
      "outputs": [
        {
          "output_type": "execute_result",
          "data": {
            "text/plain": [
              "['Mark5', 'pants']"
            ]
          },
          "metadata": {},
          "execution_count": 91
        }
      ]
    },
    {
      "cell_type": "code",
      "source": [
        "Hulk.health = 100000"
      ],
      "metadata": {
        "id": "wY8xCBaR2H1m"
      },
      "execution_count": 92,
      "outputs": []
    },
    {
      "cell_type": "code",
      "source": [
        "Hulk.health"
      ],
      "metadata": {
        "colab": {
          "base_uri": "https://localhost:8080/"
        },
        "id": "u7IbRZsf2pvy",
        "outputId": "db842c9d-0ae1-426c-d7d7-aaaca82e0892"
      },
      "execution_count": 93,
      "outputs": [
        {
          "output_type": "execute_result",
          "data": {
            "text/plain": [
              "100000"
            ]
          },
          "metadata": {},
          "execution_count": 93
        }
      ]
    },
    {
      "cell_type": "code",
      "source": [
        "IronMan.health"
      ],
      "metadata": {
        "colab": {
          "base_uri": "https://localhost:8080/"
        },
        "id": "91CratU92rOM",
        "outputId": "f9d353d9-8c9e-443c-a344-dc80d2e40ade"
      },
      "execution_count": 94,
      "outputs": [
        {
          "output_type": "execute_result",
          "data": {
            "text/plain": [
              "100"
            ]
          },
          "metadata": {},
          "execution_count": 94
        }
      ]
    },
    {
      "cell_type": "code",
      "source": [
        "class Hero:\n",
        "  health = 100\n",
        "\n",
        "  def __init__(self, name, weapon):\n",
        "    self.name = name\n",
        "    self.weapon = weapon\n",
        "    self.inventory = []\n",
        "  \n",
        "  def attack(self):\n",
        "    print(f\"Attacking with {self.weapon}.\")\n",
        "\n",
        "  def save_item(self,item):\n",
        "    self.inventory.append(item)"
      ],
      "metadata": {
        "id": "XKvb_TTV2tbG"
      },
      "execution_count": 95,
      "outputs": []
    },
    {
      "cell_type": "code",
      "source": [
        "IronMan = Hero(\"Tony Stark\",\"Impuse Gun\")\n",
        "IronMan.save_item(\"Mark5\")\n",
        "IronMan.inventory"
      ],
      "metadata": {
        "colab": {
          "base_uri": "https://localhost:8080/"
        },
        "id": "B7jXfpek29-M",
        "outputId": "d7c4a3a5-29a5-46fe-ede1-b86eeb084d14"
      },
      "execution_count": 96,
      "outputs": [
        {
          "output_type": "execute_result",
          "data": {
            "text/plain": [
              "['Mark5']"
            ]
          },
          "metadata": {},
          "execution_count": 96
        }
      ]
    },
    {
      "cell_type": "code",
      "source": [
        "Hulk = Hero(\"Bruce Banner\",\"Radioactive Fist\")\n",
        "Hulk.save_item(\"pants\")\n",
        "Hulk.inventory"
      ],
      "metadata": {
        "colab": {
          "base_uri": "https://localhost:8080/"
        },
        "id": "NNHn8BTZ3IP0",
        "outputId": "ac47fa38-21fa-49e1-f2b6-2bec0db06803"
      },
      "execution_count": 97,
      "outputs": [
        {
          "output_type": "execute_result",
          "data": {
            "text/plain": [
              "['pants']"
            ]
          },
          "metadata": {},
          "execution_count": 97
        }
      ]
    },
    {
      "cell_type": "code",
      "source": [
        "class Hero:\n",
        "  health = 100\n",
        "\n",
        "  def __init__(self, name, weapon):\n",
        "    self.name = name\n",
        "    self.weapon = weapon\n",
        "    self.inventory = []\n",
        "  \n",
        "  def attack(self):\n",
        "    print(f\"Attacking with {self.weapon}.\")\n",
        "\n",
        "  def save_item(self,item):\n",
        "    self.inventory.append(item)\n",
        "\n",
        "  def __del__(self):\n",
        "    print(f\"{self.name}: I love you 3000.\")"
      ],
      "metadata": {
        "id": "wYdcTU2f3MdU"
      },
      "execution_count": 104,
      "outputs": []
    },
    {
      "cell_type": "code",
      "source": [
        "IronMan = Hero(\"Tony Stark\",\"Impuse Gun\")\n",
        "IronMan.save_item(\"Mark5\")\n",
        "IronMan.inventory\n",
        "del IronMan # 잘 안쓰는게 좋다고 하심"
      ],
      "metadata": {
        "colab": {
          "base_uri": "https://localhost:8080/"
        },
        "id": "B5FO7f0k3uZ4",
        "outputId": "0c73e78d-4921-4761-8887-1ca8bef4072d"
      },
      "execution_count": 105,
      "outputs": [
        {
          "output_type": "stream",
          "name": "stdout",
          "text": [
            "Tony Stark: I love you 3000.\n"
          ]
        }
      ]
    },
    {
      "cell_type": "code",
      "source": [
        "IronMan"
      ],
      "metadata": {
        "colab": {
          "base_uri": "https://localhost:8080/",
          "height": 172
        },
        "id": "dgG8ORlK3ymY",
        "outputId": "04e4df97-b789-487f-f96b-59e115270a3e"
      },
      "execution_count": 101,
      "outputs": [
        {
          "output_type": "error",
          "ename": "NameError",
          "evalue": "ignored",
          "traceback": [
            "\u001b[0;31m---------------------------------------------------------------------------\u001b[0m",
            "\u001b[0;31mNameError\u001b[0m                                 Traceback (most recent call last)",
            "\u001b[0;32m<ipython-input-101-b54b221792fd>\u001b[0m in \u001b[0;36m<module>\u001b[0;34m\u001b[0m\n\u001b[0;32m----> 1\u001b[0;31m \u001b[0mIronMan\u001b[0m\u001b[0;34m\u001b[0m\u001b[0;34m\u001b[0m\u001b[0m\n\u001b[0m",
            "\u001b[0;31mNameError\u001b[0m: name 'IronMan' is not defined"
          ]
        }
      ]
    },
    {
      "cell_type": "code",
      "source": [
        "class Hero:\n",
        "  health = 100\n",
        "\n",
        "  def __init__(self, name, weapon):\n",
        "    self.name = name\n",
        "    self.weapon = weapon\n",
        "    self.inventory = [] # mutable object\n",
        "  \n",
        "  def attack(self):\n",
        "    print(f\"Attacking with {self.weapon}.\")\n",
        "\n",
        "  def save_item(self,item):\n",
        "    self.inventory.append(item)\n",
        "  \n",
        "  def save_item_multiple(self, item, num):\n",
        "    for _ in range(num): # _는 횟수만큼 사용하겠다는 의미\n",
        "      self.save_item(item)\n",
        "\n",
        "  def __del__(self):\n",
        "    print(f\"{self.name}: I love you 3000.\")"
      ],
      "metadata": {
        "id": "JwAx-BZSIf4r"
      },
      "execution_count": 116,
      "outputs": []
    },
    {
      "cell_type": "code",
      "source": [
        "IronMan = Hero(\"Tony Stark\",\"Impuse Gun\")\n",
        "IronMan.save_item(\"Mark5\")\n",
        "IronMan.inventory"
      ],
      "metadata": {
        "colab": {
          "base_uri": "https://localhost:8080/"
        },
        "id": "_QJWFxPJKnwl",
        "outputId": "cba0b474-d0b3-44c4-f5b2-369bc2026300"
      },
      "execution_count": 122,
      "outputs": [
        {
          "output_type": "execute_result",
          "data": {
            "text/plain": [
              "['Mark5']"
            ]
          },
          "metadata": {},
          "execution_count": 122
        }
      ]
    },
    {
      "cell_type": "code",
      "source": [
        "IronMan.save_item_multiple(\"hamburger\",5)\n",
        "IronMan.inventory"
      ],
      "metadata": {
        "colab": {
          "base_uri": "https://localhost:8080/"
        },
        "id": "eEfdXa7HKr0G",
        "outputId": "465f90c9-1697-4162-d5f7-763a44303db3"
      },
      "execution_count": 123,
      "outputs": [
        {
          "output_type": "execute_result",
          "data": {
            "text/plain": [
              "['Mark5', 'hamburger', 'hamburger', 'hamburger', 'hamburger', 'hamburger']"
            ]
          },
          "metadata": {},
          "execution_count": 123
        }
      ]
    },
    {
      "cell_type": "code",
      "source": [
        "class Hero:\n",
        "  health = 100\n",
        "\n",
        "  def __init__(self, name, weapon):\n",
        "    self.name = name\n",
        "    self.weapon = weapon\n",
        "    self.inventory = [] # mutable object\n",
        "  \n",
        "  def attack(self):\n",
        "    print(f\"Attacking with {self.weapon}.\")\n",
        "\n",
        "  def save_item(self,item):\n",
        "    self.inventory.append(item)\n",
        "  \n",
        "  def save_item_multiple(self, item, num):\n",
        "    for _ in range(num): # _는 횟수만큼 사용하겠다는 의미\n",
        "      self.save_item(item)\n",
        "\n",
        "  def save_items(self,*items):\n",
        "    for item in items:\n",
        "      self.save_item(item)\n",
        "      print(f\"{item} is saved \")\n",
        "\n",
        "  def __del__(self):\n",
        "    print(f\"{self.name}: I love you 3000.\")"
      ],
      "metadata": {
        "id": "UvJSlS0WLFth"
      },
      "execution_count": 134,
      "outputs": []
    },
    {
      "cell_type": "code",
      "source": [
        "IronMan = Hero(\"Tony Stark\",\"Impuse Gun\")\n",
        "IronMan.save_item(\"Mark5\")\n",
        "IronMan.inventory"
      ],
      "metadata": {
        "colab": {
          "base_uri": "https://localhost:8080/"
        },
        "id": "x1VWpikrL3Io",
        "outputId": "b9a03ea7-a061-4788-ffba-93e3e7a6d24c"
      },
      "execution_count": 141,
      "outputs": [
        {
          "output_type": "execute_result",
          "data": {
            "text/plain": [
              "['Mark5']"
            ]
          },
          "metadata": {},
          "execution_count": 141
        }
      ]
    },
    {
      "cell_type": "code",
      "source": [
        "IronMan.save_items(\"hamburger\",\"50000$\")\n",
        "IronMan.inventory"
      ],
      "metadata": {
        "colab": {
          "base_uri": "https://localhost:8080/"
        },
        "id": "BqtRJ4G9L4z5",
        "outputId": "182ff6ee-ad8e-48b1-85a7-6e5416f13417"
      },
      "execution_count": 142,
      "outputs": [
        {
          "output_type": "stream",
          "name": "stdout",
          "text": [
            "hamburger is saved \n",
            "50000$ is saved \n"
          ]
        },
        {
          "output_type": "execute_result",
          "data": {
            "text/plain": [
              "['Mark5', 'hamburger', '50000$']"
            ]
          },
          "metadata": {},
          "execution_count": 142
        }
      ]
    },
    {
      "cell_type": "code",
      "source": [
        "IronMan.save_items(\"hamburger\",\"50000$\")\n",
        "IronMan.inventory"
      ],
      "metadata": {
        "colab": {
          "base_uri": "https://localhost:8080/"
        },
        "id": "a6kVqwOkMA4Y",
        "outputId": "a8ce275e-fcd0-4348-d38b-07d8a9c01b1c"
      },
      "execution_count": 143,
      "outputs": [
        {
          "output_type": "stream",
          "name": "stdout",
          "text": [
            "hamburger is saved \n",
            "50000$ is saved \n"
          ]
        },
        {
          "output_type": "execute_result",
          "data": {
            "text/plain": [
              "['Mark5', 'hamburger', '50000$', 'hamburger', '50000$']"
            ]
          },
          "metadata": {},
          "execution_count": 143
        }
      ]
    },
    {
      "cell_type": "code",
      "source": [
        "import random\n",
        "class Person:\n",
        "   def __init__(self, name, weight):\n",
        "    self.name = name\n",
        "    self.weight = weight\n",
        "\n",
        "class Elevator:\n",
        "  max_cap = 10\n",
        "  status = \"\"\n",
        "\n",
        "  def __init__(self, elevator_id, use_for):\n",
        "    self.elevator_id = elevator_id\n",
        "    self.use_for = use_for\n",
        "    self.space = [] # mutable object \n",
        "    self.cur_cap = 0\n",
        "  \n",
        "  def check_cap(self):\n",
        "    if self.cur_cap == self.max_cap:\n",
        "      return False\n",
        "    else:\n",
        "      return True\n",
        "\n",
        "  def take_people(self,*names):\n",
        "    for name in names:\n",
        "      if self.check_cap():\n",
        "        self.space.append(name)\n",
        "        self.cur_cap += 1\n",
        "        print(f\"{name} take elevator!\")\n",
        "        print(f\"Capacity is {self.cur_cap}!\")\n",
        "      else:\n",
        "        print(\"Capacity is full!\")\n",
        "  \n",
        "  def takeoff_person(self):\n",
        "    if self.cur_cap >= 1:\n",
        "      self.space.pop()\n",
        "      self.cur_cap -= 1\n",
        "\n",
        "  def go_up(self):\n",
        "    pass\n",
        "  def go_down(self):\n",
        "    pass"
      ],
      "metadata": {
        "id": "T6KkkyILMCfk"
      },
      "execution_count": 208,
      "outputs": []
    },
    {
      "cell_type": "code",
      "source": [
        "elevator_id = random.randrange(0,20000)\n",
        "ev1 = Elevator(elevator_id,\"화물용\")"
      ],
      "metadata": {
        "id": "55laRt_UQWKp"
      },
      "execution_count": 209,
      "outputs": []
    },
    {
      "cell_type": "code",
      "source": [
        "ev1.take_people(\"1\",\"1\",\"1\",\"1\",\"1\",\"1\",\"1\",)"
      ],
      "metadata": {
        "colab": {
          "base_uri": "https://localhost:8080/"
        },
        "id": "2qM1vEZhQWuV",
        "outputId": "42d7fb17-ced5-40ad-cefa-438e2d2a039e"
      },
      "execution_count": 210,
      "outputs": [
        {
          "output_type": "stream",
          "name": "stdout",
          "text": [
            "1 take elevator!\n",
            "Capacity is 1!\n",
            "1 take elevator!\n",
            "Capacity is 2!\n",
            "1 take elevator!\n",
            "Capacity is 3!\n",
            "1 take elevator!\n",
            "Capacity is 4!\n",
            "1 take elevator!\n",
            "Capacity is 5!\n",
            "1 take elevator!\n",
            "Capacity is 6!\n",
            "1 take elevator!\n",
            "Capacity is 7!\n"
          ]
        }
      ]
    },
    {
      "cell_type": "code",
      "source": [
        "ev1.space"
      ],
      "metadata": {
        "colab": {
          "base_uri": "https://localhost:8080/"
        },
        "id": "YLfG8ug1T1Ta",
        "outputId": "79be2299-9da6-4874-ebb9-9fc3340985a0"
      },
      "execution_count": 211,
      "outputs": [
        {
          "output_type": "execute_result",
          "data": {
            "text/plain": [
              "['1', '1', '1', '1', '1', '1', '1']"
            ]
          },
          "metadata": {},
          "execution_count": 211
        }
      ]
    },
    {
      "cell_type": "code",
      "source": [
        "ev1.takeoff_person()"
      ],
      "metadata": {
        "id": "dirjQmSbUgjP"
      },
      "execution_count": 212,
      "outputs": []
    },
    {
      "cell_type": "code",
      "source": [
        "ev1.space"
      ],
      "metadata": {
        "colab": {
          "base_uri": "https://localhost:8080/"
        },
        "id": "GxmmTvXOU0bN",
        "outputId": "cff904e8-2ab9-4099-c2b5-b7a1f187b9d7"
      },
      "execution_count": 213,
      "outputs": [
        {
          "output_type": "execute_result",
          "data": {
            "text/plain": [
              "['1', '1', '1', '1', '1', '1']"
            ]
          },
          "metadata": {},
          "execution_count": 213
        }
      ]
    },
    {
      "cell_type": "code",
      "source": [
        "print(ev1.cur_cap)"
      ],
      "metadata": {
        "colab": {
          "base_uri": "https://localhost:8080/"
        },
        "id": "jjEhbYgjU2tT",
        "outputId": "bb072263-f80c-4eb6-921d-f915b27ff9e9"
      },
      "execution_count": 214,
      "outputs": [
        {
          "output_type": "stream",
          "name": "stdout",
          "text": [
            "6\n"
          ]
        }
      ]
    },
    {
      "cell_type": "code",
      "source": [
        "ev1.take_person(\"2\")"
      ],
      "metadata": {
        "colab": {
          "base_uri": "https://localhost:8080/"
        },
        "id": "p3EfgRubX6kN",
        "outputId": "d5640fb4-c371-4442-c59e-b7e02a42cd43"
      },
      "execution_count": 207,
      "outputs": [
        {
          "output_type": "stream",
          "name": "stdout",
          "text": [
            "2 take elevator!\n",
            "Capacity is 7!\n"
          ]
        }
      ]
    },
    {
      "cell_type": "markdown",
      "source": [
        "###is-A"
      ],
      "metadata": {
        "id": "i61nRDdZk61l"
      }
    },
    {
      "cell_type": "code",
      "source": [
        "class Fried:\n",
        "  def __init__(self,mixture,chicken):\n",
        "    self.mixture = mixture\n",
        "    self.chicken = chicken\n",
        "\n",
        "  def mix(self):\n",
        "    pass\n",
        "  \n",
        "  def fry(self):\n",
        "    print(\"Chicken is now frying\")\n",
        "\n",
        "class Seasoned(Fried):\n",
        "  def __init__(self,mixture,chicken,sauce):\n",
        "    Fried.__init__(self,mixture,chicken)\n",
        "    self.sauce = sauce\n",
        "\n",
        "  def mix(self, sauce):\n",
        "      print(\"Chicken is now seasoning\")"
      ],
      "metadata": {
        "id": "au105HqyX-e7"
      },
      "execution_count": 224,
      "outputs": []
    },
    {
      "cell_type": "code",
      "source": [
        "c1 = Seasoned(\"m\",\"c\",\"s\")"
      ],
      "metadata": {
        "id": "vWkG13h3ZTHL"
      },
      "execution_count": 225,
      "outputs": []
    },
    {
      "cell_type": "code",
      "source": [
        "c2 = Fried(\"m\",\"c\")"
      ],
      "metadata": {
        "id": "NI80o7MqbN_x"
      },
      "execution_count": 226,
      "outputs": []
    },
    {
      "cell_type": "code",
      "source": [
        "class SmartPhone:\n",
        "  def __init__(self, ap, cam):\n",
        "    self.ap = ap\n",
        "    self.cam = cam\n",
        "  def open_ai(self):\n",
        "    print(\"I don't have feature like that.\")\n",
        "  def __str__(self):\n",
        "    return f\"I am {self.__class__.__name__}\""
      ],
      "metadata": {
        "id": "qqHtozdLbuTw"
      },
      "execution_count": 245,
      "outputs": []
    },
    {
      "cell_type": "code",
      "source": [
        "phone = SmartPhone(\"snapDragon\",\"1MP\")"
      ],
      "metadata": {
        "id": "_nY7pPIwc6xF"
      },
      "execution_count": 238,
      "outputs": []
    },
    {
      "cell_type": "code",
      "source": [
        "phone.open_ai()"
      ],
      "metadata": {
        "colab": {
          "base_uri": "https://localhost:8080/"
        },
        "id": "saEW5zrLdMAg",
        "outputId": "b60508af-8152-4e3d-f6cf-114916e611e5"
      },
      "execution_count": 239,
      "outputs": [
        {
          "output_type": "stream",
          "name": "stdout",
          "text": [
            "I don't have feature like that.\n"
          ]
        }
      ]
    },
    {
      "cell_type": "code",
      "source": [
        "phone.__str__()"
      ],
      "metadata": {
        "colab": {
          "base_uri": "https://localhost:8080/",
          "height": 35
        },
        "id": "Glhikxv-c_R9",
        "outputId": "ecb3f9b2-c375-4e3a-a5c3-8e062dd74306"
      },
      "execution_count": 241,
      "outputs": [
        {
          "output_type": "execute_result",
          "data": {
            "text/plain": [
              "'I am SmartPhone'"
            ],
            "application/vnd.google.colaboratory.intrinsic+json": {
              "type": "string"
            }
          },
          "metadata": {},
          "execution_count": 241
        }
      ]
    },
    {
      "cell_type": "code",
      "source": [
        "class Iphone(SmartPhone):\n",
        "  def __init__(self, ap, cam):\n",
        "    SmartPhone.__init__(self,ap,cam)\n",
        "    self.auth = \"FaceID\"\n",
        "  def open_ai(self):\n",
        "    print(\"Hey,Siri.\")"
      ],
      "metadata": {
        "id": "PUEyHrCUdYao"
      },
      "execution_count": 270,
      "outputs": []
    },
    {
      "cell_type": "code",
      "source": [
        "iphone = Iphone(\"A14\",\"13MP\")"
      ],
      "metadata": {
        "id": "g3EXv5fudxQw"
      },
      "execution_count": 271,
      "outputs": []
    },
    {
      "cell_type": "code",
      "source": [
        "iphone.__str__()"
      ],
      "metadata": {
        "colab": {
          "base_uri": "https://localhost:8080/",
          "height": 35
        },
        "id": "BJLhRVpFd7Et",
        "outputId": "e457c0e3-39f2-4e41-debe-d7f161454082"
      },
      "execution_count": 272,
      "outputs": [
        {
          "output_type": "execute_result",
          "data": {
            "text/plain": [
              "'I am Iphone'"
            ],
            "application/vnd.google.colaboratory.intrinsic+json": {
              "type": "string"
            }
          },
          "metadata": {},
          "execution_count": 272
        }
      ]
    },
    {
      "cell_type": "code",
      "source": [
        "iphone.open_ai()"
      ],
      "metadata": {
        "colab": {
          "base_uri": "https://localhost:8080/"
        },
        "id": "GXcuxpN2ejea",
        "outputId": "000d14fb-39a8-4f51-d9c3-61ee53e8dbc6"
      },
      "execution_count": 273,
      "outputs": [
        {
          "output_type": "stream",
          "name": "stdout",
          "text": [
            "Hey,Siri.\n"
          ]
        }
      ]
    },
    {
      "cell_type": "code",
      "source": [
        "class Galaxy(SmartPhone):\n",
        "  def __init__(self, ap, cam, contactless_payment):\n",
        "    super(Galaxy, self).__init__(ap,cam)\n",
        "    self.contactless_payment = contactless_payment\n",
        "  def open_ai(self):\n",
        "    print(\"Hi,Bixby.\")\n",
        "  def __str__(self):\n",
        "    return super().__str__()"
      ],
      "metadata": {
        "id": "wNqdsrPbe8b2"
      },
      "execution_count": 275,
      "outputs": []
    },
    {
      "cell_type": "code",
      "source": [
        "zflip3 = Galaxy(\"snapDragon\",\"15MP\", \"SAMSUNG Pay\")\n",
        "print(zflip3.__str__())\n",
        "zflip3.open_ai()"
      ],
      "metadata": {
        "colab": {
          "base_uri": "https://localhost:8080/"
        },
        "id": "lf6a59LSftt1",
        "outputId": "4341b106-417e-40af-9b60-ccb4662c2e07"
      },
      "execution_count": 276,
      "outputs": [
        {
          "output_type": "stream",
          "name": "stdout",
          "text": [
            "I am Galaxy\n",
            "Hi,Bixby.\n"
          ]
        }
      ]
    },
    {
      "cell_type": "code",
      "source": [
        "from time import sleep\n",
        "class Character:\n",
        "  health = 100\n",
        "  def move():\n",
        "    pass\n",
        "class Zerg(Character):\n",
        "  def self_heal(self):\n",
        "    health += 0.5\n",
        "    sleep(1)\n",
        "class Protoss(Character):\n",
        "  shield = 50\n",
        "class Terran(Character):\n",
        "  def repair():\n",
        "    health += 1\n",
        "    mineral -= 1"
      ],
      "metadata": {
        "id": "5mPTsbiZgbWU"
      },
      "execution_count": 278,
      "outputs": []
    },
    {
      "cell_type": "markdown",
      "source": [
        "###has-A"
      ],
      "metadata": {
        "id": "aSI2m1NVlC-m"
      }
    },
    {
      "cell_type": "code",
      "source": [
        "# Composition\n",
        "# 종속된 경우, macbook and hard_disk\n",
        "\n",
        "class AP():\n",
        "  pass\n",
        "\n",
        "class Cam():\n",
        "  pass\n",
        "\n",
        "class SmartPhone():\n",
        "  def __init__(self):\n",
        "    self.cam = Cam()\n",
        "    self.ap = AP()"
      ],
      "metadata": {
        "id": "ffsmUaWJlETn"
      },
      "execution_count": 281,
      "outputs": []
    },
    {
      "cell_type": "code",
      "source": [
        "# Aggregation\n",
        "# 결착된 경우, macbook and usb\n",
        "\n",
        "class Hammer():\n",
        "  def __init__(self, name):\n",
        "    self.name = name\n",
        "\n",
        "  def fly(self):\n",
        "    print(f\"Now you can fly with {self.name}\")\n",
        "  \n",
        "  def shoot_ligthning(self):\n",
        "    pass\n",
        "\n",
        "class Thor():\n",
        "  def __init__(self):\n",
        "    self.weapon = None\n",
        "  \n",
        "  def recall(self, weapon):\n",
        "    self.weapon = weapon\n",
        "\n",
        "  def throw_hammer(self):\n",
        "    weapon = self.weapon\n",
        "    self.weapon = None\n",
        "    return \n",
        "    \n",
        "  def fly(self):\n",
        "    if self.weapon:\n",
        "      self.weapon.fly()\n",
        "    else:\n",
        "      print(\"You can't fly\")"
      ],
      "metadata": {
        "id": "0-WY7N1ylSpp"
      },
      "execution_count": 294,
      "outputs": []
    },
    {
      "cell_type": "code",
      "source": [
        "Thor = Thor()\n",
        "Molnir = Hammer(\"Molnir\")"
      ],
      "metadata": {
        "id": "M0th5NmfmmTp"
      },
      "execution_count": 295,
      "outputs": []
    },
    {
      "cell_type": "code",
      "source": [
        "Thor.fly()"
      ],
      "metadata": {
        "colab": {
          "base_uri": "https://localhost:8080/"
        },
        "id": "6dj32L-Wnu-4",
        "outputId": "f690a2f3-80de-4769-e11c-eee247af9ebb"
      },
      "execution_count": 289,
      "outputs": [
        {
          "output_type": "stream",
          "name": "stdout",
          "text": [
            "You can't fly\n"
          ]
        }
      ]
    },
    {
      "cell_type": "code",
      "source": [
        "Thor.recall(Molnir)"
      ],
      "metadata": {
        "id": "XjefYEFxn36E"
      },
      "execution_count": 296,
      "outputs": []
    },
    {
      "cell_type": "code",
      "source": [
        "Thor.fly()"
      ],
      "metadata": {
        "colab": {
          "base_uri": "https://localhost:8080/"
        },
        "id": "7UY5Afg3n8zi",
        "outputId": "da73cdf8-f6a7-4d6a-b450-5d5377a5eebc"
      },
      "execution_count": 297,
      "outputs": [
        {
          "output_type": "stream",
          "name": "stdout",
          "text": [
            "Now you can fly with Molnir\n"
          ]
        }
      ]
    },
    {
      "cell_type": "code",
      "source": [
        "Thor.throw_hammer()"
      ],
      "metadata": {
        "id": "MfOWxu6Hn-dL"
      },
      "execution_count": 298,
      "outputs": []
    },
    {
      "cell_type": "code",
      "source": [
        "Thor.fly()"
      ],
      "metadata": {
        "colab": {
          "base_uri": "https://localhost:8080/"
        },
        "id": "7GedpYzHoNip",
        "outputId": "fccb857a-052c-4f8a-eaf5-e3d1894190f8"
      },
      "execution_count": 299,
      "outputs": [
        {
          "output_type": "stream",
          "name": "stdout",
          "text": [
            "You can't fly\n"
          ]
        }
      ]
    },
    {
      "cell_type": "code",
      "source": [
        "## 딜러 유저 2장씩\n",
        "# 한장만 오픈\n",
        "# 유저는 21에 가깝게 하는것\n",
        "# 딜러는 16에 가깝게 \n",
        "import random\n",
        "class Card:\n",
        "  def __init__(self, number, symbol):\n",
        "    # 숫자 카드인 2~9는 그 숫자대로 점수를 세고, K·Q·J,10은 10점으로 계산한다. \n",
        "    # 특이하게 A는 1점 또는 11점 둘 중의 하나로 계산하는데\n",
        "    self.number = number\n",
        "    self.symbol = symbol\n",
        "\n",
        "class Human:\n",
        "  def __init__(self, name):\n",
        "    self.name = name\n",
        "    self.cheap = 20\n",
        "  def take_card(self):\n",
        "    pass\n",
        "  def open_card(self):\n",
        "    pass\n",
        "  def win(self):\n",
        "    pass\n",
        "  def lose(self):\n",
        "    pass\n",
        "  def take_cheap(self):\n",
        "    pass\n",
        "\n",
        "class Dealer(Human):\n",
        "  def __init__(self, name):\n",
        "    self.name = name\n",
        "  def give_card(self):\n",
        "    pass\n",
        "\n",
        "class User(Human):\n",
        "  def __init__(self, name):\n",
        "    self.name = name\n",
        "  def bet(self):\n",
        "    pass\n",
        "  def give_up(self):\n",
        "    pass"
      ],
      "metadata": {
        "id": "caCWYGqRoOji"
      },
      "execution_count": 305,
      "outputs": []
    },
    {
      "cell_type": "code",
      "source": [
        "# shuffle"
      ],
      "metadata": {
        "colab": {
          "base_uri": "https://localhost:8080/"
        },
        "id": "q85b0czVqF6B",
        "outputId": "b86ec2fc-b9cc-452f-9187-d518eb2863d5"
      },
      "execution_count": 312,
      "outputs": [
        {
          "output_type": "stream",
          "name": "stdout",
          "text": [
            "8 1\n"
          ]
        }
      ]
    },
    {
      "cell_type": "markdown",
      "source": [
        "###Class, instance, static Method"
      ],
      "metadata": {
        "id": "BWJ-MzECzA8n"
      }
    },
    {
      "cell_type": "code",
      "source": [
        "# static method 히어로의 체력, 일반적일때\n",
        "# class method 특별한 체력"
      ],
      "metadata": {
        "id": "1Jyjqe3FsMPm"
      },
      "execution_count": 313,
      "outputs": []
    },
    {
      "cell_type": "code",
      "source": [
        "class Language:\n",
        "  mother_lang = \"Spanish\" # class variable\n",
        "  def __init__(self):\n",
        "    self.talk = f\"I can speak {self.mother_lang}.\"\n",
        "\n",
        "  @classmethod\n",
        "  def talk_class_method(cls): # 만든 클래스 기준?\n",
        "    return cls()\n",
        "  \n",
        "  @staticmethod\n",
        "  def talk_static_method(): # 부모 클래스 기준 / override 전\n",
        "    return Language()\n",
        "  \n",
        "  #instance method\n",
        "  def tell_lang(self):\n",
        "    print(self.talk)\n",
        "\n",
        "class English(Language):\n",
        "  mother_lang = \"English\" # 이렇게 덮어쓰더라도 부모 클래스의 값을 언제든 다시 쓸수 있음"
      ],
      "metadata": {
        "id": "kHLCk9d1s6o3"
      },
      "execution_count": 317,
      "outputs": []
    },
    {
      "cell_type": "code",
      "source": [
        "BiLingual = English()"
      ],
      "metadata": {
        "id": "UEz6FQGSuPUW"
      },
      "execution_count": 318,
      "outputs": []
    },
    {
      "cell_type": "code",
      "source": [
        "es = BiLingual.talk_static_method()\n",
        "en = BiLingual.talk_class_method()"
      ],
      "metadata": {
        "id": "hXuJxpiXuTzd"
      },
      "execution_count": 319,
      "outputs": []
    },
    {
      "cell_type": "code",
      "source": [
        "en.tell_lang()"
      ],
      "metadata": {
        "colab": {
          "base_uri": "https://localhost:8080/"
        },
        "id": "QLCV9AJ8uhjU",
        "outputId": "5af109b6-cab0-4d96-a77f-03eddd390303"
      },
      "execution_count": 321,
      "outputs": [
        {
          "output_type": "stream",
          "name": "stdout",
          "text": [
            "I can speak English.\n"
          ]
        }
      ]
    },
    {
      "cell_type": "code",
      "source": [
        "es.tell_lang()"
      ],
      "metadata": {
        "colab": {
          "base_uri": "https://localhost:8080/"
        },
        "id": "pPm3cwJ1uonZ",
        "outputId": "41f37a89-a981-48e9-e362-46d7824f8e87"
      },
      "execution_count": 322,
      "outputs": [
        {
          "output_type": "stream",
          "name": "stdout",
          "text": [
            "I can speak Spanish.\n"
          ]
        }
      ]
    },
    {
      "cell_type": "code",
      "source": [
        "class SmartPhone:\n",
        "  def __init__(self, ap, cam):\n",
        "    self.ap = ap\n",
        "    self.cam = cam\n",
        "  def open_ai(self):\n",
        "    print(\"I don't have feature like that.\")\n",
        "  def __str__(self):\n",
        "    return f\"I am {self.__class__.__name__}\""
      ],
      "metadata": {
        "id": "cJwroyYSuqFR"
      },
      "execution_count": 323,
      "outputs": []
    },
    {
      "cell_type": "code",
      "source": [
        "Omnia = SmartPhone('intel','0.1mp')"
      ],
      "metadata": {
        "id": "XvlIVnnHzrjz"
      },
      "execution_count": 324,
      "outputs": []
    },
    {
      "cell_type": "code",
      "source": [
        "from abc import *\n",
        "\n",
        "class SmartPhone(metaclass = ABCMeta):\n",
        "  @abstractmethod\n",
        "  def __init__(self, ap, cam):\n",
        "    self.ap = ap\n",
        "    self.cam = cam\n",
        "\n",
        "  @abstractmethod\n",
        "  def open_ai(self):\n",
        "    print(\"I don't have feature like that.\")\n",
        "\n",
        "  @abstractmethod\n",
        "  def __str__(self):\n",
        "    return f\"I am {self.__class__.__name__}\""
      ],
      "metadata": {
        "id": "6PT-A_5jzy7d"
      },
      "execution_count": 331,
      "outputs": []
    },
    {
      "cell_type": "code",
      "source": [
        "Omnia = SmartPhone('intel','0.1mp')"
      ],
      "metadata": {
        "colab": {
          "base_uri": "https://localhost:8080/",
          "height": 190
        },
        "id": "akZjAPkiz-Q5",
        "outputId": "aae893b9-f8fb-4e57-a2fe-a53bc0ec1943"
      },
      "execution_count": 332,
      "outputs": [
        {
          "output_type": "error",
          "ename": "TypeError",
          "evalue": "ignored",
          "traceback": [
            "\u001b[0;31m---------------------------------------------------------------------------\u001b[0m",
            "\u001b[0;31mTypeError\u001b[0m                                 Traceback (most recent call last)",
            "\u001b[0;32m<ipython-input-332-c3efff6314e8>\u001b[0m in \u001b[0;36m<module>\u001b[0;34m\u001b[0m\n\u001b[0;32m----> 1\u001b[0;31m \u001b[0mOmnia\u001b[0m \u001b[0;34m=\u001b[0m \u001b[0mSmartPhone\u001b[0m\u001b[0;34m(\u001b[0m\u001b[0;34m'intel'\u001b[0m\u001b[0;34m,\u001b[0m\u001b[0;34m'0.1mp'\u001b[0m\u001b[0;34m)\u001b[0m\u001b[0;34m\u001b[0m\u001b[0;34m\u001b[0m\u001b[0m\n\u001b[0m",
            "\u001b[0;31mTypeError\u001b[0m: Can't instantiate abstract class SmartPhone with abstract methods __init__, __str__, open_ai"
          ]
        }
      ]
    },
    {
      "cell_type": "markdown",
      "source": [
        "##Module"
      ],
      "metadata": {
        "id": "bHLlaMxt1BV8"
      }
    },
    {
      "cell_type": "code",
      "source": [
        "# Module = randint.py, choice.py, shuffle.py\n",
        "# Package = random\n",
        "\n",
        "from random import randint,choice,shuffle\n",
        "\n",
        "\n",
        "# from ethiopian import e_divide, e_multiply"
      ],
      "metadata": {
        "id": "Z8xqo4TO0Cpw"
      },
      "execution_count": null,
      "outputs": []
    },
    {
      "cell_type": "code",
      "source": [
        "!pip install requests"
      ],
      "metadata": {
        "colab": {
          "base_uri": "https://localhost:8080/"
        },
        "id": "jXY_Etgh2ImJ",
        "outputId": "8e552199-e327-43c6-8eef-58a356c61592"
      },
      "execution_count": 333,
      "outputs": [
        {
          "output_type": "stream",
          "name": "stdout",
          "text": [
            "Looking in indexes: https://pypi.org/simple, https://us-python.pkg.dev/colab-wheels/public/simple/\n",
            "Requirement already satisfied: requests in /usr/local/lib/python3.8/dist-packages (2.25.1)\n",
            "Requirement already satisfied: urllib3<1.27,>=1.21.1 in /usr/local/lib/python3.8/dist-packages (from requests) (1.24.3)\n",
            "Requirement already satisfied: idna<3,>=2.5 in /usr/local/lib/python3.8/dist-packages (from requests) (2.10)\n",
            "Requirement already satisfied: certifi>=2017.4.17 in /usr/local/lib/python3.8/dist-packages (from requests) (2022.12.7)\n",
            "Requirement already satisfied: chardet<5,>=3.0.2 in /usr/local/lib/python3.8/dist-packages (from requests) (4.0.0)\n"
          ]
        }
      ]
    },
    {
      "cell_type": "code",
      "source": [
        "import requests\n",
        "\n",
        "response = requests.get(\"https://google.com/\")\n",
        "response.status_code"
      ],
      "metadata": {
        "colab": {
          "base_uri": "https://localhost:8080/"
        },
        "id": "c8nbmNCN3AiB",
        "outputId": "70d1d64c-5cb8-402e-b84a-4b9bd462dfcc"
      },
      "execution_count": 334,
      "outputs": [
        {
          "output_type": "execute_result",
          "data": {
            "text/plain": [
              "200"
            ]
          },
          "metadata": {},
          "execution_count": 334
        }
      ]
    },
    {
      "cell_type": "code",
      "source": [
        "response.text"
      ],
      "metadata": {
        "colab": {
          "base_uri": "https://localhost:8080/",
          "height": 236
        },
        "id": "CS8otRiE3VRI",
        "outputId": "5efa5c87-5f16-424e-8ca7-48d58a25177c"
      },
      "execution_count": 336,
      "outputs": [
        {
          "output_type": "execute_result",
          "data": {
            "text/plain": [
              "'<!doctype html><html itemscope=\"\" itemtype=\"http://schema.org/WebPage\" lang=\"en\"><head><meta content=\"Search the world\\'s information, including webpages, images, videos and more. Google has many special features to help you find exactly what you\\'re looking for.\" name=\"description\"><meta content=\"noodp\" name=\"robots\"><meta content=\"text/html; charset=UTF-8\" http-equiv=\"Content-Type\"><meta content=\"/images/branding/googleg/1x/googleg_standard_color_128dp.png\" itemprop=\"image\"><title>Google</title><script nonce=\"gJQizFbLBf6Te-1T0_S8_Q\">(function(){window.google={kEI:\\'lrW_Y_TjNpSj5NoPlreSoAQ\\',kEXPI:\\'0,56261,1303148,6059,206,4804,2316,383,246,5,1129120,1197696,705,105,379984,16115,28684,22430,1362,12316,17583,4998,13228,3847,10622,22741,5081,885,708,1279,2744,147,1103,840,1983,214,4100,3514,606,2023,2297,14670,3227,2846,6,29075,4142,553,1850,15325,432,3,346,1244,1,5445,148,11323,2652,4,1528,2304,7039,20309,1714,5708,7357,13658,2980,1457,15351,1435,5818,2539,4094,4052,3,3541,1,14262,27898,2,8978,1,5037,2373,185,157,23024,5679,1020,31122,4568,6259,23418,1252,5835,14968,4332,2204,5280,445,2,2,1,26632,8155,570,6811,2,3,15964,874,6577,3048,10008,7,1922,5784,3995,19130,1509,751,9932,4832,6557,1754,14878,3314,20137,14,82,3890,751,11873,2271,1421,109,364,466,683,899,880,3851,28,1097,3785,5203,5903,1183,558,2038,10,2630,910,22,565,2,34,532,988,781,610,1144,495,426,1034,42,291,2669,1168,481,1410,20,3,260,607,2261,289,135,55,1495,951,841,1083,295,947,1,856,563,467,2264,378,448,242,9,512,1037,605,258,767,184,1481,164,906,182,5,801,434,414,108,360,102,219,84,161,67,32,102,444,3,182,1,2825,62,4200,1123,379,298,12,105,1255,117,536,383,47,5,2,3,936,560,1829,2,301,320,1405,337,1435,45,212,2,355,132,64,90,893,1719,145,95,2618,95,16,42,833,5,596,1773,711,472,5270825,2,343,7,5994419,2804424,3311,141,795,19735,1,1,346,3656,32,23647604,299192,4042143,1964,16672,2888,518,5595,11,131,3703,7197,308,295\\',kBL:\\'0vWo\\'};google.sn=\\'webhp\\';google.kHL=\\'en\\';})();(function(){\\nvar f=this||self;var h,k=[];function l(a){for(var b;a&&(!a.getAttribute||!(b=a.getAttribute(\"eid\")));)a=a.parentNode;return b||h}function m(a){for(var b=null;a&&(!a.getAttribute||!(b=a.getAttribute(\"leid\")));)a=a.parentNode;return b}\\nfunction n(a,b,c,d,g){var e=\"\";c||-1!==b.search(\"&ei=\")||(e=\"&ei=\"+l(d),-1===b.search(\"&lei=\")&&(d=m(d))&&(e+=\"&lei=\"+d));d=\"\";!c&&f._cshid&&-1===b.search(\"&cshid=\")&&\"slh\"!==a&&(d=\"&cshid=\"+f._cshid);c=c||\"/\"+(g||\"gen_204\")+\"?atyp=i&ct=\"+a+\"&cad=\"+b+e+\"&zx=\"+Date.now()+d;/^http:/i.test(c)&&\"https:\"===window.location.protocol&&(google.ml&&google.ml(Error(\"a\"),!1,{src:c,glmm:1}),c=\"\");return c};h=google.kEI;google.getEI=l;google.getLEI=m;google.ml=function(){return null};google.log=function(a,b,c,d,g){if(c=n(a,b,c,d,g)){a=new Image;var e=k.length;k[e]=a;a.onerror=a.onload=a.onabort=function(){delete k[e]};a.src=c}};google.logUrl=n;}).call(this);(function(){google.y={};google.sy=[];google.x=function(a,b){if(a)var c=a.id;else{do c=Math.random();while(google.y[c])}google.y[c]=[a,b];return!1};google.sx=function(a){google.sy.push(a)};google.lm=[];google.plm=function(a){google.lm.push.apply(google.lm,a)};google.lq=[];google.load=function(a,b,c){google.lq.push([[a],b,c])};google.loadAll=function(a,b){google.lq.push([a,b])};google.bx=!1;google.lx=function(){};}).call(this);google.f={};(function(){\\ndocument.documentElement.addEventListener(\"submit\",function(b){var a;if(a=b.target){var c=a.getAttribute(\"data-submitfalse\");a=\"1\"===c||\"q\"===c&&!a.elements.q.value?!0:!1}else a=!1;a&&(b.preventDefault(),b.stopPropagation())},!0);document.documentElement.addEventListener(\"click\",function(b){var a;a:{for(a=b.target;a&&a!==document.documentElement;a=a.parentElement)if(\"A\"===a.tagName){a=\"1\"===a.getAttribute(\"data-nohref\");break a}a=!1}a&&b.preventDefault()},!0);}).call(this);</script><style>#gbar,#guser{font-size:13px;padding-top:1px !important;}#gbar{height:22px}#guser{padding-bottom:7px !important;text-align:right}.gbh,.gbd{border-top:1px solid #c9d7f1;font-size:1px}.gbh{height:0;position:absolute;top:24px;width:100%}@media all{.gb1{height:22px;margin-right:.5em;vertical-align:top}#gbar{float:left}}a.gb1,a.gb4{text-decoration:underline !important}a.gb1,a.gb4{color:#00c !important}.gbi .gb4{color:#dd8e27 !important}.gbf .gb4{color:#900 !important}\\n</style><style>body,td,a,p,.h{font-family:arial,sans-serif}body{margin:0;overflow-y:scroll}#gog{padding:3px 8px 0}td{line-height:.8em}.gac_m td{line-height:17px}form{margin-bottom:20px}.h{color:#1558d6}em{font-weight:bold;font-style:normal}.lst{height:25px;width:496px}.gsfi,.lst{font:18px arial,sans-serif}.gsfs{font:17px arial,sans-serif}.ds{display:inline-box;display:inline-block;margin:3px 0 4px;margin-left:4px}input{font-family:inherit}body{background:#fff;color:#000}a{color:#4b11a8;text-decoration:none}a:hover,a:active{text-decoration:underline}.fl a{color:#1558d6}a:visited{color:#4b11a8}.sblc{padding-top:5px}.sblc a{display:block;margin:2px 0;margin-left:13px;font-size:11px}.lsbb{background:#f8f9fa;border:solid 1px;border-color:#dadce0 #70757a #70757a #dadce0;height:30px}.lsbb{display:block}#WqQANb a{display:inline-block;margin:0 12px}.lsb{background:url(/images/nav_logo229.png) 0 -261px repeat-x;border:none;color:#000;cursor:pointer;height:30px;margin:0;outline:0;font:15px arial,sans-serif;vertical-align:top}.lsb:active{background:#dadce0}.lst:focus{outline:none}</style><script nonce=\"gJQizFbLBf6Te-1T0_S8_Q\">(function(){window.google.erd={jsr:1,bv:1722,de:true};\\nvar h=this||self;var k,l=null!=(k=h.mei)?k:1,n,p=null!=(n=h.sdo)?n:!0,q=0,r,t=google.erd,v=t.jsr;google.ml=function(a,b,d,m,e){e=void 0===e?2:e;b&&(r=a&&a.message);if(google.dl)return google.dl(a,e,d),null;if(0>v){window.console&&console.error(a,d);if(-2===v)throw a;b=!1}else b=!a||!a.message||\"Error loading script\"===a.message||q>=l&&!m?!1:!0;if(!b)return null;q++;d=d||{};b=encodeURIComponent;var c=\"/gen_204?atyp=i&ei=\"+b(google.kEI);google.kEXPI&&(c+=\"&jexpid=\"+b(google.kEXPI));c+=\"&srcpg=\"+b(google.sn)+\"&jsr=\"+b(t.jsr)+\"&bver=\"+b(t.bv);var f=a.lineNumber;void 0!==f&&(c+=\"&line=\"+f);var g=\\na.fileName;g&&(0<g.indexOf(\"-extension:/\")&&(e=3),c+=\"&script=\"+b(g),f&&g===window.location.href&&(f=document.documentElement.outerHTML.split(\"\\\\n\")[f],c+=\"&cad=\"+b(f?f.substring(0,300):\"No script found.\")));c+=\"&jsel=\"+e;for(var u in d)c+=\"&\",c+=b(u),c+=\"=\",c+=b(d[u]);c=c+\"&emsg=\"+b(a.name+\": \"+a.message);c=c+\"&jsst=\"+b(a.stack||\"N/A\");12288<=c.length&&(c=c.substr(0,12288));a=c;m||google.log(0,\"\",a);return a};window.onerror=function(a,b,d,m,e){r!==a&&(a=e instanceof Error?e:Error(a),void 0===d||\"lineNumber\"in a||(a.lineNumber=d),void 0===b||\"fileName\"in a||(a.fileName=b),google.ml(a,!1,void 0,!1,\"SyntaxError\"===a.name||\"SyntaxError\"===a.message.substring(0,11)||-1!==a.message.indexOf(\"Script error\")?3:0));r=null;p&&q>=l&&(window.onerror=null)};})();</script></head><body bgcolor=\"#fff\"><script nonce=\"gJQizFbLBf6Te-1T0_S8_Q\">(function(){var src=\\'/images/nav_logo229.png\\';var iesg=false;document.body.onload = function(){window.n && window.n();if (document.images){new Image().src=src;}\\nif (!iesg){document.f&&document.f.q.focus();document.gbqf&&document.gbqf.q.focus();}\\n}\\n})();</script><div id=\"mngb\"><div id=gbar><nobr><b class=gb1>Search</b> <a class=gb1 href=\"https://www.google.com/imghp?hl=en&tab=wi\">Images</a> <a class=gb1 href=\"https://maps.google.com/maps?hl=en&tab=wl\">Maps</a> <a class=gb1 href=\"https://play.google.com/?hl=en&tab=w8\">Play</a> <a class=gb1 href=\"https://www.youtube.com/?tab=w1\">YouTube</a> <a class=gb1 href=\"https://news.google.com/?tab=wn\">News</a> <a class=gb1 href=\"https://mail.google.com/mail/?tab=wm\">Gmail</a> <a class=gb1 href=\"https://drive.google.com/?tab=wo\">Drive</a> <a class=gb1 style=\"text-decoration:none\" href=\"https://www.google.com/intl/en/about/products?tab=wh\"><u>More</u> &raquo;</a></nobr></div><div id=guser width=100%><nobr><span id=gbn class=gbi></span><span id=gbf class=gbf></span><span id=gbe></span><a href=\"http://www.google.com/history/optout?hl=en\" class=gb4>Web History</a> | <a  href=\"/preferences?hl=en\" class=gb4>Settings</a> | <a target=_top id=gb_70 href=\"https://accounts.google.com/ServiceLogin?hl=en&passive=true&continue=https://www.google.com/&ec=GAZAAQ\" class=gb4>Sign in</a></nobr></div><div class=gbh style=left:0></div><div class=gbh style=right:0></div></div><center><br clear=\"all\" id=\"lgpd\"><div id=\"lga\"><img alt=\"Google\" height=\"92\" src=\"/images/branding/googlelogo/1x/googlelogo_white_background_color_272x92dp.png\" style=\"padding:28px 0 14px\" width=\"272\" id=\"hplogo\"><br><br></div><form action=\"/search\" name=\"f\"><table cellpadding=\"0\" cellspacing=\"0\"><tr valign=\"top\"><td width=\"25%\">&nbsp;</td><td align=\"center\" nowrap=\"\"><input name=\"ie\" value=\"ISO-8859-1\" type=\"hidden\"><input value=\"en\" name=\"hl\" type=\"hidden\"><input name=\"source\" type=\"hidden\" value=\"hp\"><input name=\"biw\" type=\"hidden\"><input name=\"bih\" type=\"hidden\"><div class=\"ds\" style=\"height:32px;margin:4px 0\"><input class=\"lst\" style=\"margin:0;padding:5px 8px 0 6px;vertical-align:top;color:#000\" autocomplete=\"off\" value=\"\" title=\"Google Search\" maxlength=\"2048\" name=\"q\" size=\"57\"></div><br style=\"line-height:0\"><span class=\"ds\"><span class=\"lsbb\"><input class=\"lsb\" value=\"Google Search\" name=\"btnG\" type=\"submit\"></span></span><span class=\"ds\"><span class=\"lsbb\"><input class=\"lsb\" id=\"tsuid_1\" value=\"I\\'m Feeling Lucky\" name=\"btnI\" type=\"submit\"><script nonce=\"gJQizFbLBf6Te-1T0_S8_Q\">(function(){var id=\\'tsuid_1\\';document.getElementById(id).onclick = function(){if (this.form.q.value){this.checked = 1;if (this.form.iflsig)this.form.iflsig.disabled = false;}\\nelse top.location=\\'/doodles/\\';};})();</script><input value=\"AK50M_UAAAAAY7_DphtOas2xEhMpds0aU9VNDCvE208o\" name=\"iflsig\" type=\"hidden\"></span></span></td><td class=\"fl sblc\" align=\"left\" nowrap=\"\" width=\"25%\"><a href=\"/advanced_search?hl=en&amp;authuser=0\">Advanced search</a></td></tr></table><input id=\"gbv\" name=\"gbv\" type=\"hidden\" value=\"1\"><script nonce=\"gJQizFbLBf6Te-1T0_S8_Q\">(function(){var a,b=\"1\";if(document&&document.getElementById)if(\"undefined\"!=typeof XMLHttpRequest)b=\"2\";else if(\"undefined\"!=typeof ActiveXObject){var c,d,e=[\"MSXML2.XMLHTTP.6.0\",\"MSXML2.XMLHTTP.3.0\",\"MSXML2.XMLHTTP\",\"Microsoft.XMLHTTP\"];for(c=0;d=e[c++];)try{new ActiveXObject(d),b=\"2\"}catch(h){}}a=b;if(\"2\"==a&&-1==location.search.indexOf(\"&gbv=2\")){var f=google.gbvu,g=document.getElementById(\"gbv\");g&&(g.value=a);f&&window.setTimeout(function(){location.href=f},0)};}).call(this);</script></form><div id=\"gac_scont\"></div><div style=\"font-size:83%;min-height:3.5em\"><br></div><span id=\"footer\"><div style=\"font-size:10pt\"><div style=\"margin:19px auto;text-align:center\" id=\"WqQANb\"><a href=\"/intl/en/ads/\">Advertising\\xa0Programs</a><a href=\"/services/\">Business Solutions</a><a href=\"/intl/en/about.html\">About Google</a></div></div><p style=\"font-size:8pt;color:#70757a\">&copy; 2023 - <a href=\"/intl/en/policies/privacy/\">Privacy</a> - <a href=\"/intl/en/policies/terms/\">Terms</a></p></span></center><script nonce=\"gJQizFbLBf6Te-1T0_S8_Q\">(function(){window.google.cdo={height:757,width:1440};(function(){var a=window.innerWidth,b=window.innerHeight;if(!a||!b){var c=window.document,d=\"CSS1Compat\"==c.compatMode?c.documentElement:c.body;a=d.clientWidth;b=d.clientHeight}a&&b&&(a!=google.cdo.width||b!=google.cdo.height)&&google.log(\"\",\"\",\"/client_204?&atyp=i&biw=\"+a+\"&bih=\"+b+\"&ei=\"+google.kEI);}).call(this);})();</script> <script nonce=\"gJQizFbLBf6Te-1T0_S8_Q\">(function(){google.xjs={ck:\\'xjs.hp.L0TU2uVtv08.L.X.O\\',cs:\\'ACT90oFP89nXhPgbhrh-AdQldVFbm6vavw\\',excm:[]};})();</script>  <script nonce=\"gJQizFbLBf6Te-1T0_S8_Q\">(function(){var u=\\'/xjs/_/js/k\\\\x3dxjs.hp.en.SwcG8wQQlgg.O/am\\\\x3dAADoBABQAGAB/d\\\\x3d1/ed\\\\x3d1/rs\\\\x3dACT90oHQ0gPKKRFaGP5cT4LAExuyN1ibpg/m\\\\x3dsb_he,d\\';var amd=0;\\nvar d=this||self,e=function(a){return a};var g;var l=function(a,b){this.g=b===h?a:\"\"};l.prototype.toString=function(){return this.g+\"\"};var h={};\\nfunction m(){var a=u;google.lx=function(){p(a);google.lx=function(){}};google.bx||google.lx()}\\nfunction p(a){google.timers&&google.timers.load&&google.tick&&google.tick(\"load\",\"xjsls\");var b=document;var c=\"SCRIPT\";\"application/xhtml+xml\"===b.contentType&&(c=c.toLowerCase());c=b.createElement(c);a=null===a?\"null\":void 0===a?\"undefined\":a;if(void 0===g){b=null;var k=d.trustedTypes;if(k&&k.createPolicy){try{b=k.createPolicy(\"goog#html\",{createHTML:e,createScript:e,createScriptURL:e})}catch(q){d.console&&d.console.error(q.message)}g=b}else g=b}a=(b=g)?b.createScriptURL(a):a;a=new l(a,h);c.src=\\na instanceof l&&a.constructor===l?a.g:\"type_error:TrustedResourceUrl\";var f,n;(f=(a=null==(n=(f=(c.ownerDocument&&c.ownerDocument.defaultView||window).document).querySelector)?void 0:n.call(f,\"script[nonce]\"))?a.nonce||a.getAttribute(\"nonce\")||\"\":\"\")&&c.setAttribute(\"nonce\",f);document.body.appendChild(c);google.psa=!0};google.xjsu=u;setTimeout(function(){0<amd?google.caft(function(){return m()},amd):m()},0);})();function _DumpException(e){throw e;}\\nfunction _F_installCss(c){}\\n(function(){google.jl={blt:\\'none\\',chnk:0,dw:false,dwu:true,emtn:0,end:0,ico:false,ikb:0,ine:false,injs:\\'none\\',injt:0,injth:0,injv2:false,lls:\\'default\\',pdt:0,rep:0,snet:true,strt:0,ubm:false,uwp:true};})();(function(){var pmc=\\'{\\\\x22d\\\\x22:{},\\\\x22sb_he\\\\x22:{\\\\x22agen\\\\x22:true,\\\\x22cgen\\\\x22:true,\\\\x22client\\\\x22:\\\\x22heirloom-hp\\\\x22,\\\\x22dh\\\\x22:true,\\\\x22ds\\\\x22:\\\\x22\\\\x22,\\\\x22fl\\\\x22:true,\\\\x22host\\\\x22:\\\\x22google.com\\\\x22,\\\\x22jsonp\\\\x22:true,\\\\x22msgs\\\\x22:{\\\\x22cibl\\\\x22:\\\\x22Clear Search\\\\x22,\\\\x22dym\\\\x22:\\\\x22Did you mean:\\\\x22,\\\\x22lcky\\\\x22:\\\\x22I\\\\\\\\u0026#39;m Feeling Lucky\\\\x22,\\\\x22lml\\\\x22:\\\\x22Learn more\\\\x22,\\\\x22psrc\\\\x22:\\\\x22This search was removed from your \\\\\\\\u003Ca href\\\\x3d\\\\\\\\\\\\x22/history\\\\\\\\\\\\x22\\\\\\\\u003EWeb History\\\\\\\\u003C/a\\\\\\\\u003E\\\\x22,\\\\x22psrl\\\\x22:\\\\x22Remove\\\\x22,\\\\x22sbit\\\\x22:\\\\x22Search by image\\\\x22,\\\\x22srch\\\\x22:\\\\x22Google Search\\\\x22},\\\\x22ovr\\\\x22:{},\\\\x22pq\\\\x22:\\\\x22\\\\x22,\\\\x22rfs\\\\x22:[],\\\\x22sbas\\\\x22:\\\\x220 3px 8px 0 rgba(0,0,0,0.2),0 0 0 1px rgba(0,0,0,0.08)\\\\x22,\\\\x22stok\\\\x22:\\\\x223kymdwLJ_JXXLqUIYY6hJsCfjSc\\\\x22}}\\';google.pmc=JSON.parse(pmc);})();</script>        </body></html>'"
            ],
            "application/vnd.google.colaboratory.intrinsic+json": {
              "type": "string"
            }
          },
          "metadata": {},
          "execution_count": 336
        }
      ]
    },
    {
      "cell_type": "code",
      "source": [
        "import pandas as pd\n",
        "\n",
        "pd.from_csv().to_json()"
      ],
      "metadata": {
        "id": "6BvNJjld3Yh0"
      },
      "execution_count": null,
      "outputs": []
    },
    {
      "cell_type": "markdown",
      "source": [
        "###Library & Framework"
      ],
      "metadata": {
        "id": "FJfpJzCu4jut"
      }
    },
    {
      "cell_type": "code",
      "source": [
        "# Library & Framework : 추상화를 하느냐 안하느냐의 차이\n",
        "# Framework이 조금 더 크거나 추상화를 제공함\n",
        "\n",
        "\n",
        "# Library\n",
        "def create_user():\n",
        "  pass\n",
        "\n",
        "# Framework\n",
        "class User(Metalclass = ABCMeta):\n",
        "  @abstractmethod\n",
        "  def __init__():\n",
        "    pass\n",
        "  def create_user():\n",
        "    pass\n",
        "  class PlainUser():\n",
        "    pass\n",
        "  class AdminUser():\n",
        "    pass"
      ],
      "metadata": {
        "id": "xR1K39mf37Yz"
      },
      "execution_count": null,
      "outputs": []
    },
    {
      "cell_type": "markdown",
      "source": [
        "### Python Verion Manager"
      ],
      "metadata": {
        "id": "cPOL7ZqE5mW8"
      }
    },
    {
      "cell_type": "code",
      "source": [
        "!pyenv"
      ],
      "metadata": {
        "colab": {
          "base_uri": "https://localhost:8080/"
        },
        "id": "KnBTFjTH5SL6",
        "outputId": "1ae49f48-5423-4b2d-ca4a-d9e313f13f7b"
      },
      "execution_count": 340,
      "outputs": [
        {
          "output_type": "stream",
          "name": "stdout",
          "text": [
            "/bin/bash: pyenv: command not found\n"
          ]
        }
      ]
    },
    {
      "cell_type": "code",
      "source": [
        "virtualenv"
      ],
      "metadata": {
        "id": "pKX-URav5vxT"
      },
      "execution_count": null,
      "outputs": []
    },
    {
      "cell_type": "code",
      "source": [
        "pyenv activate name"
      ],
      "metadata": {
        "id": "lHY7NKdd5xqM"
      },
      "execution_count": null,
      "outputs": []
    },
    {
      "cell_type": "code",
      "source": [
        "# Poetry : package version 명시"
      ],
      "metadata": {
        "id": "FjNQKg7q6TGV"
      },
      "execution_count": null,
      "outputs": []
    },
    {
      "cell_type": "code",
      "source": [
        "# 짝과 함께 개발\n",
        "\n",
        "# P2는 컴퓨터\n",
        "# 컴퓨터는 무조건 돌리는 성격\n",
        "# 1이면 점수를 못얻음\n",
        "# 2,3,4,5,6은 먹음\n",
        "# 턴종료 기점 : 1이 나오거나 혹은 bank하거나\n",
        "# 룰은 간단하나 컴퓨터 난이도의 세팅"
      ],
      "metadata": {
        "id": "tO_BWG2V64Uo"
      },
      "execution_count": null,
      "outputs": []
    },
    {
      "cell_type": "code",
      "source": [
        "# 1. 컴퓨터의 시행 횟수를 random으로 제한한다\n",
        "# 2. 컴퓨터는 무조건 20점씩 쌓는다\n",
        "# 3. 컴퓨터는 20점 넘으면 50%확률로 bank, 30점 넘으면 90% 확률로 bank\n",
        "# 4. ex) 8번 넘거나 30점 넘으면 bank"
      ],
      "metadata": {
        "id": "Iimwnqcf9Fqf"
      },
      "execution_count": null,
      "outputs": []
    }
  ]
}